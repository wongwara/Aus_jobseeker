{
 "cells": [
  {
   "cell_type": "markdown",
   "id": "85db2c09",
   "metadata": {},
   "source": [
    "# Randomforest NLP"
   ]
  },
  {
   "cell_type": "code",
   "execution_count": 63,
   "id": "301e8e78",
   "metadata": {},
   "outputs": [],
   "source": [
    "import numpy as np\n",
    "import pandas as pd"
   ]
  },
  {
   "cell_type": "code",
   "execution_count": 65,
   "id": "6f3308b2",
   "metadata": {},
   "outputs": [],
   "source": [
    "import warnings\n",
    "warnings.filterwarnings(\"ignore\")"
   ]
  },
  {
   "cell_type": "code",
   "execution_count": 64,
   "id": "613d9d79",
   "metadata": {},
   "outputs": [],
   "source": [
    "X_train = pd.read_csv('https://raw.githubusercontent.com/wongwara/Jobseeker_Baymax/main/Final/data%20splitted/X_train.csv', index_col=[0])\n",
    "X_test = pd.read_csv('https://raw.githubusercontent.com/wongwara/Jobseeker_Baymax/main/Final/data%20splitted/X_test.csv', index_col=[0])\n",
    "y_train = pd.read_csv('https://raw.githubusercontent.com/wongwara/Jobseeker_Baymax/main/Final/data%20splitted/y_train.csv', index_col=[0])\n",
    "y_test = pd.read_csv('https://raw.githubusercontent.com/wongwara/Jobseeker_Baymax/main/Final/data%20splitted/y_test.csv', index_col=[0])\n",
    "y_train = y_train.values.ravel()\n",
    "y_test = y_test.values.ravel()"
   ]
  },
  {
   "cell_type": "code",
   "execution_count": 66,
   "id": "c37ac45f",
   "metadata": {},
   "outputs": [
    {
     "name": "stdout",
     "output_type": "stream",
     "text": [
      "(510, 7760)\n",
      "(510,)\n",
      "(58, 7760)\n",
      "(58,)\n",
      "(128, 7760)\n",
      "(128,)\n"
     ]
    }
   ],
   "source": [
    "print(X_train.shape)\n",
    "print(y_train.shape)\n",
    "print(X_val.shape)\n",
    "print(y_val.shape)\n",
    "print(X_test.shape)\n",
    "print(y_test.shape)"
   ]
  },
  {
   "cell_type": "markdown",
   "id": "6e0daa56",
   "metadata": {},
   "source": [
    "# Scale the data"
   ]
  },
  {
   "cell_type": "code",
   "execution_count": 68,
   "id": "e9a25e0b",
   "metadata": {},
   "outputs": [],
   "source": [
    "#Import MinMaxScaler from Sklearn\n",
    "#from sklearn.preprocessing import MinMaxScaler\n",
    "\n",
    "#Instantiate a MinMaxScaler and save it into a variable called scaler\n",
    "#scaler = MinMaxScaler()\n",
    "\n",
    "from sklearn.preprocessing import StandardScaler\n",
    "scaler = StandardScaler()\n",
    "\n",
    "#Fit the scaler on the training set\n",
    "scaler.fit(X_train)\n",
    "X_train = scaler.transform(X_train)\n",
    "X_val = scaler.transform(X_val)\n",
    "X_test = scaler.transform(X_test)"
   ]
  },
  {
   "cell_type": "code",
   "execution_count": 69,
   "id": "b1b0bdcf",
   "metadata": {},
   "outputs": [
    {
     "data": {
      "text/plain": [
       "array([[-0.72618462, -0.67761149,  0.        , ..., -0.08889762,\n",
       "        -0.04432422, -0.04432422],\n",
       "       [-0.72618462, -0.67761149,  0.        , ..., -0.08889762,\n",
       "        -0.04432422, -0.04432422],\n",
       "       [ 0.10982928,  0.17991174,  0.        , ..., -0.08889762,\n",
       "        -0.04432422, -0.04432422],\n",
       "       ...,\n",
       "       [ 0.52783623, -0.67761149,  0.        , ..., -0.08889762,\n",
       "        -0.04432422, -0.04432422],\n",
       "       [-0.72618462, -1.10637311,  0.        , ..., -0.08889762,\n",
       "        -0.04432422, -0.04432422],\n",
       "       [-0.72618462, -0.67761149,  0.        , ..., -0.08889762,\n",
       "        -0.04432422, -0.04432422]])"
      ]
     },
     "execution_count": 69,
     "metadata": {},
     "output_type": "execute_result"
    }
   ],
   "source": [
    "X_train"
   ]
  },
  {
   "cell_type": "code",
   "execution_count": 70,
   "id": "b28645a1",
   "metadata": {},
   "outputs": [],
   "source": [
    "# K-fold split\n",
    "from sklearn.model_selection import StratifiedKFold, StratifiedShuffleSplit\n",
    "cv = StratifiedShuffleSplit(n_splits=5, test_size=.20, random_state=42)"
   ]
  },
  {
   "cell_type": "markdown",
   "id": "b3f898a7",
   "metadata": {},
   "source": [
    "# Assess Baseline Model"
   ]
  },
  {
   "cell_type": "code",
   "execution_count": 52,
   "id": "3fc71bfe",
   "metadata": {},
   "outputs": [
    {
     "data": {
      "text/plain": [
       "4.408914728682171"
      ]
     },
     "execution_count": 52,
     "metadata": {},
     "output_type": "execute_result"
    }
   ],
   "source": [
    "y_mean = y_train.mean()\n",
    "y_mean"
   ]
  },
  {
   "cell_type": "code",
   "execution_count": 56,
   "id": "445443cb",
   "metadata": {},
   "outputs": [],
   "source": [
    "#y_mode = y_train.mode()\n",
    "#y_mode"
   ]
  },
  {
   "cell_type": "code",
   "execution_count": 57,
   "id": "6e6e618e",
   "metadata": {},
   "outputs": [],
   "source": [
    "#y_shape = (len(X_train), 1)\n",
    "#y_base = np.full(y_train.shape, y_mode)"
   ]
  },
  {
   "cell_type": "code",
   "execution_count": 54,
   "id": "1b44b40a",
   "metadata": {},
   "outputs": [],
   "source": [
    "#from sklearn.metrics import accuracy_score, f1_score\n",
    "#print(accuracy_score(y_train, y_base))\n",
    "#print(f1_score(y_train, y_base, average='weighted'))"
   ]
  },
  {
   "cell_type": "code",
   "execution_count": 55,
   "id": "fe347389",
   "metadata": {},
   "outputs": [
    {
     "name": "stdout",
     "output_type": "stream",
     "text": [
      "2.8606929122968157\n",
      "2.4830764377140797\n"
     ]
    }
   ],
   "source": [
    "from sklearn.metrics import mean_squared_error as mse\n",
    "from sklearn.metrics import mean_absolute_error as mae\n",
    "\n",
    "print(mse(y_train, y_base, squared=False))\n",
    "print(mae(y_train, y_base))"
   ]
  },
  {
   "cell_type": "markdown",
   "id": "eeca3f1e",
   "metadata": {},
   "source": [
    "# Train Initial RandomForest with Default Hyperparameter"
   ]
  },
  {
   "cell_type": "code",
   "execution_count": 58,
   "id": "91378508",
   "metadata": {},
   "outputs": [
    {
     "name": "stdout",
     "output_type": "stream",
     "text": [
      "0.9941860465116279\n",
      "0.4827586206896552\n"
     ]
    }
   ],
   "source": [
    "# Import the RandomForestClassifier from sklearn.ensemble\n",
    "from sklearn.ensemble import RandomForestClassifier\n",
    "\n",
    "# Instantiate the RandomForestClassifier class called rf1 with a random state=8\n",
    "rf1 = RandomForestClassifier(random_state=8)\n",
    "\n",
    "# Fit the RandomForest model\n",
    "rf1.fit(X_train, y_train)\n",
    "\n",
    "# Calculate the accuracy of the RandomForest on the training and validation sets and print them\n",
    "print(rf1.score(X_train, y_train))\n",
    "print(rf1.score(X_val, y_val))"
   ]
  },
  {
   "cell_type": "code",
   "execution_count": 62,
   "id": "4dc1bd54",
   "metadata": {},
   "outputs": [
    {
     "name": "stdout",
     "output_type": "stream",
     "text": [
      "MSE y_train: 0.3234983196103153\n",
      "MSE y_val: 2.6941827498622235\n",
      "MAE y_train: 0.023255813953488372\n",
      "MAE y_val 1.6724137931034482\n"
     ]
    }
   ],
   "source": [
    "#Calculate the RMSE score of the model on the training and validation sets and print\n",
    "y_train_rf1_preds = rf1.predict(X_train)\n",
    "y_val_rf1_preds = rf1.predict(X_val)\n",
    "\n",
    "print(\"MSE y_train:\",mse(y_train, y_train_rf1_preds, squared=False))\n",
    "print(\"MSE y_val:\",mse(y_val, y_val_rf1_preds, squared=False))\n",
    "print\"--------\"\n",
    "print(\"MAE y_train:\",mae(y_train, y_train_rf1_preds))\n",
    "print(\"MAE y_val\",mae(y_val, y_val_rf1_preds))"
   ]
  },
  {
   "cell_type": "markdown",
   "id": "44c99a90",
   "metadata": {},
   "source": [
    "# RandomForeat with GridsearchCV"
   ]
  },
  {
   "cell_type": "code",
   "execution_count": 71,
   "id": "f33dda7d",
   "metadata": {},
   "outputs": [],
   "source": [
    "# Import the necessary libraries and modules\n",
    "from sklearn.ensemble import RandomForestClassifier\n",
    "from sklearn.model_selection import GridSearchCV"
   ]
  },
  {
   "cell_type": "code",
   "execution_count": 72,
   "id": "83e4c08e",
   "metadata": {},
   "outputs": [],
   "source": [
    "# Instantiate the random forest classifier and define the parameter grid for the grid search\n",
    "rfc = RandomForestClassifier()\n",
    "param_grid = {\n",
    "    'n_estimators': [100, 200, 300],\n",
    "    'max_depth': [5, 10, 15],\n",
    "    'min_samples_split': [2, 5, 10],\n",
    "    'min_samples_leaf': [1, 2, 4]\n",
    "}"
   ]
  },
  {
   "cell_type": "code",
   "execution_count": 73,
   "id": "2ff5263d",
   "metadata": {},
   "outputs": [
    {
     "data": {
      "text/plain": [
       "GridSearchCV(cv=5, estimator=RandomForestClassifier(),\n",
       "             param_grid={'max_depth': [5, 10, 15],\n",
       "                         'min_samples_leaf': [1, 2, 4],\n",
       "                         'min_samples_split': [2, 5, 10],\n",
       "                         'n_estimators': [100, 200, 300]})"
      ]
     },
     "execution_count": 73,
     "metadata": {},
     "output_type": "execute_result"
    }
   ],
   "source": [
    "# Create a GridSearchCV object and fit the training data\n",
    "grid_search = GridSearchCV(rfc, param_grid, cv=5)\n",
    "grid_search.fit(X_train, y_train)"
   ]
  },
  {
   "cell_type": "code",
   "execution_count": 74,
   "id": "780ab70e",
   "metadata": {},
   "outputs": [
    {
     "name": "stdout",
     "output_type": "stream",
     "text": [
      "Best parameters:  {'max_depth': 15, 'min_samples_leaf': 1, 'min_samples_split': 2, 'n_estimators': 200}\n",
      "Best score:  0.4862745098039215\n"
     ]
    }
   ],
   "source": [
    "# Print the best parameters and the best score\n",
    "print(\"Best parameters: \", grid_search.best_params_)\n",
    "print(\"Best score: \", grid_search.best_score_)"
   ]
  },
  {
   "cell_type": "code",
   "execution_count": 75,
   "id": "a989ef84",
   "metadata": {},
   "outputs": [],
   "source": [
    "# Use the best estimator to make predictions on the test data\n",
    "rfc_best = grid_search.best_estimator_\n",
    "y_pred = rfc_best.predict(X_test)"
   ]
  },
  {
   "cell_type": "code",
   "execution_count": 77,
   "id": "80157cc2",
   "metadata": {},
   "outputs": [
    {
     "name": "stdout",
     "output_type": "stream",
     "text": [
      "Accuracy score: 0.4921875\n"
     ]
    }
   ],
   "source": [
    "from sklearn.metrics import accuracy_score, f1_score\n",
    "\n",
    "# Calculate accuracy score\n",
    "accuracy = accuracy_score(y_test, y_pred)\n",
    "print(\"Accuracy score:\", accuracy)\n",
    "\n",
    "# Calculate F1 score --> Target is multiclass but average='binary'\n",
    "#f1 = f1_score(y_test, y_pred)\n",
    "#print(\"F1 score:\", f1)"
   ]
  },
  {
   "cell_type": "markdown",
   "id": "2c788761",
   "metadata": {},
   "source": [
    "# RandomForest with RandomizedSearchCV"
   ]
  },
  {
   "cell_type": "code",
   "execution_count": 78,
   "id": "e3f96094",
   "metadata": {},
   "outputs": [],
   "source": [
    "from sklearn.model_selection import RandomizedSearchCV\n",
    "from scipy.stats import randint"
   ]
  },
  {
   "cell_type": "code",
   "execution_count": 79,
   "id": "b55b6f5d",
   "metadata": {},
   "outputs": [],
   "source": [
    "# Define the parameter grid for the RandomizedSearchCV\n",
    "param_dist = {'n_estimators': randint(100, 1000),\n",
    "              'max_features': ['auto', 'sqrt', 'log2'],\n",
    "              'max_depth': [10, 20, 30, None],\n",
    "              'min_samples_split': randint(2, 20),\n",
    "              'min_samples_leaf': randint(1, 20),\n",
    "              'bootstrap': [True, False]}"
   ]
  },
  {
   "cell_type": "code",
   "execution_count": 80,
   "id": "87a9ec88",
   "metadata": {},
   "outputs": [],
   "source": [
    "# Create a RandomizedSearchCV object\n",
    "random_search = RandomizedSearchCV(rfc, param_distributions=param_dist,\n",
    "                                   n_iter=10, cv=5, scoring='accuracy', random_state=42)"
   ]
  },
  {
   "cell_type": "code",
   "execution_count": 81,
   "id": "d70105d6",
   "metadata": {},
   "outputs": [
    {
     "data": {
      "text/plain": [
       "RandomizedSearchCV(cv=5, estimator=RandomForestClassifier(),\n",
       "                   param_distributions={'bootstrap': [True, False],\n",
       "                                        'max_depth': [10, 20, 30, None],\n",
       "                                        'max_features': ['auto', 'sqrt',\n",
       "                                                         'log2'],\n",
       "                                        'min_samples_leaf': <scipy.stats._distn_infrastructure.rv_frozen object at 0x7fa27c0cd310>,\n",
       "                                        'min_samples_split': <scipy.stats._distn_infrastructure.rv_frozen object at 0x7fa27c0a07f0>,\n",
       "                                        'n_estimators': <scipy.stats._distn_infrastructure.rv_frozen object at 0x7fa27c0d97c0>},\n",
       "                   random_state=42, scoring='accuracy')"
      ]
     },
     "execution_count": 81,
     "metadata": {},
     "output_type": "execute_result"
    }
   ],
   "source": [
    "# Fit the RandomizedSearchCV object to the training data\n",
    "random_search.fit(X_train, y_train)"
   ]
  },
  {
   "cell_type": "code",
   "execution_count": 82,
   "id": "b7735603",
   "metadata": {},
   "outputs": [],
   "source": [
    "# Get the best model\n",
    "best_model = random_search.best_estimator_"
   ]
  },
  {
   "cell_type": "code",
   "execution_count": 83,
   "id": "1cad85fe",
   "metadata": {},
   "outputs": [],
   "source": [
    "# Make predictions on the test set\n",
    "y_pred = best_model.predict(X_test)"
   ]
  },
  {
   "cell_type": "code",
   "execution_count": 85,
   "id": "79ab5401",
   "metadata": {},
   "outputs": [],
   "source": [
    "# Compute the accuracy and F1 scores\n",
    "accuracy = accuracy_score(y_test, y_pred)\n",
    "# f1 = f1_score(y_test, y_pred)"
   ]
  },
  {
   "cell_type": "code",
   "execution_count": 86,
   "id": "4bd00017",
   "metadata": {},
   "outputs": [
    {
     "name": "stdout",
     "output_type": "stream",
     "text": [
      "Best parameters:  {'bootstrap': False, 'max_depth': None, 'max_features': 'auto', 'min_samples_leaf': 3, 'min_samples_split': 6, 'n_estimators': 918}\n",
      "Best score:  0.48039215686274506\n",
      "Accuracy score:  0.5\n"
     ]
    }
   ],
   "source": [
    "# Print the results\n",
    "print(\"Best parameters: \", random_search.best_params_)\n",
    "print(\"Best score: \", random_search.best_score_)\n",
    "print(\"Accuracy score: \", accuracy)\n",
    "# print(\"F1 score: \", f1)"
   ]
  },
  {
   "cell_type": "markdown",
   "id": "8d6bbadb",
   "metadata": {},
   "source": [
    "# Result"
   ]
  },
  {
   "cell_type": "markdown",
   "id": "90bcc1c3",
   "metadata": {},
   "source": [
    "For Gridsearch, best parameter is 'max_depth': 15, 'min_samples_leaf': 1, 'min_samples_split': 2, 'n_estimators': 200.\n",
    "- Best score is  0.4862745098039215\n",
    "- Accuracy score is 0.4921875"
   ]
  },
  {
   "cell_type": "markdown",
   "id": "57b5e9e4",
   "metadata": {},
   "source": [
    "For Randomsearch, best parameter is 'bootstrap': False, 'max_depth': None, 'max_features': 'auto', 'min_samples_leaf': 3, 'min_samples_split': 6, 'n_estimators': 918.\n",
    "- Best score is  0.48039215686274506\n",
    "- Test accuracy score is  0.5"
   ]
  },
  {
   "cell_type": "markdown",
   "id": "ad0df78c",
   "metadata": {},
   "source": [
    "## __Conclusion__\n",
    "Best model is __RandomForest with RandomizedSearchCV__."
   ]
  },
  {
   "cell_type": "code",
   "execution_count": null,
   "id": "89afb855",
   "metadata": {},
   "outputs": [],
   "source": []
  }
 ],
 "metadata": {
  "kernelspec": {
   "display_name": "Python 3 (ipykernel)",
   "language": "python",
   "name": "python3"
  },
  "language_info": {
   "codemirror_mode": {
    "name": "ipython",
    "version": 3
   },
   "file_extension": ".py",
   "mimetype": "text/x-python",
   "name": "python",
   "nbconvert_exporter": "python",
   "pygments_lexer": "ipython3",
   "version": "3.9.12"
  }
 },
 "nbformat": 4,
 "nbformat_minor": 5
}
