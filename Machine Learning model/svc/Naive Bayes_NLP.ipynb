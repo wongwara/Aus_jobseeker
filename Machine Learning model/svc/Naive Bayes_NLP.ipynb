{
 "cells": [
  {
   "cell_type": "markdown",
   "id": "cbf5f018",
   "metadata": {},
   "source": [
    "# Experiment Naive Bayes NLP"
   ]
  },
  {
   "cell_type": "code",
   "execution_count": 1,
   "id": "2481e0bf",
   "metadata": {},
   "outputs": [],
   "source": [
    "import numpy as np\n",
    "import pandas as pd"
   ]
  },
  {
   "cell_type": "code",
   "execution_count": 2,
   "id": "7f9d0146",
   "metadata": {},
   "outputs": [],
   "source": [
    "file_url = 'https://raw.githubusercontent.com/wongwara/Jobseeker_Baymax/d9d7fc4753ca407eba5423da6e1101e042b216a8/dataset/final_cleaned.csv'"
   ]
  },
  {
   "cell_type": "code",
   "execution_count": 3,
   "id": "22925b5d",
   "metadata": {},
   "outputs": [],
   "source": [
    "df = pd.read_csv(file_url)"
   ]
  },
  {
   "cell_type": "code",
   "execution_count": 4,
   "id": "43ea0d72",
   "metadata": {},
   "outputs": [],
   "source": [
    "import warnings\n",
    "warnings.filterwarnings(\"ignore\")"
   ]
  },
  {
   "cell_type": "code",
   "execution_count": 5,
   "id": "9ce8a3dd",
   "metadata": {},
   "outputs": [
    {
     "name": "stdout",
     "output_type": "stream",
     "text": [
      "<class 'pandas.core.frame.DataFrame'>\n",
      "RangeIndex: 638 entries, 0 to 637\n",
      "Data columns (total 23 columns):\n",
      " #   Column                 Non-Null Count  Dtype  \n",
      "---  ------                 --------------  -----  \n",
      " 0   Unnamed: 0             638 non-null    int64  \n",
      " 1   jobClassification      638 non-null    int64  \n",
      " 2   state                  638 non-null    int64  \n",
      " 3   teaser                 540 non-null    object \n",
      " 4   workType               638 non-null    int64  \n",
      " 5   min_salary             638 non-null    int64  \n",
      " 6   max_salary             638 non-null    int64  \n",
      " 7   isRightToWorkRequired  638 non-null    int64  \n",
      " 8   desktopAdTemplate      537 non-null    object \n",
      " 9   Python                 638 non-null    int64  \n",
      " 10  SQL                    638 non-null    int64  \n",
      " 11  R                      638 non-null    int64  \n",
      " 12  Tableau                638 non-null    int64  \n",
      " 13  SAS                    638 non-null    int64  \n",
      " 14  Matlab                 638 non-null    int64  \n",
      " 15  Hadoop                 638 non-null    int64  \n",
      " 16  Spark                  638 non-null    int64  \n",
      " 17  Java                   638 non-null    int64  \n",
      " 18  Scala                  638 non-null    int64  \n",
      " 19  recruiter              638 non-null    int64  \n",
      " 20  state_encoded          638 non-null    int64  \n",
      " 21  salary_section         638 non-null    object \n",
      " 22  salary_section_enc     638 non-null    float64\n",
      "dtypes: float64(1), int64(19), object(3)\n",
      "memory usage: 114.8+ KB\n"
     ]
    }
   ],
   "source": [
    "df.info()"
   ]
  },
  {
   "cell_type": "code",
   "execution_count": 6,
   "id": "db1a843f",
   "metadata": {},
   "outputs": [
    {
     "data": {
      "text/html": [
       "<div>\n",
       "<style scoped>\n",
       "    .dataframe tbody tr th:only-of-type {\n",
       "        vertical-align: middle;\n",
       "    }\n",
       "\n",
       "    .dataframe tbody tr th {\n",
       "        vertical-align: top;\n",
       "    }\n",
       "\n",
       "    .dataframe thead th {\n",
       "        text-align: right;\n",
       "    }\n",
       "</style>\n",
       "<table border=\"1\" class=\"dataframe\">\n",
       "  <thead>\n",
       "    <tr style=\"text-align: right;\">\n",
       "      <th></th>\n",
       "      <th>Unnamed: 0</th>\n",
       "      <th>jobClassification</th>\n",
       "      <th>state</th>\n",
       "      <th>teaser</th>\n",
       "      <th>workType</th>\n",
       "      <th>min_salary</th>\n",
       "      <th>max_salary</th>\n",
       "      <th>isRightToWorkRequired</th>\n",
       "      <th>desktopAdTemplate</th>\n",
       "      <th>Python</th>\n",
       "      <th>...</th>\n",
       "      <th>SAS</th>\n",
       "      <th>Matlab</th>\n",
       "      <th>Hadoop</th>\n",
       "      <th>Spark</th>\n",
       "      <th>Java</th>\n",
       "      <th>Scala</th>\n",
       "      <th>recruiter</th>\n",
       "      <th>state_encoded</th>\n",
       "      <th>salary_section</th>\n",
       "      <th>salary_section_enc</th>\n",
       "    </tr>\n",
       "  </thead>\n",
       "  <tbody>\n",
       "    <tr>\n",
       "      <th>0</th>\n",
       "      <td>0</td>\n",
       "      <td>0</td>\n",
       "      <td>1</td>\n",
       "      <td>Fantastic organisation seeks experienced Insig...</td>\n",
       "      <td>2</td>\n",
       "      <td>90000</td>\n",
       "      <td>120000</td>\n",
       "      <td>0</td>\n",
       "      <td>\\n  \\n    \\n    \\n      Insights Analyst – Onl...</td>\n",
       "      <td>0</td>\n",
       "      <td>...</td>\n",
       "      <td>0</td>\n",
       "      <td>0</td>\n",
       "      <td>0</td>\n",
       "      <td>0</td>\n",
       "      <td>0</td>\n",
       "      <td>0</td>\n",
       "      <td>1</td>\n",
       "      <td>1</td>\n",
       "      <td>(100000.0, 110000.0]</td>\n",
       "      <td>0.0</td>\n",
       "    </tr>\n",
       "    <tr>\n",
       "      <th>1</th>\n",
       "      <td>1</td>\n",
       "      <td>1</td>\n",
       "      <td>1</td>\n",
       "      <td>This role requires an individual with strong c...</td>\n",
       "      <td>2</td>\n",
       "      <td>90000</td>\n",
       "      <td>110000</td>\n",
       "      <td>0</td>\n",
       "      <td>\\n  \\n    \\n    \\n      Credit Risk Analyst \\n...</td>\n",
       "      <td>0</td>\n",
       "      <td>...</td>\n",
       "      <td>1</td>\n",
       "      <td>0</td>\n",
       "      <td>0</td>\n",
       "      <td>0</td>\n",
       "      <td>0</td>\n",
       "      <td>0</td>\n",
       "      <td>1</td>\n",
       "      <td>1</td>\n",
       "      <td>(90000.0, 100000.0]</td>\n",
       "      <td>1.0</td>\n",
       "    </tr>\n",
       "    <tr>\n",
       "      <th>2</th>\n",
       "      <td>2</td>\n",
       "      <td>1</td>\n",
       "      <td>1</td>\n",
       "      <td>One of Australia's leading financial service p...</td>\n",
       "      <td>2</td>\n",
       "      <td>110000</td>\n",
       "      <td>120000</td>\n",
       "      <td>1</td>\n",
       "      <td>\\n  \\n    \\n    Data Analytics Recruitment Sol...</td>\n",
       "      <td>1</td>\n",
       "      <td>...</td>\n",
       "      <td>1</td>\n",
       "      <td>0</td>\n",
       "      <td>0</td>\n",
       "      <td>0</td>\n",
       "      <td>0</td>\n",
       "      <td>0</td>\n",
       "      <td>1</td>\n",
       "      <td>1</td>\n",
       "      <td>(110000.0, 120000.0]</td>\n",
       "      <td>2.0</td>\n",
       "    </tr>\n",
       "    <tr>\n",
       "      <th>3</th>\n",
       "      <td>3</td>\n",
       "      <td>2</td>\n",
       "      <td>0</td>\n",
       "      <td>Postdoctoral researcher in molecular evolution...</td>\n",
       "      <td>2</td>\n",
       "      <td>71509</td>\n",
       "      <td>90215</td>\n",
       "      <td>0</td>\n",
       "      <td>\\n  \\n    \\n    \\n      Postdoctoral Fellow \\n...</td>\n",
       "      <td>0</td>\n",
       "      <td>...</td>\n",
       "      <td>0</td>\n",
       "      <td>0</td>\n",
       "      <td>0</td>\n",
       "      <td>0</td>\n",
       "      <td>1</td>\n",
       "      <td>0</td>\n",
       "      <td>0</td>\n",
       "      <td>0</td>\n",
       "      <td>(80000.0, 90000.0]</td>\n",
       "      <td>3.0</td>\n",
       "    </tr>\n",
       "    <tr>\n",
       "      <th>4</th>\n",
       "      <td>4</td>\n",
       "      <td>3</td>\n",
       "      <td>0</td>\n",
       "      <td>Postdoctoral researcher in molecular evolution...</td>\n",
       "      <td>2</td>\n",
       "      <td>71509</td>\n",
       "      <td>90215</td>\n",
       "      <td>0</td>\n",
       "      <td>\\n  \\n    \\n    \\n      Postdoctoral Fellow \\n...</td>\n",
       "      <td>0</td>\n",
       "      <td>...</td>\n",
       "      <td>0</td>\n",
       "      <td>0</td>\n",
       "      <td>0</td>\n",
       "      <td>0</td>\n",
       "      <td>1</td>\n",
       "      <td>0</td>\n",
       "      <td>0</td>\n",
       "      <td>0</td>\n",
       "      <td>(80000.0, 90000.0]</td>\n",
       "      <td>3.0</td>\n",
       "    </tr>\n",
       "  </tbody>\n",
       "</table>\n",
       "<p>5 rows × 23 columns</p>\n",
       "</div>"
      ],
      "text/plain": [
       "   Unnamed: 0  jobClassification  state  \\\n",
       "0           0                  0      1   \n",
       "1           1                  1      1   \n",
       "2           2                  1      1   \n",
       "3           3                  2      0   \n",
       "4           4                  3      0   \n",
       "\n",
       "                                              teaser  workType  min_salary  \\\n",
       "0  Fantastic organisation seeks experienced Insig...         2       90000   \n",
       "1  This role requires an individual with strong c...         2       90000   \n",
       "2  One of Australia's leading financial service p...         2      110000   \n",
       "3  Postdoctoral researcher in molecular evolution...         2       71509   \n",
       "4  Postdoctoral researcher in molecular evolution...         2       71509   \n",
       "\n",
       "   max_salary  isRightToWorkRequired  \\\n",
       "0      120000                      0   \n",
       "1      110000                      0   \n",
       "2      120000                      1   \n",
       "3       90215                      0   \n",
       "4       90215                      0   \n",
       "\n",
       "                                   desktopAdTemplate  Python  ...  SAS  \\\n",
       "0  \\n  \\n    \\n    \\n      Insights Analyst – Onl...       0  ...    0   \n",
       "1  \\n  \\n    \\n    \\n      Credit Risk Analyst \\n...       0  ...    1   \n",
       "2  \\n  \\n    \\n    Data Analytics Recruitment Sol...       1  ...    1   \n",
       "3  \\n  \\n    \\n    \\n      Postdoctoral Fellow \\n...       0  ...    0   \n",
       "4  \\n  \\n    \\n    \\n      Postdoctoral Fellow \\n...       0  ...    0   \n",
       "\n",
       "   Matlab  Hadoop  Spark  Java  Scala  recruiter  state_encoded  \\\n",
       "0       0       0      0     0      0          1              1   \n",
       "1       0       0      0     0      0          1              1   \n",
       "2       0       0      0     0      0          1              1   \n",
       "3       0       0      0     1      0          0              0   \n",
       "4       0       0      0     1      0          0              0   \n",
       "\n",
       "         salary_section  salary_section_enc  \n",
       "0  (100000.0, 110000.0]                 0.0  \n",
       "1   (90000.0, 100000.0]                 1.0  \n",
       "2  (110000.0, 120000.0]                 2.0  \n",
       "3    (80000.0, 90000.0]                 3.0  \n",
       "4    (80000.0, 90000.0]                 3.0  \n",
       "\n",
       "[5 rows x 23 columns]"
      ]
     },
     "execution_count": 6,
     "metadata": {},
     "output_type": "execute_result"
    }
   ],
   "source": [
    "df.head()"
   ]
  },
  {
   "cell_type": "markdown",
   "id": "ad383449",
   "metadata": {},
   "source": [
    "### Clean text"
   ]
  },
  {
   "cell_type": "code",
   "execution_count": 7,
   "id": "6358b094",
   "metadata": {},
   "outputs": [],
   "source": [
    "df['teaser']= df['teaser'].fillna('')"
   ]
  },
  {
   "cell_type": "code",
   "execution_count": 8,
   "id": "f5a7ec0f",
   "metadata": {},
   "outputs": [],
   "source": [
    "df['desktopAdTemplate']= df['desktopAdTemplate'].fillna('')"
   ]
  },
  {
   "cell_type": "code",
   "execution_count": 9,
   "id": "ebca76ff",
   "metadata": {},
   "outputs": [
    {
     "name": "stdout",
     "output_type": "stream",
     "text": [
      "   Unnamed: 0  jobClassification  state  workType  min_salary  max_salary  \\\n",
      "0           0                  0      1         2       90000      120000   \n",
      "1           1                  1      1         2       90000      110000   \n",
      "2           2                  1      1         2      110000      120000   \n",
      "3           3                  2      0         2       71509       90215   \n",
      "4           4                  3      0         2       71509       90215   \n",
      "\n",
      "   isRightToWorkRequired  Python  SQL  R  ...  6803  6804  6805  6806  6807  \\\n",
      "0                      0       0    1  1  ...   0.0   0.0   0.0   0.0   0.0   \n",
      "1                      0       0    1  1  ...   0.0   0.0   0.0   0.0   0.0   \n",
      "2                      1       1    1  1  ...   0.0   0.0   0.0   0.0   0.0   \n",
      "3                      0       0    0  0  ...   0.0   0.0   0.0   0.0   0.0   \n",
      "4                      0       0    0  0  ...   0.0   0.0   0.0   0.0   0.0   \n",
      "\n",
      "   6808  6809  6810  6811 6812  \n",
      "0   0.0   0.0   0.0   0.0  0.0  \n",
      "1   0.0   0.0   0.0   0.0  0.0  \n",
      "2   0.0   0.0   0.0   0.0  0.0  \n",
      "3   0.0   0.0   0.0   0.0  0.0  \n",
      "4   0.0   0.0   0.0   0.0  0.0  \n",
      "\n",
      "[5 rows x 7766 columns]\n"
     ]
    }
   ],
   "source": [
    "import pandas as pd\n",
    "import nltk\n",
    "from nltk.corpus import stopwords\n",
    "from nltk.tokenize import word_tokenize\n",
    "from nltk.stem import PorterStemmer\n",
    "from sklearn.feature_extraction.text import TfidfVectorizer\n",
    "\n",
    "\n",
    "# Clean the text data\n",
    "df['teaser'] = df['teaser'].str.replace('[^\\w\\s]', '') # Remove punctuation\n",
    "df['desktopAdTemplate'] = df['desktopAdTemplate'].str.replace('[^\\w\\s]', '') # Remove punctuation\n",
    "df['teaser'] = df['teaser'].str.replace('\\d+', '') # Remove digits\n",
    "df['desktopAdTemplate'] = df['desktopAdTemplate'].str.replace('\\d+', '') # Remove digits\n",
    "\n",
    "# Normalize the text data\n",
    "stop_words = set(stopwords.words('english'))\n",
    "df['teaser'] = df['teaser'].apply(lambda x: ' '.join([word.lower() for word in x.split() if word.lower() not in stop_words]))\n",
    "df['desktopAdTemplate'] = df['desktopAdTemplate'].apply(lambda x: ' '.join([word.lower() for word in x.split() if word.lower() not in stop_words]))\n",
    "\n",
    "# Tokenize the text data\n",
    "df['teaser'] = df['teaser'].apply(lambda x: word_tokenize(x))\n",
    "df['desktopAdTemplate'] = df['desktopAdTemplate'].apply(lambda x: word_tokenize(x))\n",
    "\n",
    "# Apply stemming\n",
    "stemmer = PorterStemmer()\n",
    "df['teaser'] = df['teaser'].apply(lambda x: [stemmer.stem(word) for word in x])\n",
    "df['desktopAdTemplate'] = df['desktopAdTemplate'].apply(lambda x: [stemmer.stem(word) for word in x])\n",
    "\n",
    "# # Create TF-IDF vectors\n",
    "vectorizer = TfidfVectorizer()\n",
    "teaser_tfidf = vectorizer.fit_transform(df['teaser'].apply(lambda x: ' '.join(x)))\n",
    "desktopAdTemplate_tfidf = vectorizer.fit_transform(df['desktopAdTemplate'].apply(lambda x: ' '.join(x)))\n",
    "\n",
    "# # Concatenate the TF-IDF vectors with the original dataframe\n",
    "df = pd.concat([df.drop(['teaser', 'desktopAdTemplate'], axis=1), pd.DataFrame(teaser_tfidf.toarray()), pd.DataFrame(desktopAdTemplate_tfidf.toarray())], axis=1)\n",
    "\n",
    "# Display the resulting dataframe\n",
    "print(df.head())\n"
   ]
  },
  {
   "cell_type": "code",
   "execution_count": 10,
   "id": "6cac557c",
   "metadata": {},
   "outputs": [
    {
     "data": {
      "text/plain": [
       "(638, 7766)"
      ]
     },
     "execution_count": 10,
     "metadata": {},
     "output_type": "execute_result"
    }
   ],
   "source": [
    "df.shape"
   ]
  },
  {
   "cell_type": "code",
   "execution_count": 11,
   "id": "ee0f92da",
   "metadata": {},
   "outputs": [
    {
     "data": {
      "text/plain": [
       "Index([           'Unnamed: 0',     'jobClassification',\n",
       "                       'state',              'workType',\n",
       "                  'min_salary',            'max_salary',\n",
       "       'isRightToWorkRequired',                'Python',\n",
       "                         'SQL',                     'R',\n",
       "       ...\n",
       "                          6803,                    6804,\n",
       "                          6805,                    6806,\n",
       "                          6807,                    6808,\n",
       "                          6809,                    6810,\n",
       "                          6811,                    6812],\n",
       "      dtype='object', length=7766)"
      ]
     },
     "execution_count": 11,
     "metadata": {},
     "output_type": "execute_result"
    }
   ],
   "source": [
    "df.columns"
   ]
  },
  {
   "cell_type": "code",
   "execution_count": 12,
   "id": "8c8b6ee2",
   "metadata": {},
   "outputs": [],
   "source": [
    "df = df.drop(['Unnamed: 0','state_encoded','min_salary','max_salary','salary_section'],axis=1)"
   ]
  },
  {
   "cell_type": "code",
   "execution_count": 13,
   "id": "8e257192",
   "metadata": {},
   "outputs": [
    {
     "data": {
      "text/plain": [
       "Index([    'jobClassification',                 'state',\n",
       "                    'workType', 'isRightToWorkRequired',\n",
       "                      'Python',                   'SQL',\n",
       "                           'R',               'Tableau',\n",
       "                         'SAS',                'Matlab',\n",
       "       ...\n",
       "                          6803,                    6804,\n",
       "                          6805,                    6806,\n",
       "                          6807,                    6808,\n",
       "                          6809,                    6810,\n",
       "                          6811,                    6812],\n",
       "      dtype='object', length=7761)"
      ]
     },
     "execution_count": 13,
     "metadata": {},
     "output_type": "execute_result"
    }
   ],
   "source": [
    "df.columns"
   ]
  },
  {
   "cell_type": "code",
   "execution_count": 14,
   "id": "6319b450",
   "metadata": {},
   "outputs": [
    {
     "data": {
      "text/plain": [
       "(638, 7761)"
      ]
     },
     "execution_count": 14,
     "metadata": {},
     "output_type": "execute_result"
    }
   ],
   "source": [
    "df.shape"
   ]
  },
  {
   "cell_type": "markdown",
   "id": "c3e78fec",
   "metadata": {},
   "source": [
    "## Split data"
   ]
  },
  {
   "cell_type": "code",
   "execution_count": 15,
   "id": "72813e7f",
   "metadata": {},
   "outputs": [],
   "source": [
    "# separate the target variable from the other features\n",
    "y = df.pop('salary_section_enc')\n",
    "X = df\n",
    "\n",
    "from sklearn.model_selection import train_test_split\n",
    "# split the data into training and testing sets\n",
    "X_train, X_test, y_train, y_test = train_test_split(X, y, test_size=0.2, random_state=42)"
   ]
  },
  {
   "cell_type": "code",
   "execution_count": 19,
   "id": "b6ba082d",
   "metadata": {},
   "outputs": [
    {
     "name": "stdout",
     "output_type": "stream",
     "text": [
      "(510, 7760)\n",
      "(128, 7760)\n",
      "(510,)\n",
      "(128,)\n"
     ]
    }
   ],
   "source": [
    "print(X_train.shape)\n",
    "print(X_test.shape)\n",
    "print(y_train.shape)\n",
    "print(y_test.shape)"
   ]
  },
  {
   "cell_type": "code",
   "execution_count": 20,
   "id": "352c6eb1",
   "metadata": {},
   "outputs": [],
   "source": [
    "# X_train.to_csv('/Users/thiradatiamklang/Desktop/NLP/AT2/cleandata/X_train.csv')\n",
    "# X_test.to_csv('/Users/thiradatiamklang/Desktop/NLP/AT2/cleandata/X_test.csv')\n",
    "# y_train.to_csv('/Users/thiradatiamklang/Desktop/NLP/AT2/cleandata/y_train.csv')\n",
    "# y_test.to_csv('/Users/thiradatiamklang/Desktop/NLP/AT2/cleandata/y_test.csv')"
   ]
  },
  {
   "cell_type": "markdown",
   "id": "48d79271",
   "metadata": {},
   "source": [
    "## Naive Bayes"
   ]
  },
  {
   "cell_type": "code",
   "execution_count": 23,
   "id": "7ca01c6e",
   "metadata": {},
   "outputs": [],
   "source": [
    "X_train.columns = X_train.columns.astype(str)\n",
    "X_test.columns = X_test.columns.astype(str)\n",
    "# Scale data\n",
    "from sklearn.preprocessing import StandardScaler\n",
    "scaler = StandardScaler()\n",
    "X_train = scaler.fit_transform(X_train)\n",
    "X_test = scaler.fit_transform(X_test)"
   ]
  },
  {
   "cell_type": "code",
   "execution_count": 24,
   "id": "eaf0eb20",
   "metadata": {},
   "outputs": [
    {
     "data": {
      "text/plain": [
       "array([[-0.72618462, -0.67761149,  0.        , ..., -0.08889762,\n",
       "        -0.04432422, -0.04432422],\n",
       "       [-0.72618462, -0.67761149,  0.        , ..., -0.08889762,\n",
       "        -0.04432422, -0.04432422],\n",
       "       [ 0.10982928,  0.17991174,  0.        , ..., -0.08889762,\n",
       "        -0.04432422, -0.04432422],\n",
       "       ...,\n",
       "       [ 0.52783623, -0.67761149,  0.        , ..., -0.08889762,\n",
       "        -0.04432422, -0.04432422],\n",
       "       [-0.72618462, -1.10637311,  0.        , ..., -0.08889762,\n",
       "        -0.04432422, -0.04432422],\n",
       "       [-0.72618462, -0.67761149,  0.        , ..., -0.08889762,\n",
       "        -0.04432422, -0.04432422]])"
      ]
     },
     "execution_count": 24,
     "metadata": {},
     "output_type": "execute_result"
    }
   ],
   "source": [
    "X_train"
   ]
  },
  {
   "cell_type": "code",
   "execution_count": 25,
   "id": "bc1aa830",
   "metadata": {},
   "outputs": [],
   "source": [
    "# K-fold split\n",
    "from sklearn.model_selection import StratifiedKFold, StratifiedShuffleSplit\n",
    "cv = StratifiedShuffleSplit(n_splits=5, test_size=.20, random_state=42)"
   ]
  },
  {
   "cell_type": "markdown",
   "id": "e3f86e97",
   "metadata": {},
   "source": [
    "## 1. Naive Bayes with Grid search"
   ]
  },
  {
   "cell_type": "code",
   "execution_count": 26,
   "id": "7f749122",
   "metadata": {},
   "outputs": [],
   "source": [
    "params = {\n",
    "    'var_smoothing': np.logspace(-10, -1, num=10)\n",
    "}"
   ]
  },
  {
   "cell_type": "code",
   "execution_count": 27,
   "id": "f3ad770b",
   "metadata": {},
   "outputs": [],
   "source": [
    "from sklearn.naive_bayes import GaussianNB\n",
    "gb = GaussianNB()"
   ]
  },
  {
   "cell_type": "code",
   "execution_count": 34,
   "id": "73f8c591",
   "metadata": {},
   "outputs": [],
   "source": [
    "from sklearn.model_selection import GridSearchCV\n",
    "\n",
    "grid_gb = GridSearchCV(gb, param_grid=params, scoring='accuracy', n_jobs =-1, cv=cv, verbose=1)"
   ]
  },
  {
   "cell_type": "code",
   "execution_count": 35,
   "id": "c20848e5",
   "metadata": {},
   "outputs": [
    {
     "name": "stdout",
     "output_type": "stream",
     "text": [
      "Fitting 5 folds for each of 10 candidates, totalling 50 fits\n"
     ]
    },
    {
     "data": {
      "text/html": [
       "<style>#sk-container-id-1 {color: black;background-color: white;}#sk-container-id-1 pre{padding: 0;}#sk-container-id-1 div.sk-toggleable {background-color: white;}#sk-container-id-1 label.sk-toggleable__label {cursor: pointer;display: block;width: 100%;margin-bottom: 0;padding: 0.3em;box-sizing: border-box;text-align: center;}#sk-container-id-1 label.sk-toggleable__label-arrow:before {content: \"▸\";float: left;margin-right: 0.25em;color: #696969;}#sk-container-id-1 label.sk-toggleable__label-arrow:hover:before {color: black;}#sk-container-id-1 div.sk-estimator:hover label.sk-toggleable__label-arrow:before {color: black;}#sk-container-id-1 div.sk-toggleable__content {max-height: 0;max-width: 0;overflow: hidden;text-align: left;background-color: #f0f8ff;}#sk-container-id-1 div.sk-toggleable__content pre {margin: 0.2em;color: black;border-radius: 0.25em;background-color: #f0f8ff;}#sk-container-id-1 input.sk-toggleable__control:checked~div.sk-toggleable__content {max-height: 200px;max-width: 100%;overflow: auto;}#sk-container-id-1 input.sk-toggleable__control:checked~label.sk-toggleable__label-arrow:before {content: \"▾\";}#sk-container-id-1 div.sk-estimator input.sk-toggleable__control:checked~label.sk-toggleable__label {background-color: #d4ebff;}#sk-container-id-1 div.sk-label input.sk-toggleable__control:checked~label.sk-toggleable__label {background-color: #d4ebff;}#sk-container-id-1 input.sk-hidden--visually {border: 0;clip: rect(1px 1px 1px 1px);clip: rect(1px, 1px, 1px, 1px);height: 1px;margin: -1px;overflow: hidden;padding: 0;position: absolute;width: 1px;}#sk-container-id-1 div.sk-estimator {font-family: monospace;background-color: #f0f8ff;border: 1px dotted black;border-radius: 0.25em;box-sizing: border-box;margin-bottom: 0.5em;}#sk-container-id-1 div.sk-estimator:hover {background-color: #d4ebff;}#sk-container-id-1 div.sk-parallel-item::after {content: \"\";width: 100%;border-bottom: 1px solid gray;flex-grow: 1;}#sk-container-id-1 div.sk-label:hover label.sk-toggleable__label {background-color: #d4ebff;}#sk-container-id-1 div.sk-serial::before {content: \"\";position: absolute;border-left: 1px solid gray;box-sizing: border-box;top: 0;bottom: 0;left: 50%;z-index: 0;}#sk-container-id-1 div.sk-serial {display: flex;flex-direction: column;align-items: center;background-color: white;padding-right: 0.2em;padding-left: 0.2em;position: relative;}#sk-container-id-1 div.sk-item {position: relative;z-index: 1;}#sk-container-id-1 div.sk-parallel {display: flex;align-items: stretch;justify-content: center;background-color: white;position: relative;}#sk-container-id-1 div.sk-item::before, #sk-container-id-1 div.sk-parallel-item::before {content: \"\";position: absolute;border-left: 1px solid gray;box-sizing: border-box;top: 0;bottom: 0;left: 50%;z-index: -1;}#sk-container-id-1 div.sk-parallel-item {display: flex;flex-direction: column;z-index: 1;position: relative;background-color: white;}#sk-container-id-1 div.sk-parallel-item:first-child::after {align-self: flex-end;width: 50%;}#sk-container-id-1 div.sk-parallel-item:last-child::after {align-self: flex-start;width: 50%;}#sk-container-id-1 div.sk-parallel-item:only-child::after {width: 0;}#sk-container-id-1 div.sk-dashed-wrapped {border: 1px dashed gray;margin: 0 0.4em 0.5em 0.4em;box-sizing: border-box;padding-bottom: 0.4em;background-color: white;}#sk-container-id-1 div.sk-label label {font-family: monospace;font-weight: bold;display: inline-block;line-height: 1.2em;}#sk-container-id-1 div.sk-label-container {text-align: center;}#sk-container-id-1 div.sk-container {/* jupyter's `normalize.less` sets `[hidden] { display: none; }` but bootstrap.min.css set `[hidden] { display: none !important; }` so we also need the `!important` here to be able to override the default hidden behavior on the sphinx rendered scikit-learn.org. See: https://github.com/scikit-learn/scikit-learn/issues/21755 */display: inline-block !important;position: relative;}#sk-container-id-1 div.sk-text-repr-fallback {display: none;}</style><div id=\"sk-container-id-1\" class=\"sk-top-container\"><div class=\"sk-text-repr-fallback\"><pre>GridSearchCV(cv=StratifiedShuffleSplit(n_splits=5, random_state=42, test_size=0.2,\n",
       "            train_size=None),\n",
       "             estimator=GaussianNB(), n_jobs=-1,\n",
       "             param_grid={&#x27;var_smoothing&#x27;: array([1.e-10, 1.e-09, 1.e-08, 1.e-07, 1.e-06, 1.e-05, 1.e-04, 1.e-03,\n",
       "       1.e-02, 1.e-01])},\n",
       "             scoring=&#x27;accuracy&#x27;, verbose=1)</pre><b>In a Jupyter environment, please rerun this cell to show the HTML representation or trust the notebook. <br />On GitHub, the HTML representation is unable to render, please try loading this page with nbviewer.org.</b></div><div class=\"sk-container\" hidden><div class=\"sk-item sk-dashed-wrapped\"><div class=\"sk-label-container\"><div class=\"sk-label sk-toggleable\"><input class=\"sk-toggleable__control sk-hidden--visually\" id=\"sk-estimator-id-1\" type=\"checkbox\" ><label for=\"sk-estimator-id-1\" class=\"sk-toggleable__label sk-toggleable__label-arrow\">GridSearchCV</label><div class=\"sk-toggleable__content\"><pre>GridSearchCV(cv=StratifiedShuffleSplit(n_splits=5, random_state=42, test_size=0.2,\n",
       "            train_size=None),\n",
       "             estimator=GaussianNB(), n_jobs=-1,\n",
       "             param_grid={&#x27;var_smoothing&#x27;: array([1.e-10, 1.e-09, 1.e-08, 1.e-07, 1.e-06, 1.e-05, 1.e-04, 1.e-03,\n",
       "       1.e-02, 1.e-01])},\n",
       "             scoring=&#x27;accuracy&#x27;, verbose=1)</pre></div></div></div><div class=\"sk-parallel\"><div class=\"sk-parallel-item\"><div class=\"sk-item\"><div class=\"sk-label-container\"><div class=\"sk-label sk-toggleable\"><input class=\"sk-toggleable__control sk-hidden--visually\" id=\"sk-estimator-id-2\" type=\"checkbox\" ><label for=\"sk-estimator-id-2\" class=\"sk-toggleable__label sk-toggleable__label-arrow\">estimator: GaussianNB</label><div class=\"sk-toggleable__content\"><pre>GaussianNB()</pre></div></div></div><div class=\"sk-serial\"><div class=\"sk-item\"><div class=\"sk-estimator sk-toggleable\"><input class=\"sk-toggleable__control sk-hidden--visually\" id=\"sk-estimator-id-3\" type=\"checkbox\" ><label for=\"sk-estimator-id-3\" class=\"sk-toggleable__label sk-toggleable__label-arrow\">GaussianNB</label><div class=\"sk-toggleable__content\"><pre>GaussianNB()</pre></div></div></div></div></div></div></div></div></div></div>"
      ],
      "text/plain": [
       "GridSearchCV(cv=StratifiedShuffleSplit(n_splits=5, random_state=42, test_size=0.2,\n",
       "            train_size=None),\n",
       "             estimator=GaussianNB(), n_jobs=-1,\n",
       "             param_grid={'var_smoothing': array([1.e-10, 1.e-09, 1.e-08, 1.e-07, 1.e-06, 1.e-05, 1.e-04, 1.e-03,\n",
       "       1.e-02, 1.e-01])},\n",
       "             scoring='accuracy', verbose=1)"
      ]
     },
     "execution_count": 35,
     "metadata": {},
     "output_type": "execute_result"
    }
   ],
   "source": [
    "grid_gb.fit(X_train, y_train)"
   ]
  },
  {
   "cell_type": "code",
   "execution_count": 36,
   "id": "caf239a6",
   "metadata": {},
   "outputs": [
    {
     "name": "stdout",
     "output_type": "stream",
     "text": [
      "Best Score: 0.5078431372549019\n",
      "Best Estimator: GaussianNB(var_smoothing=1e-10)\n"
     ]
    }
   ],
   "source": [
    "gb_grid_val_score = grid_gb.best_score_\n",
    "print('Best Score:', gb_grid_val_score)\n",
    "print('Best Estimator:', grid_gb.best_estimator_)"
   ]
  },
  {
   "cell_type": "code",
   "execution_count": 37,
   "id": "bc3a43bb",
   "metadata": {},
   "outputs": [],
   "source": [
    "gb_grid= grid_gb.best_estimator_\n",
    "y_pred = gb_grid.predict(X_test)"
   ]
  },
  {
   "cell_type": "code",
   "execution_count": 39,
   "id": "a3efcba4",
   "metadata": {},
   "outputs": [
    {
     "name": "stdout",
     "output_type": "stream",
     "text": [
      "grid Model Accuracy: 0.5546875\n"
     ]
    }
   ],
   "source": [
    "from sklearn.metrics import accuracy_score\n",
    "gb_grid_score = accuracy_score(y_test, y_pred)\n",
    "print('grid Model Accuracy:', gb_grid_score)\n"
   ]
  },
  {
   "cell_type": "markdown",
   "id": "9d595bca",
   "metadata": {},
   "source": [
    "## 2. Naive Bayes with Random search"
   ]
  },
  {
   "cell_type": "code",
   "execution_count": 41,
   "id": "3e3ca794",
   "metadata": {},
   "outputs": [],
   "source": [
    "from sklearn.model_selection import RandomizedSearchCV\n",
    "rgrid_gb = RandomizedSearchCV(gb, param_distributions=params, scoring='accuracy', n_jobs =-1, cv=cv, verbose=1)"
   ]
  },
  {
   "cell_type": "code",
   "execution_count": 42,
   "id": "ba371c21",
   "metadata": {
    "scrolled": true
   },
   "outputs": [
    {
     "name": "stdout",
     "output_type": "stream",
     "text": [
      "Fitting 5 folds for each of 10 candidates, totalling 50 fits\n"
     ]
    },
    {
     "data": {
      "text/html": [
       "<style>#sk-container-id-2 {color: black;background-color: white;}#sk-container-id-2 pre{padding: 0;}#sk-container-id-2 div.sk-toggleable {background-color: white;}#sk-container-id-2 label.sk-toggleable__label {cursor: pointer;display: block;width: 100%;margin-bottom: 0;padding: 0.3em;box-sizing: border-box;text-align: center;}#sk-container-id-2 label.sk-toggleable__label-arrow:before {content: \"▸\";float: left;margin-right: 0.25em;color: #696969;}#sk-container-id-2 label.sk-toggleable__label-arrow:hover:before {color: black;}#sk-container-id-2 div.sk-estimator:hover label.sk-toggleable__label-arrow:before {color: black;}#sk-container-id-2 div.sk-toggleable__content {max-height: 0;max-width: 0;overflow: hidden;text-align: left;background-color: #f0f8ff;}#sk-container-id-2 div.sk-toggleable__content pre {margin: 0.2em;color: black;border-radius: 0.25em;background-color: #f0f8ff;}#sk-container-id-2 input.sk-toggleable__control:checked~div.sk-toggleable__content {max-height: 200px;max-width: 100%;overflow: auto;}#sk-container-id-2 input.sk-toggleable__control:checked~label.sk-toggleable__label-arrow:before {content: \"▾\";}#sk-container-id-2 div.sk-estimator input.sk-toggleable__control:checked~label.sk-toggleable__label {background-color: #d4ebff;}#sk-container-id-2 div.sk-label input.sk-toggleable__control:checked~label.sk-toggleable__label {background-color: #d4ebff;}#sk-container-id-2 input.sk-hidden--visually {border: 0;clip: rect(1px 1px 1px 1px);clip: rect(1px, 1px, 1px, 1px);height: 1px;margin: -1px;overflow: hidden;padding: 0;position: absolute;width: 1px;}#sk-container-id-2 div.sk-estimator {font-family: monospace;background-color: #f0f8ff;border: 1px dotted black;border-radius: 0.25em;box-sizing: border-box;margin-bottom: 0.5em;}#sk-container-id-2 div.sk-estimator:hover {background-color: #d4ebff;}#sk-container-id-2 div.sk-parallel-item::after {content: \"\";width: 100%;border-bottom: 1px solid gray;flex-grow: 1;}#sk-container-id-2 div.sk-label:hover label.sk-toggleable__label {background-color: #d4ebff;}#sk-container-id-2 div.sk-serial::before {content: \"\";position: absolute;border-left: 1px solid gray;box-sizing: border-box;top: 0;bottom: 0;left: 50%;z-index: 0;}#sk-container-id-2 div.sk-serial {display: flex;flex-direction: column;align-items: center;background-color: white;padding-right: 0.2em;padding-left: 0.2em;position: relative;}#sk-container-id-2 div.sk-item {position: relative;z-index: 1;}#sk-container-id-2 div.sk-parallel {display: flex;align-items: stretch;justify-content: center;background-color: white;position: relative;}#sk-container-id-2 div.sk-item::before, #sk-container-id-2 div.sk-parallel-item::before {content: \"\";position: absolute;border-left: 1px solid gray;box-sizing: border-box;top: 0;bottom: 0;left: 50%;z-index: -1;}#sk-container-id-2 div.sk-parallel-item {display: flex;flex-direction: column;z-index: 1;position: relative;background-color: white;}#sk-container-id-2 div.sk-parallel-item:first-child::after {align-self: flex-end;width: 50%;}#sk-container-id-2 div.sk-parallel-item:last-child::after {align-self: flex-start;width: 50%;}#sk-container-id-2 div.sk-parallel-item:only-child::after {width: 0;}#sk-container-id-2 div.sk-dashed-wrapped {border: 1px dashed gray;margin: 0 0.4em 0.5em 0.4em;box-sizing: border-box;padding-bottom: 0.4em;background-color: white;}#sk-container-id-2 div.sk-label label {font-family: monospace;font-weight: bold;display: inline-block;line-height: 1.2em;}#sk-container-id-2 div.sk-label-container {text-align: center;}#sk-container-id-2 div.sk-container {/* jupyter's `normalize.less` sets `[hidden] { display: none; }` but bootstrap.min.css set `[hidden] { display: none !important; }` so we also need the `!important` here to be able to override the default hidden behavior on the sphinx rendered scikit-learn.org. See: https://github.com/scikit-learn/scikit-learn/issues/21755 */display: inline-block !important;position: relative;}#sk-container-id-2 div.sk-text-repr-fallback {display: none;}</style><div id=\"sk-container-id-2\" class=\"sk-top-container\"><div class=\"sk-text-repr-fallback\"><pre>RandomizedSearchCV(cv=StratifiedShuffleSplit(n_splits=5, random_state=42, test_size=0.2,\n",
       "            train_size=None),\n",
       "                   estimator=GaussianNB(), n_jobs=-1,\n",
       "                   param_distributions={&#x27;var_smoothing&#x27;: array([1.e-10, 1.e-09, 1.e-08, 1.e-07, 1.e-06, 1.e-05, 1.e-04, 1.e-03,\n",
       "       1.e-02, 1.e-01])},\n",
       "                   scoring=&#x27;accuracy&#x27;, verbose=1)</pre><b>In a Jupyter environment, please rerun this cell to show the HTML representation or trust the notebook. <br />On GitHub, the HTML representation is unable to render, please try loading this page with nbviewer.org.</b></div><div class=\"sk-container\" hidden><div class=\"sk-item sk-dashed-wrapped\"><div class=\"sk-label-container\"><div class=\"sk-label sk-toggleable\"><input class=\"sk-toggleable__control sk-hidden--visually\" id=\"sk-estimator-id-4\" type=\"checkbox\" ><label for=\"sk-estimator-id-4\" class=\"sk-toggleable__label sk-toggleable__label-arrow\">RandomizedSearchCV</label><div class=\"sk-toggleable__content\"><pre>RandomizedSearchCV(cv=StratifiedShuffleSplit(n_splits=5, random_state=42, test_size=0.2,\n",
       "            train_size=None),\n",
       "                   estimator=GaussianNB(), n_jobs=-1,\n",
       "                   param_distributions={&#x27;var_smoothing&#x27;: array([1.e-10, 1.e-09, 1.e-08, 1.e-07, 1.e-06, 1.e-05, 1.e-04, 1.e-03,\n",
       "       1.e-02, 1.e-01])},\n",
       "                   scoring=&#x27;accuracy&#x27;, verbose=1)</pre></div></div></div><div class=\"sk-parallel\"><div class=\"sk-parallel-item\"><div class=\"sk-item\"><div class=\"sk-label-container\"><div class=\"sk-label sk-toggleable\"><input class=\"sk-toggleable__control sk-hidden--visually\" id=\"sk-estimator-id-5\" type=\"checkbox\" ><label for=\"sk-estimator-id-5\" class=\"sk-toggleable__label sk-toggleable__label-arrow\">estimator: GaussianNB</label><div class=\"sk-toggleable__content\"><pre>GaussianNB()</pre></div></div></div><div class=\"sk-serial\"><div class=\"sk-item\"><div class=\"sk-estimator sk-toggleable\"><input class=\"sk-toggleable__control sk-hidden--visually\" id=\"sk-estimator-id-6\" type=\"checkbox\" ><label for=\"sk-estimator-id-6\" class=\"sk-toggleable__label sk-toggleable__label-arrow\">GaussianNB</label><div class=\"sk-toggleable__content\"><pre>GaussianNB()</pre></div></div></div></div></div></div></div></div></div></div>"
      ],
      "text/plain": [
       "RandomizedSearchCV(cv=StratifiedShuffleSplit(n_splits=5, random_state=42, test_size=0.2,\n",
       "            train_size=None),\n",
       "                   estimator=GaussianNB(), n_jobs=-1,\n",
       "                   param_distributions={'var_smoothing': array([1.e-10, 1.e-09, 1.e-08, 1.e-07, 1.e-06, 1.e-05, 1.e-04, 1.e-03,\n",
       "       1.e-02, 1.e-01])},\n",
       "                   scoring='accuracy', verbose=1)"
      ]
     },
     "execution_count": 42,
     "metadata": {},
     "output_type": "execute_result"
    }
   ],
   "source": [
    "rgrid_gb.fit(X_train, y_train)"
   ]
  },
  {
   "cell_type": "code",
   "execution_count": 43,
   "id": "d73076e2",
   "metadata": {},
   "outputs": [
    {
     "name": "stdout",
     "output_type": "stream",
     "text": [
      "Best Score: 0.5078431372549019\n",
      "Best Estimator: GaussianNB(var_smoothing=1e-10)\n"
     ]
    }
   ],
   "source": [
    "gb_rgrid_val_score = rgrid_gb.best_score_\n",
    "print('Best Score:', gb_rgrid_val_score)\n",
    "print('Best Estimator:', rgrid_gb.best_estimator_)"
   ]
  },
  {
   "cell_type": "code",
   "execution_count": 52,
   "id": "0da10b7d",
   "metadata": {},
   "outputs": [],
   "source": [
    "gb_rgrid= rgrid_gb.best_estimator_\n",
    "y_preds = gb_rgrid.predict(X_test)"
   ]
  },
  {
   "cell_type": "code",
   "execution_count": 53,
   "id": "95007573",
   "metadata": {},
   "outputs": [
    {
     "name": "stdout",
     "output_type": "stream",
     "text": [
      "grid Model Accuracy: 0.5546875\n"
     ]
    }
   ],
   "source": [
    "gb_rgrid_score = accuracy_score(y_test, y_preds)\n",
    "print('grid Model Accuracy:', gb_rgrid_score)"
   ]
  },
  {
   "cell_type": "markdown",
   "id": "feef0a8a",
   "metadata": {},
   "source": [
    "## Result"
   ]
  },
  {
   "cell_type": "markdown",
   "id": "d3b1fa7d",
   "metadata": {},
   "source": [
    "Both grid search and random search provide the same best estimator which is _GaussianNB(var_smoothing=1e-10)_. The __best score of accuracy is 0.5078431372549019__, while the __test accuracy score is 0.5546875.__"
   ]
  }
 ],
 "metadata": {
  "kernelspec": {
   "display_name": "Python 3 (ipykernel)",
   "language": "python",
   "name": "python3"
  },
  "language_info": {
   "codemirror_mode": {
    "name": "ipython",
    "version": 3
   },
   "file_extension": ".py",
   "mimetype": "text/x-python",
   "name": "python",
   "nbconvert_exporter": "python",
   "pygments_lexer": "ipython3",
   "version": "3.10.9"
  }
 },
 "nbformat": 4,
 "nbformat_minor": 5
}
