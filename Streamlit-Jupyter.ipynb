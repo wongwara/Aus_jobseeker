{
 "cells": [
  {
   "cell_type": "code",
   "execution_count": 2,
   "id": "dd967bdd",
   "metadata": {},
   "outputs": [],
   "source": [
    "# !pip3 install streamlit_jupyter"
   ]
  },
  {
   "cell_type": "code",
   "execution_count": 3,
   "id": "786d3b5b",
   "metadata": {},
   "outputs": [],
   "source": [
    "import streamlit as st\n",
    "\n",
    "from streamlit_jupyter import StreamlitPatcher, tqdm\n",
    "\n",
    "StreamlitPatcher().jupyter()  # register streamlit with jupyter-compatible wrappers"
   ]
  },
  {
   "cell_type": "markdown",
   "id": "0641aa1c",
   "metadata": {},
   "source": [
    "https://discuss.streamlit.io/t/new-library-streamlit-jupyter-a-new-way-to-develop-streamlit-apps-in-jupyter-notebooks/35679"
   ]
  },
  {
   "cell_type": "code",
   "execution_count": 10,
   "id": "cfc9bca9",
   "metadata": {
    "scrolled": true
   },
   "outputs": [],
   "source": [
    "import matplotlib.pyplot as plt\n",
    "import numpy as np\n",
    "import seaborn as sns"
   ]
  },
  {
   "cell_type": "code",
   "execution_count": 8,
   "id": "c8e2e2f3",
   "metadata": {},
   "outputs": [],
   "source": [
    "# https://www.analyticsvidhya.com/blog/2021/06/build-web-app-instantly-for-machine-learning-using-streamlit/"
   ]
  },
  {
   "cell_type": "code",
   "execution_count": null,
   "id": "db5d099b",
   "metadata": {},
   "outputs": [],
   "source": []
  }
 ],
 "metadata": {
  "kernelspec": {
   "display_name": "Python 3 (ipykernel)",
   "language": "python",
   "name": "python3"
  },
  "language_info": {
   "codemirror_mode": {
    "name": "ipython",
    "version": 3
   },
   "file_extension": ".py",
   "mimetype": "text/x-python",
   "name": "python",
   "nbconvert_exporter": "python",
   "pygments_lexer": "ipython3",
   "version": "3.9.13"
  }
 },
 "nbformat": 4,
 "nbformat_minor": 5
}
