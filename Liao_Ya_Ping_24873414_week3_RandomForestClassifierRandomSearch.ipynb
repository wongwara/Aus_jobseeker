{
  "cells": [
    {
      "cell_type": "markdown",
      "metadata": {
        "id": "view-in-github",
        "colab_type": "text"
      },
      "source": [
        "<a href=\"https://colab.research.google.com/github/wongwara/Jobseeker_Baymax/blob/main/Liao_Ya_Ping_24873414_week3_RandomForestClassifierRandomSearch.ipynb\" target=\"_parent\"><img src=\"https://colab.research.google.com/assets/colab-badge.svg\" alt=\"Open In Colab\"/></a>"
      ]
    },
    {
      "cell_type": "markdown",
      "metadata": {
        "id": "x4pEDohoFVu6"
      },
      "source": [
        "## Week 2 RandomForestClassifier"
      ]
    },
    {
      "cell_type": "markdown",
      "metadata": {
        "id": "POiEUQjZFVu_"
      },
      "source": [
        "##### Import packages"
      ]
    },
    {
      "cell_type": "code",
      "execution_count": null,
      "metadata": {
        "id": "Pbbg0yoyKSej"
      },
      "outputs": [],
      "source": [
        "import pandas as pd\n",
        "import numpy as np"
      ]
    },
    {
      "cell_type": "code",
      "source": [
        "from google.colab import drive\n",
        "drive.mount('/content/drive')"
      ],
      "metadata": {
        "colab": {
          "base_uri": "https://localhost:8080/"
        },
        "id": "Mj83jDv-Fgfo",
        "outputId": "ef217378-8f5f-4ec4-b14f-52149e6940f7"
      },
      "execution_count": null,
      "outputs": [
        {
          "output_type": "stream",
          "name": "stdout",
          "text": [
            "Mounted at /content/drive\n"
          ]
        }
      ]
    },
    {
      "cell_type": "code",
      "source": [
        "%cd drive/MyDrive/Kaggle_competition"
      ],
      "metadata": {
        "colab": {
          "base_uri": "https://localhost:8080/"
        },
        "id": "Zihg-0a8FqOw",
        "outputId": "9ba5dd41-2698-4a44-dbc4-2138cb624580"
      },
      "execution_count": null,
      "outputs": [
        {
          "output_type": "stream",
          "name": "stdout",
          "text": [
            "/content/drive/MyDrive/Kaggle_competition\n"
          ]
        }
      ]
    },
    {
      "cell_type": "code",
      "source": [
        "df_train = pd.read_csv('./train.csv')\n",
        "df_test = pd.read_csv('./test.csv')"
      ],
      "metadata": {
        "colab": {
          "base_uri": "https://localhost:8080/"
        },
        "id": "0XLT0lsfFslZ",
        "outputId": "eb63e760-9b70-4765-c561-d4ebbcb2cd02"
      },
      "execution_count": null,
      "outputs": [
        {
          "output_type": "stream",
          "name": "stderr",
          "text": [
            "<ipython-input-4-f017da97c504>:1: DtypeWarning: Columns (25,26) have mixed types. Specify dtype option on import or set low_memory=False.\n",
            "  df_train = pd.read_csv('./train.csv')\n"
          ]
        }
      ]
    },
    {
      "cell_type": "markdown",
      "metadata": {
        "id": "nagZJgRJFVvB"
      },
      "source": [
        "##### Read CSV file"
      ]
    },
    {
      "cell_type": "code",
      "execution_count": null,
      "metadata": {
        "colab": {
          "base_uri": "https://localhost:8080/"
        },
        "id": "DZRNuTFlKprG",
        "outputId": "aacef5b1-e2de-4afe-d1cc-c0211e0be32a"
      },
      "outputs": [
        {
          "name": "stderr",
          "output_type": "stream",
          "text": [
            "C:\\Users\\annie\\AppData\\Local\\Temp\\ipykernel_11992\\560797444.py:1: DtypeWarning: Columns (25,26) have mixed types. Specify dtype option on import or set low_memory=False.\n",
            "  df_train = pd.read_csv(\"./train.csv/train.csv\")\n"
          ]
        }
      ],
      "source": [
        "df_train = pd.read_csv(\"./train.csv/train.csv\")\n",
        "df_test = pd.read_csv(\"./test.csv/test.csv\")"
      ]
    },
    {
      "cell_type": "markdown",
      "metadata": {
        "id": "NDec8aqAFVvD"
      },
      "source": [
        "##### Define drop columns function"
      ]
    },
    {
      "cell_type": "code",
      "execution_count": null,
      "metadata": {
        "id": "IAooQBXLKz9J"
      },
      "outputs": [],
      "source": [
        "def drop_columns(df_train, df_test):\n",
        "    drop_columns = [\"rimmade\", \"rimmade_rimmiss\", \"midmade\", \"midmade_midmiss\", \"rim_ratio\", \"mid_ratio\", \"dunksmade\",\"dunksmiss_dunksmade\", \"dunks_ratio\", \"pick\", \"num\", \"type\", \"Rec_Rank\", \"player_id\", ]\n",
        "    df_train_cleaned = df_train.drop(columns = drop_columns, axis = 1)\n",
        "    df_train_cleaned = df_train_cleaned.drop(columns = \"drafted\", axis = 1)\n",
        "    df_test_cleaned = df_test.drop(columns = drop_columns, axis = 1)\n",
        "\n",
        "    return df_train_cleaned, df_test_cleaned"
      ]
    },
    {
      "cell_type": "markdown",
      "metadata": {
        "id": "IedaSCSDFVvE"
      },
      "source": [
        "##### Define one-hot encoding and label encoding function"
      ]
    },
    {
      "cell_type": "code",
      "execution_count": null,
      "metadata": {
        "id": "4uoSWDzcK6IA"
      },
      "outputs": [],
      "source": [
        "from sklearn.preprocessing import LabelEncoder\n",
        "\n",
        "def encoding(df_train, df_test):\n",
        "    # One hot encoding - yr\n",
        "    year_values = [\"Fr\", \"So\", \"Jr\", \"Sr\", \"None\"]\n",
        "    df_train = df_train[df_train[\"yr\"].isin(year_values)]\n",
        "    df_train = pd.get_dummies(df_train, columns = [\"yr\"], prefix = [\"yr\"])\n",
        "    df_test = pd.get_dummies(df_test, columns = [\"yr\"], prefix = [\"yr\"])\n",
        "\n",
        "    # Label Encoding - team\n",
        "    team_encoder = LabelEncoder()\n",
        "    team_encoder.fit(df_train[\"team\"])\n",
        "    df_train[\"team\"] = team_encoder.transform(df_train[\"team\"])\n",
        "    team_oov_labels = [label for label in df_test[\"team\"] if label not in team_encoder.classes_] # Find Out-of-Vocabulary labels\n",
        "    team_oov_code = len(team_encoder.classes_) # Handling Out-of-Vocabulary Labels\n",
        "    team_encoder.classes_ = np.append(team_encoder.classes_, team_oov_labels)  # Add OOV labels to encoder classes\n",
        "    df_test[\"team\"] = np.where(np.isin(df_test[\"team\"], team_encoder.classes_), team_encoder.transform(df_test[\"team\"]), team_oov_code) # Transform test labels and handle OOV labels\n",
        "\n",
        "    # Label Encoding - conf\n",
        "    conf_encoder = LabelEncoder()\n",
        "    conf_encoder.fit(df_train['conf'])\n",
        "    df_train['conf'] = conf_encoder.transform(df_train['conf'])\n",
        "    conf_oov_labels = [label for label in df_test['conf'] if label not in conf_encoder.classes_]\n",
        "    conf_oov_code = len(conf_encoder.classes_)\n",
        "    conf_encoder.classes_ = np.append(conf_encoder.classes_, conf_oov_labels)\n",
        "    df_test[\"conf\"] = np.where(np.isin(df_test[\"conf\"], conf_encoder.classes_), conf_encoder.transform(df_test[\"conf\"]), conf_oov_code)\n",
        "\n",
        "    return df_train, df_test"
      ]
    },
    {
      "cell_type": "markdown",
      "metadata": {
        "id": "MtMClyxaFVvG"
      },
      "source": [
        "#### Define scale data function"
      ]
    },
    {
      "cell_type": "code",
      "execution_count": null,
      "metadata": {
        "id": "VSma5O-nFVvG"
      },
      "outputs": [],
      "source": [
        "from sklearn.preprocessing import StandardScaler\n",
        "def scale_data (df_train, df_test):\n",
        "    scaler = StandardScaler()\n",
        "    df_train_scaled = scaler.fit_transform(df_train)\n",
        "    df_test_scaled = scaler.transform(df_test)\n",
        "    df_train_scaled = pd.DataFrame(df_train_scaled, columns = df_train.columns)\n",
        "    df_test_scaled = pd.DataFrame(df_test_scaled, columns = df_test.columns)\n",
        "    return df_train_scaled, df_test_scaled"
      ]
    },
    {
      "cell_type": "code",
      "execution_count": null,
      "metadata": {
        "id": "eoG5b0sDFVvH"
      },
      "outputs": [],
      "source": [
        "def handle_NAN(df_train, df_test):\n",
        "    #tranform \"ht\" into float\n",
        "    df_train['ht'].replace({None: np.nan}, inplace=True)\n",
        "    df_test['ht'].replace({None: np.nan}, inplace=True)\n",
        "    df_train['ht'] = pd.to_numeric(df_train['ht'], errors='coerce')\n",
        "    df_test['ht'] = pd.to_numeric(df_test['ht'], errors='coerce')\n",
        "    average_value_train = df_train['ht'].astype(float).mean()\n",
        "    average_value_test = df_test['ht'].astype(float).mean()\n",
        "    df_train['ht'].fillna(average_value_train, inplace=True)\n",
        "    df_test['ht'].fillna(average_value_test, inplace=True)\n",
        "\n",
        "    df_train[\"ht\"] = pd.to_numeric(df_train[\"ht\"])\n",
        "    df_test[\"ht\"] = pd.to_numeric(df_test[\"ht\"])\n",
        "\n",
        "    # Fills the missing values with 0\n",
        "    df_train = df_train.fillna(0)\n",
        "    df_test = df_test.fillna(0)\n",
        "    return df_train, df_test"
      ]
    },
    {
      "cell_type": "markdown",
      "metadata": {
        "id": "JDYlHv_IFVvH"
      },
      "source": [
        "##### Define preprocessing function to deal with 'ht' and fill with the nan values."
      ]
    },
    {
      "cell_type": "code",
      "execution_count": null,
      "metadata": {
        "id": "TflJTo6ZPSlW"
      },
      "outputs": [],
      "source": [
        "def preprocessing(df_train, df_test):\n",
        "    # Drops some common columns to train and test data\n",
        "    df_train, df_test = drop_columns(df_train, df_test)\n",
        "    df_train, df_test = handle_NAN(df_train, df_test)\n",
        "    df_train, df_test = encoding(df_train, df_test)\n",
        "\n",
        "    return df_train, df_test"
      ]
    },
    {
      "cell_type": "code",
      "execution_count": null,
      "metadata": {
        "id": "yRKqVqenFVvI"
      },
      "outputs": [],
      "source": [
        "# store the test data \"player_id\"\n",
        "player_id = df_test[[\"player_id\"]]\n",
        "drafted = df_train[[\"drafted\"]]"
      ]
    },
    {
      "cell_type": "code",
      "execution_count": null,
      "metadata": {
        "id": "B2Nxx5KkFVvI"
      },
      "outputs": [],
      "source": [
        "df_train, df_test = preprocessing(df_train, df_test)"
      ]
    },
    {
      "cell_type": "markdown",
      "metadata": {
        "id": "Wxtx7UdsFVvI"
      },
      "source": [
        "#### Draw box plot for each column."
      ]
    },
    {
      "cell_type": "code",
      "execution_count": null,
      "metadata": {
        "id": "uGryz05zFVvI"
      },
      "outputs": [],
      "source": [
        "# df_train = pd.concat([df_train, drafted], axis = 0)\n",
        "df_train[\"drafted\"] = drafted"
      ]
    },
    {
      "cell_type": "markdown",
      "metadata": {
        "id": "6-FfJlkZFVvJ"
      },
      "source": [
        "##### Deal with outlier"
      ]
    },
    {
      "cell_type": "markdown",
      "metadata": {
        "id": "HzPoe-eMFVvJ"
      },
      "source": [
        "##### Define a function to remove outliers."
      ]
    },
    {
      "cell_type": "code",
      "execution_count": null,
      "metadata": {
        "id": "Z30FldnMV-Lu"
      },
      "outputs": [],
      "source": [
        "def remove_outliers(df):\n",
        "    outliers = pd.DataFrame(columns=df.columns)\n",
        "    columns = ['Ortg', 'usg', 'eFG', 'TS_per', 'ORB_per', 'DRB_per', 'AST_per', 'TO_per', 'FTM', 'FTA', 'blk_per', 'stl_per', 'ftr', 'adjoe', 'pfr', 'adrtg', 'bpm', 'obpm', 'dbpm', 'gbpm', 'ogbpm' ]\n",
        "    threshold=3\n",
        "\n",
        "    for column in columns:\n",
        "        mean = df[column].mean()\n",
        "        std = df[column].std()\n",
        "\n",
        "        lower_bound = mean - threshold * std\n",
        "        upper_bound = mean + threshold * std\n",
        "\n",
        "        outlier = df[(df[column] < lower_bound) | (df[column] > upper_bound)]\n",
        "        outliers = outliers.append(outlier)\n",
        "\n",
        "        df = df[(df[column] >= lower_bound) & (df[column] <= upper_bound)]\n",
        "\n",
        "    return df, outliers"
      ]
    },
    {
      "cell_type": "code",
      "execution_count": null,
      "metadata": {
        "colab": {
          "base_uri": "https://localhost:8080/"
        },
        "id": "yB7x1fHSUiVR",
        "outputId": "0ae60e0d-ebe0-4d46-c7fc-7efd67f64e0b"
      },
      "outputs": [
        {
          "output_type": "stream",
          "name": "stderr",
          "text": [
            "<ipython-input-14-1bcc7aa9bb81>:14: FutureWarning: The frame.append method is deprecated and will be removed from pandas in a future version. Use pandas.concat instead.\n",
            "  outliers = outliers.append(outlier)\n",
            "<ipython-input-14-1bcc7aa9bb81>:14: FutureWarning: The frame.append method is deprecated and will be removed from pandas in a future version. Use pandas.concat instead.\n",
            "  outliers = outliers.append(outlier)\n",
            "<ipython-input-14-1bcc7aa9bb81>:14: FutureWarning: The frame.append method is deprecated and will be removed from pandas in a future version. Use pandas.concat instead.\n",
            "  outliers = outliers.append(outlier)\n",
            "<ipython-input-14-1bcc7aa9bb81>:14: FutureWarning: The frame.append method is deprecated and will be removed from pandas in a future version. Use pandas.concat instead.\n",
            "  outliers = outliers.append(outlier)\n",
            "<ipython-input-14-1bcc7aa9bb81>:14: FutureWarning: The frame.append method is deprecated and will be removed from pandas in a future version. Use pandas.concat instead.\n",
            "  outliers = outliers.append(outlier)\n",
            "<ipython-input-14-1bcc7aa9bb81>:14: FutureWarning: The frame.append method is deprecated and will be removed from pandas in a future version. Use pandas.concat instead.\n",
            "  outliers = outliers.append(outlier)\n",
            "<ipython-input-14-1bcc7aa9bb81>:14: FutureWarning: The frame.append method is deprecated and will be removed from pandas in a future version. Use pandas.concat instead.\n",
            "  outliers = outliers.append(outlier)\n",
            "<ipython-input-14-1bcc7aa9bb81>:14: FutureWarning: The frame.append method is deprecated and will be removed from pandas in a future version. Use pandas.concat instead.\n",
            "  outliers = outliers.append(outlier)\n",
            "<ipython-input-14-1bcc7aa9bb81>:14: FutureWarning: The frame.append method is deprecated and will be removed from pandas in a future version. Use pandas.concat instead.\n",
            "  outliers = outliers.append(outlier)\n",
            "<ipython-input-14-1bcc7aa9bb81>:14: FutureWarning: The frame.append method is deprecated and will be removed from pandas in a future version. Use pandas.concat instead.\n",
            "  outliers = outliers.append(outlier)\n",
            "<ipython-input-14-1bcc7aa9bb81>:14: FutureWarning: The frame.append method is deprecated and will be removed from pandas in a future version. Use pandas.concat instead.\n",
            "  outliers = outliers.append(outlier)\n",
            "<ipython-input-14-1bcc7aa9bb81>:14: FutureWarning: The frame.append method is deprecated and will be removed from pandas in a future version. Use pandas.concat instead.\n",
            "  outliers = outliers.append(outlier)\n",
            "<ipython-input-14-1bcc7aa9bb81>:14: FutureWarning: The frame.append method is deprecated and will be removed from pandas in a future version. Use pandas.concat instead.\n",
            "  outliers = outliers.append(outlier)\n",
            "<ipython-input-14-1bcc7aa9bb81>:14: FutureWarning: The frame.append method is deprecated and will be removed from pandas in a future version. Use pandas.concat instead.\n",
            "  outliers = outliers.append(outlier)\n",
            "<ipython-input-14-1bcc7aa9bb81>:14: FutureWarning: The frame.append method is deprecated and will be removed from pandas in a future version. Use pandas.concat instead.\n",
            "  outliers = outliers.append(outlier)\n",
            "<ipython-input-14-1bcc7aa9bb81>:14: FutureWarning: The frame.append method is deprecated and will be removed from pandas in a future version. Use pandas.concat instead.\n",
            "  outliers = outliers.append(outlier)\n"
          ]
        },
        {
          "output_type": "stream",
          "name": "stdout",
          "text": [
            "Number of removed outliers: 12240\n",
            "Updated DataFrame shape: (43570, 54)\n"
          ]
        },
        {
          "output_type": "stream",
          "name": "stderr",
          "text": [
            "<ipython-input-14-1bcc7aa9bb81>:14: FutureWarning: The frame.append method is deprecated and will be removed from pandas in a future version. Use pandas.concat instead.\n",
            "  outliers = outliers.append(outlier)\n",
            "<ipython-input-14-1bcc7aa9bb81>:14: FutureWarning: The frame.append method is deprecated and will be removed from pandas in a future version. Use pandas.concat instead.\n",
            "  outliers = outliers.append(outlier)\n",
            "<ipython-input-14-1bcc7aa9bb81>:14: FutureWarning: The frame.append method is deprecated and will be removed from pandas in a future version. Use pandas.concat instead.\n",
            "  outliers = outliers.append(outlier)\n",
            "<ipython-input-14-1bcc7aa9bb81>:14: FutureWarning: The frame.append method is deprecated and will be removed from pandas in a future version. Use pandas.concat instead.\n",
            "  outliers = outliers.append(outlier)\n",
            "<ipython-input-14-1bcc7aa9bb81>:14: FutureWarning: The frame.append method is deprecated and will be removed from pandas in a future version. Use pandas.concat instead.\n",
            "  outliers = outliers.append(outlier)\n"
          ]
        }
      ],
      "source": [
        "df_train, removed_outliers = remove_outliers(df_train)\n",
        "outlier_count = removed_outliers.shape[0]\n",
        "\n",
        "print(\"Number of removed outliers:\", outlier_count)\n",
        "print(\"Updated DataFrame shape:\", df_train.shape)"
      ]
    },
    {
      "cell_type": "markdown",
      "metadata": {
        "id": "hfNHhfz6FVvK"
      },
      "source": [
        "##### Splite data set"
      ]
    },
    {
      "cell_type": "code",
      "execution_count": null,
      "metadata": {
        "id": "8KfjXWc0XaeX"
      },
      "outputs": [],
      "source": [
        "from sklearn.model_selection import train_test_split\n",
        "\n",
        "X = df_train\n",
        "X = X.drop(columns = \"drafted\", axis = 1)\n",
        "y = df_train[\"drafted\"]\n",
        "\n",
        "X, X_test, y, y_test = train_test_split(X, y, test_size = 0.2, random_state = 42)\n",
        "X_train, X_val, y_train, y_val = train_test_split(X, y, test_size = 0.2, random_state = 42)"
      ]
    },
    {
      "cell_type": "markdown",
      "metadata": {
        "id": "bGXdTRjmFVvL"
      },
      "source": [
        "##### Deal with imbalance data using over sampling."
      ]
    },
    {
      "cell_type": "code",
      "execution_count": null,
      "metadata": {
        "id": "qdg1Ay5mY0J9"
      },
      "outputs": [],
      "source": [
        "from imblearn.over_sampling import SMOTE\n",
        "\n",
        "smote = SMOTE(random_state = 38)\n",
        "X_train_resampled, y_train_resampled = smote.fit_resample(X_train, y_train)"
      ]
    },
    {
      "cell_type": "markdown",
      "metadata": {
        "id": "dimo3FckFVvL"
      },
      "source": [
        "##### Import packages to train model."
      ]
    },
    {
      "cell_type": "code",
      "execution_count": null,
      "metadata": {
        "id": "0yNX5kdNY6Zz"
      },
      "outputs": [],
      "source": [
        "from sklearn.ensemble import RandomForestClassifier\n",
        "from sklearn.model_selection import GridSearchCV\n",
        "from scipy.stats import randint\n",
        "from sklearn.metrics import accuracy_score, roc_auc_score, roc_curve"
      ]
    },
    {
      "cell_type": "code",
      "source": [
        "from sklearn.model_selection import RandomizedSearchCV\n",
        "n_estimators = [int(x) for x in np.linspace(start = 50, stop = 100, num = 10)]\n",
        "max_depth = [int(x) for x in np.linspace(10, 110, num = 11)]\n",
        "min_samples_split = [2, 5, 10]\n",
        "min_samples_leaf = [1, 2, 4]\n",
        "bootstrap = [True, False]\n",
        "\n",
        "param_dist = {'n_estimators': n_estimators,\n",
        "               'max_features': max_features,\n",
        "               'max_depth': max_depth,\n",
        "               'min_samples_split': min_samples_split,\n",
        "               'min_samples_leaf': min_samples_leaf,\n",
        "               'bootstrap': bootstrap\n",
        "              }\n",
        "\n",
        "random_search = RandomizedSearchCV(model, param_distributions = param_dist)\n",
        "random_search.fit(X_train_resampled, y_train_resampled)\n",
        "best_params_random = random_search.best_params_\n",
        "best_score_random = random_search.best_score_\n",
        "print(best_params_random)\n",
        "\n",
        "\n"
      ],
      "metadata": {
        "colab": {
          "base_uri": "https://localhost:8080/"
        },
        "id": "vXDAEzZhK6mW",
        "outputId": "22ec7b81-e09a-4156-9fbe-c9a24f558ec9"
      },
      "execution_count": null,
      "outputs": [
        {
          "output_type": "stream",
          "name": "stderr",
          "text": [
            "/usr/local/lib/python3.10/dist-packages/sklearn/ensemble/_forest.py:424: FutureWarning: `max_features='auto'` has been deprecated in 1.1 and will be removed in 1.3. To keep the past behaviour, explicitly set `max_features='sqrt'` or remove this parameter as it is also the default value for RandomForestClassifiers and ExtraTreesClassifiers.\n",
            "  warn(\n",
            "/usr/local/lib/python3.10/dist-packages/sklearn/ensemble/_forest.py:424: FutureWarning: `max_features='auto'` has been deprecated in 1.1 and will be removed in 1.3. To keep the past behaviour, explicitly set `max_features='sqrt'` or remove this parameter as it is also the default value for RandomForestClassifiers and ExtraTreesClassifiers.\n",
            "  warn(\n",
            "/usr/local/lib/python3.10/dist-packages/sklearn/ensemble/_forest.py:424: FutureWarning: `max_features='auto'` has been deprecated in 1.1 and will be removed in 1.3. To keep the past behaviour, explicitly set `max_features='sqrt'` or remove this parameter as it is also the default value for RandomForestClassifiers and ExtraTreesClassifiers.\n",
            "  warn(\n",
            "/usr/local/lib/python3.10/dist-packages/sklearn/ensemble/_forest.py:424: FutureWarning: `max_features='auto'` has been deprecated in 1.1 and will be removed in 1.3. To keep the past behaviour, explicitly set `max_features='sqrt'` or remove this parameter as it is also the default value for RandomForestClassifiers and ExtraTreesClassifiers.\n",
            "  warn(\n",
            "/usr/local/lib/python3.10/dist-packages/sklearn/ensemble/_forest.py:424: FutureWarning: `max_features='auto'` has been deprecated in 1.1 and will be removed in 1.3. To keep the past behaviour, explicitly set `max_features='sqrt'` or remove this parameter as it is also the default value for RandomForestClassifiers and ExtraTreesClassifiers.\n",
            "  warn(\n",
            "/usr/local/lib/python3.10/dist-packages/sklearn/ensemble/_forest.py:424: FutureWarning: `max_features='auto'` has been deprecated in 1.1 and will be removed in 1.3. To keep the past behaviour, explicitly set `max_features='sqrt'` or remove this parameter as it is also the default value for RandomForestClassifiers and ExtraTreesClassifiers.\n",
            "  warn(\n",
            "/usr/local/lib/python3.10/dist-packages/sklearn/ensemble/_forest.py:424: FutureWarning: `max_features='auto'` has been deprecated in 1.1 and will be removed in 1.3. To keep the past behaviour, explicitly set `max_features='sqrt'` or remove this parameter as it is also the default value for RandomForestClassifiers and ExtraTreesClassifiers.\n",
            "  warn(\n",
            "/usr/local/lib/python3.10/dist-packages/sklearn/ensemble/_forest.py:424: FutureWarning: `max_features='auto'` has been deprecated in 1.1 and will be removed in 1.3. To keep the past behaviour, explicitly set `max_features='sqrt'` or remove this parameter as it is also the default value for RandomForestClassifiers and ExtraTreesClassifiers.\n",
            "  warn(\n",
            "/usr/local/lib/python3.10/dist-packages/sklearn/ensemble/_forest.py:424: FutureWarning: `max_features='auto'` has been deprecated in 1.1 and will be removed in 1.3. To keep the past behaviour, explicitly set `max_features='sqrt'` or remove this parameter as it is also the default value for RandomForestClassifiers and ExtraTreesClassifiers.\n",
            "  warn(\n",
            "/usr/local/lib/python3.10/dist-packages/sklearn/ensemble/_forest.py:424: FutureWarning: `max_features='auto'` has been deprecated in 1.1 and will be removed in 1.3. To keep the past behaviour, explicitly set `max_features='sqrt'` or remove this parameter as it is also the default value for RandomForestClassifiers and ExtraTreesClassifiers.\n",
            "  warn(\n",
            "/usr/local/lib/python3.10/dist-packages/sklearn/ensemble/_forest.py:424: FutureWarning: `max_features='auto'` has been deprecated in 1.1 and will be removed in 1.3. To keep the past behaviour, explicitly set `max_features='sqrt'` or remove this parameter as it is also the default value for RandomForestClassifiers and ExtraTreesClassifiers.\n",
            "  warn(\n",
            "/usr/local/lib/python3.10/dist-packages/sklearn/ensemble/_forest.py:424: FutureWarning: `max_features='auto'` has been deprecated in 1.1 and will be removed in 1.3. To keep the past behaviour, explicitly set `max_features='sqrt'` or remove this parameter as it is also the default value for RandomForestClassifiers and ExtraTreesClassifiers.\n",
            "  warn(\n",
            "/usr/local/lib/python3.10/dist-packages/sklearn/ensemble/_forest.py:424: FutureWarning: `max_features='auto'` has been deprecated in 1.1 and will be removed in 1.3. To keep the past behaviour, explicitly set `max_features='sqrt'` or remove this parameter as it is also the default value for RandomForestClassifiers and ExtraTreesClassifiers.\n",
            "  warn(\n",
            "/usr/local/lib/python3.10/dist-packages/sklearn/ensemble/_forest.py:424: FutureWarning: `max_features='auto'` has been deprecated in 1.1 and will be removed in 1.3. To keep the past behaviour, explicitly set `max_features='sqrt'` or remove this parameter as it is also the default value for RandomForestClassifiers and ExtraTreesClassifiers.\n",
            "  warn(\n",
            "/usr/local/lib/python3.10/dist-packages/sklearn/ensemble/_forest.py:424: FutureWarning: `max_features='auto'` has been deprecated in 1.1 and will be removed in 1.3. To keep the past behaviour, explicitly set `max_features='sqrt'` or remove this parameter as it is also the default value for RandomForestClassifiers and ExtraTreesClassifiers.\n",
            "  warn(\n",
            "/usr/local/lib/python3.10/dist-packages/sklearn/ensemble/_forest.py:424: FutureWarning: `max_features='auto'` has been deprecated in 1.1 and will be removed in 1.3. To keep the past behaviour, explicitly set `max_features='sqrt'` or remove this parameter as it is also the default value for RandomForestClassifiers and ExtraTreesClassifiers.\n",
            "  warn(\n",
            "/usr/local/lib/python3.10/dist-packages/sklearn/ensemble/_forest.py:424: FutureWarning: `max_features='auto'` has been deprecated in 1.1 and will be removed in 1.3. To keep the past behaviour, explicitly set `max_features='sqrt'` or remove this parameter as it is also the default value for RandomForestClassifiers and ExtraTreesClassifiers.\n",
            "  warn(\n",
            "/usr/local/lib/python3.10/dist-packages/sklearn/ensemble/_forest.py:424: FutureWarning: `max_features='auto'` has been deprecated in 1.1 and will be removed in 1.3. To keep the past behaviour, explicitly set `max_features='sqrt'` or remove this parameter as it is also the default value for RandomForestClassifiers and ExtraTreesClassifiers.\n",
            "  warn(\n",
            "/usr/local/lib/python3.10/dist-packages/sklearn/ensemble/_forest.py:424: FutureWarning: `max_features='auto'` has been deprecated in 1.1 and will be removed in 1.3. To keep the past behaviour, explicitly set `max_features='sqrt'` or remove this parameter as it is also the default value for RandomForestClassifiers and ExtraTreesClassifiers.\n",
            "  warn(\n",
            "/usr/local/lib/python3.10/dist-packages/sklearn/ensemble/_forest.py:424: FutureWarning: `max_features='auto'` has been deprecated in 1.1 and will be removed in 1.3. To keep the past behaviour, explicitly set `max_features='sqrt'` or remove this parameter as it is also the default value for RandomForestClassifiers and ExtraTreesClassifiers.\n",
            "  warn(\n",
            "/usr/local/lib/python3.10/dist-packages/sklearn/ensemble/_forest.py:424: FutureWarning: `max_features='auto'` has been deprecated in 1.1 and will be removed in 1.3. To keep the past behaviour, explicitly set `max_features='sqrt'` or remove this parameter as it is also the default value for RandomForestClassifiers and ExtraTreesClassifiers.\n",
            "  warn(\n",
            "/usr/local/lib/python3.10/dist-packages/sklearn/ensemble/_forest.py:424: FutureWarning: `max_features='auto'` has been deprecated in 1.1 and will be removed in 1.3. To keep the past behaviour, explicitly set `max_features='sqrt'` or remove this parameter as it is also the default value for RandomForestClassifiers and ExtraTreesClassifiers.\n",
            "  warn(\n",
            "/usr/local/lib/python3.10/dist-packages/sklearn/ensemble/_forest.py:424: FutureWarning: `max_features='auto'` has been deprecated in 1.1 and will be removed in 1.3. To keep the past behaviour, explicitly set `max_features='sqrt'` or remove this parameter as it is also the default value for RandomForestClassifiers and ExtraTreesClassifiers.\n",
            "  warn(\n",
            "/usr/local/lib/python3.10/dist-packages/sklearn/ensemble/_forest.py:424: FutureWarning: `max_features='auto'` has been deprecated in 1.1 and will be removed in 1.3. To keep the past behaviour, explicitly set `max_features='sqrt'` or remove this parameter as it is also the default value for RandomForestClassifiers and ExtraTreesClassifiers.\n",
            "  warn(\n",
            "/usr/local/lib/python3.10/dist-packages/sklearn/ensemble/_forest.py:424: FutureWarning: `max_features='auto'` has been deprecated in 1.1 and will be removed in 1.3. To keep the past behaviour, explicitly set `max_features='sqrt'` or remove this parameter as it is also the default value for RandomForestClassifiers and ExtraTreesClassifiers.\n",
            "  warn(\n"
          ]
        },
        {
          "output_type": "stream",
          "name": "stdout",
          "text": [
            "{'n_estimators': 61, 'min_samples_split': 10, 'min_samples_leaf': 2, 'max_features': 'sqrt', 'max_depth': 80, 'bootstrap': False}\n"
          ]
        }
      ]
    },
    {
      "cell_type": "code",
      "source": [
        "best_model_random = RandomForestClassifier(**best_params_random)\n",
        "best_model_random.fit(X_train_resampled, y_train_resampled)"
      ],
      "metadata": {
        "colab": {
          "base_uri": "https://localhost:8080/",
          "height": 93
        },
        "id": "CRVHlDOzK6vA",
        "outputId": "91740a94-c2b6-4146-d21f-42456141cd46"
      },
      "execution_count": null,
      "outputs": [
        {
          "output_type": "execute_result",
          "data": {
            "text/plain": [
              "RandomForestClassifier(bootstrap=False, max_depth=80, min_samples_leaf=2,\n",
              "                       min_samples_split=10, n_estimators=61)"
            ],
            "text/html": [
              "<style>#sk-container-id-2 {color: black;background-color: white;}#sk-container-id-2 pre{padding: 0;}#sk-container-id-2 div.sk-toggleable {background-color: white;}#sk-container-id-2 label.sk-toggleable__label {cursor: pointer;display: block;width: 100%;margin-bottom: 0;padding: 0.3em;box-sizing: border-box;text-align: center;}#sk-container-id-2 label.sk-toggleable__label-arrow:before {content: \"▸\";float: left;margin-right: 0.25em;color: #696969;}#sk-container-id-2 label.sk-toggleable__label-arrow:hover:before {color: black;}#sk-container-id-2 div.sk-estimator:hover label.sk-toggleable__label-arrow:before {color: black;}#sk-container-id-2 div.sk-toggleable__content {max-height: 0;max-width: 0;overflow: hidden;text-align: left;background-color: #f0f8ff;}#sk-container-id-2 div.sk-toggleable__content pre {margin: 0.2em;color: black;border-radius: 0.25em;background-color: #f0f8ff;}#sk-container-id-2 input.sk-toggleable__control:checked~div.sk-toggleable__content {max-height: 200px;max-width: 100%;overflow: auto;}#sk-container-id-2 input.sk-toggleable__control:checked~label.sk-toggleable__label-arrow:before {content: \"▾\";}#sk-container-id-2 div.sk-estimator input.sk-toggleable__control:checked~label.sk-toggleable__label {background-color: #d4ebff;}#sk-container-id-2 div.sk-label input.sk-toggleable__control:checked~label.sk-toggleable__label {background-color: #d4ebff;}#sk-container-id-2 input.sk-hidden--visually {border: 0;clip: rect(1px 1px 1px 1px);clip: rect(1px, 1px, 1px, 1px);height: 1px;margin: -1px;overflow: hidden;padding: 0;position: absolute;width: 1px;}#sk-container-id-2 div.sk-estimator {font-family: monospace;background-color: #f0f8ff;border: 1px dotted black;border-radius: 0.25em;box-sizing: border-box;margin-bottom: 0.5em;}#sk-container-id-2 div.sk-estimator:hover {background-color: #d4ebff;}#sk-container-id-2 div.sk-parallel-item::after {content: \"\";width: 100%;border-bottom: 1px solid gray;flex-grow: 1;}#sk-container-id-2 div.sk-label:hover label.sk-toggleable__label {background-color: #d4ebff;}#sk-container-id-2 div.sk-serial::before {content: \"\";position: absolute;border-left: 1px solid gray;box-sizing: border-box;top: 0;bottom: 0;left: 50%;z-index: 0;}#sk-container-id-2 div.sk-serial {display: flex;flex-direction: column;align-items: center;background-color: white;padding-right: 0.2em;padding-left: 0.2em;position: relative;}#sk-container-id-2 div.sk-item {position: relative;z-index: 1;}#sk-container-id-2 div.sk-parallel {display: flex;align-items: stretch;justify-content: center;background-color: white;position: relative;}#sk-container-id-2 div.sk-item::before, #sk-container-id-2 div.sk-parallel-item::before {content: \"\";position: absolute;border-left: 1px solid gray;box-sizing: border-box;top: 0;bottom: 0;left: 50%;z-index: -1;}#sk-container-id-2 div.sk-parallel-item {display: flex;flex-direction: column;z-index: 1;position: relative;background-color: white;}#sk-container-id-2 div.sk-parallel-item:first-child::after {align-self: flex-end;width: 50%;}#sk-container-id-2 div.sk-parallel-item:last-child::after {align-self: flex-start;width: 50%;}#sk-container-id-2 div.sk-parallel-item:only-child::after {width: 0;}#sk-container-id-2 div.sk-dashed-wrapped {border: 1px dashed gray;margin: 0 0.4em 0.5em 0.4em;box-sizing: border-box;padding-bottom: 0.4em;background-color: white;}#sk-container-id-2 div.sk-label label {font-family: monospace;font-weight: bold;display: inline-block;line-height: 1.2em;}#sk-container-id-2 div.sk-label-container {text-align: center;}#sk-container-id-2 div.sk-container {/* jupyter's `normalize.less` sets `[hidden] { display: none; }` but bootstrap.min.css set `[hidden] { display: none !important; }` so we also need the `!important` here to be able to override the default hidden behavior on the sphinx rendered scikit-learn.org. See: https://github.com/scikit-learn/scikit-learn/issues/21755 */display: inline-block !important;position: relative;}#sk-container-id-2 div.sk-text-repr-fallback {display: none;}</style><div id=\"sk-container-id-2\" class=\"sk-top-container\"><div class=\"sk-text-repr-fallback\"><pre>RandomForestClassifier(bootstrap=False, max_depth=80, min_samples_leaf=2,\n",
              "                       min_samples_split=10, n_estimators=61)</pre><b>In a Jupyter environment, please rerun this cell to show the HTML representation or trust the notebook. <br />On GitHub, the HTML representation is unable to render, please try loading this page with nbviewer.org.</b></div><div class=\"sk-container\" hidden><div class=\"sk-item\"><div class=\"sk-estimator sk-toggleable\"><input class=\"sk-toggleable__control sk-hidden--visually\" id=\"sk-estimator-id-2\" type=\"checkbox\" checked><label for=\"sk-estimator-id-2\" class=\"sk-toggleable__label sk-toggleable__label-arrow\">RandomForestClassifier</label><div class=\"sk-toggleable__content\"><pre>RandomForestClassifier(bootstrap=False, max_depth=80, min_samples_leaf=2,\n",
              "                       min_samples_split=10, n_estimators=61)</pre></div></div></div></div></div>"
            ]
          },
          "metadata": {},
          "execution_count": 31
        }
      ]
    },
    {
      "cell_type": "code",
      "execution_count": null,
      "metadata": {
        "id": "dFQYjrIhi8zb"
      },
      "outputs": [],
      "source": [
        "train_pred_prob = best_model_random.predict_proba(X_train)[:, 1]\n",
        "val_pred_prob = best_model_random.predict_proba(X_val)[:, 1]\n",
        "test_pred_prob = best_model_random.predict_proba(X_test)[:, 1]"
      ]
    },
    {
      "cell_type": "markdown",
      "metadata": {
        "id": "gj1nxUOFFVvM"
      },
      "source": [
        "#### Caculate the AUROC score."
      ]
    },
    {
      "cell_type": "code",
      "execution_count": null,
      "metadata": {
        "id": "43KhdekYi83I",
        "colab": {
          "base_uri": "https://localhost:8080/"
        },
        "outputId": "a9affde6-1c6b-4e57-88db-3ee98d2b7a84"
      },
      "outputs": [
        {
          "output_type": "stream",
          "name": "stdout",
          "text": [
            "0.9999991978695415\n",
            "0.9697042783623934\n",
            "0.975129034743086\n"
          ]
        }
      ],
      "source": [
        "train_auroc = roc_auc_score(y_train, train_pred_prob)\n",
        "val_auroc = roc_auc_score(y_val, val_pred_prob)\n",
        "test_auroc = roc_auc_score(y_test, test_pred_prob)\n",
        "\n",
        "print(train_auroc)\n",
        "print(val_auroc)\n",
        "print(test_auroc)"
      ]
    },
    {
      "cell_type": "code",
      "execution_count": null,
      "metadata": {
        "id": "7t1v6gwni863",
        "colab": {
          "base_uri": "https://localhost:8080/",
          "height": 564
        },
        "outputId": "216b92b9-b11c-46f1-bb36-f5a1ab9e28f7"
      },
      "outputs": [
        {
          "output_type": "display_data",
          "data": {
            "text/plain": [
              "<Figure size 1000x600 with 1 Axes>"
            ],
            "image/png": "[encoded data removed]"
          },
          "metadata": {}
        }
      ],
      "source": [
        "from sklearn.metrics import roc_curve, auc\n",
        "import matplotlib.pyplot as plt\n",
        "train_fpr, train_tpr, _ = roc_curve(y_train, train_pred_prob)\n",
        "val_fpr, val_tpr, _ = roc_curve(y_val, val_pred_prob)\n",
        "test_fpr, test_tpr, _ = roc_curve(y_test, test_pred_prob)\n",
        "\n",
        "train_auc = auc(train_fpr, train_tpr)\n",
        "val_auc = auc(val_fpr, val_tpr)\n",
        "test_auc = auc(test_fpr, test_tpr)\n",
        "plt.figure(figsize=(10, 6))\n",
        "plt.plot(train_fpr, train_tpr, color='blue', lw=2, label='Train ROC curve (area = %0.2f)' % train_auc)\n",
        "plt.plot(val_fpr, val_tpr, color='green', lw=2, label='Validation ROC curve (area = %0.2f)' % val_auc)\n",
        "plt.plot(test_fpr, test_tpr, color='orange', lw=2, label='Test ROC curve (area = %0.2f)' % test_auc)\n",
        "plt.plot([0, 1], [0, 1], color='gray', lw=1, linestyle='--')\n",
        "plt.xlim([0.0, 1.0])\n",
        "plt.ylim([0.0, 1.05])\n",
        "plt.xlabel('False Positive Rate')\n",
        "plt.ylabel('True Positive Rate')\n",
        "plt.title('Receiver Operating Characteristic (ROC) Curves')\n",
        "plt.legend(loc='lower right')\n",
        "plt.show()"
      ]
    },
    {
      "cell_type": "markdown",
      "metadata": {
        "id": "1o3Fiz9DFVvM"
      },
      "source": [
        "##### Predict and output the prediction."
      ]
    },
    {
      "cell_type": "code",
      "execution_count": null,
      "metadata": {
        "id": "hZPkXOTnjCqn"
      },
      "outputs": [],
      "source": [
        "x_new_test = df_test"
      ]
    },
    {
      "cell_type": "code",
      "execution_count": null,
      "metadata": {
        "id": "Vlp5jlbtjCuH"
      },
      "outputs": [],
      "source": [
        "y_new_pred_proba = model.predict_proba(x_new_test)[:, 1]"
      ]
    },
    {
      "cell_type": "code",
      "execution_count": null,
      "metadata": {
        "id": "MD7nPyfGjCxN",
        "colab": {
          "base_uri": "https://localhost:8080/"
        },
        "outputId": "35b5c9bf-e9e7-4473-d219-70316315d1b0"
      },
      "outputs": [
        {
          "output_type": "stream",
          "name": "stdout",
          "text": [
            "                                 player_id  drafted\n",
            "0     cf302b4d-84f7-4124-a25d-a75eed31978b     0.00\n",
            "1     f91837cd-4f49-4b70-963d-aeb82c6ce3da     0.00\n",
            "2     53ec2a29-1e7d-4c6d-86d7-d60d02af8916     0.15\n",
            "3     32402798-471c-4a54-8cb4-29cd95199014     0.00\n",
            "4     73b960f9-27b8-4431-9d23-a760e9bbc360     0.01\n",
            "...                                    ...      ...\n",
            "4965  a25ee55f-02a3-4f8e-8194-a5f427e14e7c     0.00\n",
            "4966  d0d9f45e-7b01-44b3-8d40-514ec338611d     0.00\n",
            "4967  f8df22c4-1602-4fab-896d-8820951aae2f     0.00\n",
            "4968  b791c69a-f769-4163-afda-051a6fd20a9d     0.00\n",
            "4969  18b51f5d-4746-4121-88fd-c8d0a1399130     0.02\n",
            "\n",
            "[4970 rows x 2 columns]\n"
          ]
        }
      ],
      "source": [
        "prediction_df = pd.DataFrame({\"player_id\": player_id[\"player_id\"], \"drafted\": y_new_pred_proba})\n",
        "print(prediction_df)"
      ]
    },
    {
      "cell_type": "code",
      "execution_count": null,
      "metadata": {
        "id": "4Jl7002Pi9As"
      },
      "outputs": [],
      "source": [
        "prediction_df.to_csv( \"prediction_results_6.csv\", index=False)"
      ]
    },
    {
      "cell_type": "code",
      "execution_count": null,
      "metadata": {
        "id": "sYXtEAAJFVvO",
        "colab": {
          "base_uri": "https://localhost:8080/",
          "height": 17
        },
        "outputId": "0f921d96-7f64-46a4-cac2-4570ba877033"
      },
      "outputs": [
        {
          "output_type": "display_data",
          "data": {
            "text/plain": [
              "<IPython.core.display.Javascript object>"
            ],
            "application/javascript": [
              "\n",
              "    async function download(id, filename, size) {\n",
              "      if (!google.colab.kernel.accessAllowed) {\n",
              "        return;\n",
              "      }\n",
              "      const div = document.createElement('div');\n",
              "      const label = document.createElement('label');\n",
              "      label.textContent = `Downloading \"${filename}\": `;\n",
              "      div.appendChild(label);\n",
              "      const progress = document.createElement('progress');\n",
              "      progress.max = size;\n",
              "      div.appendChild(progress);\n",
              "      document.body.appendChild(div);\n",
              "\n",
              "      const buffers = [];\n",
              "      let downloaded = 0;\n",
              "\n",
              "      const channel = await google.colab.kernel.comms.open(id);\n",
              "      // Send a message to notify the kernel that we're ready.\n",
              "      channel.send({})\n",
              "\n",
              "      for await (const message of channel.messages) {\n",
              "        // Send a message to notify the kernel that we're ready.\n",
              "        channel.send({})\n",
              "        if (message.buffers) {\n",
              "          for (const buffer of message.buffers) {\n",
              "            buffers.push(buffer);\n",
              "            downloaded += buffer.byteLength;\n",
              "            progress.value = downloaded;\n",
              "          }\n",
              "        }\n",
              "      }\n",
              "      const blob = new Blob(buffers, {type: 'application/binary'});\n",
              "      const a = document.createElement('a');\n",
              "      a.href = window.URL.createObjectURL(blob);\n",
              "      a.download = filename;\n",
              "      div.appendChild(a);\n",
              "      a.click();\n",
              "      div.remove();\n",
              "    }\n",
              "  "
            ]
          },
          "metadata": {}
        },
        {
          "output_type": "display_data",
          "data": {
            "text/plain": [
              "<IPython.core.display.Javascript object>"
            ],
            "application/javascript": [
              "download(\"download_e71ee3ce-90b7-4cc2-85e6-f6f23dc430fa\", \"prediction_results_6.csv\", 204963)"
            ]
          },
          "metadata": {}
        }
      ],
      "source": [
        "from google.colab import files\n",
        "files.download(\"prediction_results_6.csv\")"
      ]
    }
  ],
  "metadata": {
    "colab": {
      "provenance": [],
      "include_colab_link": true
    },
    "kernelspec": {
      "display_name": "Python 3 (ipykernel)",
      "language": "python",
      "name": "python3"
    },
    "language_info": {
      "codemirror_mode": {
        "name": "ipython",
        "version": 3
      },
      "file_extension": ".py",
      "mimetype": "text/x-python",
      "name": "python",
      "nbconvert_exporter": "python",
      "pygments_lexer": "ipython3",
      "version": "3.9.13"
    }
  },
  "nbformat": 4,
  "nbformat_minor": 0
}