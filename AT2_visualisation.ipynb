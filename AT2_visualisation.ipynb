{
 "cells": [
  {
   "cell_type": "markdown",
   "id": "417150c8",
   "metadata": {},
   "source": [
    "## Import packages and csv file"
   ]
  },
  {
   "cell_type": "code",
   "execution_count": 1,
   "id": "7c92be33",
   "metadata": {},
   "outputs": [],
   "source": [
    "import numpy as np\n",
    "import pandas as pd\n",
    "import matplotlib.pyplot as plt\n",
    "df = pd.read_csv(\"https://raw.githubusercontent.com/wongwara/Jobseeker_Baymax/main/dataset/listings2019_2022.csv\")"
   ]
  },
  {
   "cell_type": "markdown",
   "id": "a06b351b",
   "metadata": {},
   "source": [
    "## Basic understanding the data set"
   ]
  },
  {
   "cell_type": "code",
   "execution_count": 2,
   "id": "63b3911c",
   "metadata": {},
   "outputs": [
    {
     "name": "stdout",
     "output_type": "stream",
     "text": [
      "<class 'pandas.core.frame.DataFrame'>\n",
      "RangeIndex: 3902 entries, 0 to 3901\n",
      "Data columns (total 52 columns):\n",
      " #   Column                 Non-Null Count  Dtype  \n",
      "---  ------                 --------------  -----  \n",
      " 0   jobId                  3902 non-null   int64  \n",
      " 1   jobTitle               3902 non-null   object \n",
      " 2   jobClassification      3902 non-null   object \n",
      " 3   jobSubClassification   3902 non-null   object \n",
      " 4   advertiserName         3902 non-null   object \n",
      " 5   advertiserId           3902 non-null   int64  \n",
      " 6   companyId              1067 non-null   float64\n",
      " 7   companyName            1476 non-null   object \n",
      " 8   companyRating          1067 non-null   float64\n",
      " 9   listingDate            3902 non-null   object \n",
      " 10  expiryDate             3902 non-null   object \n",
      " 11  teaser                 3374 non-null   object \n",
      " 12  nation                 3902 non-null   object \n",
      " 13  state                  3902 non-null   object \n",
      " 14  city                   3902 non-null   object \n",
      " 15  area                   2674 non-null   object \n",
      " 16  suburb                 2977 non-null   object \n",
      " 17  workType               3902 non-null   object \n",
      " 18  salary_string          1518 non-null   object \n",
      " 19  isRightToWorkRequired  3416 non-null   object \n",
      " 20  desktopAdTemplate      3207 non-null   object \n",
      " 21  mobileAdTemplate       3895 non-null   object \n",
      " 22  companyProfileUrl      1476 non-null   object \n",
      " 23  seekJobListingUrl      3902 non-null   object \n",
      " 24  R                      3902 non-null   int64  \n",
      " 25  Python                 3902 non-null   int64  \n",
      " 26  Matlab                 3902 non-null   int64  \n",
      " 27  SQL                    3902 non-null   int64  \n",
      " 28  Stata                  3902 non-null   int64  \n",
      " 29  Minitab                3902 non-null   int64  \n",
      " 30  SPSS                   3902 non-null   int64  \n",
      " 31  Ruby                   3902 non-null   int64  \n",
      " 32  C                      3902 non-null   int64  \n",
      " 33  Scala                  3902 non-null   int64  \n",
      " 34  Tableau                3902 non-null   int64  \n",
      " 35  Java                   3902 non-null   int64  \n",
      " 36  Hadoop                 3902 non-null   int64  \n",
      " 37  SAS                    3902 non-null   int64  \n",
      " 38  Julia                  3902 non-null   int64  \n",
      " 39  Knime                  3902 non-null   int64  \n",
      " 40  D3                     3902 non-null   int64  \n",
      " 41  Clojure                3902 non-null   int64  \n",
      " 42  Haskell                3902 non-null   int64  \n",
      " 43  Lisp                   3902 non-null   int64  \n",
      " 44  Golang                 3902 non-null   int64  \n",
      " 45  Spark                  3902 non-null   int64  \n",
      " 46  Javascript             3902 non-null   int64  \n",
      " 47  F.                     3902 non-null   int64  \n",
      " 48  Fortran                3902 non-null   int64  \n",
      " 49  first_seen             3902 non-null   object \n",
      " 50  last_seen              3902 non-null   object \n",
      " 51  recruiter              3902 non-null   int64  \n",
      "dtypes: float64(2), int64(28), object(22)\n",
      "memory usage: 1.5+ MB\n"
     ]
    }
   ],
   "source": [
    "df.info()"
   ]
  },
  {
   "cell_type": "code",
   "execution_count": 3,
   "id": "ff2189a4",
   "metadata": {},
   "outputs": [
    {
     "data": {
      "text/plain": [
       "(3902, 52)"
      ]
     },
     "execution_count": 3,
     "metadata": {},
     "output_type": "execute_result"
    }
   ],
   "source": [
    "df.shape"
   ]
  },
  {
   "cell_type": "code",
   "execution_count": 4,
   "id": "eb18e1b6",
   "metadata": {},
   "outputs": [
    {
     "data": {
      "text/plain": [
       "array(['New South Wales', 'Australian Capital Territory', 'Victoria',\n",
       "       'Western Australia', 'Queensland', 'Northern Territories',\n",
       "       'South Australia', 'Tasmania', 'UK & Ireland', 'Overseas',\n",
       "       'Northern Territory'], dtype=object)"
      ]
     },
     "execution_count": 4,
     "metadata": {},
     "output_type": "execute_result"
    }
   ],
   "source": [
    "df['state'].unique()"
   ]
  },
  {
   "cell_type": "code",
   "execution_count": null,
   "id": "c18e5819",
   "metadata": {},
   "outputs": [
    {
     "data": {
      "text/plain": [
       "Index(['jobId', 'jobTitle', 'jobClassification', 'jobSubClassification',\n",
       "       'advertiserName', 'advertiserId', 'companyId', 'companyName',\n",
       "       'companyRating', 'listingDate', 'expiryDate', 'teaser', 'nation',\n",
       "       'state', 'city', 'area', 'suburb', 'workType', 'salary_string',\n",
       "       'isRightToWorkRequired', 'desktopAdTemplate', 'mobileAdTemplate',\n",
       "       'companyProfileUrl', 'seekJobListingUrl', 'R', 'Python', 'Matlab',\n",
       "       'SQL', 'Stata', 'Minitab', 'SPSS', 'Ruby', 'C', 'Scala', 'Tableau',\n",
       "       'Java', 'Hadoop', 'SAS', 'Julia', 'Knime', 'D3', 'Clojure', 'Haskell',\n",
       "       'Lisp', 'Golang', 'Spark', 'Javascript', 'F.', 'Fortran', 'first_seen',\n",
       "       'last_seen', 'recruiter'],\n",
       "      dtype='object')"
      ]
     },
     "execution_count": 5,
     "metadata": {},
     "output_type": "execute_result"
    }
   ],
   "source": [
    "df.columns"
   ]
  },
  {
   "cell_type": "code",
   "execution_count": null,
   "id": "493c8789",
   "metadata": {},
   "outputs": [],
   "source": [
    "df.head()"
   ]
  },
  {
   "cell_type": "markdown",
   "id": "8b0d2560",
   "metadata": {},
   "source": [
    "## Jobs release per week from 2019 January to 2022 January"
   ]
  },
  {
   "cell_type": "code",
   "execution_count": null,
   "id": "19079b07",
   "metadata": {},
   "outputs": [],
   "source": [
    "df.index = pd.to_datetime(df['listingDate'])\n",
    "monthly_count = df.resample('W').size()\n",
    "monthly_count = monthly_count.reset_index(name = 'count')\n",
    "\n",
    "plt.bar(monthly_count['listingDate'], monthly_count['count'], width = 6, color = [\"#275e8e\"])\n",
    "plt.title('Job release amount per week')\n",
    "plt.xticks(rotation = 45)\n",
    "plt.show()"
   ]
  },
  {
   "cell_type": "markdown",
   "id": "8ce3c7dd",
   "metadata": {},
   "source": [
    "## Graph the different companies release the amount about the job vacancies."
   ]
  },
  {
   "cell_type": "code",
   "execution_count": null,
   "id": "88b7f5e0",
   "metadata": {},
   "outputs": [],
   "source": [
    "job_vacancy = df['companyName'].value_counts()\n",
    "job_vacancy_cleaned = pd.Series(job_vacancy.loc[job_vacancy >= 10])\n",
    "plt.bar(job_vacancy_cleaned.index, job_vacancy_cleaned, color = [\"#275e8e\"])\n",
    "plt.xticks(rotation = 90)\n",
    "plt.subplots_adjust(bottom=0.3)\n",
    "plt.title('Job release more than 10 vacancies in four years')\n",
    "plt.show()"
   ]
  },
  {
   "cell_type": "markdown",
   "id": "3b6add50",
   "metadata": {},
   "source": [
    "## Visualise Most Popular Programming Languages"
   ]
  },
  {
   "cell_type": "code",
   "execution_count": null,
   "id": "17be0efc",
   "metadata": {
    "scrolled": true
   },
   "outputs": [],
   "source": [
    "import matplotlib.pyplot as plt\n",
    "sum_programming = df.iloc[:, 24:49].sum()\n",
    "sum_programming_cleaned = pd.Series(sum_programming.loc[sum_programming >= 50])\n",
    "sum_programming_cleaned = sum_programming_cleaned.sort_values()\n",
    "\n",
    "plt.barh(sum_programming_cleaned.index, sum_programming_cleaned, color = [\"#7bc0ce\", \"#387a87\", \"#16525e\",\"#a4b3b6\", \"#09353e\"])\n",
    "for i, v in enumerate(sum_programming_cleaned):\n",
    "    plt.text(v, i, str(v))\n",
    "plt.title('Most Common Programming Language for Data Scientist')\n",
    "plt.figure(figsize = (12, 12))\n",
    "plt.show()"
   ]
  },
  {
   "cell_type": "markdown",
   "id": "e0485905",
   "metadata": {},
   "source": [
    "## Every year language difference"
   ]
  },
  {
   "cell_type": "code",
   "execution_count": null,
   "id": "fd945e6b",
   "metadata": {},
   "outputs": [],
   "source": [
    "from datetime import datetime\n",
    "df['listingDate'] = pd.to_datetime(df['listingDate'], format='%Y-%m-%d %H:%M:%S')\n",
    "df['listingYear'] = df['listingDate'].dt.strftime('%Y')\n",
    "\n",
    "\n",
    "df_lang = df.iloc[:, 24:49]\n",
    "sum_languages = df_lang.sum()\n",
    "sum_languages = sum_languages.sort_values()\n",
    "df_lang_cleaned = df_lang.loc[:, sum_languages >= 50]\n",
    "\n",
    "grouped = df_lang_cleaned.groupby(df['listingYear']).sum()\n",
    "\n",
    "print(grouped.index)\n",
    "\n",
    "years = grouped.index\n",
    "\n",
    "for year in years:\n",
    "    values = grouped.loc[year]\n",
    "    sorted_values = sorted(zip(values.values, values.index))\n",
    "    sorted_languages = [x[1] for x in sorted_values]\n",
    "    sorted_counts = [x[0] for x in sorted_values]\n",
    "    \n",
    "    plt.barh(sorted_languages, sorted_counts,color = [\"#275e8e\"])\n",
    "    plt.title( str(year) + \" frequent programming language\")\n",
    "    plt.show()\n"
   ]
  }
 ],
 "metadata": {
  "kernelspec": {
   "display_name": "Python 3 (ipykernel)",
   "language": "python",
   "name": "python3"
  },
  "language_info": {
   "codemirror_mode": {
    "name": "ipython",
    "version": 3
   },
   "file_extension": ".py",
   "mimetype": "text/x-python",
   "name": "python",
   "nbconvert_exporter": "python",
   "pygments_lexer": "ipython3",
   "version": "3.9.13"
  }
 },
 "nbformat": 4,
 "nbformat_minor": 5
}
