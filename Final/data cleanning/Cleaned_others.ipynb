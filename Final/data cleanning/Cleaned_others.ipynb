{
 "cells": [
  {
   "cell_type": "code",
   "execution_count": 2,
   "id": "7b56dc82",
   "metadata": {},
   "outputs": [],
   "source": [
    "import numpy as np\n",
    "import pandas as pd\n",
    "# Load the datasets\n",
    "df = pd.read_csv(\"https://raw.githubusercontent.com/wongwara/Jobseeker_Baymax/main/dataset/listings2019_2022_salary_04052023.csv\")"
   ]
  },
  {
   "cell_type": "code",
   "execution_count": 3,
   "id": "3c4b3d9a",
   "metadata": {},
   "outputs": [],
   "source": [
    "import warnings\n",
    "warnings.filterwarnings(\"ignore\")"
   ]
  },
  {
   "cell_type": "code",
   "execution_count": 4,
   "id": "89cce932",
   "metadata": {
    "scrolled": false
   },
   "outputs": [
    {
     "name": "stdout",
     "output_type": "stream",
     "text": [
      "<class 'pandas.core.frame.DataFrame'>\n",
      "RangeIndex: 3902 entries, 0 to 3901\n",
      "Data columns (total 52 columns):\n",
      " #   Column                 Non-Null Count  Dtype  \n",
      "---  ------                 --------------  -----  \n",
      " 0   jobId                  3902 non-null   int64  \n",
      " 1   jobTitle               3902 non-null   object \n",
      " 2   jobClassification      3902 non-null   object \n",
      " 3   jobSubClassification   3902 non-null   object \n",
      " 4   advertiserName         3902 non-null   object \n",
      " 5   advertiserId           3902 non-null   int64  \n",
      " 6   companyId              1067 non-null   float64\n",
      " 7   companyName            1476 non-null   object \n",
      " 8   companyRating          1067 non-null   float64\n",
      " 9   listingDate            3902 non-null   object \n",
      " 10  expiryDate             3902 non-null   object \n",
      " 11  teaser                 3374 non-null   object \n",
      " 12  nation                 3902 non-null   object \n",
      " 13  state                  3902 non-null   object \n",
      " 14  city                   3902 non-null   object \n",
      " 15  area                   2674 non-null   object \n",
      " 16  suburb                 2977 non-null   object \n",
      " 17  workType               3902 non-null   object \n",
      " 18  salary_string          1515 non-null   object \n",
      " 19  isRightToWorkRequired  3416 non-null   object \n",
      " 20  desktopAdTemplate      3207 non-null   object \n",
      " 21  mobileAdTemplate       3895 non-null   object \n",
      " 22  companyProfileUrl      1476 non-null   object \n",
      " 23  seekJobListingUrl      3902 non-null   object \n",
      " 24  R                      3902 non-null   int64  \n",
      " 25  Python                 3902 non-null   int64  \n",
      " 26  Matlab                 3902 non-null   int64  \n",
      " 27  SQL                    3902 non-null   int64  \n",
      " 28  Stata                  3902 non-null   int64  \n",
      " 29  Minitab                3902 non-null   int64  \n",
      " 30  SPSS                   3902 non-null   int64  \n",
      " 31  Ruby                   3902 non-null   int64  \n",
      " 32  C                      3902 non-null   int64  \n",
      " 33  Scala                  3902 non-null   int64  \n",
      " 34  Tableau                3902 non-null   int64  \n",
      " 35  Java                   3902 non-null   int64  \n",
      " 36  Hadoop                 3902 non-null   int64  \n",
      " 37  SAS                    3902 non-null   int64  \n",
      " 38  Julia                  3902 non-null   int64  \n",
      " 39  Knime                  3902 non-null   int64  \n",
      " 40  D3                     3902 non-null   int64  \n",
      " 41  Clojure                3902 non-null   int64  \n",
      " 42  Haskell                3902 non-null   int64  \n",
      " 43  Lisp                   3902 non-null   int64  \n",
      " 44  Golang                 3902 non-null   int64  \n",
      " 45  Spark                  3902 non-null   int64  \n",
      " 46  Javascript             3902 non-null   int64  \n",
      " 47  F.                     3902 non-null   int64  \n",
      " 48  Fortran                3902 non-null   int64  \n",
      " 49  first_seen             3902 non-null   object \n",
      " 50  last_seen              3902 non-null   object \n",
      " 51  recruiter              3902 non-null   int64  \n",
      "dtypes: float64(2), int64(28), object(22)\n",
      "memory usage: 1.5+ MB\n"
     ]
    }
   ],
   "source": [
    "df.info()"
   ]
  },
  {
   "cell_type": "code",
   "execution_count": 5,
   "id": "653f9385",
   "metadata": {},
   "outputs": [],
   "source": [
    "df = df[['jobClassification','state','teaser','nation','workType','salary_string','isRightToWorkRequired','desktopAdTemplate',\n",
    "         'Python','SQL','R','Tableau','SAS','Matlab','Hadoop','Spark','Java', 'Scala','recruiter']]"
   ]
  },
  {
   "cell_type": "code",
   "execution_count": 6,
   "id": "d5f97943",
   "metadata": {
    "scrolled": true
   },
   "outputs": [
    {
     "data": {
      "text/plain": [
       "25"
      ]
     },
     "execution_count": 6,
     "metadata": {},
     "output_type": "execute_result"
    }
   ],
   "source": [
    "len(df['jobClassification'].unique())"
   ]
  },
  {
   "cell_type": "code",
   "execution_count": 7,
   "id": "7f9cfcfa",
   "metadata": {},
   "outputs": [
    {
     "data": {
      "text/plain": [
       "array(['New South Wales', 'Australian Capital Territory', 'Victoria',\n",
       "       'Western Australia', 'Queensland', 'Northern Territories',\n",
       "       'South Australia', 'Tasmania', 'UK & Ireland', 'Overseas',\n",
       "       'Northern Territory'], dtype=object)"
      ]
     },
     "execution_count": 7,
     "metadata": {},
     "output_type": "execute_result"
    }
   ],
   "source": [
    "df['state'].unique()"
   ]
  },
  {
   "cell_type": "code",
   "execution_count": 8,
   "id": "787b45dd",
   "metadata": {},
   "outputs": [],
   "source": [
    "df = df[df['nation'].str.contains('Australia')]"
   ]
  },
  {
   "cell_type": "code",
   "execution_count": 9,
   "id": "1b4e7d7a",
   "metadata": {},
   "outputs": [],
   "source": [
    "df['state'] = df['state'].replace({'Northern Territories': 'Northern Territory'})"
   ]
  },
  {
   "cell_type": "code",
   "execution_count": 10,
   "id": "f916847f",
   "metadata": {},
   "outputs": [
    {
     "data": {
      "text/plain": [
       "array(['New South Wales', 'Australian Capital Territory', 'Victoria',\n",
       "       'Western Australia', 'Queensland', 'Northern Territory',\n",
       "       'South Australia', 'Tasmania'], dtype=object)"
      ]
     },
     "execution_count": 10,
     "metadata": {},
     "output_type": "execute_result"
    }
   ],
   "source": [
    "df['state'].unique()"
   ]
  },
  {
   "cell_type": "code",
   "execution_count": 11,
   "id": "2d5f340c",
   "metadata": {},
   "outputs": [],
   "source": [
    "# Import OrdinalEncoder from sklearn.preprocessing\n",
    "from sklearn.preprocessing import OrdinalEncoder,LabelEncoder,OneHotEncoder\n",
    "\n",
    "state_cats = [['Australian Capital Territory', 'South Australia',\n",
    "       'Western Australia']]\n",
    "Label = LabelEncoder()\n",
    "# Use our trained encoder to transform this column\n",
    "df['state_encoded'] = Label.fit_transform(df[['state']])\n",
    "\n",
    "# display the columns\n",
    "df[['state','state_encoded']]\n",
    "\n",
    "df['state']= df['state_encoded']"
   ]
  },
  {
   "cell_type": "code",
   "execution_count": 12,
   "id": "0ea16737",
   "metadata": {
    "scrolled": true
   },
   "outputs": [
    {
     "name": "stdout",
     "output_type": "stream",
     "text": [
      "<class 'pandas.core.frame.DataFrame'>\n",
      "Int64Index: 3897 entries, 0 to 3901\n",
      "Data columns (total 20 columns):\n",
      " #   Column                 Non-Null Count  Dtype \n",
      "---  ------                 --------------  ----- \n",
      " 0   jobClassification      3897 non-null   object\n",
      " 1   state                  3897 non-null   int64 \n",
      " 2   teaser                 3369 non-null   object\n",
      " 3   nation                 3897 non-null   object\n",
      " 4   workType               3897 non-null   object\n",
      " 5   salary_string          1512 non-null   object\n",
      " 6   isRightToWorkRequired  3411 non-null   object\n",
      " 7   desktopAdTemplate      3203 non-null   object\n",
      " 8   Python                 3897 non-null   int64 \n",
      " 9   SQL                    3897 non-null   int64 \n",
      " 10  R                      3897 non-null   int64 \n",
      " 11  Tableau                3897 non-null   int64 \n",
      " 12  SAS                    3897 non-null   int64 \n",
      " 13  Matlab                 3897 non-null   int64 \n",
      " 14  Hadoop                 3897 non-null   int64 \n",
      " 15  Spark                  3897 non-null   int64 \n",
      " 16  Java                   3897 non-null   int64 \n",
      " 17  Scala                  3897 non-null   int64 \n",
      " 18  recruiter              3897 non-null   int64 \n",
      " 19  state_encoded          3897 non-null   int64 \n",
      "dtypes: int64(13), object(7)\n",
      "memory usage: 639.4+ KB\n"
     ]
    }
   ],
   "source": [
    "df.info()"
   ]
  },
  {
   "cell_type": "code",
   "execution_count": 13,
   "id": "4e15c7a1",
   "metadata": {},
   "outputs": [],
   "source": [
    "df = df.drop(['nation'],axis =1)"
   ]
  },
  {
   "cell_type": "code",
   "execution_count": 14,
   "id": "c06d6c2a",
   "metadata": {
    "scrolled": false
   },
   "outputs": [
    {
     "data": {
      "text/plain": [
       "jobClassification           0\n",
       "state                       0\n",
       "teaser                    528\n",
       "workType                    0\n",
       "salary_string            2385\n",
       "isRightToWorkRequired     486\n",
       "desktopAdTemplate         694\n",
       "Python                      0\n",
       "SQL                         0\n",
       "R                           0\n",
       "Tableau                     0\n",
       "SAS                         0\n",
       "Matlab                      0\n",
       "Hadoop                      0\n",
       "Spark                       0\n",
       "Java                        0\n",
       "Scala                       0\n",
       "recruiter                   0\n",
       "state_encoded               0\n",
       "dtype: int64"
      ]
     },
     "execution_count": 14,
     "metadata": {},
     "output_type": "execute_result"
    }
   ],
   "source": [
    "df.isna().sum() "
   ]
  },
  {
   "cell_type": "code",
   "execution_count": 15,
   "id": "81aee22d",
   "metadata": {
    "scrolled": true
   },
   "outputs": [
    {
     "data": {
      "text/plain": [
       "<bound method NDFrame.describe of 0                                               NaN\n",
       "1                                             Super\n",
       "2                        $90000 - $120000 per annum\n",
       "3                             $90000 - $110000 p.a.\n",
       "4                                               NaN\n",
       "                           ...                     \n",
       "3897    Open to Quote (Sydney or Canberra Location)\n",
       "3898                                            NaN\n",
       "3899                                Desirable Rates\n",
       "3900                                            NaN\n",
       "3901                                            NaN\n",
       "Name: salary_string, Length: 3897, dtype: object>"
      ]
     },
     "execution_count": 15,
     "metadata": {},
     "output_type": "execute_result"
    }
   ],
   "source": [
    "df[\"salary_string\"].describe"
   ]
  },
  {
   "cell_type": "code",
   "execution_count": 16,
   "id": "761ef8d2",
   "metadata": {},
   "outputs": [
    {
     "data": {
      "text/html": [
       "<div>\n",
       "<style scoped>\n",
       "    .dataframe tbody tr th:only-of-type {\n",
       "        vertical-align: middle;\n",
       "    }\n",
       "\n",
       "    .dataframe tbody tr th {\n",
       "        vertical-align: top;\n",
       "    }\n",
       "\n",
       "    .dataframe thead th {\n",
       "        text-align: right;\n",
       "    }\n",
       "</style>\n",
       "<table border=\"1\" class=\"dataframe\">\n",
       "  <thead>\n",
       "    <tr style=\"text-align: right;\">\n",
       "      <th></th>\n",
       "      <th>jobClassification</th>\n",
       "      <th>state</th>\n",
       "      <th>teaser</th>\n",
       "      <th>workType</th>\n",
       "      <th>salary_string</th>\n",
       "      <th>isRightToWorkRequired</th>\n",
       "      <th>desktopAdTemplate</th>\n",
       "      <th>Python</th>\n",
       "      <th>SQL</th>\n",
       "      <th>R</th>\n",
       "      <th>Tableau</th>\n",
       "      <th>SAS</th>\n",
       "      <th>Matlab</th>\n",
       "      <th>Hadoop</th>\n",
       "      <th>Spark</th>\n",
       "      <th>Java</th>\n",
       "      <th>Scala</th>\n",
       "      <th>recruiter</th>\n",
       "      <th>state_encoded</th>\n",
       "    </tr>\n",
       "  </thead>\n",
       "  <tbody>\n",
       "    <tr>\n",
       "      <th>0</th>\n",
       "      <td>Science &amp; Technology</td>\n",
       "      <td>1</td>\n",
       "      <td>My client is a leading Australian-owned and ra...</td>\n",
       "      <td>Full Time</td>\n",
       "      <td>NaN</td>\n",
       "      <td>f</td>\n",
       "      <td>\\n  \\n    \\n      Senior Method Development Im...</td>\n",
       "      <td>0</td>\n",
       "      <td>0</td>\n",
       "      <td>1</td>\n",
       "      <td>0</td>\n",
       "      <td>0</td>\n",
       "      <td>0</td>\n",
       "      <td>0</td>\n",
       "      <td>0</td>\n",
       "      <td>0</td>\n",
       "      <td>0</td>\n",
       "      <td>1</td>\n",
       "      <td>1</td>\n",
       "    </tr>\n",
       "    <tr>\n",
       "      <th>1</th>\n",
       "      <td>Information &amp; Communication Technology</td>\n",
       "      <td>0</td>\n",
       "      <td>The Data Scientist will be responsible for mon...</td>\n",
       "      <td>Full Time</td>\n",
       "      <td>Super</td>\n",
       "      <td>t</td>\n",
       "      <td>\\n  \\n    \\n    \\n      Pricing Data Scientist...</td>\n",
       "      <td>0</td>\n",
       "      <td>0</td>\n",
       "      <td>1</td>\n",
       "      <td>0</td>\n",
       "      <td>1</td>\n",
       "      <td>0</td>\n",
       "      <td>0</td>\n",
       "      <td>0</td>\n",
       "      <td>0</td>\n",
       "      <td>0</td>\n",
       "      <td>1</td>\n",
       "      <td>0</td>\n",
       "    </tr>\n",
       "    <tr>\n",
       "      <th>2</th>\n",
       "      <td>Information &amp; Communication Technology</td>\n",
       "      <td>1</td>\n",
       "      <td>Fantastic organisation seeks experienced Insig...</td>\n",
       "      <td>Full Time</td>\n",
       "      <td>$90000 - $120000 per annum</td>\n",
       "      <td>f</td>\n",
       "      <td>\\n  \\n    \\n    \\n      Insights Analyst – Onl...</td>\n",
       "      <td>0</td>\n",
       "      <td>1</td>\n",
       "      <td>1</td>\n",
       "      <td>0</td>\n",
       "      <td>0</td>\n",
       "      <td>0</td>\n",
       "      <td>0</td>\n",
       "      <td>0</td>\n",
       "      <td>0</td>\n",
       "      <td>0</td>\n",
       "      <td>1</td>\n",
       "      <td>1</td>\n",
       "    </tr>\n",
       "    <tr>\n",
       "      <th>3</th>\n",
       "      <td>Banking &amp; Financial Services</td>\n",
       "      <td>1</td>\n",
       "      <td>This role requires an individual with strong c...</td>\n",
       "      <td>Full Time</td>\n",
       "      <td>$90000 - $110000 p.a.</td>\n",
       "      <td>f</td>\n",
       "      <td>\\n  \\n    \\n    \\n      Credit Risk Analyst \\n...</td>\n",
       "      <td>0</td>\n",
       "      <td>1</td>\n",
       "      <td>1</td>\n",
       "      <td>0</td>\n",
       "      <td>1</td>\n",
       "      <td>0</td>\n",
       "      <td>0</td>\n",
       "      <td>0</td>\n",
       "      <td>0</td>\n",
       "      <td>0</td>\n",
       "      <td>1</td>\n",
       "      <td>1</td>\n",
       "    </tr>\n",
       "    <tr>\n",
       "      <th>4</th>\n",
       "      <td>Information &amp; Communication Technology</td>\n",
       "      <td>1</td>\n",
       "      <td>Our client, a large Sydney based telecommunica...</td>\n",
       "      <td>Contract/Temp</td>\n",
       "      <td>NaN</td>\n",
       "      <td>f</td>\n",
       "      <td>\\n  \\n    \\n    \\n      Data Scientist \\n     ...</td>\n",
       "      <td>1</td>\n",
       "      <td>1</td>\n",
       "      <td>0</td>\n",
       "      <td>1</td>\n",
       "      <td>0</td>\n",
       "      <td>0</td>\n",
       "      <td>0</td>\n",
       "      <td>0</td>\n",
       "      <td>0</td>\n",
       "      <td>0</td>\n",
       "      <td>0</td>\n",
       "      <td>1</td>\n",
       "    </tr>\n",
       "  </tbody>\n",
       "</table>\n",
       "</div>"
      ],
      "text/plain": [
       "                        jobClassification  state  \\\n",
       "0                    Science & Technology      1   \n",
       "1  Information & Communication Technology      0   \n",
       "2  Information & Communication Technology      1   \n",
       "3            Banking & Financial Services      1   \n",
       "4  Information & Communication Technology      1   \n",
       "\n",
       "                                              teaser       workType  \\\n",
       "0  My client is a leading Australian-owned and ra...      Full Time   \n",
       "1  The Data Scientist will be responsible for mon...      Full Time   \n",
       "2  Fantastic organisation seeks experienced Insig...      Full Time   \n",
       "3  This role requires an individual with strong c...      Full Time   \n",
       "4  Our client, a large Sydney based telecommunica...  Contract/Temp   \n",
       "\n",
       "                salary_string isRightToWorkRequired  \\\n",
       "0                         NaN                     f   \n",
       "1                       Super                     t   \n",
       "2  $90000 - $120000 per annum                     f   \n",
       "3       $90000 - $110000 p.a.                     f   \n",
       "4                         NaN                     f   \n",
       "\n",
       "                                   desktopAdTemplate  Python  SQL  R  Tableau  \\\n",
       "0  \\n  \\n    \\n      Senior Method Development Im...       0    0  1        0   \n",
       "1  \\n  \\n    \\n    \\n      Pricing Data Scientist...       0    0  1        0   \n",
       "2  \\n  \\n    \\n    \\n      Insights Analyst – Onl...       0    1  1        0   \n",
       "3  \\n  \\n    \\n    \\n      Credit Risk Analyst \\n...       0    1  1        0   \n",
       "4  \\n  \\n    \\n    \\n      Data Scientist \\n     ...       1    1  0        1   \n",
       "\n",
       "   SAS  Matlab  Hadoop  Spark  Java  Scala  recruiter  state_encoded  \n",
       "0    0       0       0      0     0      0          1              1  \n",
       "1    1       0       0      0     0      0          1              0  \n",
       "2    0       0       0      0     0      0          1              1  \n",
       "3    1       0       0      0     0      0          1              1  \n",
       "4    0       0       0      0     0      0          0              1  "
      ]
     },
     "execution_count": 16,
     "metadata": {},
     "output_type": "execute_result"
    }
   ],
   "source": [
    "df.head()"
   ]
  },
  {
   "cell_type": "code",
   "execution_count": 17,
   "id": "50745b20",
   "metadata": {
    "scrolled": true
   },
   "outputs": [],
   "source": [
    "import re\n",
    "\n",
    "def extract_salary(text):    \n",
    "    range_pattern = r'([\\d\\.]+) *- *\\$?([\\d\\.]+)'\n",
    "    range_matches = re.search(range_pattern, text.replace(\",\", \"\"))\n",
    "    if range_matches:\n",
    "        lo, hi = range_matches.groups()\n",
    "        salary_range = (float(lo), float(hi))\n",
    "    else:\n",
    "        salary_range = None\n",
    "    \n",
    "    return salary_range\n"
   ]
  },
  {
   "cell_type": "code",
   "execution_count": 18,
   "id": "b11a4c6b",
   "metadata": {},
   "outputs": [],
   "source": [
    "df = df[df['salary_string'].notna()]"
   ]
  },
  {
   "cell_type": "code",
   "execution_count": 19,
   "id": "ddcea961",
   "metadata": {},
   "outputs": [],
   "source": [
    "df[\"salary_string\"] = df[\"salary_string\"].apply(extract_salary)"
   ]
  },
  {
   "cell_type": "code",
   "execution_count": 20,
   "id": "2549088c",
   "metadata": {},
   "outputs": [
    {
     "data": {
      "text/html": [
       "<div>\n",
       "<style scoped>\n",
       "    .dataframe tbody tr th:only-of-type {\n",
       "        vertical-align: middle;\n",
       "    }\n",
       "\n",
       "    .dataframe tbody tr th {\n",
       "        vertical-align: top;\n",
       "    }\n",
       "\n",
       "    .dataframe thead th {\n",
       "        text-align: right;\n",
       "    }\n",
       "</style>\n",
       "<table border=\"1\" class=\"dataframe\">\n",
       "  <thead>\n",
       "    <tr style=\"text-align: right;\">\n",
       "      <th></th>\n",
       "      <th>jobClassification</th>\n",
       "      <th>state</th>\n",
       "      <th>teaser</th>\n",
       "      <th>workType</th>\n",
       "      <th>salary_string</th>\n",
       "      <th>isRightToWorkRequired</th>\n",
       "      <th>desktopAdTemplate</th>\n",
       "      <th>Python</th>\n",
       "      <th>SQL</th>\n",
       "      <th>R</th>\n",
       "      <th>Tableau</th>\n",
       "      <th>SAS</th>\n",
       "      <th>Matlab</th>\n",
       "      <th>Hadoop</th>\n",
       "      <th>Spark</th>\n",
       "      <th>Java</th>\n",
       "      <th>Scala</th>\n",
       "      <th>recruiter</th>\n",
       "      <th>state_encoded</th>\n",
       "    </tr>\n",
       "  </thead>\n",
       "  <tbody>\n",
       "    <tr>\n",
       "      <th>1</th>\n",
       "      <td>Information &amp; Communication Technology</td>\n",
       "      <td>0</td>\n",
       "      <td>The Data Scientist will be responsible for mon...</td>\n",
       "      <td>Full Time</td>\n",
       "      <td>None</td>\n",
       "      <td>t</td>\n",
       "      <td>\\n  \\n    \\n    \\n      Pricing Data Scientist...</td>\n",
       "      <td>0</td>\n",
       "      <td>0</td>\n",
       "      <td>1</td>\n",
       "      <td>0</td>\n",
       "      <td>1</td>\n",
       "      <td>0</td>\n",
       "      <td>0</td>\n",
       "      <td>0</td>\n",
       "      <td>0</td>\n",
       "      <td>0</td>\n",
       "      <td>1</td>\n",
       "      <td>0</td>\n",
       "    </tr>\n",
       "    <tr>\n",
       "      <th>2</th>\n",
       "      <td>Information &amp; Communication Technology</td>\n",
       "      <td>1</td>\n",
       "      <td>Fantastic organisation seeks experienced Insig...</td>\n",
       "      <td>Full Time</td>\n",
       "      <td>(90000.0, 120000.0)</td>\n",
       "      <td>f</td>\n",
       "      <td>\\n  \\n    \\n    \\n      Insights Analyst – Onl...</td>\n",
       "      <td>0</td>\n",
       "      <td>1</td>\n",
       "      <td>1</td>\n",
       "      <td>0</td>\n",
       "      <td>0</td>\n",
       "      <td>0</td>\n",
       "      <td>0</td>\n",
       "      <td>0</td>\n",
       "      <td>0</td>\n",
       "      <td>0</td>\n",
       "      <td>1</td>\n",
       "      <td>1</td>\n",
       "    </tr>\n",
       "    <tr>\n",
       "      <th>3</th>\n",
       "      <td>Banking &amp; Financial Services</td>\n",
       "      <td>1</td>\n",
       "      <td>This role requires an individual with strong c...</td>\n",
       "      <td>Full Time</td>\n",
       "      <td>(90000.0, 110000.0)</td>\n",
       "      <td>f</td>\n",
       "      <td>\\n  \\n    \\n    \\n      Credit Risk Analyst \\n...</td>\n",
       "      <td>0</td>\n",
       "      <td>1</td>\n",
       "      <td>1</td>\n",
       "      <td>0</td>\n",
       "      <td>1</td>\n",
       "      <td>0</td>\n",
       "      <td>0</td>\n",
       "      <td>0</td>\n",
       "      <td>0</td>\n",
       "      <td>0</td>\n",
       "      <td>1</td>\n",
       "      <td>1</td>\n",
       "    </tr>\n",
       "    <tr>\n",
       "      <th>7</th>\n",
       "      <td>Banking &amp; Financial Services</td>\n",
       "      <td>1</td>\n",
       "      <td>One of Australia's leading financial service p...</td>\n",
       "      <td>Full Time</td>\n",
       "      <td>(110000.0, 120000.0)</td>\n",
       "      <td>t</td>\n",
       "      <td>\\n  \\n    \\n    Data Analytics Recruitment Sol...</td>\n",
       "      <td>1</td>\n",
       "      <td>1</td>\n",
       "      <td>1</td>\n",
       "      <td>0</td>\n",
       "      <td>1</td>\n",
       "      <td>0</td>\n",
       "      <td>0</td>\n",
       "      <td>0</td>\n",
       "      <td>0</td>\n",
       "      <td>0</td>\n",
       "      <td>1</td>\n",
       "      <td>1</td>\n",
       "    </tr>\n",
       "    <tr>\n",
       "      <th>8</th>\n",
       "      <td>Information &amp; Communication Technology</td>\n",
       "      <td>6</td>\n",
       "      <td>Awesome opportunity for a highly skilled and e...</td>\n",
       "      <td>Full Time</td>\n",
       "      <td>None</td>\n",
       "      <td>t</td>\n",
       "      <td>\\n  \\n    \\n    Senior Data Scientist \\n    \\n...</td>\n",
       "      <td>1</td>\n",
       "      <td>0</td>\n",
       "      <td>0</td>\n",
       "      <td>0</td>\n",
       "      <td>0</td>\n",
       "      <td>0</td>\n",
       "      <td>1</td>\n",
       "      <td>0</td>\n",
       "      <td>0</td>\n",
       "      <td>0</td>\n",
       "      <td>1</td>\n",
       "      <td>6</td>\n",
       "    </tr>\n",
       "  </tbody>\n",
       "</table>\n",
       "</div>"
      ],
      "text/plain": [
       "                        jobClassification  state  \\\n",
       "1  Information & Communication Technology      0   \n",
       "2  Information & Communication Technology      1   \n",
       "3            Banking & Financial Services      1   \n",
       "7            Banking & Financial Services      1   \n",
       "8  Information & Communication Technology      6   \n",
       "\n",
       "                                              teaser   workType  \\\n",
       "1  The Data Scientist will be responsible for mon...  Full Time   \n",
       "2  Fantastic organisation seeks experienced Insig...  Full Time   \n",
       "3  This role requires an individual with strong c...  Full Time   \n",
       "7  One of Australia's leading financial service p...  Full Time   \n",
       "8  Awesome opportunity for a highly skilled and e...  Full Time   \n",
       "\n",
       "          salary_string isRightToWorkRequired  \\\n",
       "1                  None                     t   \n",
       "2   (90000.0, 120000.0)                     f   \n",
       "3   (90000.0, 110000.0)                     f   \n",
       "7  (110000.0, 120000.0)                     t   \n",
       "8                  None                     t   \n",
       "\n",
       "                                   desktopAdTemplate  Python  SQL  R  Tableau  \\\n",
       "1  \\n  \\n    \\n    \\n      Pricing Data Scientist...       0    0  1        0   \n",
       "2  \\n  \\n    \\n    \\n      Insights Analyst – Onl...       0    1  1        0   \n",
       "3  \\n  \\n    \\n    \\n      Credit Risk Analyst \\n...       0    1  1        0   \n",
       "7  \\n  \\n    \\n    Data Analytics Recruitment Sol...       1    1  1        0   \n",
       "8  \\n  \\n    \\n    Senior Data Scientist \\n    \\n...       1    0  0        0   \n",
       "\n",
       "   SAS  Matlab  Hadoop  Spark  Java  Scala  recruiter  state_encoded  \n",
       "1    1       0       0      0     0      0          1              0  \n",
       "2    0       0       0      0     0      0          1              1  \n",
       "3    1       0       0      0     0      0          1              1  \n",
       "7    1       0       0      0     0      0          1              1  \n",
       "8    0       0       1      0     0      0          1              6  "
      ]
     },
     "execution_count": 20,
     "metadata": {},
     "output_type": "execute_result"
    }
   ],
   "source": [
    "df.head(5)"
   ]
  },
  {
   "cell_type": "code",
   "execution_count": 21,
   "id": "eb3f9f92",
   "metadata": {},
   "outputs": [],
   "source": [
    "df = df[df['salary_string'] != (None,None)]"
   ]
  },
  {
   "cell_type": "code",
   "execution_count": 22,
   "id": "39306906",
   "metadata": {},
   "outputs": [
    {
     "data": {
      "text/html": [
       "<div>\n",
       "<style scoped>\n",
       "    .dataframe tbody tr th:only-of-type {\n",
       "        vertical-align: middle;\n",
       "    }\n",
       "\n",
       "    .dataframe tbody tr th {\n",
       "        vertical-align: top;\n",
       "    }\n",
       "\n",
       "    .dataframe thead th {\n",
       "        text-align: right;\n",
       "    }\n",
       "</style>\n",
       "<table border=\"1\" class=\"dataframe\">\n",
       "  <thead>\n",
       "    <tr style=\"text-align: right;\">\n",
       "      <th></th>\n",
       "      <th>jobClassification</th>\n",
       "      <th>state</th>\n",
       "      <th>teaser</th>\n",
       "      <th>workType</th>\n",
       "      <th>salary_string</th>\n",
       "      <th>isRightToWorkRequired</th>\n",
       "      <th>desktopAdTemplate</th>\n",
       "      <th>Python</th>\n",
       "      <th>SQL</th>\n",
       "      <th>R</th>\n",
       "      <th>Tableau</th>\n",
       "      <th>SAS</th>\n",
       "      <th>Matlab</th>\n",
       "      <th>Hadoop</th>\n",
       "      <th>Spark</th>\n",
       "      <th>Java</th>\n",
       "      <th>Scala</th>\n",
       "      <th>recruiter</th>\n",
       "      <th>state_encoded</th>\n",
       "    </tr>\n",
       "  </thead>\n",
       "  <tbody>\n",
       "    <tr>\n",
       "      <th>1</th>\n",
       "      <td>Information &amp; Communication Technology</td>\n",
       "      <td>0</td>\n",
       "      <td>The Data Scientist will be responsible for mon...</td>\n",
       "      <td>Full Time</td>\n",
       "      <td>None</td>\n",
       "      <td>t</td>\n",
       "      <td>\\n  \\n    \\n    \\n      Pricing Data Scientist...</td>\n",
       "      <td>0</td>\n",
       "      <td>0</td>\n",
       "      <td>1</td>\n",
       "      <td>0</td>\n",
       "      <td>1</td>\n",
       "      <td>0</td>\n",
       "      <td>0</td>\n",
       "      <td>0</td>\n",
       "      <td>0</td>\n",
       "      <td>0</td>\n",
       "      <td>1</td>\n",
       "      <td>0</td>\n",
       "    </tr>\n",
       "    <tr>\n",
       "      <th>2</th>\n",
       "      <td>Information &amp; Communication Technology</td>\n",
       "      <td>1</td>\n",
       "      <td>Fantastic organisation seeks experienced Insig...</td>\n",
       "      <td>Full Time</td>\n",
       "      <td>(90000.0, 120000.0)</td>\n",
       "      <td>f</td>\n",
       "      <td>\\n  \\n    \\n    \\n      Insights Analyst – Onl...</td>\n",
       "      <td>0</td>\n",
       "      <td>1</td>\n",
       "      <td>1</td>\n",
       "      <td>0</td>\n",
       "      <td>0</td>\n",
       "      <td>0</td>\n",
       "      <td>0</td>\n",
       "      <td>0</td>\n",
       "      <td>0</td>\n",
       "      <td>0</td>\n",
       "      <td>1</td>\n",
       "      <td>1</td>\n",
       "    </tr>\n",
       "    <tr>\n",
       "      <th>3</th>\n",
       "      <td>Banking &amp; Financial Services</td>\n",
       "      <td>1</td>\n",
       "      <td>This role requires an individual with strong c...</td>\n",
       "      <td>Full Time</td>\n",
       "      <td>(90000.0, 110000.0)</td>\n",
       "      <td>f</td>\n",
       "      <td>\\n  \\n    \\n    \\n      Credit Risk Analyst \\n...</td>\n",
       "      <td>0</td>\n",
       "      <td>1</td>\n",
       "      <td>1</td>\n",
       "      <td>0</td>\n",
       "      <td>1</td>\n",
       "      <td>0</td>\n",
       "      <td>0</td>\n",
       "      <td>0</td>\n",
       "      <td>0</td>\n",
       "      <td>0</td>\n",
       "      <td>1</td>\n",
       "      <td>1</td>\n",
       "    </tr>\n",
       "    <tr>\n",
       "      <th>7</th>\n",
       "      <td>Banking &amp; Financial Services</td>\n",
       "      <td>1</td>\n",
       "      <td>One of Australia's leading financial service p...</td>\n",
       "      <td>Full Time</td>\n",
       "      <td>(110000.0, 120000.0)</td>\n",
       "      <td>t</td>\n",
       "      <td>\\n  \\n    \\n    Data Analytics Recruitment Sol...</td>\n",
       "      <td>1</td>\n",
       "      <td>1</td>\n",
       "      <td>1</td>\n",
       "      <td>0</td>\n",
       "      <td>1</td>\n",
       "      <td>0</td>\n",
       "      <td>0</td>\n",
       "      <td>0</td>\n",
       "      <td>0</td>\n",
       "      <td>0</td>\n",
       "      <td>1</td>\n",
       "      <td>1</td>\n",
       "    </tr>\n",
       "    <tr>\n",
       "      <th>8</th>\n",
       "      <td>Information &amp; Communication Technology</td>\n",
       "      <td>6</td>\n",
       "      <td>Awesome opportunity for a highly skilled and e...</td>\n",
       "      <td>Full Time</td>\n",
       "      <td>None</td>\n",
       "      <td>t</td>\n",
       "      <td>\\n  \\n    \\n    Senior Data Scientist \\n    \\n...</td>\n",
       "      <td>1</td>\n",
       "      <td>0</td>\n",
       "      <td>0</td>\n",
       "      <td>0</td>\n",
       "      <td>0</td>\n",
       "      <td>0</td>\n",
       "      <td>1</td>\n",
       "      <td>0</td>\n",
       "      <td>0</td>\n",
       "      <td>0</td>\n",
       "      <td>1</td>\n",
       "      <td>6</td>\n",
       "    </tr>\n",
       "  </tbody>\n",
       "</table>\n",
       "</div>"
      ],
      "text/plain": [
       "                        jobClassification  state  \\\n",
       "1  Information & Communication Technology      0   \n",
       "2  Information & Communication Technology      1   \n",
       "3            Banking & Financial Services      1   \n",
       "7            Banking & Financial Services      1   \n",
       "8  Information & Communication Technology      6   \n",
       "\n",
       "                                              teaser   workType  \\\n",
       "1  The Data Scientist will be responsible for mon...  Full Time   \n",
       "2  Fantastic organisation seeks experienced Insig...  Full Time   \n",
       "3  This role requires an individual with strong c...  Full Time   \n",
       "7  One of Australia's leading financial service p...  Full Time   \n",
       "8  Awesome opportunity for a highly skilled and e...  Full Time   \n",
       "\n",
       "          salary_string isRightToWorkRequired  \\\n",
       "1                  None                     t   \n",
       "2   (90000.0, 120000.0)                     f   \n",
       "3   (90000.0, 110000.0)                     f   \n",
       "7  (110000.0, 120000.0)                     t   \n",
       "8                  None                     t   \n",
       "\n",
       "                                   desktopAdTemplate  Python  SQL  R  Tableau  \\\n",
       "1  \\n  \\n    \\n    \\n      Pricing Data Scientist...       0    0  1        0   \n",
       "2  \\n  \\n    \\n    \\n      Insights Analyst – Onl...       0    1  1        0   \n",
       "3  \\n  \\n    \\n    \\n      Credit Risk Analyst \\n...       0    1  1        0   \n",
       "7  \\n  \\n    \\n    Data Analytics Recruitment Sol...       1    1  1        0   \n",
       "8  \\n  \\n    \\n    Senior Data Scientist \\n    \\n...       1    0  0        0   \n",
       "\n",
       "   SAS  Matlab  Hadoop  Spark  Java  Scala  recruiter  state_encoded  \n",
       "1    1       0       0      0     0      0          1              0  \n",
       "2    0       0       0      0     0      0          1              1  \n",
       "3    1       0       0      0     0      0          1              1  \n",
       "7    1       0       0      0     0      0          1              1  \n",
       "8    0       0       1      0     0      0          1              6  "
      ]
     },
     "execution_count": 22,
     "metadata": {},
     "output_type": "execute_result"
    }
   ],
   "source": [
    "df.head()"
   ]
  },
  {
   "cell_type": "code",
   "execution_count": 23,
   "id": "d427ba08",
   "metadata": {},
   "outputs": [],
   "source": [
    "df = df[df['salary_string'].notna()]"
   ]
  },
  {
   "cell_type": "code",
   "execution_count": 24,
   "id": "19da00dc",
   "metadata": {},
   "outputs": [
    {
     "name": "stdout",
     "output_type": "stream",
     "text": [
      "<class 'pandas.core.frame.DataFrame'>\n",
      "Int64Index: 816 entries, 2 to 3893\n",
      "Data columns (total 19 columns):\n",
      " #   Column                 Non-Null Count  Dtype \n",
      "---  ------                 --------------  ----- \n",
      " 0   jobClassification      816 non-null    object\n",
      " 1   state                  816 non-null    int64 \n",
      " 2   teaser                 695 non-null    object\n",
      " 3   workType               816 non-null    object\n",
      " 4   salary_string          816 non-null    object\n",
      " 5   isRightToWorkRequired  704 non-null    object\n",
      " 6   desktopAdTemplate      694 non-null    object\n",
      " 7   Python                 816 non-null    int64 \n",
      " 8   SQL                    816 non-null    int64 \n",
      " 9   R                      816 non-null    int64 \n",
      " 10  Tableau                816 non-null    int64 \n",
      " 11  SAS                    816 non-null    int64 \n",
      " 12  Matlab                 816 non-null    int64 \n",
      " 13  Hadoop                 816 non-null    int64 \n",
      " 14  Spark                  816 non-null    int64 \n",
      " 15  Java                   816 non-null    int64 \n",
      " 16  Scala                  816 non-null    int64 \n",
      " 17  recruiter              816 non-null    int64 \n",
      " 18  state_encoded          816 non-null    int64 \n",
      "dtypes: int64(13), object(6)\n",
      "memory usage: 127.5+ KB\n"
     ]
    }
   ],
   "source": [
    "df.info()"
   ]
  },
  {
   "cell_type": "code",
   "execution_count": 25,
   "id": "97453b07",
   "metadata": {},
   "outputs": [],
   "source": [
    "# df.to_csv('df_salary_cleaned.csv')"
   ]
  },
  {
   "cell_type": "code",
   "execution_count": 26,
   "id": "48108cc0",
   "metadata": {},
   "outputs": [
    {
     "data": {
      "text/plain": [
       "array(['f', 't', nan], dtype=object)"
      ]
     },
     "execution_count": 26,
     "metadata": {},
     "output_type": "execute_result"
    }
   ],
   "source": [
    "df['isRightToWorkRequired'].unique()"
   ]
  },
  {
   "cell_type": "code",
   "execution_count": 27,
   "id": "5e845cc2",
   "metadata": {},
   "outputs": [],
   "source": [
    "import numpy as np\n",
    "from sklearn.preprocessing import LabelEncoder\n",
    "from scipy.stats import mode\n",
    "\n",
    "# Define a function to get mode of the column\n",
    "def get_mode(column):\n",
    "    return mode(column, nan_policy='omit')[0][0]\n",
    "\n",
    "# Replace the NaN values with the mode of the column\n",
    "mode_val = get_mode(df['isRightToWorkRequired'])\n",
    "df['isRightToWorkRequired'] = df['isRightToWorkRequired'].fillna(mode_val)\n",
    "\n",
    "# Create the LabelEncoder object\n",
    "le = LabelEncoder()\n",
    "\n",
    "# Fit the LabelEncoder object to the column\n",
    "le.fit(df['isRightToWorkRequired'])\n",
    "\n",
    "# Transform the column to label encoding\n",
    "column = le.transform(df['isRightToWorkRequired'])"
   ]
  },
  {
   "attachments": {},
   "cell_type": "markdown",
   "id": "4a7cb72b",
   "metadata": {},
   "source": [
    "fill missing value in isRightToworkRequired with mode"
   ]
  },
  {
   "cell_type": "code",
   "execution_count": 28,
   "id": "8bea4c0d",
   "metadata": {},
   "outputs": [],
   "source": [
    "# Import OrdinalEncoder from sklearn.preprocessing\n",
    "from sklearn.preprocessing import OrdinalEncoder,LabelEncoder,OneHotEncoder"
   ]
  },
  {
   "attachments": {},
   "cell_type": "markdown",
   "id": "b9cbcf9d",
   "metadata": {},
   "source": [
    "The state, workType columns use labelEncoder and jobClassification use Ordinalencoder"
   ]
  },
  {
   "cell_type": "code",
   "execution_count": 29,
   "id": "64391cd0",
   "metadata": {},
   "outputs": [
    {
     "data": {
      "text/plain": [
       "array(['f', 't'], dtype=object)"
      ]
     },
     "execution_count": 29,
     "metadata": {},
     "output_type": "execute_result"
    }
   ],
   "source": [
    "df['isRightToWorkRequired'].unique()"
   ]
  },
  {
   "cell_type": "code",
   "execution_count": 30,
   "id": "fb5573e3",
   "metadata": {},
   "outputs": [],
   "source": [
    "df['isRightToWorkRequired'] = df['isRightToWorkRequired'].replace({'f': 0, 't': 1})"
   ]
  },
  {
   "cell_type": "code",
   "execution_count": 31,
   "id": "a53b1503",
   "metadata": {},
   "outputs": [
    {
     "data": {
      "text/plain": [
       "array(['Full Time', 'Contract/Temp', 'Part Time', 'Casual/Vacation',\n",
       "       'Full time', 'Part time'], dtype=object)"
      ]
     },
     "execution_count": 31,
     "metadata": {},
     "output_type": "execute_result"
    }
   ],
   "source": [
    "df['workType'].unique()"
   ]
  },
  {
   "cell_type": "code",
   "execution_count": 32,
   "id": "483286fc",
   "metadata": {},
   "outputs": [],
   "source": [
    "df['workType'] = df['workType'].replace({'Full time': 'Full Time', 'Part time': 'Part Time'})"
   ]
  },
  {
   "cell_type": "code",
   "execution_count": 33,
   "id": "0f9e807a",
   "metadata": {
    "scrolled": true
   },
   "outputs": [
    {
     "data": {
      "text/plain": [
       "array(['Full Time', 'Contract/Temp', 'Part Time', 'Casual/Vacation'],\n",
       "      dtype=object)"
      ]
     },
     "execution_count": 33,
     "metadata": {},
     "output_type": "execute_result"
    }
   ],
   "source": [
    "df['workType'].unique()"
   ]
  },
  {
   "cell_type": "code",
   "execution_count": 34,
   "id": "a3bcbe72",
   "metadata": {},
   "outputs": [
    {
     "data": {
      "text/html": [
       "<div>\n",
       "<style scoped>\n",
       "    .dataframe tbody tr th:only-of-type {\n",
       "        vertical-align: middle;\n",
       "    }\n",
       "\n",
       "    .dataframe tbody tr th {\n",
       "        vertical-align: top;\n",
       "    }\n",
       "\n",
       "    .dataframe thead th {\n",
       "        text-align: right;\n",
       "    }\n",
       "</style>\n",
       "<table border=\"1\" class=\"dataframe\">\n",
       "  <thead>\n",
       "    <tr style=\"text-align: right;\">\n",
       "      <th></th>\n",
       "      <th>workType</th>\n",
       "      <th>workType_encoded</th>\n",
       "    </tr>\n",
       "  </thead>\n",
       "  <tbody>\n",
       "    <tr>\n",
       "      <th>2</th>\n",
       "      <td>Full Time</td>\n",
       "      <td>2</td>\n",
       "    </tr>\n",
       "    <tr>\n",
       "      <th>3</th>\n",
       "      <td>Full Time</td>\n",
       "      <td>2</td>\n",
       "    </tr>\n",
       "    <tr>\n",
       "      <th>7</th>\n",
       "      <td>Full Time</td>\n",
       "      <td>2</td>\n",
       "    </tr>\n",
       "    <tr>\n",
       "      <th>10</th>\n",
       "      <td>Full Time</td>\n",
       "      <td>2</td>\n",
       "    </tr>\n",
       "    <tr>\n",
       "      <th>11</th>\n",
       "      <td>Full Time</td>\n",
       "      <td>2</td>\n",
       "    </tr>\n",
       "    <tr>\n",
       "      <th>...</th>\n",
       "      <td>...</td>\n",
       "      <td>...</td>\n",
       "    </tr>\n",
       "    <tr>\n",
       "      <th>3854</th>\n",
       "      <td>Full Time</td>\n",
       "      <td>2</td>\n",
       "    </tr>\n",
       "    <tr>\n",
       "      <th>3864</th>\n",
       "      <td>Full Time</td>\n",
       "      <td>2</td>\n",
       "    </tr>\n",
       "    <tr>\n",
       "      <th>3880</th>\n",
       "      <td>Full Time</td>\n",
       "      <td>2</td>\n",
       "    </tr>\n",
       "    <tr>\n",
       "      <th>3891</th>\n",
       "      <td>Contract/Temp</td>\n",
       "      <td>1</td>\n",
       "    </tr>\n",
       "    <tr>\n",
       "      <th>3893</th>\n",
       "      <td>Full Time</td>\n",
       "      <td>2</td>\n",
       "    </tr>\n",
       "  </tbody>\n",
       "</table>\n",
       "<p>816 rows × 2 columns</p>\n",
       "</div>"
      ],
      "text/plain": [
       "           workType  workType_encoded\n",
       "2         Full Time                 2\n",
       "3         Full Time                 2\n",
       "7         Full Time                 2\n",
       "10        Full Time                 2\n",
       "11        Full Time                 2\n",
       "...             ...               ...\n",
       "3854      Full Time                 2\n",
       "3864      Full Time                 2\n",
       "3880      Full Time                 2\n",
       "3891  Contract/Temp                 1\n",
       "3893      Full Time                 2\n",
       "\n",
       "[816 rows x 2 columns]"
      ]
     },
     "execution_count": 34,
     "metadata": {},
     "output_type": "execute_result"
    }
   ],
   "source": [
    "workType_cats = [['Full Time', 'Contract/Temp', 'Part Time', 'Casual/Vacation']]\n",
    "Label = LabelEncoder()\n",
    "# Use our trained encoder to transform this column\n",
    "df['workType_encoded'] = Label.fit_transform(df[['workType']])\n",
    "\n",
    "# display the columns\n",
    "df[['workType','workType_encoded']]"
   ]
  },
  {
   "cell_type": "code",
   "execution_count": 35,
   "id": "65ab9e39",
   "metadata": {},
   "outputs": [],
   "source": [
    "df['workType']= df['workType_encoded']"
   ]
  },
  {
   "cell_type": "code",
   "execution_count": 36,
   "id": "953d507b",
   "metadata": {
    "scrolled": true
   },
   "outputs": [],
   "source": [
    "jobClassification_cats = [['Information & Communication Technology',\n",
    "       'Banking & Financial Services', 'Science & Technology',\n",
    "       'Education & Training', 'Government & Defence',\n",
    "       'Consulting & Strategy', 'Healthcare & Medical',\n",
    "       'Human Resources & Recruitment', 'Marketing & Communications',\n",
    "       'Retail & Consumer Products', 'Administration & Office Support',\n",
    "       'Accounting', 'Insurance & Superannuation',\n",
    "       'Mining, Resources & Energy', 'Real Estate & Property',\n",
    "       'Manufacturing, Transport & Logistics', 'Engineering']]\n",
    "jobClassification_cats_enc =OrdinalEncoder(categories=jobClassification_cats)\n",
    "# Use our trained encoder to transform this column\n",
    "df['jobClassification_encoded'] = jobClassification_cats_enc.fit_transform(df[['jobClassification']])\n",
    "\n",
    "# display the columns\n",
    "df[['jobClassification','jobClassification_encoded']]\n",
    "\n",
    "df['jobClassification'] = df['jobClassification_encoded']"
   ]
  },
  {
   "cell_type": "code",
   "execution_count": 37,
   "id": "4f8e002e",
   "metadata": {},
   "outputs": [
    {
     "name": "stdout",
     "output_type": "stream",
     "text": [
      "<class 'pandas.core.frame.DataFrame'>\n",
      "Int64Index: 639 entries, 2 to 3893\n",
      "Data columns (total 21 columns):\n",
      " #   Column                     Non-Null Count  Dtype  \n",
      "---  ------                     --------------  -----  \n",
      " 0   jobClassification          639 non-null    float64\n",
      " 1   state                      639 non-null    int64  \n",
      " 2   teaser                     541 non-null    object \n",
      " 3   workType                   639 non-null    int64  \n",
      " 4   salary_string              639 non-null    object \n",
      " 5   isRightToWorkRequired      639 non-null    int64  \n",
      " 6   desktopAdTemplate          538 non-null    object \n",
      " 7   Python                     639 non-null    int64  \n",
      " 8   SQL                        639 non-null    int64  \n",
      " 9   R                          639 non-null    int64  \n",
      " 10  Tableau                    639 non-null    int64  \n",
      " 11  SAS                        639 non-null    int64  \n",
      " 12  Matlab                     639 non-null    int64  \n",
      " 13  Hadoop                     639 non-null    int64  \n",
      " 14  Spark                      639 non-null    int64  \n",
      " 15  Java                       639 non-null    int64  \n",
      " 16  Scala                      639 non-null    int64  \n",
      " 17  recruiter                  639 non-null    int64  \n",
      " 18  state_encoded              639 non-null    int64  \n",
      " 19  workType_encoded           639 non-null    int64  \n",
      " 20  jobClassification_encoded  639 non-null    float64\n",
      "dtypes: float64(2), int64(16), object(3)\n",
      "memory usage: 109.8+ KB\n"
     ]
    }
   ],
   "source": [
    "select_fulltime = df.loc[df['workType'] == 2]\n",
    "select_fulltime.info()"
   ]
  },
  {
   "cell_type": "code",
   "execution_count": 38,
   "id": "114849de",
   "metadata": {},
   "outputs": [],
   "source": [
    "# df.to_csv('df_salary_fulltime.csv')"
   ]
  }
 ],
 "metadata": {
  "kernelspec": {
   "display_name": "Python 3 (ipykernel)",
   "language": "python",
   "name": "python3"
  },
  "language_info": {
   "codemirror_mode": {
    "name": "ipython",
    "version": 3
   },
   "file_extension": ".py",
   "mimetype": "text/x-python",
   "name": "python",
   "nbconvert_exporter": "python",
   "pygments_lexer": "ipython3",
   "version": "3.9.13"
  }
 },
 "nbformat": 4,
 "nbformat_minor": 5
}
