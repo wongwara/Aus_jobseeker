{
 "cells": [
  {
   "cell_type": "markdown",
   "id": "2213f886",
   "metadata": {},
   "source": [
    "## Text Classification\n",
    "\n",
    "This notebook demonstrates some basic NLP tasks for text analysis.\n",
    "\n",
    "Before applying Machine Learning algorithms we should clean and pre-process the text data. We'll use popular pre-processing techniques we've used earlier:\n",
    "\n",
    "* Text cleaning - removal of unnecessary characters like symbols, urls, emojis etc.\n",
    "\n",
    "* Stopword removal - removal of words that don't convey any meaning to the machine\n",
    "\n",
    "* Stemming - transforming derived words into the root words, thus reducing the feature space."
   ]
  },
  {
   "cell_type": "markdown",
   "id": "170d1927",
   "metadata": {},
   "source": [
    "### Import Library and Explore data"
   ]
  },
  {
   "cell_type": "code",
   "execution_count": 1,
   "id": "84457f28",
   "metadata": {},
   "outputs": [],
   "source": [
    "import numpy as np\n",
    "import pandas as pd\n",
    "# Load the datasets\n",
    "df = pd.read_csv(\"https://raw.githubusercontent.com/wongwara/Jobseeker_Baymax/main/dataset/listings2019_2022.csv\")"
   ]
  },
  {
   "cell_type": "code",
   "execution_count": 2,
   "id": "e20197c1",
   "metadata": {},
   "outputs": [],
   "source": [
    "import warnings\n",
    "warnings.filterwarnings(\"ignore\")"
   ]
  },
  {
   "cell_type": "code",
   "execution_count": 3,
   "id": "db80c6c3",
   "metadata": {},
   "outputs": [
    {
     "data": {
      "text/html": [
       "<div>\n",
       "<style scoped>\n",
       "    .dataframe tbody tr th:only-of-type {\n",
       "        vertical-align: middle;\n",
       "    }\n",
       "\n",
       "    .dataframe tbody tr th {\n",
       "        vertical-align: top;\n",
       "    }\n",
       "\n",
       "    .dataframe thead th {\n",
       "        text-align: right;\n",
       "    }\n",
       "</style>\n",
       "<table border=\"1\" class=\"dataframe\">\n",
       "  <thead>\n",
       "    <tr style=\"text-align: right;\">\n",
       "      <th></th>\n",
       "      <th>jobId</th>\n",
       "      <th>jobTitle</th>\n",
       "      <th>jobClassification</th>\n",
       "      <th>jobSubClassification</th>\n",
       "      <th>advertiserName</th>\n",
       "      <th>advertiserId</th>\n",
       "      <th>companyId</th>\n",
       "      <th>companyName</th>\n",
       "      <th>companyRating</th>\n",
       "      <th>listingDate</th>\n",
       "      <th>...</th>\n",
       "      <th>Haskell</th>\n",
       "      <th>Lisp</th>\n",
       "      <th>Golang</th>\n",
       "      <th>Spark</th>\n",
       "      <th>Javascript</th>\n",
       "      <th>F.</th>\n",
       "      <th>Fortran</th>\n",
       "      <th>first_seen</th>\n",
       "      <th>last_seen</th>\n",
       "      <th>recruiter</th>\n",
       "    </tr>\n",
       "  </thead>\n",
       "  <tbody>\n",
       "    <tr>\n",
       "      <th>0</th>\n",
       "      <td>38098375</td>\n",
       "      <td>Senior Method Development Immunoassay Scientis...</td>\n",
       "      <td>Science &amp; Technology</td>\n",
       "      <td>Biological &amp; Biomedical Sciences</td>\n",
       "      <td>Hobson Prior Australia</td>\n",
       "      <td>30969882</td>\n",
       "      <td>NaN</td>\n",
       "      <td>NaN</td>\n",
       "      <td>NaN</td>\n",
       "      <td>2019-01-16 12:17:41</td>\n",
       "      <td>...</td>\n",
       "      <td>0</td>\n",
       "      <td>0</td>\n",
       "      <td>0</td>\n",
       "      <td>0</td>\n",
       "      <td>0</td>\n",
       "      <td>0</td>\n",
       "      <td>0</td>\n",
       "      <td>2019-03-06</td>\n",
       "      <td>2019-03-11</td>\n",
       "      <td>1</td>\n",
       "    </tr>\n",
       "    <tr>\n",
       "      <th>1</th>\n",
       "      <td>38259053</td>\n",
       "      <td>Pricing Data Scientist - Lower North Shore</td>\n",
       "      <td>Information &amp; Communication Technology</td>\n",
       "      <td>Other</td>\n",
       "      <td>Randstad - Technologies</td>\n",
       "      <td>26537413</td>\n",
       "      <td>NaN</td>\n",
       "      <td>NaN</td>\n",
       "      <td>NaN</td>\n",
       "      <td>2019-02-04 13:02:22</td>\n",
       "      <td>...</td>\n",
       "      <td>0</td>\n",
       "      <td>0</td>\n",
       "      <td>0</td>\n",
       "      <td>0</td>\n",
       "      <td>0</td>\n",
       "      <td>0</td>\n",
       "      <td>0</td>\n",
       "      <td>2019-03-06</td>\n",
       "      <td>2019-03-06</td>\n",
       "      <td>1</td>\n",
       "    </tr>\n",
       "    <tr>\n",
       "      <th>2</th>\n",
       "      <td>38267899</td>\n",
       "      <td>Insights Analyst – Online Video Streaming</td>\n",
       "      <td>Information &amp; Communication Technology</td>\n",
       "      <td>Database Development &amp; Administration</td>\n",
       "      <td>Aurec</td>\n",
       "      <td>39407892</td>\n",
       "      <td>NaN</td>\n",
       "      <td>NaN</td>\n",
       "      <td>NaN</td>\n",
       "      <td>2019-02-05 11:33:08</td>\n",
       "      <td>...</td>\n",
       "      <td>0</td>\n",
       "      <td>0</td>\n",
       "      <td>0</td>\n",
       "      <td>0</td>\n",
       "      <td>0</td>\n",
       "      <td>0</td>\n",
       "      <td>0</td>\n",
       "      <td>2019-03-06</td>\n",
       "      <td>2019-03-07</td>\n",
       "      <td>1</td>\n",
       "    </tr>\n",
       "    <tr>\n",
       "      <th>3</th>\n",
       "      <td>38267995</td>\n",
       "      <td>Credit Risk Analyst</td>\n",
       "      <td>Banking &amp; Financial Services</td>\n",
       "      <td>Compliance &amp; Risk</td>\n",
       "      <td>Huxley Associates</td>\n",
       "      <td>26057722</td>\n",
       "      <td>NaN</td>\n",
       "      <td>NaN</td>\n",
       "      <td>NaN</td>\n",
       "      <td>2019-02-05 11:39:26</td>\n",
       "      <td>...</td>\n",
       "      <td>0</td>\n",
       "      <td>0</td>\n",
       "      <td>0</td>\n",
       "      <td>0</td>\n",
       "      <td>0</td>\n",
       "      <td>0</td>\n",
       "      <td>0</td>\n",
       "      <td>2019-03-06</td>\n",
       "      <td>2019-03-07</td>\n",
       "      <td>1</td>\n",
       "    </tr>\n",
       "    <tr>\n",
       "      <th>4</th>\n",
       "      <td>38269206</td>\n",
       "      <td>Data Scientist</td>\n",
       "      <td>Information &amp; Communication Technology</td>\n",
       "      <td>Database Development &amp; Administration</td>\n",
       "      <td>FinXL IT Professional Services</td>\n",
       "      <td>33086778</td>\n",
       "      <td>NaN</td>\n",
       "      <td>NaN</td>\n",
       "      <td>NaN</td>\n",
       "      <td>2019-02-05 12:54:11</td>\n",
       "      <td>...</td>\n",
       "      <td>0</td>\n",
       "      <td>0</td>\n",
       "      <td>0</td>\n",
       "      <td>0</td>\n",
       "      <td>0</td>\n",
       "      <td>0</td>\n",
       "      <td>0</td>\n",
       "      <td>2019-03-06</td>\n",
       "      <td>2019-03-07</td>\n",
       "      <td>0</td>\n",
       "    </tr>\n",
       "  </tbody>\n",
       "</table>\n",
       "<p>5 rows × 52 columns</p>\n",
       "</div>"
      ],
      "text/plain": [
       "      jobId                                           jobTitle  \\\n",
       "0  38098375  Senior Method Development Immunoassay Scientis...   \n",
       "1  38259053        Pricing Data Scientist - Lower North Shore    \n",
       "2  38267899          Insights Analyst – Online Video Streaming   \n",
       "3  38267995                                Credit Risk Analyst   \n",
       "4  38269206                                     Data Scientist   \n",
       "\n",
       "                        jobClassification  \\\n",
       "0                    Science & Technology   \n",
       "1  Information & Communication Technology   \n",
       "2  Information & Communication Technology   \n",
       "3            Banking & Financial Services   \n",
       "4  Information & Communication Technology   \n",
       "\n",
       "                    jobSubClassification                  advertiserName  \\\n",
       "0       Biological & Biomedical Sciences          Hobson Prior Australia   \n",
       "1                                  Other         Randstad - Technologies   \n",
       "2  Database Development & Administration                           Aurec   \n",
       "3                      Compliance & Risk               Huxley Associates   \n",
       "4  Database Development & Administration  FinXL IT Professional Services   \n",
       "\n",
       "   advertiserId  companyId companyName  companyRating          listingDate  \\\n",
       "0      30969882        NaN         NaN            NaN  2019-01-16 12:17:41   \n",
       "1      26537413        NaN         NaN            NaN  2019-02-04 13:02:22   \n",
       "2      39407892        NaN         NaN            NaN  2019-02-05 11:33:08   \n",
       "3      26057722        NaN         NaN            NaN  2019-02-05 11:39:26   \n",
       "4      33086778        NaN         NaN            NaN  2019-02-05 12:54:11   \n",
       "\n",
       "   ... Haskell Lisp Golang Spark Javascript F. Fortran  first_seen  \\\n",
       "0  ...       0    0      0     0          0  0       0  2019-03-06   \n",
       "1  ...       0    0      0     0          0  0       0  2019-03-06   \n",
       "2  ...       0    0      0     0          0  0       0  2019-03-06   \n",
       "3  ...       0    0      0     0          0  0       0  2019-03-06   \n",
       "4  ...       0    0      0     0          0  0       0  2019-03-06   \n",
       "\n",
       "    last_seen recruiter  \n",
       "0  2019-03-11         1  \n",
       "1  2019-03-06         1  \n",
       "2  2019-03-07         1  \n",
       "3  2019-03-07         1  \n",
       "4  2019-03-07         0  \n",
       "\n",
       "[5 rows x 52 columns]"
      ]
     },
     "execution_count": 3,
     "metadata": {},
     "output_type": "execute_result"
    }
   ],
   "source": [
    "df.head()"
   ]
  },
  {
   "cell_type": "code",
   "execution_count": 4,
   "id": "59cc027f",
   "metadata": {},
   "outputs": [
    {
     "data": {
      "text/html": [
       "<div>\n",
       "<style scoped>\n",
       "    .dataframe tbody tr th:only-of-type {\n",
       "        vertical-align: middle;\n",
       "    }\n",
       "\n",
       "    .dataframe tbody tr th {\n",
       "        vertical-align: top;\n",
       "    }\n",
       "\n",
       "    .dataframe thead th {\n",
       "        text-align: right;\n",
       "    }\n",
       "</style>\n",
       "<table border=\"1\" class=\"dataframe\">\n",
       "  <thead>\n",
       "    <tr style=\"text-align: right;\">\n",
       "      <th></th>\n",
       "      <th>jobId</th>\n",
       "      <th>jobTitle</th>\n",
       "      <th>jobClassification</th>\n",
       "      <th>jobSubClassification</th>\n",
       "      <th>advertiserName</th>\n",
       "      <th>advertiserId</th>\n",
       "      <th>companyId</th>\n",
       "      <th>companyName</th>\n",
       "      <th>companyRating</th>\n",
       "      <th>listingDate</th>\n",
       "      <th>...</th>\n",
       "      <th>Haskell</th>\n",
       "      <th>Lisp</th>\n",
       "      <th>Golang</th>\n",
       "      <th>Spark</th>\n",
       "      <th>Javascript</th>\n",
       "      <th>F.</th>\n",
       "      <th>Fortran</th>\n",
       "      <th>first_seen</th>\n",
       "      <th>last_seen</th>\n",
       "      <th>recruiter</th>\n",
       "    </tr>\n",
       "  </thead>\n",
       "  <tbody>\n",
       "    <tr>\n",
       "      <th>3897</th>\n",
       "      <td>55690796</td>\n",
       "      <td>Data Scientist | Closes 31 Jan | Citizenship r...</td>\n",
       "      <td>Information &amp; Communication Technology</td>\n",
       "      <td>Consultants</td>\n",
       "      <td>Continuum Recruitment</td>\n",
       "      <td>35055316</td>\n",
       "      <td>NaN</td>\n",
       "      <td>NaN</td>\n",
       "      <td>NaN</td>\n",
       "      <td>2022-01-25 09:45:42</td>\n",
       "      <td>...</td>\n",
       "      <td>0</td>\n",
       "      <td>0</td>\n",
       "      <td>0</td>\n",
       "      <td>0</td>\n",
       "      <td>0</td>\n",
       "      <td>0</td>\n",
       "      <td>0</td>\n",
       "      <td>2022-01-24</td>\n",
       "      <td>2022-01-25</td>\n",
       "      <td>1</td>\n",
       "    </tr>\n",
       "    <tr>\n",
       "      <th>3898</th>\n",
       "      <td>55693999</td>\n",
       "      <td>Senior Data Scientist</td>\n",
       "      <td>Information &amp; Communication Technology</td>\n",
       "      <td>Business/Systems Analysts</td>\n",
       "      <td>Toyota Finance Australia</td>\n",
       "      <td>39087537</td>\n",
       "      <td>786348.0</td>\n",
       "      <td>Toyota Financial Services</td>\n",
       "      <td>3.0</td>\n",
       "      <td>2022-01-25 12:01:05</td>\n",
       "      <td>...</td>\n",
       "      <td>0</td>\n",
       "      <td>0</td>\n",
       "      <td>0</td>\n",
       "      <td>0</td>\n",
       "      <td>0</td>\n",
       "      <td>0</td>\n",
       "      <td>0</td>\n",
       "      <td>2022-01-25</td>\n",
       "      <td>2022-01-25</td>\n",
       "      <td>0</td>\n",
       "    </tr>\n",
       "    <tr>\n",
       "      <th>3899</th>\n",
       "      <td>55698692</td>\n",
       "      <td>Data Scientist (Several)</td>\n",
       "      <td>Information &amp; Communication Technology</td>\n",
       "      <td>Other</td>\n",
       "      <td>Effective People</td>\n",
       "      <td>36422607</td>\n",
       "      <td>NaN</td>\n",
       "      <td>NaN</td>\n",
       "      <td>NaN</td>\n",
       "      <td>2022-01-25 15:15:39</td>\n",
       "      <td>...</td>\n",
       "      <td>0</td>\n",
       "      <td>0</td>\n",
       "      <td>0</td>\n",
       "      <td>0</td>\n",
       "      <td>0</td>\n",
       "      <td>0</td>\n",
       "      <td>0</td>\n",
       "      <td>2022-01-25</td>\n",
       "      <td>2022-01-25</td>\n",
       "      <td>0</td>\n",
       "    </tr>\n",
       "    <tr>\n",
       "      <th>3900</th>\n",
       "      <td>55700971</td>\n",
       "      <td>Machine Learning Data Scientist (PHD)</td>\n",
       "      <td>Science &amp; Technology</td>\n",
       "      <td>Mathematics, Statistics &amp; Information Sciences</td>\n",
       "      <td>Susquehanna Pacific Pty Ltd</td>\n",
       "      <td>20351243</td>\n",
       "      <td>NaN</td>\n",
       "      <td>NaN</td>\n",
       "      <td>NaN</td>\n",
       "      <td>2022-01-25 16:55:13</td>\n",
       "      <td>...</td>\n",
       "      <td>0</td>\n",
       "      <td>0</td>\n",
       "      <td>0</td>\n",
       "      <td>0</td>\n",
       "      <td>0</td>\n",
       "      <td>0</td>\n",
       "      <td>0</td>\n",
       "      <td>2022-01-25</td>\n",
       "      <td>2022-01-25</td>\n",
       "      <td>0</td>\n",
       "    </tr>\n",
       "    <tr>\n",
       "      <th>3901</th>\n",
       "      <td>55701106</td>\n",
       "      <td>Data Scientist</td>\n",
       "      <td>Science &amp; Technology</td>\n",
       "      <td>Mathematics, Statistics &amp; Information Sciences</td>\n",
       "      <td>Valrose</td>\n",
       "      <td>39090289</td>\n",
       "      <td>NaN</td>\n",
       "      <td>NaN</td>\n",
       "      <td>NaN</td>\n",
       "      <td>2022-01-25 17:00:57</td>\n",
       "      <td>...</td>\n",
       "      <td>0</td>\n",
       "      <td>0</td>\n",
       "      <td>0</td>\n",
       "      <td>0</td>\n",
       "      <td>0</td>\n",
       "      <td>0</td>\n",
       "      <td>0</td>\n",
       "      <td>2022-01-25</td>\n",
       "      <td>2022-01-25</td>\n",
       "      <td>1</td>\n",
       "    </tr>\n",
       "  </tbody>\n",
       "</table>\n",
       "<p>5 rows × 52 columns</p>\n",
       "</div>"
      ],
      "text/plain": [
       "         jobId                                           jobTitle  \\\n",
       "3897  55690796  Data Scientist | Closes 31 Jan | Citizenship r...   \n",
       "3898  55693999                              Senior Data Scientist   \n",
       "3899  55698692                           Data Scientist (Several)   \n",
       "3900  55700971              Machine Learning Data Scientist (PHD)   \n",
       "3901  55701106                                     Data Scientist   \n",
       "\n",
       "                           jobClassification  \\\n",
       "3897  Information & Communication Technology   \n",
       "3898  Information & Communication Technology   \n",
       "3899  Information & Communication Technology   \n",
       "3900                    Science & Technology   \n",
       "3901                    Science & Technology   \n",
       "\n",
       "                                jobSubClassification  \\\n",
       "3897                                     Consultants   \n",
       "3898                       Business/Systems Analysts   \n",
       "3899                                           Other   \n",
       "3900  Mathematics, Statistics & Information Sciences   \n",
       "3901  Mathematics, Statistics & Information Sciences   \n",
       "\n",
       "                   advertiserName  advertiserId  companyId  \\\n",
       "3897        Continuum Recruitment      35055316        NaN   \n",
       "3898     Toyota Finance Australia      39087537   786348.0   \n",
       "3899             Effective People      36422607        NaN   \n",
       "3900  Susquehanna Pacific Pty Ltd      20351243        NaN   \n",
       "3901                      Valrose      39090289        NaN   \n",
       "\n",
       "                    companyName  companyRating          listingDate  ...  \\\n",
       "3897                        NaN            NaN  2022-01-25 09:45:42  ...   \n",
       "3898  Toyota Financial Services            3.0  2022-01-25 12:01:05  ...   \n",
       "3899                        NaN            NaN  2022-01-25 15:15:39  ...   \n",
       "3900                        NaN            NaN  2022-01-25 16:55:13  ...   \n",
       "3901                        NaN            NaN  2022-01-25 17:00:57  ...   \n",
       "\n",
       "     Haskell Lisp Golang Spark Javascript F. Fortran  first_seen   last_seen  \\\n",
       "3897       0    0      0     0          0  0       0  2022-01-24  2022-01-25   \n",
       "3898       0    0      0     0          0  0       0  2022-01-25  2022-01-25   \n",
       "3899       0    0      0     0          0  0       0  2022-01-25  2022-01-25   \n",
       "3900       0    0      0     0          0  0       0  2022-01-25  2022-01-25   \n",
       "3901       0    0      0     0          0  0       0  2022-01-25  2022-01-25   \n",
       "\n",
       "     recruiter  \n",
       "3897         1  \n",
       "3898         0  \n",
       "3899         0  \n",
       "3900         0  \n",
       "3901         1  \n",
       "\n",
       "[5 rows x 52 columns]"
      ]
     },
     "execution_count": 4,
     "metadata": {},
     "output_type": "execute_result"
    }
   ],
   "source": [
    "df.tail(5)"
   ]
  },
  {
   "cell_type": "markdown",
   "id": "728f3094",
   "metadata": {},
   "source": [
    "# Text Cleaning"
   ]
  },
  {
   "cell_type": "markdown",
   "id": "c134a123",
   "metadata": {},
   "source": [
    "## Dealing with Punctuation, Numbers and Stopwords: NLTK and regular expressions"
   ]
  },
  {
   "cell_type": "markdown",
   "id": "7de1ba08",
   "metadata": {},
   "source": [
    "The four columns are called \"jobTitle\", \"teaser\", \"mobileAdTemplate\" and \"desktopAdTemplate\""
   ]
  },
  {
   "cell_type": "code",
   "execution_count": 5,
   "id": "be1af479",
   "metadata": {},
   "outputs": [],
   "source": [
    "import re \n",
    "# Define pipeline function to perform multiple cleaning steps on a given text\n",
    "def clean_text(text):\n",
    "    text = re.sub(r'[^\\w]', ' ', str(text)) # Remove symbols\n",
    "    text = re.sub(r'[ ]{2,}', ' ', str(text)) # Remove extra spaces\n",
    "    text = re.sub(r'[ \\t]+$', '', str(text)) # Remove trailing white spaces\n",
    "    text = re.sub(r'\\s+', ' ', text) # Remove newline (\\n)\n",
    "    text = re.sub(r\"\\'\", \"\", text) # Remove quotes\n",
    "    return text"
   ]
  },
  {
   "cell_type": "code",
   "execution_count": 6,
   "id": "decddb34",
   "metadata": {},
   "outputs": [],
   "source": [
    "# \"jobTitle\", \"teaser\", \"mobileAdTemplate\" and \"desktopAdTemplate\"\n",
    "df[\"jobTitle_cleaned\"] = df[\"jobTitle\"].apply(clean_text)\n",
    "df[\"teaser_cleaned\"] = df[\"teaser\"].apply(clean_text)\n",
    "df[\"mobileAdTemplate_cleaned\"] = df[\"mobileAdTemplate\"].apply(clean_text)\n",
    "df[\"desktopAdTemplate_cleaned\"] = df[\"desktopAdTemplate\"].apply(clean_text)"
   ]
  },
  {
   "cell_type": "code",
   "execution_count": 7,
   "id": "51d55ef6",
   "metadata": {},
   "outputs": [],
   "source": [
    "df[\"jobTitle_cleaned\"] = df[\"jobTitle_cleaned\"].str.lower()\n",
    "df[\"teaser_cleaned\"] = df[\"teaser_cleaned\"].str.lower()\n",
    "df[\"mobileAdTemplate_cleaned\"] = df[\"mobileAdTemplate_cleaned\"].str.lower()\n",
    "df[\"desktopAdTemplate_cleaned\"] = df[\"desktopAdTemplate_cleaned\"].str.lower()"
   ]
  },
  {
   "cell_type": "code",
   "execution_count": 8,
   "id": "d7ef541f",
   "metadata": {},
   "outputs": [],
   "source": [
    "from nltk.corpus import stopwords"
   ]
  },
  {
   "cell_type": "code",
   "execution_count": 9,
   "id": "cbf75d58",
   "metadata": {},
   "outputs": [],
   "source": [
    "stop_words = stopwords.words('english')\n",
    "\n",
    "def remove_stopwords(text):\n",
    "    useful_words = []\n",
    "    for i in text.split():\n",
    "        if i.strip().lower() not in stop_words:\n",
    "            useful_words.append(i.strip())\n",
    "    return \" \".join(useful_words)"
   ]
  },
  {
   "cell_type": "code",
   "execution_count": 10,
   "id": "3ac9abc7",
   "metadata": {},
   "outputs": [],
   "source": [
    "df[\"jobTitle_cleaned\"] = df[\"jobTitle_cleaned\"].apply(remove_stopwords)\n",
    "df[\"teaser_cleaned\"] = df[\"teaser_cleaned\"].apply(remove_stopwords)\n",
    "df[\"mobileAdTemplate_cleaned\"] = df[\"mobileAdTemplate_cleaned\"].apply(remove_stopwords)\n",
    "df[\"desktopAdTemplate_cleaned\"] = df[\"desktopAdTemplate_cleaned\"].apply(remove_stopwords)"
   ]
  },
  {
   "cell_type": "code",
   "execution_count": 11,
   "id": "f2c1dbca",
   "metadata": {},
   "outputs": [],
   "source": [
    "# Convert to string\n",
    "text_title = df[\"jobTitle_cleaned\"].to_string()\n",
    "text_teaser = df[\"teaser_cleaned\"].to_string()\n",
    "text_mobile = df[\"mobileAdTemplate_cleaned\"].to_string()\n",
    "text_desktop = df[\"desktopAdTemplate_cleaned\"].to_string()"
   ]
  },
  {
   "cell_type": "code",
   "execution_count": 12,
   "id": "eeb19e65",
   "metadata": {},
   "outputs": [],
   "source": [
    "from nltk.tokenize import word_tokenize #Tokenizing a sentence (breaking it into individual “words”) \n",
    "from nltk.stem import PorterStemmer\n",
    "\n",
    "# Using the Porter Stemmer\n",
    "# allows us to remove the prefixes, suffixes from a word and and change it to its base form\n",
    "porter = PorterStemmer()\n",
    "text_title = porter.stem(text_title)\n",
    "text_teaser = porter.stem(text_teaser)"
   ]
  },
  {
   "cell_type": "code",
   "execution_count": 13,
   "id": "d96aab2c",
   "metadata": {},
   "outputs": [],
   "source": [
    "text_mobile = porter.stem(text_mobile)\n",
    "text_desktop = porter.stem(text_desktop)"
   ]
  },
  {
   "cell_type": "code",
   "execution_count": 14,
   "id": "6fcf85f2",
   "metadata": {},
   "outputs": [],
   "source": [
    "text_title = word_tokenize(text_title)\n",
    "text_teaser = word_tokenize(text_teaser)\n",
    "text_mobile = word_tokenize(text_mobile)\n",
    "text_desktop = word_tokenize(text_desktop)"
   ]
  },
  {
   "cell_type": "markdown",
   "id": "00282e63",
   "metadata": {},
   "source": [
    "Note: Both stemming and lemmatization shrink the vocabulary space. Creating the stem or lemma \"run\" by combining the words \"running,\" \"runner,\" and \"runs.\" The fundamental type of inflected words are produced by both stemming and lemmatization; the only difference is that stem may or may not be an actual word, whereas lemma is an actual language term. Stemming employs an algorithm to perform steps on words, making it faster."
   ]
  },
  {
   "cell_type": "markdown",
   "id": "13f472b0",
   "metadata": {},
   "source": [
    "The below table is our data set after we cleaned it."
   ]
  },
  {
   "cell_type": "code",
   "execution_count": 15,
   "id": "d9c245a9",
   "metadata": {},
   "outputs": [
    {
     "data": {
      "text/html": [
       "<div>\n",
       "<style scoped>\n",
       "    .dataframe tbody tr th:only-of-type {\n",
       "        vertical-align: middle;\n",
       "    }\n",
       "\n",
       "    .dataframe tbody tr th {\n",
       "        vertical-align: top;\n",
       "    }\n",
       "\n",
       "    .dataframe thead th {\n",
       "        text-align: right;\n",
       "    }\n",
       "</style>\n",
       "<table border=\"1\" class=\"dataframe\">\n",
       "  <thead>\n",
       "    <tr style=\"text-align: right;\">\n",
       "      <th></th>\n",
       "      <th>jobId</th>\n",
       "      <th>jobTitle</th>\n",
       "      <th>jobClassification</th>\n",
       "      <th>jobSubClassification</th>\n",
       "      <th>advertiserName</th>\n",
       "      <th>advertiserId</th>\n",
       "      <th>companyId</th>\n",
       "      <th>companyName</th>\n",
       "      <th>companyRating</th>\n",
       "      <th>listingDate</th>\n",
       "      <th>...</th>\n",
       "      <th>Javascript</th>\n",
       "      <th>F.</th>\n",
       "      <th>Fortran</th>\n",
       "      <th>first_seen</th>\n",
       "      <th>last_seen</th>\n",
       "      <th>recruiter</th>\n",
       "      <th>jobTitle_cleaned</th>\n",
       "      <th>teaser_cleaned</th>\n",
       "      <th>mobileAdTemplate_cleaned</th>\n",
       "      <th>desktopAdTemplate_cleaned</th>\n",
       "    </tr>\n",
       "  </thead>\n",
       "  <tbody>\n",
       "    <tr>\n",
       "      <th>1119</th>\n",
       "      <td>40209806</td>\n",
       "      <td>Data Scientist</td>\n",
       "      <td>Information &amp; Communication Technology</td>\n",
       "      <td>Database Development &amp; Administration</td>\n",
       "      <td>Evergen</td>\n",
       "      <td>34665346</td>\n",
       "      <td>NaN</td>\n",
       "      <td>NaN</td>\n",
       "      <td>NaN</td>\n",
       "      <td>2019-10-21 15:26:01</td>\n",
       "      <td>...</td>\n",
       "      <td>0</td>\n",
       "      <td>0</td>\n",
       "      <td>0</td>\n",
       "      <td>2019-10-21</td>\n",
       "      <td>2019-11-20</td>\n",
       "      <td>0</td>\n",
       "      <td>data scientist</td>\n",
       "      <td>evergen data scientist well backed 4 year old ...</td>\n",
       "      <td>evergen data scientist well backed 4 year old ...</td>\n",
       "      <td>nan</td>\n",
       "    </tr>\n",
       "    <tr>\n",
       "      <th>3699</th>\n",
       "      <td>55200537</td>\n",
       "      <td>Data Scientist</td>\n",
       "      <td>Education &amp; Training</td>\n",
       "      <td>Other</td>\n",
       "      <td>La Trobe University</td>\n",
       "      <td>20522766</td>\n",
       "      <td>432458.0</td>\n",
       "      <td>La Trobe University</td>\n",
       "      <td>3.1000</td>\n",
       "      <td>2021-12-01 17:15:47</td>\n",
       "      <td>...</td>\n",
       "      <td>0</td>\n",
       "      <td>0</td>\n",
       "      <td>0</td>\n",
       "      <td>2021-12-01</td>\n",
       "      <td>2021-12-03</td>\n",
       "      <td>0</td>\n",
       "      <td>data scientist</td>\n",
       "      <td>nan</td>\n",
       "      <td>full time continuing located melbourne bundoor...</td>\n",
       "      <td>full time continuing located melbourne bundoor...</td>\n",
       "    </tr>\n",
       "    <tr>\n",
       "      <th>2777</th>\n",
       "      <td>52693435</td>\n",
       "      <td>Principle Data Scientist</td>\n",
       "      <td>Information &amp; Communication Technology</td>\n",
       "      <td>Architects</td>\n",
       "      <td>Coles</td>\n",
       "      <td>21742758</td>\n",
       "      <td>433124.0</td>\n",
       "      <td>Coles Group</td>\n",
       "      <td>2.9419</td>\n",
       "      <td>2021-06-25 16:00:07</td>\n",
       "      <td>...</td>\n",
       "      <td>0</td>\n",
       "      <td>0</td>\n",
       "      <td>0</td>\n",
       "      <td>2021-06-25</td>\n",
       "      <td>2021-07-09</td>\n",
       "      <td>0</td>\n",
       "      <td>principle data scientist</td>\n",
       "      <td>working across entire advanced analytics team ...</td>\n",
       "      <td>coles supermarkets hawthorn east requisition i...</td>\n",
       "      <td>coles supermarkets hawthorn east requisition i...</td>\n",
       "    </tr>\n",
       "    <tr>\n",
       "      <th>1643</th>\n",
       "      <td>50030828</td>\n",
       "      <td>Data Scientist Practice Lead - Brisbane</td>\n",
       "      <td>Information &amp; Communication Technology</td>\n",
       "      <td>Architects</td>\n",
       "      <td>Talenza</td>\n",
       "      <td>37849505</td>\n",
       "      <td>NaN</td>\n",
       "      <td>NaN</td>\n",
       "      <td>NaN</td>\n",
       "      <td>2020-06-01 13:41:20</td>\n",
       "      <td>...</td>\n",
       "      <td>0</td>\n",
       "      <td>0</td>\n",
       "      <td>0</td>\n",
       "      <td>2020-06-01</td>\n",
       "      <td>2020-07-01</td>\n",
       "      <td>1</td>\n",
       "      <td>data scientist practice lead brisbane</td>\n",
       "      <td>data scientist able guide strategy provide tho...</td>\n",
       "      <td>senior data scientist data scientist lead need...</td>\n",
       "      <td>data scientist practice lead brisbane senior d...</td>\n",
       "    </tr>\n",
       "    <tr>\n",
       "      <th>635</th>\n",
       "      <td>39240169</td>\n",
       "      <td>Data Scientist</td>\n",
       "      <td>Information &amp; Communication Technology</td>\n",
       "      <td>Engineering - Software</td>\n",
       "      <td>Accenture</td>\n",
       "      <td>18398410</td>\n",
       "      <td>NaN</td>\n",
       "      <td>Accenture</td>\n",
       "      <td>NaN</td>\n",
       "      <td>2019-06-13 12:28:15</td>\n",
       "      <td>...</td>\n",
       "      <td>0</td>\n",
       "      <td>0</td>\n",
       "      <td>0</td>\n",
       "      <td>2019-06-13</td>\n",
       "      <td>2019-07-13</td>\n",
       "      <td>0</td>\n",
       "      <td>data scientist</td>\n",
       "      <td>unleash power digital drive growth create new ...</td>\n",
       "      <td>flexible work arrangements meet needs work lea...</td>\n",
       "      <td>data scientist flexible work arrangements meet...</td>\n",
       "    </tr>\n",
       "  </tbody>\n",
       "</table>\n",
       "<p>5 rows × 56 columns</p>\n",
       "</div>"
      ],
      "text/plain": [
       "         jobId                                 jobTitle  \\\n",
       "1119  40209806                           Data Scientist   \n",
       "3699  55200537                           Data Scientist   \n",
       "2777  52693435                 Principle Data Scientist   \n",
       "1643  50030828  Data Scientist Practice Lead - Brisbane   \n",
       "635   39240169                           Data Scientist   \n",
       "\n",
       "                           jobClassification  \\\n",
       "1119  Information & Communication Technology   \n",
       "3699                    Education & Training   \n",
       "2777  Information & Communication Technology   \n",
       "1643  Information & Communication Technology   \n",
       "635   Information & Communication Technology   \n",
       "\n",
       "                       jobSubClassification       advertiserName  \\\n",
       "1119  Database Development & Administration              Evergen   \n",
       "3699                                  Other  La Trobe University   \n",
       "2777                             Architects                Coles   \n",
       "1643                             Architects              Talenza   \n",
       "635                  Engineering - Software            Accenture   \n",
       "\n",
       "      advertiserId  companyId          companyName  companyRating  \\\n",
       "1119      34665346        NaN                  NaN            NaN   \n",
       "3699      20522766   432458.0  La Trobe University         3.1000   \n",
       "2777      21742758   433124.0          Coles Group         2.9419   \n",
       "1643      37849505        NaN                  NaN            NaN   \n",
       "635       18398410        NaN            Accenture            NaN   \n",
       "\n",
       "              listingDate  ... Javascript F. Fortran  first_seen   last_seen  \\\n",
       "1119  2019-10-21 15:26:01  ...          0  0       0  2019-10-21  2019-11-20   \n",
       "3699  2021-12-01 17:15:47  ...          0  0       0  2021-12-01  2021-12-03   \n",
       "2777  2021-06-25 16:00:07  ...          0  0       0  2021-06-25  2021-07-09   \n",
       "1643  2020-06-01 13:41:20  ...          0  0       0  2020-06-01  2020-07-01   \n",
       "635   2019-06-13 12:28:15  ...          0  0       0  2019-06-13  2019-07-13   \n",
       "\n",
       "     recruiter                       jobTitle_cleaned  \\\n",
       "1119         0                         data scientist   \n",
       "3699         0                         data scientist   \n",
       "2777         0               principle data scientist   \n",
       "1643         1  data scientist practice lead brisbane   \n",
       "635          0                         data scientist   \n",
       "\n",
       "                                         teaser_cleaned  \\\n",
       "1119  evergen data scientist well backed 4 year old ...   \n",
       "3699                                                nan   \n",
       "2777  working across entire advanced analytics team ...   \n",
       "1643  data scientist able guide strategy provide tho...   \n",
       "635   unleash power digital drive growth create new ...   \n",
       "\n",
       "                               mobileAdTemplate_cleaned  \\\n",
       "1119  evergen data scientist well backed 4 year old ...   \n",
       "3699  full time continuing located melbourne bundoor...   \n",
       "2777  coles supermarkets hawthorn east requisition i...   \n",
       "1643  senior data scientist data scientist lead need...   \n",
       "635   flexible work arrangements meet needs work lea...   \n",
       "\n",
       "                              desktopAdTemplate_cleaned  \n",
       "1119                                                nan  \n",
       "3699  full time continuing located melbourne bundoor...  \n",
       "2777  coles supermarkets hawthorn east requisition i...  \n",
       "1643  data scientist practice lead brisbane senior d...  \n",
       "635   data scientist flexible work arrangements meet...  \n",
       "\n",
       "[5 rows x 56 columns]"
      ]
     },
     "execution_count": 15,
     "metadata": {},
     "output_type": "execute_result"
    }
   ],
   "source": [
    "df.sample(5)"
   ]
  },
  {
   "cell_type": "code",
   "execution_count": 16,
   "id": "4ec9b0bb",
   "metadata": {},
   "outputs": [
    {
     "data": {
      "text/plain": [
       "['senior',\n",
       " 'data',\n",
       " 'data',\n",
       " 'senior',\n",
       " '1314',\n",
       " 'scientist',\n",
       " 'model',\n",
       " 'cloud',\n",
       " '2612',\n",
       " 'senior']"
      ]
     },
     "execution_count": 16,
     "metadata": {},
     "output_type": "execute_result"
    }
   ],
   "source": [
    "# Sample of what is inside the text_tokenizer list\n",
    "import random\n",
    "random.sample(text_title,10)"
   ]
  },
  {
   "cell_type": "code",
   "execution_count": 17,
   "id": "f5e7185d",
   "metadata": {},
   "outputs": [
    {
     "data": {
      "text/plain": [
       "['financial',\n",
       " 'management',\n",
       " 'consultancy',\n",
       " 'looking',\n",
       " '1054',\n",
       " 'rolethis',\n",
       " 'analyse',\n",
       " 'sa',\n",
       " '1099',\n",
       " '...']"
      ]
     },
     "execution_count": 17,
     "metadata": {},
     "output_type": "execute_result"
    }
   ],
   "source": [
    "random.sample(text_mobile,10)"
   ]
  },
  {
   "cell_type": "markdown",
   "id": "c1938902",
   "metadata": {},
   "source": [
    "The four columns are called \"jobTitle\", \"teaser\", \"mobileAdTemplate\" and \"desktopAdTemplate\" Now that you've read the data set, take a look at a few jobTitle:"
   ]
  },
  {
   "cell_type": "markdown",
   "id": "d946aa6a",
   "metadata": {},
   "source": [
    "It can be seen that there are still numeric characters in the list. We have to remove it."
   ]
  },
  {
   "cell_type": "code",
   "execution_count": 18,
   "id": "e98f4709",
   "metadata": {},
   "outputs": [
    {
     "name": "stdout",
     "output_type": "stream",
     "text": [
      "['', 'senior', 'method', 'development', 'immunoassay', 'scientis', '...', '', 'pricing', 'data', 'scientist', 'lower', 'north', 'shore', '', 'insights', 'analyst', 'online', 'video', 'streaming', '', 'credit', 'risk', 'analyst', '', 'data', 'scientist', '', 'data', 'scientist', '', 'data', 'scientist', '', 'data', 'scientist', '', 'senior', 'data', 'scientist', '', 'data', 'scientist', '', 'postdoctoral', 'fellow', '', 'postdoctoral', 'fellow', '', 'data', 'scientist', '', 'data', 'scientist', '', 'data', 'scientist', 'higher', 'education', '', 'data', 'scientist', '', 'data', 'scientist', '', 'data', 'science', 'management', 'consultant', '', 'data', 'engineer', 'big', 'data', '', 'data', 'scientist', '', 'data', 'scientist', '', 'senior', 'data', 'scientist', '', 'data', 'analyst', 'scientist', '', 'data', 'analyst', 'data', 'scientist', '', 'data', 'science', 'manager', '', 'data', 'administrator', 'data', 'engineer', '', 'data', 'scientist', 'sponsorship', 'available', '', 'data', 'scientist', '', 'statistician', 'data', 'scientist', 'analytics', 'machine', '...', '', 'scientist', 'gmp', 'stability', '', 'data', 'scientist', '', 'data', 'analyst', '', 'data', 'integration', 'developer', 'etl', '', 'p', '', 'data', 'analyst', 'wealth', 'management', '', 'aps', 'el', 'data', 'scientist', '', 'intermediate', 'data', 'scientist', '', 'data', 'scientist', '', 'data', 'scientist', 'greenfield', '', 'data', 'integration', 'developer', 'etl', '', 'p', '', 'data', 'scientist', '', 'data', 'scientist', '', 'dairy', 'product', 'development', 'formulation', 'r', 'food', 't', '...', '', 'software', 'engineer', '', 'data', 'scientist', '', 'data', 'analyst', 'financial', 'services', '', 'junior', 'data', 'scientist', '', 'data', 'scientist', '', 'junior', 'data', 'scientist', '', 'data', 'scientist', '', 'data', 'scientist', '', 'data', 'insights', 'analyst', '', 'research', 'scientist', 'computer', 'vision', '', 'research', 'scientist', 'computer', 'vision', '', 'senior', 'research', 'scientist', 'computer', 'vision', '', 'senior', 'research', 'scientist', 'computer', 'vision', '', 'data', 'scientist', '', 'fisheries', 'scientist', '', 'data', 'scientist', 'analytics', '', 'big', 'data', 'engineer', '', 'data', 'modeller', 'fianancial', 'services', '', 'graduate', 'data', 'scientist', '', 'data', 'scientist', '', 'graduate', 'cloud', 'platform', 'engineer', '', 'senior', 'data', 'engineer', 'software', 'start', 'well', 'funded', '', 'data', 'science', 'consultant', '', 'senior', 'data', 'scientist', '', 'senior', 'data', 'scientist', '', 'data', 'modeller', 'erwin', 'financial', 'services', '', 'data', 'scientist', '', 'senior', 'java', 'developers', '', 'head', 'data', 'science', '', 'data', 'scientist', '', 'data', 'scientist', '', 'graduate', 'data', 'scientist', 'data', 'analyst', '', 'lead', 'data', 'scientist', '', 'data', 'scientist', 'immediately', 'available', '', 'data', 'scientist', '', 'data', 'modeller', 'erwin', 'financial', 'services', '', 'senior', 'data', 'scientist', '', 'senior', 'data', 'scientist', '', 'senior', 'data', 'scientist', '', 'data', 'scientist', 'australia', '', 'data', 'scientist', '', 'senior', 'data', 'analytics', 'consultant', '', 'data', 'scientist', '', 'data', 'scientist', 'analyst', '', 'data', 'scientist', '', 'principal', 'data', 'science', 'architect', '', 'data', 'scientist', '', 'senior', 'data', 'scientist', '', 'data', 'modeller', 'erwin', 'financial', 'services', '', 'health', 'scientist', '', 'artificial', 'intelligence', 'researcher', '', 'data', 'scientist', 'customer', 'insights', 'analyst', '', 'research', 'scientist', 'materials', 'science', 'engineering', '', 'junior', 'data', 'scientist', '', 'lead', 'modelling', 'analyst', '', 'lead', 'modelling', 'analyst', '', 'lead', 'senior', 'data', 'scientist', '', 'senior', 'data', 'scientist', '', 'senior', 'data', 'scientist', '', 'nsw', 'government', 'data', 'analytics', 'associate', 'director', '', 'server', 'specialist', 'knime', '', 'technical', 'lead', 'data', 'science', '', 'data', 'reporting', 'analyst', '', 'data', 'scientist', 'analyst', '', 'statistician', 'data', 'scientist', 'analytics', 'machine', '...', '', 'junior', 'data', 'scientist', 'credit', 'risk', 'experience', 'n', '...', '', 'senior', 'method', 'development', 'scientist', 'immunoassay', '', 'data', 'engineer', '', 'data', 'modeller', 'erwin', 'financial', 'services', '', 'data', 'scientist', 'big', 'data', '', 'client', 'side', 'data', 'scientist', 'melbourne', 'cbd', 'us', 'te', '...', '', 'analyst', 'developer', '', 'materials', 'development', 'scientist', '', 'senior', 'data', 'scientist', 'customer', 'marketing', 'analy', '...', '', 'research', 'scientist', 'materials', 'science', 'engineering', '', 'environmental', 'agricultural', 'scientist', 'engineer', '', 'graduate', 'environmental', 'scientist', 'engineer', '', 'senior', 'data', 'scientist', '', 'data', 'scientist', 'open', 'work', 'brisbane', '', 'data', 'scientist', '', 'data', 'scientist', 'open', 'work', 'brisbane', '', 'analyst', 'developer', '', 'data', 'scientist', '', 'senior', 'data', 'scientist', 'sports', 'modelling', 'horses', '', 'senior', 'data', 'analyst', 'data', 'scientist', '', 'senior', 'data', 'analyst', 'data', 'scientist', '', 'senior', 'data', 'analyst', 'data', 'scientist', '', 'senior', 'data', 'scientist', '', 'junior', 'data', 'scientist', 'media', 'marketing', 'mix', '', 'data', 'scientist', '', 'senior', 'data', 'scientist', '', 'customer', 'insights', 'analyst', 'loyalty', '', 'data', 'scientist', '', 'senior', 'consultant', 'bi', 'analytics', 'melbourne', '', 'senior', 'data', 'scientist', '', 'data', 'scientist', '', 'big', 'data', 'engineer', '', 'research', 'scientist', 'health', 'data', 'interoperability', '', 'research', 'scientist', 'health', 'data', 'interoperability', '', 'chief', 'data', 'scientist', '', 'data', 'science', 'lead', 'manager', '', 'data', 'scientist', 'financial', 'markets', '', 'data', 'scientist', '', 'data', 'scientist', '', 'data', 'scientist', 'unstructured', 'data', 'modelling', '', 'data', 'scientist', '', 'data', 'scientist', '', 'data', 'scientist', '', 'data', 'scientist', '', 'data', 'scientist', '', 'data', 'scientist', '', 'data', 'scientist', '', 'data', 'scientist', '', 'data', 'scientist', '', 'data', 'analyst', 'scientist', '', 'data', 'scientist', '', 'data', 'science', 'consultant', '', 'quantitative', 'fisheries', 'scientist', '', 'quantitative', 'fisheries', 'scientist', '', 'climate', 'research', 'scientist', '', 'data', 'scientist', '', 'people', 'insights', 'analyst', 'lip', 'service', 'genuine', 'in', '...', '', 'senior', 'medical', 'laboratory', 'scientist', 'ic', 'anatomi', '...', '', 'senior', 'mr', 'scientist', '', 'data', 'scientist', '', 'data', 'scientist', '', 'data', 'scientist', 'mathematician', '', 'principal', 'data', 'scientist', 'ad', '', 'data', 'scientist', '', 'laboratory', 'manager', 'cidmls', '', 'data', 'scientist', '', 'data', 'scientist', '', 'data', 'scientist', '', 'data', 'scientist', '', 'data', 'administrator', 'data', 'engineer', '', 'data', 'scientist', '', 'risk', 'analytics', 'manager', 'data', 'platform', 'engineer', '', 'data', 'scientist', '', 'data', 'scientist', '', 'remote', 'sensing', 'scientist', '', 'remote', 'sensing', 'scientist', '', 'senior', 'full', 'stack', 'php', 'developer', 'insur', 'tech', '', 'bi', 'analyst', '', 'senior', 'data', 'scientist', '', 'data', 'scientist', '', 'data', 'scientist', 'mathematician', '', '', 'cimic', 'graduate', 'program', 'graduate', 'data', 'scie', '...', '', '', 'cimic', 'graduate', 'program', 'ugl', 'graduate', 'data', '...', '', 'data', 'scientist', 'consultant', '', 'lead', 'data', 'scientist', 'brisbane', '', 'data', 'scientist', '', 'data', 'scientist', '', 'data', 'scientist', '', 'data', 'scientist', '', 'data', 'scientist', '', 'data', 'scientist', '', 'data', 'scientist', '', 'data', 'scientist', '', 'data', 'scientist', '', 'principal', 'analyst', 'data', 'sceintist', '', 'principal', 'analyst', 'data', 'sceintist', '', 'data', 'scientist', '', 'data', 'scientist', '', 'data', 'scientist', 'nlp', 'specialist', '', 'data', 'scientist', '', 'data', 'scientist', '', 'senior', 'data', 'scientist', '', 'data', 'scientist', '', 'quantitative', 'developer', 'data', 'scientist', 'financia', '...', '', 'market', 'surveillance', 'data', 'scientist', '', 'data', 'scientist', '', 'data', 'scientist', '', 'data', 'scientist', '', 'senior', 'data', 'scientist', 'aconex', '', 'data', 'scientist', 'financial', 'markets', '', 'lead', 'data', 'scientist', 'aconex', '', 'data', 'scientist', 'mathematician', '', 'data', 'scientist', 'top', 'asx', 'company', '', 'data', 'scientist', 'financial', 'markets', '', 'senior', 'data', 'scientist', 'melbourne', 'package', 'c', 'k', '', 'senior', 'data', 'scientist', '', 'data', 'scientist', '', 'data', 'scientist', '', 'data', 'scientist', '', 'consultant', 'data', 'scientist', '', 'data', 'scientist', '', 'data', 'scientist', '', 'data', 'scientist', 'modelling', 'focus', '', 'data', 'scientist', '', 'specialist', 'data', 'scientist', '', 'manager', 'data', 'scientist', 'life', 'insurance', '', 'senior', 'data', 'scientist', '', 'senior', 'data', 'scientist', '', 'data', 'scientist', 'machine', 'learning', 'contract', '', 'data', 'scientist', '', 'data', 'scientist', '', 'senior', 'data', 'scientist', 'australia', 'software', '', 'data', 'scientist', '', 'data', 'scientist', 'insights', 'analyst', '', 'data', 'scientist', 'global', 'company', 'solve', 'futuristic', '...', '', 'senior', 'data', 'scientist', '', 'senior', 'data', 'scientist', '', 'data', 'scientist', '', 'data', 'scientist', '', 'data', 'scientist', '', 'data', 'scientist', '', 'data', 'scientist', '', 'data', 'scientist', '', 'data', 'scientist', 'intermediate', '', 'data', 'scientist', 'intermediate', '', 'data', 'scientist', '', 'data', 'scientist', 'intermediate', '', 'data', 'scientist', 'multiple', 'roles', '', 'data', 'scientist', '', 'data', 'scientist', '', 'data', 'scientist', '', 'data', 'scientist', '', 'data', 'scientist', '', 'data', 'scientist', '', 'data', 'scientist', '', 'data', 'scientist', '', 'data', 'scientist', 'lead', 'flybuys', '', 'data', 'scientist', '', 'data', 'scientist', '', 'data', 'scientist', '', 'data', 'scientist', '', 'data', 'scientist', 'risk', 'analytics', '', 'data', 'scientist', 'financial', 'markets', '', 'data', 'scientist', '', 'data', 'scientist', '', 'data', 'scientist', '', 'senior', 'data', 'scientist', '', 'month', 'project', '', 'data', 'scientist', '', 'senior', 'data', 'scientist', '', 'data', 'scientist', '', 'data', 'scientist', '', 'month', 'contract', '', 'data', 'scientist', '', 'senior', 'data', 'scientist', '', 'data', 'scientist', '', 'data', 'scientist', 'small', 'consultancy', 'k', 'k', 'super', '', 'junior', 'data', 'scientist', '', 'data', 'scientist', '', 'month', 'contract', '', 'data', 'scientist', '', 'data', 'scientist', '', 'senior', 'data', 'scientist', '', 'senior', 'data', 'scientist', 'sydney', 'package', 'c', 'k', '', 'data', 'scientist', '', 'data', 'scientist', '', 'data', 'scientist', '', 'data', 'scientist', '', 'month', 'contract', '', 'data', 'scientist', 'short', '', 'week', 'contract', '', 'data', 'scientist', 'short', '', 'week', 'contract', '', 'senior', 'data', 'scientist', '', 'data', 'science', 'consultant', 'analyst', '', 'data', 'scientist', 'modelling', 'specialist', '', 'data', 'scientist', 'get', 'much', 'better', '', '', 'x', 'contract', 'data', 'scientists', 'market', 'leading', 'an', '...', '', 'data', 'scientist', '', 'data', 'scientist', '', 'data', 'scientist', '', 'data', 'scientist', '', 'data', 'scientist', 'advanced', 'analytics', 'insight', 'cons', '...', '', 'data', 'scientist', 'adelaide', '', 'senior', 'data', 'scientist', '', 'contract', 'data', 'scientist', 'recommendation', 'systems', '...', '', 'data', 'scientist', 'sydney', '', 'senior', 'data', 'scientist', '', 'month', 'contract', 'sydney', '...', '', 'data', 'scientist', 'consultant', '', 'commodity', 'data', 'scientist', 'sydney', '', 'data', 'scientist', '', 'data', 'scientist', '', 'advanced', 'analytics', 'data', 'insight', 'consultant', 'dat', '...', '', 'data', 'scientist', '', 'senior', 'data', 'scientist', '', 'senior', 'data', 'scientist', '', 'data', 'scientist', '', 'data', 'scientist', '', 'transport', 'engineering', 'asset', 'management', '', 'marketing', 'data', 'scientist', '', 'data', 'scientist', 'eoi', '', 'data', 'scientist', '', 'data', 'scientist', '', 'modelling', 'specialist', '', 'revolution', 'graduate', 'program', '', '', 'data', 'scientist', '', 'senior', 'data', 'scientist', 'global', 'company', 'solve', 'fut', '...', '', 'senior', 'php', 'engineer', 'greenfield', 'project', '', 'medical', 'research', 'data', 'scientist', 'bioinformatician', '', 'specialist', 'data', 'scientist', 'perth', 'brisbane', '', 'data', 'scientist', 'credit', 'risk', '', 'data', 'scientist', 'credit', 'risk', '', 'data', 'scientist', 'credit', 'risk', '', 'senior', 'data', 'scientist', '', 'senior', 'quant', 'researcher', 'data', 'scientist', '', 'data', 'scientist', '', 'data', 'scientist', '', 'graduate', 'data', 'scientist', 'market', 'researcher', '', 'bi', 'analyst', 'data', 'scientist', '', 'data', 'scientist', '', 'senior', 'data', 'scientist', '', 'data', 'scientist', '', 'senior', 'data', 'scientist', '', 'data', 'scientist', 'contract', '', 'data', 'scientist', '', 'data', 'scientist', '', 'data', 'scientist', '', 'data', 'scientist', '', 'data', 'scientist', 'consultant', '', 'senior', 'data', 'scientist', '', 'data', 'scientist', 'financial', 'markets', '', 'data', 'scientist', '', 'data', 'scientist', '', 'data', 'scientist', '', 'data', 'scientist', '', 'data', 'scientist', '', 'data', 'scientist', '', 'data', 'scientist', '', 'data', 'scientist', '', 'consulting', 'data', 'scientist', 'k', 'sydney', 'cbd', '', 'senior', 'data', 'scientist', 'sports', 'modelling', 'horses', '', 'data', 'scientist', '', 'operations', 'data', 'scientist', '', 'data', 'scientist', 'entry', 'level', '', 'senior', 'data', 'scientist', '', 'data', 'scientist', 'asset', 'risk', '', 'data', 'scientist', 'asset', 'risk', '', 'data', 'scientist', 'analyst', '', 'data', 'scientist', 'proteomics', '', 'data', 'scientist', '', 'data', 'scientist', 'sydney', '', 'senior', 'data', 'scientist', 'customer', 'marketing', 'analy', '...', '', 'digital', 'data', 'scientist', 'marketing', 'fundraising', 'd', '...', '', 'data', 'scientist', '', 'data', 'scientist', '', 'lead', 'data', 'scientist', '', 'senior', 'data', 'scientist', '', 'data', 'scientist', '', 'months', 'contract', '', 'data', 'scientist', '', 'data', 'scientist', '', 'digital', 'sales', 'data', 'scientist', '', 'senior', 'data', 'scientist', '', 'data', 'scientist', '', 'data', 'scientist', '', 'data', 'scientist', 'data', 'analyst', '', 'modelling', 'specialist', '', 'senior', 'data', 'scientist', '', 'data', 'scientist', '', 'senior', 'data', 'scientist', '', 'senior', 'data', 'scientist', '', 'data', 'scientist', '', 'data', 'scientist', 'machine', 'learning', 'c', 'python', '', 'senior', 'quant', 'researcher', 'data', 'scientist', '', 'senior', 'data', 'scientist', '', 'data', 'scientist', 'top', 'asx', 'company', '', 'data', 'scientist', 'risk', 'analytics', '', 'data', 'scientist', '', 'data', 'scientist', '', 'senior', 'data', 'scientist', '', 'lead', 'modelling', 'analyst', '', 'lead', 'modelling', 'analyst', '', 'data', 'scientist', 'financial', 'markets', '', 'data', 'scientist', '', 'data', 'scientist', '', 'data', 'scientist', 'analytics', 'machine', 'learning', 'data', '...', '', 'data', 'scientist', 'asx', 'top', '', 'month', 'contract', '', '...', '', 'data', 'scientist', 'small', 'consultancy', 'k', 'k', 'super', '', 'data', 'scientist', '', 'data', 'scientist', 'python', 'r', 'google', 'analytics', '', 'senior', 'data', 'scientist', '', 'data', 'scientist', '', 'data', 'scientist', 'sydney', '', 'data', 'scientist', 'adelaide', '', 'data', 'scientist', '', 'data', 'scientist', '', 'senior', 'data', 'scientist', '', 'data', 'scientist', '', 'senior', 'data', 'scientist', '', 'data', 'scientist', 'data', 'analyst', '', 'data', 'scientist', '', 'data', 'scientist', '', 'data', 'scientist', 'credit', 'risk', '', 'data', 'scientist', '', 'data', 'scientist', '', 'data', 'scientist', 'insights', 'analyst', '', 'junior', 'data', 'scientist', 'retail', 'loyalty', 'marketing', '', 'senior', 'data', 'scientist', '', 'data', 'scientist', '', 'mid', 'level', 'data', 'scientist', 'machine', 'learning', 'engi', '...', '', 'graduate', 'program', '', '', 'data', 'scientist', 'machine', 'learning', 'c', 'python', '', 'lead', 'data', 'scientist', '', 'data', 'scientist', '', 'data', 'scientist', 'customer', 'analytics', 'fintech', '', 'data', 'scientist', 'risk', 'analytics', 'fintech', '', 'research', 'data', 'scientist', '', 'research', 'data', 'scientist', '', 'data', 'scientist', '', 'data', 'scientist', '', 'technical', 'consultant', 'data', 'scientist', '', 'data', 'scientist', 'data', 'analyst', '', 'data', 'scientist', 'data', 'analyst', '', 'data', 'scientist', 'data', 'analyst', '', 'data', 'scientist', 'data', 'engineer', '', 'data', 'scientist', '', 'data', 'scientist', '', 'data', 'scientist', '', 'senior', 'data', 'scientist', '', 'marketing', 'analytics', 'manager', 'digital', 'media', 'data', '...', '', 'data', 'scientist', '', 'marketing', 'data', 'scientist', '', 'data', 'scientist', 'customer', 'analytics', '', 'data', 'scientist', 'data', 'engineer', '', 'data', 'scientist', '', 'data', 'scientist', '', 'senior', 'consultant', 'full', 'stack', 'developer', '', 'senior', 'data', 'scientist', '', 'data', 'scientist', 'deep', 'learning', 'ai', '', 'senior', 'data', 'scientist', '', 'data', 'scientist', '', 'data', 'scientist', 'marketing', '', 'data', 'scientist', 'r', 'programming', '', 'data', 'scientist', '', 'machine', 'learning', 'engineer', 'l', 'k', 'k', 'l', 'sydney', '...', '', 'senior', 'data', 'scientist', '', 'lead', 'data', 'scientist', 'python', 'machine', 'learning', '', 'data', 'scientist', '', 'data', 'scientist', '', 'commodity', 'data', 'scientist', 'sydney', '', 'data', 'scientist', 'developer', '', 'data', 'scientist', '', 'experienced', 'data', 'scientist', 'western', 'subs', 'sydney', '...', '', 'data', 'scientist', 'customer', 'analytics', 'fintech', '', 'senior', 'data', 'scientist', 'data', 'centre', 'excellence', '', 'associate', 'data', 'scientist', '', 'senior', 'data', 'scientist', 'data', 'products', 'consultant', '...', '', 'data', 'scientist', '', 'tech', 'recruitment', 'consultants', 'resourcers', 'candid', '...', '', 'senior', 'data', 'scientist', '', 'data', 'scientist', '', 'lead', 'data', 'scientist', 'product', 'development', 'smart', '...', '', 'data', 'scientist', '', 'day', 'gst', '', 'data', 'scientist', '', 'data', 'scientist', 'education', '', 'senior', 'data', 'scientist', '', 'experienced', 'data', 'scientist', 'western', 'subs', 'sydney', '...', '', 'data', 'scientist', '', 'data', 'scientist', 'greenfield', '', 'customer', 'data', 'scientist', '', 'customer', 'data', 'scientist', '', 'machine', 'learning', 'data', 'scientist', '', 'senior', 'data', 'scientist', '', 'senior', 'data', 'scientist', '', 'data', 'scientist', 'immediate', 'start', '', 'data', 'scientist', 'machine', 'learning', '', 'senior', 'data', 'scientist', '', 'data', 'engineer', 'global', 'bank', 'behavioral', 'analytics', '...', '', 'data', 'scientist', 'bioinformatician', '', 'data', 'scientist', '', 'junior', 'data', 'scientist', 'business', 'intelligence', '', 'data', 'scientist', 'machine', 'learning', 'c', 'python', '', 'graduate', 'data', 'scientist', '', 'data', 'scientist', '', 'data', 'scientist', '', 'senior', 'data', 'scientist', 'provisioning', 'forecasting', '...', '', 'statistician', 'data', 'scientist', '', 'data', 'scientist', 'economics', 'commodity', '', 'data', 'scientist', '', 'experienced', 'data', 'scientist', 'western', 'subs', 'sydney', '...', '', 'data', 'scientist', '', 'data', 'science', 'manager', 'customer', 'analytics', '', 'senior', 'data', 'scientist', '', 'data', 'scientist', '', 'data', 'scientist', 'analyst', '', 'data', 'scientist', '', 'data', 'science', 'manager', 'consumer', 'analytics', 'leader', '', 'marketing', 'data', 'scientist', '', 'data', 'scientist', '', 'data', 'scientist', '', 'data', 'scientist', '', 'data', 'scientist', '', 'data', 'scientist', '', 'data', 'scientist', '', 'junior', 'data', 'scientist', '', 'data', 'scientist', '', 'data', 'scientist', '', 'data', 'scientist', 'federal', 'agency', '', 'months', '', 'junior', 'data', 'scientist', 'data', 'analyst', '', 'data', 'scientist', '', 'data', 'scientist', 'cbr', '', 'data', 'scientist', '', 'data', 'scientist', 'syd', '', 'data', 'scientist', '', 'data', 'scientist', '', 'senior', 'data', 'scientist', '', 'data', 'scientist', '', 'data', 'scientist', '', 'data', 'scientist', '', 'data', 'scientist', '', 'data', 'scientist', '', 'data', 'scientist', 'manager', '', 'data', 'scientist', 'financial', 'crime', '', 'data', 'scientist', '', 'senior', 'data', 'scientist', '', 'data', 'scientist', '', 'data', 'scientist', '', 'senior', 'data', 'scientist', '', 'data', 'scientist', '', 'data', 'scientist', '', 'data', 'scientist', '', 'data', 'scientist', '', 'data', 'scientist', '', 'data', 'scientist', '', 'data', 'scientist', '', 'data', 'scientist', '', 'data', 'scientist', '', 'data', 'scientist', 'data', 'engineer', '', 'data', 'scientist', '', 'data', 'scientist', '', 'data', 'scientist', '', 'senior', 'data', 'scientist', '', 'lead', 'data', 'scientist', '', 'lead', 'data', 'scientist', 'consulting', '', 'data', 'scientist', '', 'data', 'scientist', '', 'data', 'scientist', '', 'data', 'scientist', '', 'data', 'scientist', 'sydney', '', 'marketing', 'analytics', 'manager', 'digital', 'media', 'data', '...', '', 'senior', 'data', 'scientist', '', 'senior', 'full', 'stack', 'data', 'scientist', '', 'information', 'specialist', 'data', 'analyst', '', 'analytics', 'data', 'scientist', '', 'data', 'scientist', '', 'data', 'scientist', '', 'data', 'scientist', 'customer', 'analytics', '', 'data', 'scientist', '', 'finance', 'data', 'scientist', '', 'data', 'scientist', '', 'data', 'scientist', '', 'data', 'scientist', '', 'data', 'scientist', 'permanent', 'western', 'sydney', '', 'senior', 'consultant', 'advanced', 'analytics', 'r', '', 'expression', 'interest', 'senior', 'data', 'scientist', '', 'senior', 'data', 'scientist', 'media', 'company', 'cbd', 'located', '', 'data', 'scientist', '', 'data', 'scientist', '', 'data', 'scientist', '', 'data', 'scientist', '', 'senior', 'data', 'scientist', '', 'data', 'scientist', '', 'senior', 'data', 'scientist', '', 'senior', 'data', 'scientist', '', 'junior', 'actuarial', 'data', 'scientist', '', 'data', 'scientist', '', 'data', 'scientist', '', 'senior', 'analyst', 'data', 'scientist', 'network', 'analytic', '...', '', 'data', 'scientist', '', 'data', 'scientist', '', 'senior', 'analyst', 'data', 'scientist', '', 'senior', 'data', 'scientist', '', 'data', 'scientist', '', 'data', 'scientist', '', 'data', 'scientist', '', 'data', 'scientist', 'x', '', 'federal', 'government', 'based', 'ch', '...', '', 'data', 'scientist', '', 'data', 'scientist', '', 'data', 'scientist', 'predictive', 'modeller', '', 'data', 'scientist', '', 'data', 'scientist', '', 'data', 'scientist', 'x', '', 'federal', 'government', 'based', 'ch', '...', '', 'data', 'scientist', 'intermediate', '', 'data', 'scientist', 'intermediate', '', 'data', 'scientist', 'intermediate', '', 'data', 'scientist', 'permanent', 'western', 'sydney', '', 'data', 'scientist', '', 'data', 'scientist', '', 'data', 'scientist', '', 'data', 'scientist', '', 'data', 'scientist', '', 'big', 'data', 'scientist', 'multiple', 'roles', '', 'data', 'scientist', 'deep', 'learning', 'ai', '', 'data', 'scientist', '', 'data', 'scientist', '', 'senior', 'data', 'scientist', 'nlp', '', 'data', 'scientist', '', 'data', 'scientist', '', 'data', 'scientist', '', 'data', 'scientist', '', 'data', 'scientist', '', 'data', 'scientist', '', 'data', 'scientist', 'risk', 'fraud', '', 'data', 'scientist', '', 'data', 'scientist', 'practice', 'head', 'commercial', 'custom', '...', '', 'data', 'scientist', '', 'senior', 'data', 'scientist', '', 'data', 'scientist', '', 'lead', 'data', 'scientist', '', 'data', 'scientist', '', 'lead', 'customer', 'data', 'scientist', '', 'lead', 'customer', 'data', 'scientist', '', 'data', 'scientist', '', 'data', 'scientist', '', 'data', 'scientist', '', 'data', 'scientist', '', 'data', 'scientist', 'institutional', 'banking', '', 'senior', 'data', 'scientist', '', 'data', 'scientist', 'phd', 'ml', 'nlp', '', 'data', 'scientist', 'analysis', '', 'data', 'scientist', '', 'senior', 'data', 'scientist', '', 'data', 'scientist', '', 'lead', 'data', 'scientist', '', 'data', 'scientist', 'big', 'data', 'environment', 'hadoop', 'spa', '...', '', 'data', 'scientist', '', 'data', 'scientist', '', 'lead', 'data', 'scientist', 'melbourne', '', 'data', 'scientist', '', 'senior', 'data', 'scientist', '', 'data', 'scientist', '', 'data', 'scientist', 'big', 'data', 'environment', 'hadoop', 'spa', '...', '', 'specialist', 'data', 'scientist', '', 'specialist', 'data', 'scientist', '', 'specialist', 'data', 'scientist', '', 'data', 'scientist', '', 'senior', 'data', 'scientist', '', 'data', 'scientist', '', 'senior', 'data', 'analyst', '', 'senior', 'analyst', 'data', 'scientist', 'tv', 'digital', 'perfo', '...', '', 'data', 'scientist', '', 'data', 'scientist', 'consumer', 'credit', 'risk', '', 'data', 'scientist', 'software', 'developer', '', 'data', 'scientist', '', 'senior', 'data', 'scientist', '', 'data', 'scientist', '', 'junior', 'data', 'scientist', 'business', 'intelligence', '', 'data', 'scientist', '', 'data', 'scientist', '', 'data', 'scientist', 'big', 'data', 'environment', 'hadoop', 'spa', '...', '', 'senior', 'data', 'scientist', '', 'data', 'scientist', 'pricing', 'risk', '', 'data', 'scientist', 'pricing', '', 'data', 'scientist', 'big', 'data', 'environment', 'hadoop', 'spa', '...', '', 'data', 'scientist', 'mid', 'senior', 'expressions', 'interest', '', 'data', 'scientist', '', 'data', 'scientist', '', 'principal', 'data', 'scientist', '', 'data', 'scientist', '', 'senior', 'data', 'scientist', '', 'data', 'scientist', '', 'data', 'scientist', '', 'senior', 'data', 'scientist', 'contract', '', 'pd', '', 'data', 'scientist', '', 'data', 'scientist', 'perth', '', 'senior', 'data', 'scientist', '', 'marketing', 'data', 'scientist', '', 'senior', 'data', 'scientist', '', 'data', 'scientist', '', 'consulting', 'data', 'scientist', 'k', 'sydney', 'cbd', 'loca', '...', '', 'consultant', 'data', 'scientist', '', 'senior', 'data', 'scientist', '', 'senior', 'data', 'scientist', '', 'data', 'scientist', '', 'data', 'scientist', '', 'data', 'scientist', '', 'senior', 'data', 'scientist', '', 'data', 'scientist', '', 'data', 'scientist', '', 'data', 'scientist', 'defence', '', 'head', 'analytics', 'data', 'scientist', '', 'lead', 'data', 'scientist', '', 'data', 'scientist', '', 'full', 'stack', 'data', 'scientist', '', 'data', 'engineer', 'graduate', '', 'head', 'analytics', 'data', 'scientist', '', 'data', 'scientist', '', 'data', 'scientist', '', 'data', 'scientist', '', 'data', 'scientist', '', 'senior', 'data', 'scientist', '', 'data', 'scientist', '', 'data', 'scientist', '', 'data', 'scientist', '', 'data', 'scientist', '', 'data', 'scientist', '', 'data', 'scientist', 'x', '', 'spark', 'hive', 'exp', 'essential', 'br', '...', '', 'data', 'scientist', '', 'data', 'scientist', 'marketing', 'product', 'data', '', 'senior', 'pricing', 'analyst', '', 'software', 'engineer', 'nlp', 'machine', 'learning', 'artific', '...', '', 'data', 'scientist', '', 'data', 'scientist', 'healthcare', 'phd', 'grads', '', 'senior', 'data', 'scientist', '', 'attribution', 'modeler', 'data', 'scientist', '', 'senior', 'data', 'scientist', 'k', 'sydney', 'cbd', 'award', 'wi', '...', '', 'data', 'scientist', '', 'data', 'scientist', '', 'data', 'scientist', 'aviation', 'risk', 'domains', '', 'data', 'scientist', 'aviation', 'risk', 'domains', '', 'data', 'scientist', 'aviation', 'risk', 'domains', '', 'data', 'scientist', 'aviation', 'risk', 'domains', '', 'phd', 'educated', 'data', 'scientist', '', 'data', 'scientist', '', 'senior', 'data', 'scientist', '', 'senior', 'data', 'scientist', '', 'data', 'scientist', 'x', '', 'spark', 'hive', 'exp', 'essential', 'br', '...', '', 'data', 'scientist', 'x', '', 'spark', 'hive', 'exp', 'essential', 'br', '...', '', 'data', 'scientist', 'x', '', 'spark', 'hive', 'exp', 'essential', 'br', '...', '', 'data', 'scientist', '', 'senior', 'data', 'scientist', '', 'data', 'scientist', '', '', 'year', 'fixed', 'term', '', 'senior', 'data', 'scientist', 'advance', 'analytics', '', 'senior', 'data', 'scientist', '', 'marketing', 'analytics', 'consultant', '', 'senior', 'data', 'scientist', 'fintech', '', 'data', 'scientist', 'x', '', 'spark', 'hive', 'exp', 'essential', 'br', '...', '', 'data', 'scientist', '', 'software', 'engineer', 'data', 'scientist', '', 'data', 'scientist', '', 'data', 'scientist', '', 'data', 'scientist', '', 'data', 'scientist', '', 'senior', 'data', 'scientist', '', 'data', 'scientist', '', 'data', 'scientist', '', 'data', 'scientist', '', 'ai', 'machine', 'learning', 'engineer', '', 'head', 'analytics', 'data', 'scientist', 'digital', 'focus', '', 'senior', 'data', 'scientist', '', 'data', 'scientist', '', 'data', 'scientist', 'ml', 'engineer', '', 'senior', 'data', 'scientist', '', 'data', 'scientist', '', 'data', 'scientist', '', 'data', 'scientist', '', 'senior', 'data', 'scientist', '', 'data', 'science', 'analytics', 'specialist', 'ref', '', '', 'senior', 'data', 'scientist', '', 'senior', 'data', 'scientist', '', 'data', 'scientist', '', 'data', 'scientist', '', 'data', 'scientist', '', 'senior', 'data', 'scientist', '', 'senior', 'data', 'scientist', '', 'data', 'scientist', 'long', 'term', 'contract', 'iconic', 'organ', '...', '', 'senior', 'data', 'scientist', '', 'lead', 'data', 'scientist', '', 'machine', 'learning', 'data', 'scientist', '', 'principal', 'data', 'scientist', 'financial', 'markets', 'foc', '...', '', 'data', 'scientist', '', 'senior', 'data', 'scientist', '', 'data', 'scientist', '', 'data', 'scientist', '', 'junior', 'data', 'scientist', '', 'data', 'scientist', '', 'junior', 'mid', 'level', 'data', 'scientist', 'permanent', 'cont', '...', '', 'net', 'full', 'stack', 'developer', '', 'data', 'scientist', '', 'data', 'scientist', 'machine', 'learning', '', 'senior', 'data', 'scientist', '', 'data', 'scientist', '', 'tech', 'recruitment', 'consultants', 'resourcers', 'candid', '...', '', 'senior', 'data', 'scientist', 'advance', 'analytics', '', 'data', 'scientist', 'greenfield', '', 'data', 'scientist', '', 'lead', 'data', 'scientist', 'financial', 'services', '', 'help', 'desk', 'support', 'analyst', 'graduate', 'data', 'scientist', '', 'senior', 'data', 'scientist', '', 'analytics', 'lead', 'data', 'scientist', '', 'data', 'scientist', '', 'data', 'scientist', '', 'data', 'scientist', '', 'senior', 'data', 'scientist', '', 'data', 'scientist', '', 'data', 'scientist', '', 'data', 'scientist', '', 'marketing', 'data', 'scientist', 'data', 'engineer', '', 'data', 'scientist', '', 'junior', 'mid', 'level', 'data', 'scientist', 'contract', 'iconi', '...', '', 'senior', 'consultant', 'data', 'scientist', '', 'deloitte', 'access', 'economics', 'junior', 'data', 'scientist', '', 'lead', 'data', 'scientist', '', 'data', 'scientist', '', 'data', 'science', 'manager', '', 'lead', 'finance', 'data', 'scientist', '', 'graduate', 'data', 'scientist', '', 'data', 'scientist', '', 'lead', 'data', 'scientist', '', 'data', 'scientist', '', 'data', 'scientist', '', 'data', 'scientist', 'global', 'trading', 'house', 'behavioral', '...', '', 'data', 'scientist', 'contract', '', 'data', 'scientist', '', 'data', 'scientist', '', 'data', 'scientist', '', 'data', 'science', 'machine', 'learning', 'consultant', '', 'data', 'scientist', '', 'data', 'scientist', '', 'senior', 'data', 'scientist', '', 'data', 'scientist', '', 'data', 'analyst', 'consultant', '', 'data', 'scientist', '', 'data', 'scientist', '', 'senior', 'data', 'scientist', '', 'data', 'scientist', '', 'data', 'scientist', 'python', '', 'data', 'scientist', '', 'data', 'scientist', '', 'data', 'analyst', 'opportunity', 'engineering', 'analytics', '...', '', 'data', 'scientist', '', 'lead', 'data', 'scientist', '', 'senior', 'data', 'scientist', '', 'consulting', 'data', 'scientist', 'internal', 'analytics', 'p', '...', '', 'lead', 'data', 'scientist', '', 'lead', 'data', 'scientist', 'contract', 'melb', '', 'data', 'scientist', '', 'data', 'scientist', '', 'data', 'scientist', '', 'data', 'scientist', '', 'senior', 'customer', 'data', 'scientist', '', 'senior', 'customer', 'data', 'scientist', '', 'data', 'scientist', '', 'data', 'scientist', '', 'data', 'science', 'training', 'specialist', '', 'lead', 'human', 'resource', 'data', 'scientist', '', 'human', 'resources', 'data', 'scientist', '', 'lead', 'data', 'scientist', '', 'senior', 'data', 'scientist', '', 'data', 'scientist', '', 'data', 'scientist', '', 'senior', 'data', 'scientist', 'k', 'sydney', 'cbd', 'award', 'wi', '...', '', 'data', 'scientist', '', 'senior', 'data', 'scientist', '', 'data', 'scientist', '', 'data', 'scientist', '', 'data', 'scientist', '', 'data', 'scientist', '', 'actuarial', 'data', 'scientist', '', 'actuarial', 'analyst', 'data', 'scientist', '', 'data', 'scientist', 'machine', 'learning', '', 'senior', 'data', 'scientist', 'principal', 'data', 'scientist', '', 'senior', 'data', 'scientist', 'principal', 'data', 'scientist', '', 'senior', 'data', 'scientist', 'principal', 'data', 'scientist', '', 'experienced', 'data', 'scientist', '', 'analyst', 'data', 'sciences', 'advanced', '', 'data', 'scientist', 'graduate', '', 'ghd', 'digital', 'data', 'science', 'consultant', 'brisbane', '', 'data', 'scientist', '', 'data', 'science', 'machine', 'learning', 'engineer', '', 'data', 'scientist', '', 'data', 'scientist', '', 'senior', 'data', 'scientist', 'insurance', '', 'data', 'scientist', '', 'data', 'scientist', '', 'data', 'scientist', 'senior', 'principal', 'real', 'world', 'dat', '...', '', 'graduate', 'data', 'scientist', 'biometrics', '', 'data', 'scientist', '', 'iot', 'data', 'scientist', '', 'data', 'scientist', '', 'data', 'scientist', '', 'data', 'scientist', '', 'data', 'business', 'analyst', '', 'data', 'scientist', '', 'data', 'scientist', '', 'data', 'scientist', '', 'data', 'scientist', '', 'big', 'data', 'engineer', '', 'data', 'scientist', '', 'data', 'scientist', '', 'data', 'scientist', 'brisbane', '', 'lead', 'data', 'scientist', '', 'mainframe', 'data', 'scientist', '', 'senior', 'data', 'scientist', '', 'programmer', 'support', 'water', 'information', 'systems', '', 'senior', 'data', 'scientist', 'melbourne', 'package', 'c', 'k', '', 'lead', 'data', 'scientist', '', 'data', 'scientist', '', 'data', 'scientist', '', 'data', 'scientist', '', 'junior', 'data', 'scientist', '', 'emerging', 'data', 'scientist', '', 'data', 'scientist', '', 'software', 'engineer', 'nlp', 'machine', 'learning', 'artific', '...', '', 'data', 'scientist', '', 'lead', 'data', 'scientist', 'advanced', 'analytics', '', 'data', 'scientist', 'nlp', '', 'lead', 'data', 'scientist', '', 'data', 'scientist', '', 'data', 'scientist', '', 'lead', 'senior', 'data', 'scientist', '', 'specialist', 'data', 'scientist', '', 'senior', 'data', 'scientist', '', 'software', 'engineer', 'data', 'scientist', 'hybrid', 'role', 's', '...', '', 'lead', 'data', 'scientist', '', 'data', 'scientist', '', 'senior', 'data', 'analyst', '', 'senior', 'data', 'scientist', '', 'data', 'scientist', '', 'data', 'scientist', '', 'data', 'scientist', '', 'data', 'scientist', '', 'data', 'scientist', '', 'data', 'scientist', '', 'data', 'scientist', '', 'senior', 'data', 'scientist', '', 'senior', 'data', 'scientist', '', 'data', 'scientist', '', 'data', 'scientist', '', 'data', 'scientist', '', 'data', 'scientist', '', 'data', 'scientist', '', 'senior', 'data', 'scientist', '', 'data', 'scientist', 'consultant', '', 'data', 'scientist', 'consultant', '', 'data', 'scientist', '', 'data', 'scientist', '', 'senior', 'data', 'scientist', 'insurance', '', 'associate', 'data', 'scientist', 'research', 'healthcare', 's', '...', '', 'data', 'scientist', 'research', 'software', 'developer', '', 'data', 'scientist', '', 'data', 'scientist', 'sas', '', 'analytics', 'specialist', 'data', 'scientist', '', 'lead', 'data', 'scientist', '', 'lead', 'data', 'scientist', 'k', 'package', '', 'data', 'scientist', '', 'data', 'engineers', 'multiple', 'roles', '', 'data', 'scientist', '', 'machine', 'learning', 'data', 'scientist', '', 'customer', 'marketing', 'analytics', 'consultant', 'adobe', '...', '', 'lead', 'data', 'scientist', 'advanced', 'analytics', 'newly', 'c', '...', '', 'data', 'scientist', '', 'senior', 'data', 'scientist', '', 'data', 'scientist', '', 'data', 'scientist', '', 'data', 'scientist', '', 'junior', 'data', 'scientist', '', 'data', 'scientist', '', 'data', 'scientist', '', 'data', 'scientist', 'analyst', 'junior', 'mid', '', 'data', 'scientist', '', 'data', 'scientist', '', 'lead', 'data', 'scientist', '', 'data', 'scientist', '', 'data', 'scientist', '', 'data', 'science', 'consultant', 'al', 'ml', '', 'data', 'scientist', 'gcp', 'aws', '', 'data', 'scientist', '', 'data', 'scientist', '', 'junior', 'data', 'analyst', '', 'data', 'scientist', '', 'data', 'scientist', '', 'data', 'scientist', 'analyst', '', 'lead', 'data', 'scientist', 'data', 'engineering', 'skills', 'gr', '...', '', 'data', 'scientist', '', 'data', 'scientist', '', 'data', 'scientist', 'part', 'time', '', 'principal', 'data', 'scientist', 'machine', 'learning', 'engi', '...', '', 'data', 'scientist', 'fixed', 'term', 'contract', '', 'senior', 'data', 'scientist', '', 'analyst', 'data', 'sciences', 'advanced', '', 'data', 'scientist', '', 'data', 'engineer', 'scientist', '', 'data', 'scientist', '', 'data', 'scientist', '', 'data', 'scientist', 'senior', 'data', 'consultant', '', 'data', 'scientist', '', 'data', 'scientist', 'sydney', '', 'product', 'data', 'scientist', '', 'data', 'scientist', '', '', 'senior', 'data', 'architect', '', 'customer', 'marketing', 'analytics', 'consultant', 'adobe', '...', '', 'data', 'scientist', 'melbourne', '', 'data', 'scientist', '', 'data', 'scientist', '', 'data', 'scientist', '', 'data', 'scientist', '', 'data', 'scientist', '', 'data', 'scientist', '', 'data', 'scientist', '', 'data', 'scientist', '', 'data', 'scientist', '', 'data', 'scientist', '', 'data', 'scientist', '', 'actuarial', 'data', 'scientist', '', 'senior', 'data', 'scientist', '', 'data', 'scientist', 'state', 'government', '', 'data', 'scientist', 'senior', 'innovation', 'engineer', '', 'data', 'scientist', '', 'data', 'scientist', 'ml', 'engineer', '', 'data', 'scientist', '', 'data', 'scientist', '', 'data', 'scientist', '', 'senior', 'data', 'scientist', '', 'data', 'scientist', '', 'data', 'scientist', 'melbourne', '', 'actuarial', 'data', 'scientist', '', 'data', 'scientist', 'machine', 'learning', '', 'data', 'scientist', 'customer', 'analytics', '', 'data', 'scientist', 'r', '', 'data', 'scientist', '', 'business', 'intelligence', 'analyst', '', 'data', 'science', 'lead', 'senior', '', 'data', 'scientist', 'top', 'fund', 'manager', '', 'data', 'scientist', '', 'data', 'scientist', '', 'data', 'scientist', '', 'data', 'scientist', '', 'data', 'scientist', '', 'data', 'scientist', 'data', 'engineer', '', 'data', 'scientist', '', 'data', 'scientist', '', 'data', 'scientist', '', 'data', 'scientist', 'sydney', 'australia', '', 'data', 'scientist', 'quantitative', 'analyst', '', 'senior', 'data', 'scientist', '', 'junior', 'data', 'scientist', '', 'sr', 'data', 'scientist', 'digital', 'bank', 'product', 'live', '', '...', '', 'data', 'scientist', '', 'data', 'scientist', '', 'data', 'scientist', '', 'data', 'scientist', '', 'senior', 'analytics', 'consultant', 'data', 'scientist', 'pre', '...', '', 'data', 'scientist', '', 'data', 'scientist', '', 'data', 'scientist', '', 'data', 'scientist', '', 'lead', 'data', 'scientist', '', 'data', 'scientist', '', 'data', 'scientist', '', 'data', 'scientist', '', 'data', 'scientist', '', 'data', 'scientist', '', 'data', 'engineer', 'product', 'build', '', '', 'per', 'day', '', 'data', 'scientist', '', 'data', 'scientist', '', 'data', 'scientist', '', 'senior', 'data', 'scientist', '', 'data', 'scientist', '', 'data', 'scientist', 'consultant', '', 'senior', 'analyst', 'data', 'scientist', '', 'data', 'scientist', '', 'data', 'scientist', 'engineer', 'insurance', '', 'data', 'scientist', 'engineer', 'insurance', '', 'data', 'scientist', 'melbourne', '', 'data', 'scientist', '', 'data', 'scientist', '', 'data', 'scientist', '', 'lead', 'data', 'scientist', '', 'senior', 'data', 'scientist', '', 'data', 'science', 'consultant', '', 'data', 'scientist', '', 'data', 'scientist', '', 'senior', 'data', 'scientist', 'python', 'google', 'cloud', 'prod', '...', '', 'data', 'scientist', '', 'data', 'scientist', '', 'data', 'scientist', 'data', 'engineer', 'ai', 'machine', 'learning', '', 'data', 'scientist', '', 'data', 'scientist', 'junior', 'mid', 'level', '', 'data', 'scientist', '', 'software', 'engineer', 'data', 'scientist', '', 'guidance', 'post', 'processing', 'data', 'scientist', '', 'data', 'scientist', '', 'data', 'scientist', '', 'senior', 'analyst', 'data', 'scientist', '', 'guidance', 'post', 'processing', 'data', 'scientist', '', 'software', 'engineer', 'data', 'scientist', '', 'data', 'scientist', 'marketing', '', 'data', 'scientist', 'marketing', '', 'senior', 'data', 'scientist', '', 'senior', 'data', 'scientist', '', 'senior', 'data', 'scientist', '', 'senior', 'data', 'scientist', '', 'data', 'scientist', 'analytics', 'machine', 'learning', 'data', '...', '', 'data', 'scientist', 'analytics', 'machine', 'learning', 'data', '...', '', 'data', 'scientist', '', 'software', 'development', 'data', 'science', '', 'data', 'scientist', '', 'data', 'scientist', '', 'data', 'scientist', '', 'data', 'scientist', 'x', '', '', 'data', 'scientist', 'x', '', '', 'data', 'scientist', 'long', 'term', 'contract', 'iconic', 'organ', '...', '', 'senior', 'data', 'scientist', 'engineer', '', 'data', 'scientist', '', 'data', 'scientist', '', 'lead', 'data', 'scientist', '', 'data', 'scientist', '', 'data', 'scientist', '', 'data', 'scientist', 'price', 'promotion', '', 'data', 'scientist', '', 'data', 'scientist', 'makes', 'difference', 'high', 'performan', '...', '', 'senior', 'data', 'scientist', '', 'senior', 'data', 'scientist', '', 'senior', 'data', 'scientist', '', 'data', 'scientist', '', 'data', 'scientist', '', 'senior', 'data', 'scientist', 'k', 'super', '', 'bonus', '', 'data', 'scientist', '', 'data', 'scientist', 'feature', 'engineer', '', 'data', 'scientist', '', 'data', 'scientist', '', 'data', 'scientist', 'engineer', '', 'data', 'scientist', 'engineer', '', 'data', 'scientist', '', 'data', 'scientist', '', 'data', 'scientist', '', 'data', 'scientist', '', 'data', 'scientist', '', 'data', 'scientist', '', 'research', 'fellow', 'data', 'scientist', '', 'expressions', 'interest', 'data', 'scientist', '', 'technical', 'lead', 'data', 'scientist', '', 'data', 'scientist', '', 'data', 'scientist', '', 'lead', 'data', 'scientist', 'k', 'package', '', 'data', 'scientist', '', 'data', 'science', 'consultant', '', 'senior', 'data', 'scientist', '', 'senior', 'data', 'scientist', '', 'senior', 'data', 'scientist', '', 'data', 'scientist', '', 'data', 'scientist', '', 'data', 'scientist', '', 'data', 'scientist', '', 'data', 'scientist', 'r', '', 'data', 'scientist', '', 'data', 'scientist', 'retail', 'banking', '', 'data', 'scientist', '', 'data', 'scientist', 'senior', 'consultants', '', 'data', 'scientist', '', 'data', 'scientist', 'senior', 'innovation', 'engineer', '', 'data', 'scientist', '', 'data', 'scientist', '', 'data', 'scientist', '', 'data', 'scientist', '', 'data', 'scientist', 'part', 'time', '', 'data', 'scientist', '', 'data', 'scientist', '', 'operations', 'data', 'scientist', '', 'data', 'scientist', '', 'junior', 'data', 'scientist', '', 'machine', 'learning', 'engineer', 'data', 'scientist', '', 'data', 'scientists', 'contract', '', 'data', 'scientist', '', 'senior', 'data', 'scientist', '', 'operations', 'data', 'scientist', '', 'operations', 'data', 'scientist', '', 'data', 'scientist', '', 'senior', 'data', 'scientist', '', 'quantitative', 'analyst', 'data', 'scientist', '', 'business', 'intelligence', 'analsyt', '', 'data', 'analyst', 'finance', 'business', 'partner', 'adelaide', '', 'mid', 'level', 'data', 'scientist', '', 'software', 'development', 'data', 'science', '', 'data', 'analyst', 'contract', '', '', 'months', '', 'data', 'scientist', 'analyst', '', 'data', 'scientist', '', 'data', 'scientist', '', 'data', 'scientist', 'risk', 'analytics', 'banking', '', 'consultant', 'data', 'scientist', '', 'data', 'scientist', '', 'senior', 'consultant', 'data', 'scientist', '', 'data', 'scientist', '', 'data', 'scientist', 'transformation', 'strategy', '', 'data', 'scientist', 'transformation', 'strategy', '', 'senior', 'data', 'scientist', 'engineer', '', 'lead', 'data', 'scientist', '', 'data', 'scientist', 'transformation', 'strategy', '', 'data', 'scientist', 'transformation', 'strategy', '', 'data', 'scientist', 'retail', 'banking', '', 'data', 'scientist', 'data', 'engineer', 'cloud', 'migration', 'v', '...', '', 'data', 'scientist', '', 'junior', 'data', 'scientist', 'data', 'engineer', '', 'data', 'scientist', '', 'data', 'scientist', 'melbourne', 'location', '', 'data', 'scientist', 'machine', 'learning', 'applications', '', 'data', 'scientist', '', 'lead', 'data', 'scientist', '', 'data', 'scientist', '', 'data', 'scientist', '', 'junior', 'data', 'scientist', '', 'data', 'scientist', '', 'data', 'scientist', '', 'aps', 'data', 'scientist', '', 'data', 'scientist', 'credit', 'risk', '', 'data', 'scientist', '', 'data', 'scientist', '', 'data', 'scientist', '', 'senior', 'data', 'scientist', '', 'data', 'scientist', '', 'data', 'scientist', '', 'consultant', 'digital', 'data', 'scientist', '', 'data', 'scientist', '', 'data', 'scientist', '', 'snr', 'data', 'scientist', '', 'data', 'scientist', '', 'data', 'scientist', '', 'geospatial', 'data', 'scientist', '', 'data', 'scientist', '', 'data', 'scientist', 'funds', 'management', '', 'data', 'scientist', '', 'data', 'scientist', '', 'data', 'scientist', 'automation', 'ai', '', 'data', 'scientist', 'federal', 'government', 'based', 'sydney', '...', '', 'data', 'scientist', '', 'data', 'scientist', '', 'data', 'scientist', '', 'data', 'scientist', 'price', 'promotion', '', 'data', 'scientist', '', 'data', 'scientist', '', 'data', 'scientist', '', 'data', 'scientist', 'machine', 'learning', 'deep', 'learning', '', 'data', 'scientist', '', 'data', 'scientist', '', 'data', 'scientist', 'risk', 'analytics', 'banking', '', 'data', 'scientist', 'machine', 'learning', '', 'data', 'scientist', '', 'lead', 'data', 'scientist', '', 'senior', 'data', 'scientist', '', 'data', 'scientist', '', 'data', 'scientist', 'statistical', 'analyst', '', 'data', 'scientist', 'federal', 'government', 'based', 'sydney', '...', '', 'data', 'scientist', '', 'data', 'scientist', '', 'data', 'scientist', 'sydney', 'canberra', '', 'data', 'science', 'consultant', '', 'senior', 'data', 'scientist', '', 'data', 'scientist', '', 'data', 'scientist', '', 'lead', 'data', 'scientist', '', 'data', 'scientist', 'global', 'iot', 'specialist', 'customer', '...', '', 'lead', 'data', 'scientist', '', 'data', 'scientist', '', 'data', 'scientist', '', 'data', 'scientist', '', 'junior', 'marketing', 'data', 'scientist', '', 'reporting', 'analyst', '', 'data', 'scientist', '', 'reporting', 'analyst', 'marketing', '', 'senior', 'data', 'scientist', '', 'data', 'scientist', '', 'data', 'scientist', '', 'data', 'scientist', '', 'data', 'scientist', '', 'aps', '', 'data', 'miner', '', 'data', 'scientist', '', 'data', 'scientist', '', 'senior', 'lead', 'data', 'scientist', '', 'data', 'scientist', 'hpc', 'specialist', '', 'data', 'scientist', 'hpc', 'specialist', '', 'senior', 'data', 'scientist', '', 'data', 'scientist', '', 'senior', 'fraud', 'data', 'scientist', '', 'senior', 'data', 'scientist', '', 'data', 'scientist', '', 'data', 'scientist', '', 'senior', 'data', 'scientist', '', 'data', 'scientist', '', 'data', 'scientist', '', 'data', 'scientist', '', 'data', 'scientist', '', 'senior', 'data', 'analyst', '', 'software', 'engineer', 'medical', 'data', 'scientist', 'machi', '...', '', 'data', 'scientist', 'credit', 'risk', 'modelling', 'pd', 'lgd', 'ead', '', 'lead', 'data', 'scientist', '', 'lead', 'data', 'scientist', '', 'data', 'scientist', 'analytics', 'machine', 'learning', 'data', '...', '', 'data', 'scientist', 'analytics', 'machine', 'learning', 'data', '...', '', 'data', 'scientist', 'analytics', 'machine', 'learning', 'data', '...', '', 'data', 'scientist', 'analytics', 'machine', 'learning', 'data', '...', '', 'senior', 'data', 'scientist', '', 'senior', 'lead', 'data', 'scientist', '', 'business', 'intelligence', 'analysts', 'data', 'science', '', 'data', 'scientist', 'business', 'intelligence', 'analyst', '', 'senior', 'data', 'scientist', '', 'data', 'scientist', '', 'senior', 'technical', 'data', 'scientist', '', 'data', 'scientist', '', 'data', 'scientist', '', 'senior', 'net', 'developer', 'graphing', 'statistics', '', 'data', 'scientist', '', 'data', 'scientist', '', 'data', 'scientist', '', 'data', 'scientist', 'analyst', '', 'data', 'scientist', 'software', 'developer', '', 'aps', '', 'data', 'miner', '', 'data', 'scientist', '', 'data', 'scientist', 'machine', 'learning', '', 'data', 'scientist', 'data', 'modeller', 'federal', 'governmen', '...', '', 'data', 'scientist', '', 'data', 'scientist', '', 'product', 'data', 'scientist', '', 'data', 'scientist', '', 'data', 'scientist', '', 'data', 'scientist', '', 'data', 'scientist', '', 'data', 'scientist', '', 'data', 'scientist', '', 'data', 'scientist', 'expression', 'interest', '', 'data', 'scientist', '', 'senior', 'data', 'scientist', 'multiple', 'roles', '', 'data', 'scientist', '', 'senior', 'data', 'scientist', '', 'junior', 'data', 'scientist', '', 'data', 'scientist', '', 'data', 'scientist', '', 'senior', 'data', 'scientist', '', 'data', 'scientist', '', 'data', 'scientist', 'hpc', 'specialist', '', 'data', 'scientist', 'hpc', 'specialist', '', 'senior', 'data', 'scientist', 'k', 'super', '', 'bonus', '', 'data', 'scientist', '', 'data', 'scientist', 'risk', 'analytics', 'banking', '', 'senior', 'data', 'scientist', '', 'senior', 'data', 'scientist', '', 'senior', 'data', 'scientist', '', 'senior', 'data', 'scientist', '', 'senior', 'data', 'scientist', '', 'senior', 'data', 'scientist', '', 'software', 'engineer', 'data', 'scientist', '', 'software', 'engineer', 'data', 'scientist', '', 'data', 'scientist', '', 'data', 'scientist', '', 'data', 'scientist', '', 'data', 'scientist', '', 'data', 'scientist', '', 'data', 'scientist', '', 'data', 'scientist', '', 'data', 'scientist', '', 'data', 'scientist', 'sas', 'tableau', 'migration', '', 'data', 'scientist', '', 'lead', 'data', 'scientist', '', 'data', 'scientist', 'property', 'retail', '', 'data', 'scientist', '', 'senior', 'data', 'scientist', '', 'data', 'scientist', '', 'data', 'scientist', 'retail', 'banking', '', 'senior', 'bi', 'consultant', 'data', 'scientist', 'nz', '', '', '', 'senior', 'data', 'scientist', '', 'senior', 'data', 'scientist', '', 'data', 'scientist', '', 'data', 'scientist', '', 'data', 'scientist', '', 'data', 'scientist', '', 'data', 'scientist', '', 'data', 'scientist', 'mathematician', '', 'data', 'scientist', '', 'data', 'scientist', '', 'senior', 'data', 'scientist', '', 'data', 'scientist', 'top', 'fund', 'manager', '', 'senior', 'data', 'scientist', 'marketing', 'analytics', '', 'data', 'scientist', '', 'junior', 'marketing', 'data', 'scientist', 'analyst', '', 'data', 'scientist', 'global', 'health', 'tech', 'business', '', 'associate', 'director', 'advanced', 'analytics', '', 'junior', 'data', 'scientist', '', 'data', 'scientist', '', 'data', 'scientist', '', 'data', 'scientist', '', 'senior', 'data', 'scientist', '', 'bioinformatician', 'computational', 'functional', 'geno', '...', '', 'quant', 'data', 'scientist', 'algorithmic', 'trading', 'compa', '...', '', 'senior', 'data', 'scientist', 'sydney', 'dtd', '', 'data', 'scientist', 'bank', 'transaction', 'specialist', 'cus', '...', '', 'lead', 'data', 'scientist', 'marketing', 'crm', '', 'data', 'scientist', '', 'data', 'scientist', '', 'data', 'scientist', '', 'data', 'scientist', '', 'manager', 'data', 'science', 'nlp', 'ml', '', 'data', 'scientist', '', 'data', 'scientist', '', 'data', 'scientist', '', 'data', 'scientist', '', 'data', 'analyst', '', 'data', 'scientist', '', 'data', 'scientist', 'analytics', 'machine', 'learning', 'data', '...', '', 'data', 'scientist', '', 'data', 'scientist', '', 'research', 'fellow', 'systems', 'scientist', 'data', 'scientist', '', 'senior', 'data', 'scientist', 'machine', 'learning', 'sydney', '', 'data', 'scientist', '', 'data', 'scientist', 'remediation', 'analytics', '', 'data', 'scientist', '', 'data', 'scientist', 'sas', 'tableau', 'migration', '', 'senior', 'data', 'scientist', '', 'data', 'scientist', '', 'senior', 'data', 'scientist', '', 'data', 'scientist', '', 'data', 'scientist', '', 'data', 'scientist', '', 'data', 'scientist', '', 'data', 'scientist', 'aps', '', '', 'data', 'scientist', '', 'senior', 'data', 'scientist', '', 'data', 'scientist', 'banking', '', 'senior', 'data', 'scientist', 'machine', 'learning', '', 'data', 'scientist', '', 'data', 'scientist', '', 'data', 'scientist', 'engineer', 'leadership', 'technology', '...', '', 'hr', 'reporting', 'analyst', '', 'data', 'scientist', 'fmcg', '', 'data', 'scientist', '', 'data', 'scientist', '', 'data', 'scientist', '', 'data', 'scientist', '', 'full', 'stack', 'python', 'developer', '', 'data', 'engineer', '', 'data', 'scientist', '', 'data', 'scientist', '', 'lead', 'data', 'scientist', '', 'data', 'scientist', '', 'lead', 'data', 'scientist', '', 'data', 'engineer', 'analyst', 'sas', 'tableau', 'migration', '', 'data', 'scientist', '', 'senior', 'data', 'scientist', '', 'senior', 'data', 'scientist', '', 'data', 'scientist', 'ml', 'ai', '', 'data', 'scientist', 'ml', 'ai', '', 'data', 'scientist', 'ml', 'ai', '', 'data', 'scientist', 'ml', 'ai', '', 'data', 'scientist', '', 'data', 'scientist', 'asset', 'management', 'predictive', 'mai', '...', '', 'junior', 'data', 'scientist', '', 'data', 'scientist', '', 'data', 'scientist', 'software', 'developer', '', 'data', 'scientist', '', 'data', 'scientist', '', 'data', 'scientist', '', 'data', 'scientist', 'senior', 'consultants', '', 'senior', 'data', 'scientist', '', 'senior', 'data', 'scientist', '', 'data', 'scientist', '', 'senior', 'data', 'scientist', '', 'data', 'scientist', '', 'senior', 'data', 'scientist', 'insights', 'analyst', '', 'data', 'scientist', 'machine', 'learning', 'ai', '', 'senior', 'data', 'scientist', '', 'contract', 'data', 'scientist', 'python', 'google', 'cloud', 'pr', '...', '', 'data', 'scientist', 'engineer', '', 'data', 'scientist', 'engineer', '', 'consultant', 'data', 'science', '', 'data', 'scientist', '', 'data', 'scientist', '', 'senior', 'data', 'scientist', '', 'senior', 'data', 'scientist', '', 'data', 'scientist', '', 'principal', 'data', 'scientist', '', 'data', 'scientist', 'data', 'warehouse', 'lead', '', 'data', 'scientist', '', 'data', 'scientist', '', 'data', 'scientist', '', 'marketing', 'senior', 'data', 'scientist', '', 'month', 'contract', '', 'data', 'scientist', 'mathematician', '', 'software', 'engineer', 'data', 'scientist', '', 'senior', 'fraud', 'risk', 'data', 'scientist', '', 'data', 'scientist', 'retail', 'banking', '', 'artificial', 'intelligence', 'data', 'scientist', '', 'data', 'scientist', '', 'data', 'scientist', 'mulgrave', '', 'senior', 'azure', 'data', 'scientist', '', 'data', 'scientist', '', 'data', 'scientist', '', 'senior', 'data', 'scientist', '', 'data', 'scientist', 'global', 'health', 'tech', 'business', '', 'data', 'scientist', '', 'data', 'scientist', '', 'data', 'scientist', '', 'data', 'scientist', 'price', 'promotion', '', 'data', 'scientist', '', 'data', 'scientist', '', 'data', 'scientist', '', 'senior', 'data', 'scientist', '', 'lead', 'data', 'scientist', 'partners', '', 'senior', 'data', 'scientist', '', 'data', 'scientist', '', 'data', 'scientist', 'sydney', '', 'data', 'scientist', '', 'customer', 'data', 'scientist', '', 'data', 'scientist', '', 'data', 'scientist', '', 'senior', 'data', 'scientist', '', 'data', 'scientist', 'credit', 'risk', 'modelling', '', 'senior', 'data', 'scientist', '', 'data', 'scientist', 'mid', 'level', '', 'data', 'scientist', '', 'senior', 'data', 'scientist', 'insights', 'analyst', '', 'medical', 'research', 'data', 'scientist', 'bioinformatician', '', 'data', 'scientist', 'senior', 'con', 'manager', 'level', '', 'data', 'scientist', '', 'lead', 'data', 'scientist', '', 'senior', 'data', 'scientist', 'greenfield', 'opportunity', '', 'junior', 'data', 'scientist', '', 'data', 'scientist', '', 'data', 'analyst', '', 'data', 'scientist', 'data', 'engineer', 'operational', 'forec', '...', '', 'sas', 'developer', 'data', 'scientist', 'k', 'sydney', 'cbd', '', 'data', 'science', 'analyst', '', 'graduate', 'data', 'scientist', '', 'alcoa', 'graduate', 'pr', '...', '', 'senior', 'data', 'scientist', '', 'senior', 'data', 'scientist', '', 'senior', 'data', 'scientist', '', 'data', 'scientist', '', 'data', 'scientist', '', 'data', 'scientist', 'project', 'lead', '', 'data', 'scientist', '', 'data', 'scientist', '', 'junior', 'data', 'scientist', 'data', 'analyst', 'brisbane', '', 'data', 'scientist', '', 'data', 'scientist', 'aps', 'el', '', 'specialist', 'data', 'science', '', 'lead', 'data', 'scientist', '', 'data', 'scientist', '', 'data', 'scientist', '', 'full', 'stack', 'python', 'developer', '', 'data', 'scientist', '', '', 'senior', 'data', 'scientist', '', 'data', 'scientist', 'statistician', '', 'data', 'scientist', 'statistician', '', 'aps', 'el', 'data', 'scientist', '', 'senior', 'fraud', 'risk', 'data', 'scientist', '', 'data', 'scientist', '', 'senior', 'customer', 'facing', 'data', 'scientist', '', 'data', 'scientist', '', 'data', 'scientist', '', 'data', 'scientist', '', 'aps', 'data', 'scientist', 'statistician', '', 'senior', 'data', 'scientist', 'sql', '', 'senior', 'data', 'scientist', '', 'data', 'scientist', '', 'senior', 'data', 'scientist', '', 'marketing', 'insights', 'modelling', 'analyst', '', 'senior', 'data', 'scientist', '', 'data', 'scientist', '', 'performance', 'engineer', 'data', 'analyst', '', 'junior', 'data', 'scientist', 'immediate', 'start', '', 'senior', 'data', 'scientist', '', 'data', 'scientist', '', 'data', 'scientist', '', 'data', 'scientist', '', 'senior', 'data', 'scientist', '', 'business', 'automation', 'engineer', '', 'data', 'scientist', '', 'bioinformatician', 'computational', 'functional', 'geno', '...', '', 'senior', 'credit', 'risk', 'modeller', '', 'machine', 'learning', 'data', 'scientist', '', 'experienced', 'data', 'scientist', 'melbourne', '', 'data', 'scientist', 'team', 'lead', '', 'senior', 'data', 'scientist', '', 'senior', 'data', 'scientist', 'sql', '', 'data', 'scientist', 'data', 'engineer', '', 'data', 'scientist', '', 'senior', 'data', 'scientist', '', 'data', 'scientist', 'vonto', '', 'data', 'scientist', '', 'contract', 'data', 'scientist', '', 'senior', 'modeller', '', 'devops', 'consultant', 'openshift', '', 'data', 'scientist', 'expressions', 'interest', '', 'data', 'analyst', '', 'data', 'scientist', '', 'data', 'scientist', '', 'lead', 'data', 'scientist', 'k', 'package', '', 'data', 'scientist', '', 'data', 'scientist', 'canberra', '', 'customer', 'data', 'scientist', '', 'senior', 'data', 'scientist', '', 'data', 'scientist', '', 'senior', 'data', 'scientist', '', 'data', 'scientist', '', 'data', 'scientist', '', 'data', 'scientist', 'medical', 'machine', 'learning', 'acoust', '...', '', 'data', 'scientist', '', 'data', 'scientist', '', 'data', 'scientist', 'forecasting', '', 'data', 'scientist', 'optimisation', 'performance', 'foreca', '...', '', 'data', 'scientist', '', 'data', 'scientist', '', 'agricultural', 'data', 'scientist', '', 'senior', 'fraud', 'risk', 'data', 'scientist', '', 'data', 'scientist', '', 'senior', 'data', 'scientist', 'funds', 'management', '', 'senior', 'data', 'scientist', 'sas', 'sql', '', 'senior', 'data', 'scientist', '', 'geospatial', 'data', 'scientist', '', 'data', 'scientist', '', 'data', 'scientist', 'gis', 'developer', '', 'data', 'scientist', '', 'data', 'scientist', 'machine', 'learning', 'ai', '', 'data', 'scientist', '', 'contract', 'lead', 'data', 'scientist', 'attribution', 'model', '...', '', 'data', 'scientist', '', 'data', 'scientist', '', 'data', 'scientist', '', 'data', 'scientist', '', 'data', 'scientist', '', 'data', 'scientist', '', 'content', 'data', 'scientist', '', 'data', 'scientist', '', 'data', 'scientist', 'principal', '', 'data', 'scientist', 'content', 'engineer', 'k', 'super', '', 'lead', 'data', 'scientist', '', 'data', 'scientist', 'practice', 'lead', 'brisbane', '', 'senior', 'data', 'scientist', '', 'data', 'scientist', '', 'data', 'scientist', '', 'data', 'scientist', '', 'data', 'scientist', '', 'data', 'scientist', '', 'data', 'scientist', '', 'data', 'scientist', '', 'senior', 'data', 'scientist', '', 'data', 'scientist', '', 'data', 'scientist', 'melbourne', 'adelaide', '', 'data', 'scientist', '', 'senior', 'data', 'scientist', '', 'full', 'stack', 'developer', '', 'full', 'stack', 'developer', '', 'full', 'stack', 'developer', '', 'full', 'stack', 'developer', '', 'full', 'stack', 'developer', '', 'full', 'stack', 'developer', '', 'full', 'stack', 'developer', '', 'lead', 'data', 'scientist', '', 'ai', 'python', 'developer', '', 'data', 'scientist', '', 'data', 'scientist', 'machine', 'learning', 'algorithms', '', 'lead', 'data', 'scientist', '', 'data', 'scientist', '', 'lead', 'data', 'scientist', '', 'data', 'scientist', 'systems', 'architect', '', 'senior', 'data', 'scientist', 'x', 'contract', '', 'pd', '', 'data', 'scientist', '', 'data', 'scientist', '', 'senior', 'data', 'scientist', '', 'consultant', 'statistician', 'data', 'scientist', 'analyst', '', 'lead', 'data', 'scientist', '', 'digital', 'media', 'data', 'scientist', '', 'data', 'scientist', '', 'data', 'scientist', '', 'data', 'scientist', '', 'data', 'scientist', '', 'data', 'scientist', '', 'data', 'scientist', '', 'data', 'scientist', '', 'data', 'scientist', '', 'data', 'scientist', '', 'data', 'scientist', '', 'data', 'scientist', '', 'data', 'scientist', 'policy', 'performance', 'workforce', 'sa', '...', '', 'data', 'scientist', 'policy', 'performance', 'workforce', 'sa', '...', '', 'data', 'scientist', '', 'data', 'scientist', 'canberra', '', 'data', 'scientist', '', 'demand', 'modeler', 'talent', 'culture', '', 'senior', 'data', 'scientist', '', 'data', 'scientist', '', 'data', 'scientist', '', 'data', 'scientist', 'data', 'engineer', 'ai', 'machine', 'learning', '', 'data', 'scientist', 'sydney', 'melbourne', '', 'data', 'scientist', '', 'data', 'scientist', '', 'data', 'scientist', '', 'data', 'scientist', '', 'data', 'scientist', 'credit', 'risk', '', 'data', 'scientist', 'm', '', 'data', 'scientist', 'm', '', 'machine', 'learning', 'data', 'scientist', '', 'senior', 'data', 'scientist', '', 'data', 'scientist', '', 'data', 'scientist', '', 'datapower', 'developer', '', 'junior', 'data', 'scientist', 'top', 'fund', 'manager', '', 'data', 'scientist', 'computer', 'vision', 'machine', 'learnin', '...', '', 'data', 'scientist', 'mid', 'senior', '', 'junior', 'data', 'scientist', '', 'research', 'officer', 'data', 'scientist', '', 'senior', 'data', 'scientist', 'x', 'contract', '', 'pd', '', 'principle', 'data', 'scientist', '', 'data', 'scientist', '', 'data', 'scientist', 'machine', 'learning', 'algorithms', '', 'data', 'scientist', 'senior', '', 'data', 'scientist', '', 'moogsoft', 'sydney', 'australia', '', 'data', 'scientist', '', 'data', 'scientist', '', 'data', 'scientist', '', 'data', 'scientist', 'machine', 'learning', '', 'research', 'data', 'scientist', 'lung', 'transplant', '', 'research', 'data', 'scientist', 'lung', 'transplant', '', 'lead', 'data', 'scientist', 'digital', 'media', '', 'data', 'scientist', 'digital', 'media', '', 'data', 'scientist', '', 'data', 'scientist', '', 'month', 'contract', '', '', 'day', '', 'data', 'scientist', 'azure', 'ml', '', 'data', 'scientist', 'machine', 'learning', 'yes', 'really', '', 'data', 'scientist', '', 'data', 'scientist', 'data', 'engineer', 'ai', 'machine', 'learning', '', 'data', 'scientist', '', 'data', 'scientist', '', 'data', 'scientist', '', 'data', 'scientist', 'geoscience', '', 'data', 'scientist', '', 'data', 'scientist', '', 'senior', 'data', 'scientist', '', 'data', 'scientist', '', 'analyst', 'data', 'scientist', 'digital', 'orebody', 'perth', '', 'data', 'scientist', '', 'data', 'scientist', '', 'senior', 'data', 'scientist', '', 'data', 'scientist', '', 'senior', 'data', 'scientist', '', 'lead', 'data', 'scientist', '', 'senior', 'data', 'scientist', '', 'senior', 'data', 'scientist', '', 'data', 'scientist', '', 'data', 'scientist', 'machine', 'learning', '', 'month', 'minimu', '...', '', 'data', 'scientist', '', 'senior', 'data', 'analyst', 'fraud', '', 'data', 'scientist', '', 'data', 'scientist', 'speech', 'analytics', '', 'data', 'scientist', '', 'data', 'scientist', '', 'data', 'scientist', 'greenfield', '', 'senior', 'data', 'scientist', '', 'earth', 'observation', 'data', 'scientist', '', 'earth', 'observation', 'data', 'scientist', '', 'earth', 'observation', 'data', 'scientist', '', 'data', 'scientist', '', 'earth', 'observation', 'data', 'scientist', '', 'data', 'scientist', '', 'geospatial', 'specialist', '', 'earth', 'observation', 'data', 'scientist', '', 'data', 'scientist', 'earth', 'observation', '', 'data', 'scientist', '', 'data', 'scientist', 'national', 'operations', 'finance', '', 'data', 'scientist', '', 'data', 'scientist', '', 'data', 'scientist', '', 'earth', 'observation', 'data', 'scientist', '', 'data', 'scientist', 'data', 'analytics', 'predictive', 'elast', '...', '', 'data', 'scientist', 'statistician', '', 'data', 'scientist', 'statistician', '', 'senior', 'data', 'scientist', '', 'senior', 'data', 'scientist', '', 'senior', 'data', 'scientist', '', 'senior', 'data', 'scientist', 'x', 'contract', '', 'pd', '', 'data', 'scientist', 'data', 'analytics', '', 'data', 'scientist', '', 'data', 'scientist', '', 'data', 'scientist', '', 'data', 'scientist', '', 'senior', 'manager', 'data', 'scientist', '', 'senior', 'manager', 'data', 'scientist', '', 'senior', 'data', 'scientist', '', 'junior', 'data', 'scientist', '', 'data', 'scientist', '', 'people', 'systems', 'data', 'reporting', 'specialist', '', 'data', 'scientist', '', 'data', 'scientist', '', 'data', 'scientist', '', 'el', 'senior', 'data', 'scientist', '', 'el', 'senior', 'data', 'scientist', '', 'data', 'scientist', 'software', 'developer', '', 'manager', 'climate', 'data', 'science', 'coordination', '', 'senior', 'data', 'scientist', '', 'data', 'scientist', 'personalisation', '', 'lead', 'data', 'scientist', 'digital', 'media', '', 'data', 'scientist', '', 'senior', 'data', 'scientist', '', 'lead', 'data', 'scientist', 'digital', 'media', 'customer', 'data', '', 'data', 'scientist', '', 'data', 'scientist', '', 'data', 'scientist', '', 'data', 'scientist', '', 'data', 'scientist', '', 'data', 'scientist', '', 'data', 'scientist', '', 'lead', 'data', 'scientist', '', 'senior', 'data', 'scientist', 'machine', 'learning', 'nlp', '', 'data', 'scientist', 'retail', 'customer', 'analytics', 'green', '...', '', 'data', 'scientist', '', 'lead', 'data', 'scientist', 'retail', 'customer', 'analytics', '...', '', 'data', 'scientist', 'mid', 'senior', 'positions', 'available', '', 'data', 'scientist', '', 'data', 'scientist', 'machine', 'learning', '', 'data', 'scientist', 'internal', 'consultancy', 'customer', 'a', '...', '', 'el', 'senior', 'data', 'scientist', '', 'data', 'scientist', '', 'data', 'scientist', '', 'data', 'scientist', 'sydney', '', 'graduate', 'data', 'scientist', 'financial', 'services', '', 'data', 'scientist', '', 'senior', 'data', 'scientist', 'birmingham', '', 'remote', '', '...', '', 'data', 'analyst', 'salesforce', 'effectiveness', '', 'data', 'engineer', '', 'data', 'scientist', '', 'senior', 'data', 'scientist', '', 'data', 'scientist', '', 'data', 'scientist', '', 'digital', 'media', 'data', 'scientist', '', 'data', 'scientist', '', 'lead', 'data', 'scientist', '', 'lead', 'data', 'scientist', '', 'data', 'scientist', '', 'data', 'scientist', '', 'advanced', 'analytics', 'data', 'scientist', '', 'data', 'scientist', '', 'days', 'per', 'week', 'initially', '', 'data', 'scientist', '', 'senior', 'data', 'scientist', 'multiple', 'contracts', '', '', '...', '', 'junior', 'data', 'scientist', '', 'month', 'contract', '', 'senior', 'data', 'scientist', '', 'data', 'scientist', '', 'data', 'scientist', '', 'data', 'scientist', '', 'principal', 'data', 'science', 'consultant', 'data', 'scienti', '...', '', 'data', 'scientist', '', 'data', 'scientist', 'data', 'analytics', '', 'data', 'scientist', '', 'data', 'scientist', '', 'data', 'scientist', '', 'data', 'scientist', 'big', 'data', 'machine', 'learning', 'ai', '', 'data', 'scientist', '', 'principal', 'data', 'scientist', '', 'principal', 'data', 'science', 'consultant', 'data', 'scienti', '...', '', 'data', 'scientist', '', 'data', 'scientist', '', 'data', 'scientist', '', 'data', 'scientist', '', 'data', 'scientist', '', 'data', 'scientist', '', 'data', 'scientist', '', 'data', 'scientist', '', 'data', 'scientist', '', 'data', 'scientist', 'contract', 'iconic', 'organisation', '', 'data', 'scientist', '', 'data', 'scientist', '', 'data', 'scientist', '', 'data', 'scientist', 'multiple', 'vacancies', '', 'junior', 'data', 'scientist', '', 'data', 'engineer', '', 'data', 'engineer', '', 'data', 'scientist', 'full', 'stack', 'development', '', 'data', 'scientist', '', 'data', 'scientist', 'full', 'stack', 'development', 'experience', '', 'data', 'scientist', '', 'senior', 'analyst', 'data', 'scientist', '', 'data', 'scientist', '', 'data', 'scientist', 'natural', 'language', 'processing', 'spe', '...', '', 'lead', 'quantitative', 'analyst', 'data', 'scientist', 'behav', '...', '', 'data', 'scientist', '', 'graduate', 'data', 'science', 'engineer', '', 'senior', 'data', 'scientist', 'multiple', 'contracts', '', '', '...', '', 'data', 'scientist', '', 'product', 'data', 'scientist', '', 'data', 'scientist', '', 'data', 'scientist', '', 'data', 'scientist', '', 'data', 'scientist', '', 'data', 'scientist', '', 'data', 'scientist', '', 'data', 'scientist', '', 'data', 'scientist', '', 'data', 'scientist', 'product', '', 'senior', 'data', 'scientist', 'contract', 'iconic', 'organisa', '...', '', 'data', 'scientist', '', 'data', 'scientist', '', 'data', 'scientist', '', 'data', 'scientist', '', 'data', 'scientist', '', 'data', 'scientist', '', 'data', 'scientist', 'adelaide', 'canberra', '', 'senior', 'data', 'scientist', '', 'lead', 'data', 'scientist', '', 'climate', 'data', 'scientist', '', 'climate', 'data', 'scientist', '', 'data', 'scientist', 'health', 'system', 'insights', '', 'data', 'scientist', 'health', 'system', 'insights', '', 'data', 'scientist', '', 'data', 'scientist', '', 'data', 'scientist', 'digital', 'surveillance', 'collection', '...', '', 'data', 'scientist', 'digital', 'surveillance', 'collection', '...', '', 'data', 'scientist', 'digital', 'surveillance', 'collection', '...', '', 'data', 'scientist', 'digital', 'surveillance', 'collection', '...', '', 'junior', 'data', 'scientist', '', 'principal', 'data', 'scientist', '', 'principal', 'data', 'scientist', '', 'principal', 'data', 'scientist', '', 'lead', 'data', 'scientist', '', 'data', 'scientist', '', 'senior', 'data', 'scientist', '', 'data', 'scientist', '', 'data', 'scientist', '', 'junior', 'data', 'scientist', '', 'data', 'scientist', 'financial', 'markets', '', 'data', 'scientist', '', 'senior', 'data', 'scientist', '', 'data', 'scientist', '', 'data', 'scientist', '', 'data', 'scientist', '', 'data', 'scientist', '', 'data', 'scientist', '', 'data', 'scientist', '', 'data', 'scientist', '', 'data', 'scientist', '', 'data', 'scientist', 'lead', 'apac', '', 'data', 'scientist', '', 'senior', 'data', 'scientist', '', 'data', 'scientist', '', 'data', 'scientist', 'recommendation', 'systems', '', 'marketing', 'data', 'scientist', '', 'marketing', 'data', 'scientist', '', 'data', 'scientist', '', 'data', 'scientist', 'various', 'positions', '', 'data', 'scientist', '', '', 'day', '', 'data', 'scientist', '', 'senior', 'manager', 'data', 'scientist', '', 'data', 'scientist', '', 'senior', 'data', 'scientist', '', 'senior', 'manager', 'data', 'scientist', '', 'data', 'scientist', '', 'data', 'scientist', '', 'data', 'scientist', '', 'data', 'scientist', '', 'data', 'scientist', 'multiple', '', 'data', 'scientist', '', 'data', 'scientist', '', 'data', 'scientist', 'modelling', 'team', '', 'senior', 'data', 'scientist', '', 'data', 'scientist', '', 'data', 'scientist', 'remote', 'opportunity', '', 'x', 'data', 'scientist', 'machine', 'learning', 'ai', '', 'senior', 'data', 'scientist', '', 'senior', 'data', 'scientist', '', 'senior', 'data', 'scientist', 'remuneration', 'specialist', '', 'data', 'scientist', 'personalisation', '', 'data', 'scientist', 'personalisation', '', 'data', 'scientist', 'personalisation', '', 'data', 'scientist', '', 'data', 'scientist', '', 'data', 'scientist', 'marketing', '', 'data', 'scientist', '', 'team', 'lead', 'data', 'scientist', '', 'trainee', 'data', 'scientist', '', 'data', 'science', 'advanced', 'analytics', 'lead', '', 'data', 'scientist', 'defence', '', 'senior', 'data', 'scientist', '', 'senior', 'data', 'scientist', 'advanced', 'analytics', '', 'data', 'scientist', '', 'senior', 'data', 'scientist', '', 'data', 'scientist', 'oil', 'gas', 'ot', '', 'senior', 'data', 'scientist', '', 'junior', 'data', 'scientist', '', 'senior', 'data', 'scientist', '', 'software', 'developer', '', 'senior', 'data', 'scientist', '', 'data', 'scientist', 'proteomics', '', 'data', 'scientist', '', 'data', 'scientist', '', 'senior', 'data', 'scientist', '', 'data', 'scientist', '', 'lead', 'data', 'scientist', '', 'senior', 'data', 'scientist', '', 'data', 'scientist', '', 'data', 'scientist', 'actuarial', '', 'graduate', 'data', 'scientist', 'brisbane', '', 'senior', 'data', 'scientist', '', 'senior', 'data', 'scientist', '', 'senior', 'data', 'scientist', '', 'senior', 'data', 'scientist', '', 'senior', 'data', 'scientist', '', 'senior', 'data', 'scientist', '', 'senior', 'data', 'scientist', '', 'senior', 'data', 'scientist', '', 'senior', 'data', 'scientist', '', 'senior', 'data', 'scientist', '', 'senior', 'data', 'scientist', '', 'senior', 'data', 'scientist', '', 'senior', 'data', 'scientist', '', 'senior', 'data', 'scientist', '', 'senior', 'data', 'scientist', '', 'senior', 'data', 'scientist', '', 'data', 'scientist', '', 'data', 'scientist', '', 'data', 'scientist', '', 'solutions', 'architect', '', 'data', 'scientist', 'm', 'contract', 'immediate', 'start', '', 'senior', 'data', 'scientist', '', 'data', 'scientist', '', '', 'yrs', 'exp', 'data', 'science', 'proficiency', 'python', '', 'po', '...', '', 'data', 'scientist', '', 'machine', 'learning', 'data', 'engineer', 'python', '', 'data', 'scientist', '', 'scrum', 'master', 'jira', 'confluence', 'mel', 'bne', 'syd', '', 'financial', 'data', 'scientist', '', 'data', 'scientist', '', 'senior', 'data', 'scientist', '', 'data', 'scientist', '', 'bioinformatician', 'computational', 'functional', 'geno', '...', '', 'senior', 'data', 'scientist', '', 'senior', 'data', 'scientist', '', 'senior', 'data', 'scientist', 'advanced', 'analytics', '', 'data', 'scientist', '', 'data', 'scientist', 'python', '', 'senior', 'data', 'scientist', '', 'data', 'scientist', '', 'data', 'scientist', '', 'data', 'scientist', '', 'principal', 'data', 'scientist', '', 'data', 'scientist', '', 'data', 'scientist', '', 'lead', 'data', 'scientist', '', 'data', 'scientist', '', 'month', 'contract', 'prediction', 'ana', '...', '', 'data', 'scientist', '', 'data', 'scientist', '', 'data', 'scientist', '', 'data', 'scientist', '', 'deep', 'learning', 'engineer', '', 'data', 'scientist', '', 'data', 'scientist', '', 'data', 'scientist', '', 'data', 'scientist', '', 'junior', 'data', 'scientist', 'contract', '', 'data', 'scientist', 'advanced', '', 'data', 'scientist', '', 'data', 'scientist', '', 'research', 'engineer', 'data', 'science', '', 'research', 'engineer', 'data', 'science', '', 'data', 'scientist', 'machine', 'learning', '', 'machine', 'learning', 'engineer', 'data', 'scientist', '', 'data', 'scientist', '', 'junior', 'data', 'scientist', 'sydney', '', 'senior', 'data', 'scientist', 'm', '', 'data', 'scientist', '', 'senior', 'data', 'scientist', '', 'senior', 'data', 'scientist', '', 'health', 'safety', 'data', 'scientist', '', 'senior', 'data', 'scientist', '', 'data', 'scientist', 'melbourne', '', 'data', 'science', 'lead', 'consultant', '', 'data', 'scientist', '', 'full', 'stack', 'engineer', 'data', 'scientist', '', 'data', 'scientist', '', 'data', 'scientist', '', 'data', 'scientist', '', 'data', 'scientist', '', 'data', 'scientist', '', 'data', 'scientist', '', 'data', 'scientist', '', 'data', 'scientist', '', 'data', 'scientist', '', '', 'data', 'scientist', '', 'data', 'scientist', '', '', 'data', 'scientist', '', 'data', 'scientist', '', 'junior', 'data', 'scientist', '', 'senior', 'data', 'scientist', '', 'data', 'scientist', '', 'data', 'scientist', '', 'data', 'scientist', '', 'data', 'scientist', '', 'data', 'scientist', '', 'data', 'scientist', 'sydney', '', 'data', 'scientist', '', 'data', 'scientist', 'python', 'r', '', 'data', 'scientist', '', 'data', 'scientist', 'lead', 'consultant', '', 'data', 'scientist', 'manager', '', 'data', 'scientist', '', 'data', 'scientist', '', 'lead', 'data', 'scientist', '', 'data', 'scientist', 'ocr', 'technologies', '', 'data', 'scientist', '', 'data', 'scientist', '', 'data', 'scientist', '', 'data', 'scientist', '', 'senior', 'data', 'scientist', '', 'data', 'scientist', '', 'month', 'contract', '', 'data', 'scientist', '', 'senior', 'data', 'scientist', '', 'senior', 'data', 'scientist', '', 'data', 'scientist', '', 'deep', 'learning', 'engineer', '', 'senior', 'data', 'scientist', 'dashboard', 'developer', '', 'senior', 'data', 'scientist', 'dashboard', 'developer', '', 'senior', 'data', 'scientist', 'dashboard', 'developer', '', '', 'associate', 'data', 'scientist', '', 'data', 'scientist', '', 'data', 'scientist', '', 'senior', 'commercial', 'analytics', 'manager', '', 'graduate', 'data', 'scientist', '', 'data', 'scientist', '', 'data', 'scientist', '', 'data', 'scientist', '', 'data', 'scientist', '', 'data', 'scientist', '', 'data', 'scientist', '', 'data', 'scientist', '', 'senior', 'data', 'scientist', '', 'data', 'scientist', 'machine', 'learning', 'ai', '', 'data', 'scientist', 'engineer', '', 'data', 'scientist', 'engineer', '', 'senior', 'data', 'scientist', '', 'data', 'scientist', '', 'quantitative', 'developer', 'financial', 'services', '', 'data', 'scientist', 'finance', '', 'senior', 'data', 'scientist', '', 'data', 'scientist', '', 'data', 'scientist', '', 'senior', 'data', 'scientist', '', 'data', 'scientist', '', 'data', 'scientist', 'hpc', 'specialist', '', 'data', 'scientist', 'hpc', 'specialist', '', 'junior', 'data', 'scientist', '', '', 'yrs', 'exp', 'data', 'science', 'proficiency', 'python', '', 'po', '...', '', 'data', 'scientist', '', 'data', 'scientist', '', 'data', 'scientist', '', 'data', 'scientist', '', 'senior', 'manager', 'data', 'scientist', '', 'aps', 'senior', 'data', 'scientist', '', 'data', 'scientist', 'data', 'analyst', 'economics', 'labour', 'i', '...', '', 'data', 'scientist', 'data', 'analyst', 'economics', 'labour', 'i', '...', '', 'principal', 'optimisation', 'analyst', '', 'mathematical', 'modeller', 'data', 'scientist', '', 'mathematical', 'modeller', 'data', 'scientist', '', 'data', 'scientist', '', 'data', 'scientist', '', 'data', 'scientist', '', 'data', 'scientist', '', 'analytics', 'consultant', 'aspiring', 'data', 'scientist', '', 'data', 'scientist', '', 'senior', 'data', 'scientist', '', 'data', 'scientist', 'analyst', '', 'data', 'scientist', 'analyst', '', 'data', 'scientist', 'client', 'management', 'role', '', 'senior', 'data', 'scientist', '', 'dataops', 'engineer', '', 'senior', 'data', 'scientist', '', 'senior', 'data', 'scientist', '', 'snr', 'back', 'end', 'engineer', '', 'data', 'scientist', '', 'data', 'scientist', '', 'junior', 'data', 'scientist', '', 'analyst', 'data', 'scientist', '', 'analyst', 'data', 'scientist', '', 'analyst', 'data', 'scientist', '', 'data', 'scientist', '', 'data', 'scientist', '', 'data', 'scientist', '', 'data', 'scientist', '', 'python', 'developer', 'data', 'scientist', '', 'senior', 'data', 'scientist', '', 'data', 'scientist', '', 'associate', 'data', 'scientist', '', 'senior', 'data', 'scientist', '', 'senior', 'data', 'scientist', '', 'data', 'scientist', '', 'senior', 'data', 'scientist', '', 'data', 'scientist', '', 'data', 'scientist', '', 'applied', 'data', 'scientist', '', 'data', 'scientist', '', 'data', 'scientist', '', 'senior', 'data', 'scientist', '', 'bioinformatician', 'proteomics', 'computational', 'func', '...', '', 'data', 'scientist', '', 'senior', 'data', 'scientist', '', 'data', 'scientist', '', 'data', 'scientist', '', 'eoi', 'data', 'scientist', '', 'data', 'scientist', '', 'data', 'scientist', '', 'data', 'scientist', '', 'data', 'scientist', 'python', 'developer', '', 'quantitative', 'developer', 'financial', 'services', '', 'data', 'scientist', 'actuarial', '', 'data', 'scientist', 'actuarial', '', 'data', 'scientist', '', 'data', 'scientist', '', 'senior', 'data', 'scientist', '', 'data', 'scientist', '', 'data', 'scientist', '', 'senior', 'data', 'scientist', '', 'data', 'scientist', '', 'data', 'scientist', '', 'data', 'scientist', '', 'senior', 'data', 'scientist', '', 'data', 'scientist', 'quantitative', 'analyst', '', 'data', 'scientist', '', 'research', 'data', 'scientist', '', 'research', 'data', 'scientist', '', 'data', 'scientist', 'financial', 'services', '', 'geospatial', 'data', 'scientist', '', 'data', 'scientist', '', 'data', 'scientist', '', 'exploration', 'data', 'scientist', '', 'data', 'scientist', 'natural', 'language', 'processing', 'nlp', '', 'principal', 'data', 'scientist', '', 'data', 'scientist', '', 'data', 'scientist', 'sydney', 'melbourne', 'location', '', 'senior', 'data', 'scientist', '', 'data', 'architect', '', 'data', 'scientist', '', 'data', 'scientist', '', 'data', 'scientist', '', 'data', 'scientist', '', 'data', 'scientist', '', 'data', 'scientist', '', 'data', 'scientist', 'data', 'engineering', '', 'platform', 'engineer', 'specialisation', 'data', 'scientist', '', 'platform', 'engineer', 'specialisation', 'data', 'scientist', '', 'pricing', 'advisor', 'data', 'scientist', '', 'data', 'scientist', '', 'senior', 'manager', 'data', 'scientist', '', 'data', 'scientist', '', 'data', 'scientist', 'quant', 'trading', 'strategies', 'fully', '...', '', 'senior', 'data', 'scientist', '', 'data', 'scientist', '', 'data', 'scientist', '', 'senior', 'manager', 'data', 'scientist', '', 'data', 'scientist', 'consulting', '', 'data', 'scientist', '', 'data', 'scientist', '', 'advanced', 'analytics', 'data', 'scientist', 'positions', '', 'data', 'scientist', 'python', 'developer', '', 'data', 'scientist', '', 'data', 'scientist', '', 'junior', 'data', 'scientist', '', 'junior', 'data', 'scientist', '', 'data', 'scientist', '', 'data', 'analyst', 'junior', 'data', 'scientist', '', 'graduate', 'data', 'scientist', 'financial', 'services', '', 'dataops', 'engineer', '', 'cloud', 'system', 'engineer', 'aws', '', 'data', 'scientist', '', 'junior', 'data', 'scientist', 'contract', '', 'data', 'scientist', '', 'developer', 'data', 'scientist', '', 'developer', 'data', 'scientist', '', 'data', 'scientist', '', 'senior', 'data', 'scientist', '', 'data', 'scientist', '', 'academic', 'data', 'scientist', '', 'academic', 'data', 'scientist', '', 'academic', 'data', 'scientist', '', 'data', 'scientist', '', 'data', 'engineer', '', 'senior', 'data', 'scientist', '', 'senior', 'data', 'scientist', '', 'data', 'scientist', '', 'data', 'scientist', 'data', 'analysis', 'visualisation', 'sta', '...', '', 'data', 'scientist', 'immediate', 'start', '', 'month', 'contrac', '...', '', 'data', 'scientist', '', 'month', 'contract', 'melbourne', 'remote', '', 'data', 'scientist', '', 'data', 'scientist', '', 'senior', 'data', 'scientist', '', 'data', 'scientist', '', 'month', 'ftc', '', 'data', 'scientist', '', 'data', 'scientist', '', 'data', 'scientist', '', 'full', 'stack', 'dev', 'data', 'scientist', '', 'data', 'scientist', '', 'senior', 'data', 'scientist', 'k', '', 'data', 'scientist', '', 'data', 'scientist', '', 'senior', 'data', 'scientist', '', 'senior', 'data', 'scientist', '', 'data', 'scientist', '', 'data', 'scientist', '', 'data', 'scientist', '', 'senior', 'data', 'scientist', '', 'sr', 'software', 'engineer', 'x', '', 'senior', 'data', 'scientist', 'forecasting', '', 'data', 'scientist', '', 'graduate', 'gis', 'data', 'scientist', '', 'months', '', 'junior', 'data', 'scientist', '', 'data', 'scientist', '', 'associate', 'data', 'scientist', '', 'junior', 'data', 'scientist', '', 'data', 'scientist', '', 'data', 'engineer', '', 'data', 'engineer', '', 'data', 'engineer', '', 'senior', 'data', 'scientist', '', 'data', 'scientist', 'planning', 'modelling', 'analyst', '', 'senior', 'principal', 'data', 'scientist', '', 'data', 'planning', 'modelling', 'analyst', '', 'senior', 'data', 'scientist', '', 'data', 'scientist', 'senior', 'analyst', '', 'data', 'scientist', 'revenue', 'strategy', '', 'lead', 'consultant', 'data', 'scientist', '', 'analyst', 'junior', 'data', 'scientist', '', 'analyst', 'junior', 'data', 'scientist', '', 'operations', 'data', 'scientist', '', 'operations', 'data', 'scientist', '', 'operations', 'data', 'scientist', '', 'operations', 'data', 'scientist', '', 'operations', 'data', 'scientist', '', 'junior', 'data', 'scientist', '', 'senior', 'data', 'scientist', 'x', '', 'pd', '', 'data', 'engineer', '', 'data', 'engineering', 'lead', '', 'data', 'analyst', 'data', 'scientist', '', 'data', 'scientist', 'snr', 'data', 'engineer', '', 'data', 'scientist', '', 'manager', 'data', 'science', 'nlp', 'ml', '', 'data', 'scientist', '', 'senior', 'frontend', 'developer', 'ai', 'data', 'scientist', '', 'senior', 'data', 'scientist', 'k', '', 'senior', 'quantitative', 'researcher', 'data', 'scientist', '...', '', 'data', 'scientist', '', 'senior', 'frontend', 'developer', 'ai', 'data', 'scientist', '', 'python', 'django', 'developer', '', 'data', 'scientist', '', 'data', 'scientist', '', 'principal', 'data', 'scientist', '', 'data', 'scientist', '', 'data', 'scientist', '', 'data', 'scientist', 'aws', '', 'data', 'scientist', '', 'data', 'scientist', '', 'data', 'scientist', '', 'data', 'scientist', '', 'data', 'scientist', 'top', 'fund', 'manager', '', 'customer', 'insights', 'analyst', '', 'data', 'scientist', '', 'senior', 'solution', 'designer', 'data', 'science', 'data', 'ana', '...', '', 'data', 'scientist', '', 'data', 'scientist', '', 'data', 'scientist', '', 'junior', 'data', 'scientist', '', 'senior', 'data', 'scientist', '', 'data', 'scientist', 'database', 'engineer', '', 'data', 'scientist', '', 'creative', 'agricultural', 'data', 'scientist', '', 'data', 'scientist', '', 'data', 'scientist', '', 'azure', 'devsecops', 'engineer', 'aks', 'experienced', '', 'data', 'scientist', '', 'data', 'scientist', '', 'senior', 'business', 'analyst', 'data', 'management', '', 'business', 'analyst', 'data', 'scientist', '', 'data', 'scientist', '', 'data', 'scientist', '', 'junior', 'data', 'scientist', '', 'month', 'contract', '', 'data', 'scientist', '', 'data', 'scientist', '', 'senior', 'professional', 'data', 'scientist', '', 'data', 'scientist', '', 'software', 'developer', 'full', 'stack', 'data', 'scientist', 'g', '...', '', 'software', 'developer', 'full', 'stack', 'data', 'scientist', 'g', '...', '', 'data', 'scientist', '', 'technical', 'test', 'engineer', '', 'technical', 'test', 'engineer', '', 'front', 'end', 'developer', '', 'front', 'end', 'developer', '', 'data', 'scientist', '', 'senior', 'data', 'scientist', '', 'marine', 'aquatic', 'data', 'scientist', 'perth', 'office', '', 'geospatial', 'data', 'scientist', 'remote', 'sensing', 'speci', '...', '', 'data', 'scientist', '', 'data', 'scientist', 'data', 'architect', 'technology', 'analy', '...', '', 'data', 'scientist', '', 'data', 'scientist', '', 'senior', 'data', 'scientist', '', 'data', 'engineer', '', 'senior', 'data', 'scientist', 'data', 'rich', 'platform', 'world', '', 'data', 'scientist', '', 'data', 'scientist', 'maternity', 'leave', 'contract', '', 'data', 'scientist', '', 'data', 'expert', 'analytics', 'data', 'scientist', '', 'data', 'scientist', '', 'data', 'scientist', '', 'start', 'new', 'career', 'data', 'analyst', '', 'start', 'new', 'career', 'data', 'analyst', '', 'data', 'scientist', 'climate', 'risk', '', 'data', 'scientist', '', 'data', 'scientist', 'advanced', '', 'data', 'scientist', '', 'data', 'scientist', '', 'data', 'scientist', '', 'data', 'scientist', '', 'data', 'scientist', '', 'senior', 'data', 'scientist', '', 'data', 'scientist', '', 'data', 'scientist', 'multiple', 'positions', '', 'data', 'scientist', '', 'data', 'scientist', '', 'data', 'scientist', '', 'strategic', 'analyst', 'data', 'scientist', 'multiple', 'posi', '...', '', 'strategic', 'analyst', 'data', 'scientist', 'multiple', 'posi', '...', '', 'data', 'scientist', 'multiple', 'positions', '', 'senior', 'data', 'scientist', '', 'data', 'science', '', 'tech', 'recruitment', 'consultants', 'multiple', 'roles', '', 'machine', 'learning', 'data', 'scientist', 'phd', '', 'data', 'scientist', '', 'data', 'scientist', '', 'customer', 'insights', 'specialist', 'pharmaceuticals', '', 'data', 'scientist', '', 'senior', 'data', 'scientist', '', 'machine', 'learning', 'engineer', '', 'lead', 'machine', 'learning', 'engineer', '', 'data', 'scientist', '', 'data', 'scientist', '', 'data', 'scientist', '', 'data', 'scientist', '', 'data', 'scientist', '', 'data', 'scientist', '', 'data', 'analyst', 'junior', 'data', 'scientist', '', 'data', 'scientist', 'data', 'analyst', '', 'data', 'scientist', 'coki', '', 'data', 'scientist', 'coki', '', 'junior', 'data', 'scientist', '', 'data', 'engineer', '', 'business', 'improvement', 'specialist', 'data', 'scientist', '', 'graduate', 'data', 'engineer', '', 'data', 'scientist', '', 'data', 'modeler', '', 'lead', 'consultant', 'data', 'scientist', 'r', '', 'data', 'modeller', 'lead', '', 'aps', '', 'data', 'analyst', 'aps', 'program', 'support', 'officer', '', 'data', 'scientist', '', 'data', 'analyst', '', 'data', 'analyst', '', 'radar', 'data', 'scientist', '', 'radar', 'data', 'scientist', '', 'mathematical', 'statisticians', 'data', 'scientists', 'dat', '...', '', 'mathematical', 'statisticians', 'data', 'scientists', 'dat', '...', '', 'mathematical', 'statisticians', 'data', 'scientists', 'dat', '...', '', 'mathematical', 'statisticians', 'data', 'scientists', 'dat', '...', '', 'mathematical', 'statisticians', 'data', 'scientists', 'dat', '...', '', 'mathematical', 'statisticians', 'data', 'scientists', 'dat', '...', '', 'mathematical', 'statisticians', 'data', 'scientists', 'dat', '...', '', 'mathematical', 'statisticians', 'data', 'scientists', 'dat', '...', '', 'mathematical', 'statisticians', 'data', 'scientists', 'dat', '...', '', 'mathematical', 'statisticians', 'data', 'scientists', 'dat', '...', '', 'mathematical', 'statisticians', 'data', 'scientists', 'dat', '...', '', 'mathematical', 'statisticians', 'data', 'scientists', 'dat', '...', '', 'mathematical', 'statisticians', 'data', 'scientists', 'dat', '...', '', 'mathematical', 'statisticians', 'data', 'scientists', 'dat', '...', '', 'el', 'data', 'modeller', 'lead', '', 'data', 'analyst', '', 'data', 'scientist', '', 'data', 'scientist', '', 'bi', 'developer', '', 'bi', 'developer', '', 'principal', 'consultant', 'data', 'ml', '', 'senior', 'front', 'end', 'react', 'developer', '', 'data', 'scientist', '', 'data', 'scientist', '', 'data', 'scientist', 'top', 'fund', 'manager', '', 'data', 'scientist', '', 'lead', 'data', 'scientist', '', 'lead', 'data', 'scientist', '', 'data', 'scientist', 'r', '', 'snr', 'back', 'end', 'engineer', '', 'data', 'scientist', '', 'senior', 'data', 'scientist', 'data', 'scientist', '', 'post', 'doctoral', 'research', 'fellow', 'data', 'science', '', 'post', 'doctoral', 'research', 'fellow', 'data', 'science', '', 'data', 'wrangler', 'data', 'scientist', '', 'business', 'intelligence', 'analyst', 'developer', '', 'data', 'scientist', '', 'data', 'scientist', '', 'data', 'scientist', '', 'data', 'scientist', '', 'senior', 'data', 'scientist', '', 'senior', 'data', 'scientist', '', 'data', 'scientist', '', 'customer', 'insights', 'analyst', '', 'language', 'data', 'scientist', '', 'language', 'data', 'scientist', '', 'assistant', 'directors', 'statisticians', 'data', 'profess', '...', '', 'assistant', 'directors', 'statisticians', 'data', 'profess', '...', '', 'assistant', 'directors', 'statisticians', 'data', 'profess', '...', '', 'assistant', 'directors', 'statisticians', 'data', 'profess', '...', '', 'assistant', 'directors', 'statisticians', 'data', 'profess', '...', '', 'assistant', 'directors', 'statisticians', 'data', 'profess', '...', '', 'assistant', 'directors', 'statisticians', 'data', 'profess', '...', '', 'assistant', 'directors', 'statisticians', 'data', 'profess', '...', '', 'assistant', 'directors', 'statisticians', 'data', 'profess', '...', '', 'assistant', 'directors', 'statisticians', 'data', 'profess', '...', '', 'assistant', 'directors', 'statisticians', 'data', 'profess', '...', '', 'assistant', 'directors', 'statisticians', 'data', 'profess', '...', '', 'assistant', 'directors', 'statisticians', 'data', 'profess', '...', '', 'assistant', 'directors', 'statisticians', 'data', 'profess', '...', '', 'data', 'scientist', 'proteomics', '', 'entry', 'level', 'data', 'scientist', 'risk', 'analyst', 'opport', '...', '', 'analytics', 'translator', 'data', 'translator', 'advanced', '...', '', 'data', 'scientist', '', 'data', 'scientist', 'credit', 'risk', '', 'senior', 'machine', 'learning', 'engineer', '', 'data', 'scientist', '', 'senior', 'software', 'engineer', '', 'senior', 'actuarial', 'analyst', '', 'senior', 'engineer', 'data', '', 'market', 'researcher', '', 'market', 'researcher', '', 'entry', 'level', 'data', 'scientist', 'risk', 'analyst', 'opport', '...', '', 'data', 'scientist', '', 'senior', 'data', 'scientist', '', 'data', 'scientist', '', 'data', 'scientist', '', 'data', 'scientist', 'analyst', '', 'data', 'scientist', 'analyst', '', 'lead', 'data', 'scientist', '', 'aws', 'data', 'engineer', '', 'senior', 'data', 'scientist', '', 'senior', 'data', 'scientist', '', 'people', 'culture', 'partner', '', 'data', 'scientist', '', 'senior', 'data', 'scientist', '', 'data', 'scientist', '', 'senior', 'data', 'analyst', '', 'senior', 'data', 'scientist', '', 'senior', 'insights', 'analyst', '', 'innovation', 'data', 'scientist', '', 'mid', 'level', 'software', 'engineer', 'data', 'scientist', '', 'junior', 'data', 'scientist', '', 'senior', 'data', 'scientist', '', 'data', 'scientist', 'transdev', 'australasia', '', 'data', 'scientist', 'transdev', 'australasia', '', 'data', 'scientist', 'transdev', 'australasia', '', 'policy', 'advisers', 'data', 'scientists', 'analysts', 'cabin', '...', '', 'data', 'engineer', '', 'data', 'scientist', '', 'senior', 'python', 'developer', '', 'junior', 'data', 'scientist', '', 'data', 'scientist', '', 'senior', 'data', 'analyst', 'clerk', 'grade', '', '', '', '', 'senior', 'data', 'analyst', 'clerk', 'grade', '', '', '', '', 'data', 'analytics', 'engineer', 'remote', '', 'data', 'analytics', 'engineer', 'remote', '', 'mid', 'level', 'software', 'engineer', 'data', 'scientist', '', 'data', 'scientist', '', 'market', 'researcher', '', 'market', 'researcher', '', 'senior', 'data', 'engineer', '', 'data', 'scientist', '', 'data', 'scientist', '', 'data', 'scientist', '', 'data', 'scientist', 'database', 'engineer', '', 'data', 'scientist', 'database', 'engineer', '', 'junior', 'data', 'scientist', '', 'senior', 'data', 'scientist', 'contract', 'iconic', 'organisa', '...', '', 'associate', 'director', 'product', 'data', 'analytics', 'dspark', '', 'senior', 'data', 'scientist', 'x', '', '', 'per', 'day', '', 'data', 'scientist', '', 'data', 'scientist', 'data', 'engineer', 'ai', 'machine', 'learning', '', 'senior', 'data', 'scientist', '', 'assistant', 'data', 'analyst', '', 'data', 'manager', 'data', 'architect', 'data', 'scientist', '', 'specialist', 'data', 'scientist', 'waio', 'perth', '', 'senior', 'front', 'end', 'developer', 'react', '', 'energy', 'data', 'scientist', '', 'junior', 'data', 'scientist', '', 'energy', 'data', 'scientist', '', 'senior', 'data', 'scientist', '', 'data', 'scientist', '', 'senior', 'professional', 'data', 'scientist', '', 'data', 'scientist', 'major', 'australian', 'bank', '', 'roles', '', 'data', 'scientist', '', 'mth', 'secondment', 'ftc', '', 'data', 'scientist', '', 'data', 'scientist', '', 'research', 'analyst', '', 'sql', 'developer', 'intermediate', '', 'data', 'scientist', '', 'mgr', 'data', 'scientist', 'enterprise', 'capability', '', 'data', 'scientist', 'research', 'scientist', '', 'data', 'scientist', 'research', 'scientist', '', 'financial', 'analyst', '', 'data', 'scientist', 'customer', 'marketing', '', 'customer', 'senior', 'data', 'scientist', '', 'start', 'new', 'career', 'data', 'analyst', '', 'start', 'new', 'career', 'data', 'analyst', '', 'assistant', 'data', 'scientist', '', 'data', 'scientist', '', 'multiple', 'positions', 'data', 'scientist', '', 'specialist', 'data', 'scientist', 'waio', 'perth', '', 'machine', 'learning', 'data', 'scientist', '', 'data', 'scientist', '', 'principal', 'audit', 'data', 'specialist', '', 'data', 'scientist', 'pharmaceutical', 'industry', '', 'geospatial', 'data', 'scientist', '', 'data', 'scientist', '', 'machine', 'learning', 'data', 'scientist', '', 'junior', 'data', 'scientist', '', 'senior', 'data', 'scientist', '', 'data', 'scientist', '', 'data', 'scientist', 'senior', 'data', 'analyst', '', 'junior', 'data', 'science', 'analyst', 'engineer', '', 'senior', 'data', 'engineer', 'data', 'scientist', '', 'data', 'scientist', 'experienced', 'demand', 'planner', 'tech', '...', '', 'data', 'scientist', 'ocr', '', 'senior', 'data', 'scientist', '', 'data', 'scientist', '', 'data', 'scientist', '', 'senior', 'business', 'analyst', '', 'data', 'scientist', '', 'data', 'scientists', '', 'statisticians', 'data', 'professionals', '', 'statisticians', 'data', 'professionals', '', 'statisticians', 'data', 'professionals', '', 'statisticians', 'data', 'professionals', '', 'statisticians', 'data', 'professionals', '', 'statisticians', 'data', 'professionals', '', 'statisticians', 'data', 'professionals', '', 'statisticians', 'data', 'professionals', '', 'statisticians', 'data', 'professionals', '', 'statisticians', 'data', 'professionals', '', 'statisticians', 'data', 'professionals', '', 'statisticians', 'data', 'professionals', '', 'statisticians', 'data', 'professionals', '', 'statisticians', 'data', 'professionals', '', 'tech', 'recruitment', 'consultants', 'multiple', 'roles', '', 'data', 'scientist', '', 'month', 'contract', '', 'data', 'scientist', '', 'data', 'scientist', '', 'data', 'scientist', 'climate', 'risk', '', 'database', 'developer', 'junior', 'mid', 'senior', 'level', 'ava', '...', '', 'data', 'science', 'ai', 'engineer', '', 'phd', 'scholarship', 'modelling', 'safety', 'signal', 'detect', '...', '', 'phd', 'scholarship', 'modelling', 'safety', 'signal', 'detect', '...', '', 'azure', 'data', 'engineer', '', 'data', 'architect', '', 'pricing', 'analyst', '', 'data', 'engineer', '', 'data', 'engineer', '', 'data', 'engineer', '', 'data', 'scientist', '', 'data', 'analyst', 'data', 'scientist', 'nv', '', 'lead', 'data', 'scientist', '', 'senior', 'analyst', 'operational', 'analytics', 'data', 'science', '', 'organisation', 'professionals', 'data', 'scientist', '', 'data', 'scientist', '', 'data', 'scientist', '', 'data', 'scientist', '', 'etl', 'developer', '', 'data', 'officer', '', 'etl', 'developer', '', 'lead', 'data', 'scientist', '', 'lead', 'data', 'scientist', '', 'data', 'scientist', '', 'senior', 'data', 'scientist', '', 'data', 'scientist', '', 'senior', 'data', 'scientist', '', 'senior', 'data', 'scientist', '', 'commercial', 'data', 'insights', 'senior', 'analyst', '', 'data', 'scientist', '', 'senior', 'data', 'scientist', '', 'senior', 'data', 'scientist', '', 'data', 'scientist', 'machine', 'learning', 'ai', '', 'lead', 'data', 'scientist', '', 'sports', 'quantitative', 'analytics', 'specialist', '', 'business', 'intelligence', 'analytics', 'manager', '', 'business', 'intelligence', 'analytics', 'manager', '', 'data', 'scientist', '', 'senior', 'data', 'scientist', 'credit', 'risk', '', 'data', 'scientist', '', 'data', 'scientist', '', 'senior', 'machine', 'learning', 'engineer', '', 'data', 'scientist', 'manager', '', 'data', 'scientist', 'fast', 'growth', 'company', 'millions', 'cu', '...', '', 'data', 'scientist', 'senior', 'consultant', 'manager', '', 'graduate', 'data', 'scientist', '', 'senior', 'data', 'scientist', '', 'customer', 'insights', 'analyst', '', 'senior', 'scientist', '', 'senior', 'scientist', '', 'data', 'scientist', 'machine', 'learning', 'experience', '', 'data', 'analyst', 'junior', 'data', 'scientist', '', 'data', 'scientist', '', 'environmental', 'statistician', 'applied', 'data', 'scientist', '', 'data', 'scientist', 'major', 'australian', 'bank', '', 'roles', '', 'data', 'scientist', '', 'data', 'scientist', 'gis', 'developer', '', 'data', 'scientist', '', 'data', 'scientist', '', 'senior', 'data', 'scientist', '', 'senior', 'data', 'scientist', '', 'data', 'scientist', 'k', '', 'analyst', 'data', 'scientist', '', 'data', 'scientist', '', 'senior', 'data', 'science', 'manager', '', 'data', 'scientist', 'r', 'programmer', '', 'data', 'scientist', 'data', 'consultant', '', 'data', 'scientist', '', 'data', 'solutions', 'developer', '', 'mgr', 'data', 'scientist', 'enterprise', 'capability', '', 'data', 'scientist', 'gold', 'coast', '', 'senior', 'data', 'scientist', '', 'data', 'scientist', '', 'senior', 'data', 'scientist', '', 'data', 'scientist', 'ebay', '', 'tech', 'recruitment', 'consultants', 'multiple', 'roles', '', 'data', 'scientist', '', 'data', 'scientist', 'analytics', 'consultant', 'global', 'tec', '...', '', 'jr', 'data', 'science', '', '', '', '', '', 'lead', 'data', 'scientist', '', 'data', 'scientist', '', 'senior', 'data', 'scientist', '', 'commercial', 'data', 'insights', 'senior', 'analyst', '', 'supply', 'chain', 'analyst', 'data', 'scientist', '', 'data', 'scientist', '', 'data', 'scientist', '', 'data', 'scientist', '', 'data', 'scientist', '', 'data', 'scientist', '', 'lead', 'data', 'scientist', '', 'data', 'scientist', '', 'lead', 'data', 'scientist', '', 'lead', 'data', 'scientist', '', 'data', 'scientist', '', 'data', 'scientist', '', 'senior', 'data', 'scientist', '', 'data', 'scientist', '', 'data', 'scientist', '', 'data', 'scientist', '', 'data', 'bi', 'platform', 'architect', 'end', 'user', 'role', '', 'head', 'data', 'science', 'analytics', 'ai', 'iot', 'innovative', '...', '', 'senior', 'data', 'scientist', 'x', '', '', 'per', 'day', '', 'data', 'bi', 'platform', 'architect', 'end', 'user', 'role', '', 'machine', 'learning', 'data', 'scientist', 'phd', '', 'solutions', 'engineer', '', 'solutions', 'engineer', '', 'senior', 'manager', 'consumer', 'data', '', 'senior', 'data', 'scientist', '', 'senior', 'full', 'stack', 'developer', '', 'process', 'control', 'data', 'scientist', '', 'senior', 'data', 'scientist', 'biometrician', '', 'principal', 'data', 'scientist', '', 'data', 'visualisation', 'specialist', '', 'data', 'scientist', '', 'data', 'scientist', '', 'principle', 'data', 'scientist', '', 'strategy', 'data', 'management', 'specialist', '', 'data', 'scientist', '', 'strategy', 'data', 'management', 'specialist', '', 'senior', 'data', 'scientist', '', 'data', 'scientist', '', 'data', 'scientist', 'senior', 'actuarial', 'analyst', '', 'commercial', 'data', 'insights', 'senior', 'analyst', '', 'data', 'integration', 'engineer', 'senior', 'analyst', 'sydne', '...', '', 'research', 'associate', 'data', 'scientist', '', 'data', 'scientist', '', 'data', 'scientist', '', 'data', 'scientist', '', 'data', 'scientist', 'optimal', 'reality', 'levels', 'consulta', '...', '', 'data', 'scientist', '', 'data', 'scientist', '', 'data', 'scientist', 'senior', 'analyst', 'sydney', 'melbourne', '', 'data', 'scientist', '', 'data', 'scientist', '', 'data', 'scientist', '', 'data', 'scientist', '', 'senior', 'data', 'analyst', 'scientist', '', 'data', 'analytics', 'manager', '', 'data', 'analytics', 'manager', '', 'data', 'scientist', '', 'data', 'scientist', '', 'senior', 'data', 'scientist', '', 'innovation', 'data', 'scientist', '', 'data', 'analyst', '', 'data', 'analyst', '', 'innovation', 'data', 'scientist', '', 'data', 'scientist', 'customer', 'insights', 'pharmaceutica', '...', '', 'manager', 'ai', '', 'senior', 'consultant', '', 'data', 'analyst', 'data', 'scientist', '', 'software', 'engineer', 'ai', '', 'data', 'scientist', 'credit', 'risk', '', 'data', 'scientist', 'climate', 'risk', '', 'data', 'scientist', '', 'data', 'engineer', '', 'data', 'scientist', '', 'data', 'scientist', '', 'senior', 'data', 'architect', '', 'senior', 'data', 'scientist', '', '', 'per', 'day', 'remote', 'w', '...', '', 'manager', 'data', 'sciences', 'segmentation', '', 'manager', 'data', 'sciences', 'segmentation', '', 'lead', 'data', 'scientist', '', 'data', 'analyst', '', 'start', 'new', 'career', 'data', 'analyst', '', 'start', 'new', 'career', 'data', 'analyst', '', 'senior', 'data', 'scientist', '', 'senior', 'data', 'scientist', '', 'senior', 'software', 'engineer', '', 'senior', 'machine', 'learning', 'engineer', 'data', 'scientis', '...', '', 'rolling', 'recruitment', 'technologist', 'careers', '', 'senior', 'insights', 'analyst', '', 'senior', 'insights', 'analyst', '', 'senior', 'insights', 'analyst', '', 'software', 'engineer', '', 'customer', 'insights', 'data', 'analyst', '', 'strategic', 'futures', 'positions', 'data', 'science', 'econo', '...', '', 'strategic', 'futures', 'positions', 'data', 'science', 'econo', '...', '', 'graduate', 'data', 'scientist', '', 'senior', 'data', 'scientist', 'pace', 'analytics', '', 'data', 'analyst', 'data', 'scientist', '', 'senior', 'data', 'scientist', '', 'data', 'analyst', 'data', 'scientist', '', 'data', 'analyst', '', 'data', 'analyst', '', 'data', 'analyst', '', 'data', 'analyst', '', 'data', 'scientist', '', 'junior', 'data', 'scientist', 'engineer', '', 'ai', 'data', 'engineer', '', 'data', 'scientist', '', 'business', 'reporting', 'analyst', '', 'business', 'reporting', 'analyst', '', 'senior', 'data', 'scientist', '', 'data', 'scientist', 'fast', 'growth', 'company', 'millions', 'cu', '...', '', 'data', 'scientist', '', 'dataops', 'engineer', '', 'data', 'scientist', '', 'senior', 'data', 'scientist', '', 'junior', 'data', 'scientist', '', 'data', 'scientist', 'north', 'shore', 'location', '', 'insights', 'analyst', '', 'data', 'scientist', 'gold', 'coast', 'head', 'office', '', 'data', 'scientist', '', 'data', 'scientist', '', 'data', 'officer', '', 'digital', 'insights', 'analyst', 'x', '', '', 'data', 'scientist', '', 'data', 'scientist', '', 'senior', 'data', 'scientist', '', 'data', 'analyst', '', 'data', 'scientist', '', 'senior', 'data', 'scientist', '', 'senior', 'data', 'scientist', '', 'data', 'scientist', '', 'data', 'scientist', '', 'data', 'scientist', '', 'data', 'science', 'graduate', 'cpb', 'contractors', '', 'gra', '...', '', 'senior', 'data', 'scientist', '', 'front', 'end', 'developer', '', 'senior', 'data', 'scientist', 'machine', 'learning', '', 'junior', 'data', 'scientist', '', 'data', 'analyst', 'sql', 'python', 'stats', '', 'junior', 'data', 'scientist', '', 'data', 'engineer', '', 'data', 'engineer', '', 'data', 'scientist', '', 'data', 'scientist', '', 'month', 'contract', '', 'data', 'scientist', 'recommendation', 'systems', '', 'data', 'scientist', 'retail', 'property', '', 'data', 'analyst', '', 'junior', 'data', 'scientist', '', 'data', 'scientist', '', 'lead', 'data', 'scientist', '', 'lead', 'data', 'scientist', '', 'lead', 'data', 'scientist', '', 'data', 'engineer', '', 'data', 'scientist', '', 'senior', 'analyst', '', 'senior', 'analyst', '', 'senior', 'analyst', '', 'data', 'scientist', '', 'data', 'scientist', '', 'data', 'scientist', '', 'data', 'scientist', '', 'senior', 'data', 'scientist', '', 'bigdata', 'engineer', 'spark', 'scala', '', 'data', 'architect', 'data', 'modeler', '', 'senior', 'data', 'scientist', '', 'asset', 'data', 'scientist', '', 'asset', 'data', 'scientist', '', 'data', 'strategist', '', 'data', 'scientist', '', 'data', 'scientist', '', 'technical', 'specialist', '', 'senior', 'data', 'scientist', '', 'senior', 'python', 'developer', '', 'senior', 'data', 'scientist', '', 'new', 'role', 'data', 'scientist', '', 'p', '', 'mth', 'contract', '...', '', 'data', 'scientist', '', 'data', 'scientist', '', 'health', 'data', 'scientist', 'early', 'career', 'health', 'data', '...', '', 'data', 'analytics', 'audit', 'manager', 'internal', 'audit', '', 'power', 'bi', 'developer', 'data', 'analyst', '', 'data', 'scientist', 'risk', 'analytics', 'reporting', '', 'data', 'engineer', 'python', 'hadoop', '', 'assistant', 'directors', 'data', 'scientist', 'data', 'analys', '...', '', 'assistant', 'directors', 'data', 'scientist', 'data', 'analys', '...', '', 'customer', 'insights', 'analyst', '', 'actuarial', 'analyst', '', 'senior', 'manager', 'consumer', 'data', '', 'data', 'scientist', '', 'data', 'scientist', '', 'data', 'scientist', '', 'data', 'scientist', '', 'quant', 'systems', 'specialist', '', 'quant', 'systems', 'specialist', '', 'senior', 'data', 'scientist', 'k', 'full', 'time', '', 'research', 'data', 'scientist', '', 'data', 'scientist', '', 'trainee', 'data', 'scientist', '', 'data', 'insights', 'analyst', 'global', 'saas', 'company', 'grea', '...', '', 'marketing', 'technology', 'data', 'engineer', '', 'senior', 'data', 'scientist', '', 'data', 'scientist', '', 'data', 'scientist', 'ml', 'ai', 'applications', '', 'data', 'scientist', '', 'data', 'scientist', '', 'senior', 'data', 'scientist', '', 'analyst', 'junior', 'data', 'scientist', '', 'analyst', 'junior', 'data', 'scientist', '', 'snr', 'data', 'scientist', '', 'senior', 'analyst', '', 'junior', 'data', 'scientist', '', 'junior', 'data', 'scientist', '', 'aps', 'data', 'analyst', 'intelligence', 'el', 'senior', 'data', '...', '', 'aps', 'data', 'analyst', 'intelligence', 'el', 'senior', 'data', '...', '', 'aps', 'data', 'analyst', 'intelligence', 'el', 'senior', 'data', '...', '', 'aps', 'data', 'analyst', 'intelligence', 'el', 'senior', 'data', '...', '', 'aps', 'data', 'analyst', 'intelligence', 'el', 'senior', 'data', '...', '', 'aps', 'data', 'analyst', 'intelligence', 'el', 'senior', 'data', '...', '', 'data', 'scientist', '', 'data', 'scientist', '', 'senior', 'analyst', '', 'data', 'scientist', '', 'health', 'data', 'analyst', 'scientist', '', 'senior', 'analyst', 'sales', 'workforce', 'forecasting', '', 'data', 'scientist', '', 'data', 'scientist', 'customer', 'insights', 'pharmaceutica', '...', '', 'data', 'engineer', '', 'credit', 'risk', 'strategy', 'manager', '', 'junior', 'data', 'analyst', '', 'data', 'scientist', '', 'data', 'scientist', '', 'data', 'scientist', '', 'senior', 'insights', 'analyst', 'customer', '', 'data', 'scientist', '', 'data', 'scientist', '', 'senior', 'biostatistician', 'pharmaceutical', 'biotechn', '...', '', 'data', 'scientist', 'fixed', 'term', '', 'ict', 'replacement', 'roles', 'federal', 'government', 'clients', '', 'senior', 'data', 'scientist', 'x', '', '', 'per', 'day', '', 'data', 'scientist', '', 'senior', 'data', 'engineer', 'sydney', 'melbourne', '', 'associate', 'director', 'product', 'data', 'analytics', 'dspark', '', 'senior', 'data', 'scientist', '', 'data', 'scientist', '', 'data', 'scientist', '', 'data', 'scientist', 'sydney', '', 'data', 'analyst', 'business', 'analyst', '', 'senior', 'data', 'scientist', '', 'graduate', 'intermediate', 'embedded', 'systems', 'engineer', '', 'geospatial', 'data', 'scientist', 'early', 'career', '', 'rolling', 'recruitment', 'technologist', 'careers', '', 'engineering', 'data', 'scientist', '', 'engineering', 'data', 'scientist', '', 'engineering', 'data', 'scientist', '', 'engineering', 'data', 'scientist', '', 'data', 'scientist', '', 'senior', 'data', 'scientist', 'credit', 'risk', '', 'principal', 'geometallurgist', '', 'principal', 'geometallurgist', '', 'principal', 'geometallurgist', '', 'principal', 'geometallurgist', '', 'lead', 'data', 'scientist', '', 'data', 'scientist', 'manager', '', 'market', 'researcher', '', 'market', 'researcher', '', 'data', 'scientist', '', 'data', 'scientist', '', 'hr', 'reporting', 'analyst', '', 'data', 'scientist', '', 'senior', 'data', 'scientist', '', 'data', 'scientist', '', 'data', 'scientist', 'top', 'fund', 'manager', '', 'sr', 'leader', 'analytics', 'data', 'science', '', 'data', 'scientist', '', 'data', 'scientist', '', 'customer', 'senior', 'data', 'scientist', '', 'start', 'new', 'career', 'data', 'analyst', '', 'snr', 'python', 'engineer', '', 'principal', 'data', 'scientist', '', 'mid', 'senior', 'devops', 'engineer', '', 'data', 'scientist', '', 'data', 'engineer', '', 'data', 'analyst', '', 'senior', 'ai', 'ethics', 'leader', '', 'data', 'scientist', '', 'customer', 'insights', 'data', 'analyst', '', 'start', 'new', 'career', 'data', 'analyst', '', 'senior', 'data', 'scientist', '', 'senior', 'data', 'scientist', '', 'data', 'scientist', '', 'data', 'scientist', '', 'merchandise', 'analyst', 'pricing', 'inventory', '', 'data', 'scientist', '', 'data', 'scientist', 'retail', 'bank', '', 'quant', 'systems', 'specialist', '', 'quant', 'systems', 'specialist', '', 'data', 'scientist', '', 'senior', 'data', 'scientist', '', 'data', 'engineer', '', 'data', 'scientist', 'program', 'performance', 'manager', '', 'data', 'scientist', '', 'data', 'scientist', 'team', 'lead', '', 'senior', 'business', 'analyst', '', 'data', 'scientist', '', 'senior', 'data', 'scientist', '', 'associate', 'director', 'product', 'manager', '', 'financial', 'crime', 'risk', 'manager', 'investigations', 're', '...', '', 'senior', 'data', 'scientist', 'machine', 'learning', '', 'senior', 'data', 'scientist', '', 'month', 'contract', '', 'data', 'scientist', '', 'data', 'scientist', '', 'machine', 'learning', 'data', 'engineer', 'advance', 'analytics', '', 'data', 'scientist', '', 'senior', 'data', 'scientist', 'financial', 'crime', '', 'data', 'scientist', '', 'software', 'engineer', 'ai', '', 'senior', 'data', 'scientist', '', 'principal', 'data', 'analyst', '', 'principal', 'data', 'scientist', '', 'data', 'scientist', '', 'software', 'engineer', 'data', 'scientist', 'hybrid', 'role', 's', '...', '', 'senior', 'medical', 'data', 'scientist', '', 'medical', 'data', 'scientist', '', 'data', 'scientist', '', 'data', 'scientist', '', 'senior', 'data', 'scientist', '', 'principal', 'data', 'scientist', '', 'senior', 'data', 'scientist', 'customer', 'data', 'analytics', '', 'senior', 'cloud', 'engineer', 'backend', '', 'senior', 'data', 'scientist', '', 'data', 'scientist', '', 'senior', 'data', 'engineer', 'data', 'scientist', '', 'business', 'planner', '', 'senior', 'data', 'scientist', '', 'el', 'senior', 'data', 'scientist', '', 'senior', 'data', 'scientist', 'multiple', 'mid', 'senior', 'perm', '...', '', 'junior', 'data', 'scientist', '', 'senior', 'data', 'scientist', '', 'senior', 'data', 'scientist', '', 'senior', 'data', 'scientist', '', 'technical', 'lead', 'senior', 'java', 'microservices', '', 'engineering', 'manager', 'senior', 'architect', '', 'data', 'scientist', '', 'data', 'scientist', 'data', 'analyst', '', 'solutions', 'engineer', '', 'data', 'scientist', '', 'data', 'scientist', '', 'junior', 'data', 'science', '', 'data', 'scientist', '', 'pricing', 'analyst', 'data', 'scientist', '', 'tech', 'product', 'design', 'recruitment', 'consultants', 'mu', '...', '', 'technical', 'data', 'analyst', 'asx', 'listed', 'financial', 'house', '', 'data', 'scientist', 'asx', 'listed', 'fintech', '', 'data', 'scientist', '', 'data', 'engineer', 'etl', 'automation', '', 'data', 'scientist', '', 'data', 'scientist', '', 'principal', 'lead', 'data', 'scientist', '', 'lead', 'data', 'scientist', '', 'data', 'scientist', 'financial', 'crimes', 'six', 'month', 'cont', '...', '', 'senior', 'data', 'insights', 'analyst', 'globally', 'admired', '...', '', 'data', 'scientist', '', 'data', 'analyst', 'junior', 'data', 'scientist', '', 'lead', 'data', 'scientist', '', 'analyst', 'sustainability', 'climate', 'change', 'climate', '...', '', 'data', 'scientist', 'analyst', '', 'data', 'scientist', '', 'insights', 'analyst', '', 'junior', 'data', 'engineer', '', 'data', 'scientist', 'neural', 'networks', 'lstm', 'timeseries', '...', '', 'data', 'analyst', 'data', 'scientist', '', 'data', 'scientist', '', 'data', 'scientist', '', 'principal', 'data', 'scientist', 'digital', 'factory', '', 'data', 'analyst', 'data', 'scientist', '', 'data', 'scientist', '', 'data', 'scientist', 'digital', 'marketing', 'analytics', '', 'senior', 'lead', 'data', 'scientist', '', 'senior', 'data', 'scientist', 'financial', 'crime', '', 'data', 'scientist', '', 'integration', 'ml', 'data', 'engineer', '', 'manager', 'data', 'scientist', '', 'manager', 'data', 'scientist', '', 'senior', 'data', 'scientist', '', 'senior', 'sales', 'engineer', '', 'data', 'scientist', '', 'senior', 'data', 'engineer', 'machine', 'learning', 'focus', '', 'senior', 'data', 'scientist', '', 'data', 'scientist', '', 'aps', 'data', 'scientist', '', 'data', 'scientist', '', 'senior', 'data', 'scientist', '', 'data', 'science', 'engineer', '', 'data', 'science', 'engineer', '', 'data', 'scientist', '', 'senior', 'data', 'scientist', 'x', '', 'data', 'scientist', '', 'data', 'scientist', '', 'quant', 'developer', '', 'quant', 'developer', '', 'data', 'scientist', 'contract', 'perth', 'cbd', '', 'ml', 'ops', 'ml', 'engineering', 'principal', 'technologist', '', 'senior', 'actuarial', 'analyst', '', 'senior', 'data', 'scientist', 'financial', 'crime', '', 'data', 'scientist', '', 'actuarial', 'graduate', '', 'data', 'scientist', '', 'data', 'scientist', '', 'associate', 'data', 'scientist', '', 'data', 'landscaping', 'analyst', '', 'data', 'scientist', '', 'data', 'scientist', 'retail', 'bank', '', 'integration', 'ml', 'data', 'engineer', '', 'physicist', 'data', 'scientist', '', 'senior', 'cloud', 'engineer', 'backend', '', 'senior', 'analyst', 'people', 'analytics', 'reporting', '', 'customer', 'business', 'analyst', '', 'customer', 'business', 'analyst', '', 'junior', 'data', 'scientist', '', 'senior', 'actuarial', 'analyst', 'date', 'scientist', '', 'senior', 'insights', 'analyst', 'customer', '', 'bi', 'developer', '', 'lead', 'data', 'scientist', 'k', 'package', '', 'senior', 'data', 'scientist', 'contract', '', '', 'per', 'day', '...', '', 'data', 'scientist', '', 'data', 'scientist', 'software', 'engineer', '', 'data', 'scientist', '', 'data', 'scientist', '', 'data', 'scientist', '', 'senior', 'data', 'scientist', '', 'data', 'scientist', 'marketing', 'digital', '', 'data', 'analyst', '', 'senior', 'data', 'scientist', '', 'data', 'scientists', 'address', 'register', '', 'data', 'scientists', 'address', 'register', '', 'data', 'scientists', 'address', 'register', '', 'data', 'scientists', 'address', 'register', '', 'senior', 'data', 'scientist', '', 'data', 'scientist', 'ml', 'ai', 'applications', '', 'start', 'new', 'career', 'data', 'analyst', '', 'asset', 'data', 'scientist', '', 'principal', 'responsible', 'ai', '', 'senior', 'data', 'science', 'consultant', 'data', 'scientist', '', 'start', 'new', 'career', 'data', 'analyst', '', 'data', 'engineer', '', 'senior', 'data', 'analyst', 'opportunity', 'engineering', 'an', '...', '', 'senior', 'data', 'scientist', 'consultant', '', 'data', 'scientist', 'ml', 'nlp', '', 'junior', 'data', 'analyst', '', 'data', 'engineer', 'data', 'scientist', '', 'lead', 'data', 'scientist', 'healthcare', 'analytics', 'ai', '', 'data', 'scientist', '', 'data', 'scientist', '', 'dataops', 'architect', '', 'month', 'rolling', 'contract', 'rem', '...', '', 'data', 'scientist', '', 'data', 'scientist', '', 'data', 'scientist', '', 'data', 'science', 'consultant', '', 'data', 'scientist', '', 'data', 'scientist', '', 'cerc', 'postdoctoral', 'fellowship', 'd', 'minerals', 'data', '...', '', 'data', 'scientist', 'asx', 'listed', 'medtech', 'global', 'focus', '', 'principal', 'data', 'analyst', '', 'senior', 'data', 'scientist', '', 'data', 'scientist', '', 'data', 'scientist', '', 'research', 'data', 'scientist', '', 'research', 'data', 'scientist', '', 'data', 'scientist', '', 'data', 'scientist', '', 'data', 'scientist', '', 'lead', 'data', 'scientist', '', 'quantitative', 'analyst', 'sports', 'racing', '', 'senior', 'data', 'scientist', '', 'data', 'scientist', 'x', '', '', 'data', 'scientist', 'x', '', '', 'geospatial', 'data', 'scientist', 'lidar', 'support', '', 'data', 'scientist', 'retail', 'bank', '', 'data', 'scientist', 'senior', 'mid', 'roles', 'available', '', 'product', 'data', 'scientist', '', 'product', 'data', 'scientist', '', 'product', 'data', 'scientist', '', 'product', 'data', 'scientist', '', 'product', 'data', 'scientist', '', 'product', 'data', 'scientist', '', 'product', 'data', 'scientist', '', 'product', 'data', 'scientist', '', 'data', 'science', 'graduate', '', 'senior', 'data', 'scientist', '', 'data', 'scientist', 'big', '', 'bank', 'sql', 'vba', '', 'data', 'insights', 'manager', 'globally', 'recognized', 'fina', '...', '', 'data', 'insights', 'manager', 'globally', 'recognized', 'fina', '...', '', 'data', 'scientist', 'agricultural', 'systems', '', 'data', 'scientist', 'agricultural', 'systems', '', 'data', 'scientist', '', 'senior', 'data', 'engineer', 'part', 'time', 'locations', 'aus', 'c', '...', '', 'senior', 'data', 'scientist', '', 'data', 'scientist', '', 'data', 'scientist', '', 'senior', 'data', 'scientist', 'geosciences', '', 'senior', 'data', 'scientist', 'geosciences', '', 'data', 'scientist', 'economic', 'research', '', 'positions', 'a', '...', '', 'data', 'scientist', 'economic', 'research', '', 'positions', 'a', '...', '', 'recruitment', 'consultant', 'multiple', 'roles', '', 'data', 'scientist', '', 'data', 'scientist', 'economic', 'research', '', 'positions', 'a', '...', '', 'data', 'scientist', 'economic', 'research', '', 'positions', 'a', '...', '', 'data', 'scientist', '', 'data', 'analyst', '', 'power', 'bi', 'developer', 'data', 'analyst', '', 'remote', 'ibm', 'watson', 'ai', 'analytics', 'data', 'scientist', '...', '', 'data', 'scientist', '', 'senior', 'data', 'scientist', '', 'data', 'scientist', '', 'data', 'scientist', '', 'team', 'lead', 'data', 'scientist', 'software', 'engineers', '', 'pricing', 'analyst', 'data', 'scientist', '', 'machine', 'learning', 'engineer', 'data', 'scientist', '', 'data', 'scientist', 'azure', 'experience', '', 'data', 'scientist', '', 'senior', 'data', 'scientist', 'ai', 'ml', '', 'senior', 'business', 'intelligence', 'developer', '', 'data', 'scientist', 'economic', 'research', '', 'positions', 'a', '...', '', 'data', 'scientist', 'economic', 'research', '', 'positions', 'a', '...', '', 'data', 'scientist', 'economic', 'research', '', 'positions', 'a', '...', '', 'data', 'scientist', 'economic', 'research', '', 'positions', 'a', '...', '', 'data', 'scientist', 'aws', '', 'data', 'scientist', '', 'mth', 'secondment', 'ftc', '', 'big', 'data', 'engineer', '', 'senior', 'manager', 'data', 'science', 'advanced', 'analytics', '', 'data', 'scientist', 'financial', 'crimes', 'six', 'month', 'cont', '...', '', 'senior', 'data', 'scientist', '', 'positions', 'available', '', 'staff', 'data', 'scientist', 'leadership', 'position', '', 'principal', 'data', 'scientist', '', 'positions', 'available', '', 'data', 'scientist', 'engineer', '', 'exploration', 'data', 'scientist', '', 'senior', 'data', 'scientist', '', 'data', 'scientist', '', 'manager', 'data', 'science', '', 'data', 'scientist', '', 'junior', 'data', 'scientist', 'social', 'media', 'analytics', '', 'lead', 'data', 'science', 'sydney', 'brisbane', 'melbourne', '', 'digital', 'data', 'analyst', '', 'data', 'scientist', '', 'data', 'scientist', '', 'senior', 'data', 'scientist', '', 'data', 'scientist', '', 'data', 'scientist', 'bi', 'analyst', '', 'data', 'scientist', '', 'data', 'scientist', '', 'graduate', 'data', 'scientist', '', 'data', 'scientist', 'data', 'architect', '', 'data', 'analyst', '', 'senior', 'data', 'scientist', '', 'senior', 'data', 'scientist', '', 'data', 'analyst', 'nv', '', 'bi', 'engineer', '', 'senior', 'data', 'scientist', 'financial', 'crime', 'analytics', '', 'senior', 'data', 'scientist', '', 'data', 'scientist', '', 'principal', 'data', 'analyst', '', 'senior', 'actuarial', 'actuarial', 'analyst', 'data', 'scientist', '', 'data', 'scientist', '', 'azure', 'data', 'scientist', '', 'customer', 'insights', 'data', 'analyst', '', 'senior', 'data', 'scientist', '', 'data', 'scientist', 'data', 'analyst', '', 'data', 'scientist', '', 'data', 'scientist', '', 'data', 'scientist', '', 'data', 'scientist', '', 'graduate', 'data', 'scientist', '', 'senior', 'data', 'scientist', 'financial', 'crime', '', 'data', 'scientist', '', 'senior', 'data', 'scientist', '', 'senior', 'data', 'scientist', '', 'data', 'analyst', '', 'data', 'scientist', '', 'graduate', 'junior', 'developer', 'data', 'scientist', 'finte', '...', '', 'senior', 'data', 'scientist', '', 'data', 'scientist', '', 'research', 'data', 'scientist', '', 'research', 'data', 'scientist', '', 'research', 'data', 'scientist', '', 'research', 'data', 'scientist', '', 'data', 'science', 'engineer', '', 'data', 'scientist', 'academic', 'performance', 'analyst', '', 'data', 'scientist', 'academic', 'performance', 'analyst', '', 'data', 'scientist', 'health', 'insurance', '', 'lead', 'data', 'scientist', 'k', 'package', '', 'lead', 'data', 'scientist', 'k', 'package', '', 'data', 'scientist', '', 'data', 'engineer', '', 'data', 'scientist', 'quantitative', 'analyst', '', 'rolling', 'recruitment', 'technologist', 'careers', '', 'rolling', 'recruitment', 'technologist', 'careers', '', 'rolling', 'recruitment', 'technologist', 'careers', '', 'rolling', 'recruitment', 'technologist', 'careers', '', 'rolling', 'recruitment', 'technologist', 'careers', '', 'rolling', 'recruitment', 'technologist', 'careers', '', 'rolling', 'recruitment', 'technologist', 'careers', '', 'rolling', 'recruitment', 'language', 'careers', '', 'rolling', 'recruitment', 'language', 'careers', '', 'rolling', 'recruitment', 'language', 'careers', '', 'rolling', 'recruitment', 'language', 'careers', '', 'rolling', 'recruitment', 'language', 'careers', '', 'rolling', 'recruitment', 'language', 'careers', '', 'rolling', 'recruitment', 'language', 'careers', '', 'rolling', 'recruitment', 'language', 'careers', '', 'rolling', 'recruitment', 'language', 'careers', '', 'rolling', 'recruitment', 'language', 'careers', '', 'rolling', 'recruitment', 'language', 'careers', '', 'rolling', 'recruitment', 'language', 'careers', '', 'rolling', 'recruitment', 'language', 'careers', '', 'rolling', 'recruitment', 'language', 'careers', '', 'rolling', 'recruitment', 'language', 'careers', '', 'rolling', 'recruitment', 'language', 'careers', '', 'rolling', 'recruitment', 'language', 'careers', '', 'rolling', 'recruitment', 'language', 'careers', '', 'rolling', 'recruitment', 'language', 'careers', '', 'rolling', 'recruitment', 'language', 'careers', '', 'rolling', 'recruitment', 'language', 'careers', '', 'rolling', 'recruitment', 'language', 'careers', '', 'rolling', 'recruitment', 'language', 'careers', '', 'rolling', 'recruitment', 'language', 'careers', '', 'rolling', 'recruitment', 'language', 'careers', '', 'rolling', 'recruitment', 'language', 'careers', '', 'rolling', 'recruitment', 'language', 'careers', '', 'rolling', 'recruitment', 'language', 'careers', '', 'data', 'scientist', 'analyst', 'manufacturing', 'hastings', 'vic', '', 'data', 'scientist', 'analyst', 'manufacturing', 'hastings', 'vic', '', 'senior', 'java', 'software', 'engineer', '', 'data', 'scientist', '', 'data', 'scientist', '', 'aps', 'data', 'scientist', '', 'senior', 'data', 'scientist', '', 'data', 'scientist', '', 'senior', 'data', 'scientist', '', 'data', 'scientist', '', 'junior', 'data', 'scientist', '', 'data', 'scientist', '', 'data', 'scientist', 'team', 'lead', '', 'senior', 'data', 'scientist', '', 'data', 'science', 'manager', '', 'data', 'scientist', 'actuarial', '', 'data', 'scientist', 'data', 'engineer', 'data', 'analyst', 'mult', '...', '', 'data', 'scientist', 'data', 'engineer', 'data', 'analyst', 'mult', '...', '', 'data', 'scientist', 'data', 'engineer', 'data', 'analyst', 'mult', '...', '', 'data', 'scientist', 'data', 'engineer', 'data', 'analyst', 'mult', '...', '', 'data', 'scientist', 'data', 'engineer', 'data', 'analyst', 'mult', '...', '', 'data', 'scientist', 'data', 'engineer', 'data', 'analyst', 'mult', '...', '', 'data', 'scientist', 'fraud', 'financial', 'crime', 'apac', '', 'data', 'analyst', 'mid', 'level', 'python', 'sql', 'tableau', '', 'senior', 'insights', 'analyst', 'customer', '', 'ml', 'ops', 'ml', 'engineering', 'principal', 'technologist', '', 'senior', 'data', 'scientist', '', 'data', 'scientist', '', 'data', 'scientist', '', 'data', 'scientist', 'experimentation', '', 'data', 'scientist', 'experimentation', '', 'senior', 'data', 'scientist', 'fraud', 'analytics', 'insurance', '', 'data', 'scientist', 'data', 'engineer', 'data', 'analyst', 'data', '...', '', 'principal', 'data', 'scientist', '', 'senior', 'analyst', 'people', 'analytics', 'reporting', '', 'data', 'scientist', 'data', 'engineer', 'data', 'analyst', 'data', '...', '', 'senior', 'analyst', 'people', 'analytics', 'reporting', '', 'data', 'scientist', '', 'data', 'scientist', 'team', 'lead', '', 'senior', 'data', 'scientist', '', 'start', 'new', 'career', 'data', 'analyst', '', 'start', 'new', 'career', 'data', 'analyst', '', 'senior', 'data', 'scientist', '', 'lead', 'data', 'scientist', '', 'data', 'scientist', 'team', 'leader', 'mining', 'technology', 'p', '...', '', 'senior', 'data', 'scientist', '', 'client', 'facing', 'data', 'scientist', 'analyst', '', 'data', 'scientist', '', 'junior', 'data', 'analyst', '', 'senior', 'data', 'scientist', '', 'months', 'fixed', 'term', 'con', '...', '', 'data', 'scientist', 'analyst', '', 'data', 'analyst', 'business', 'analyst', '', 'data', 'scientist', '', 'machine', 'learning', 'engineer', 'data', 'scientist', '', 'data', 'scientist', '', 'senior', 'data', 'scientist', 'knowledge', 'graph', '', 'data', 'professionals', '', 'data', 'professionals', '', 'data', 'professionals', '', 'data', 'professionals', '', 'data', 'professionals', '', 'data', 'professionals', '', 'principal', 'data', 'scientist', '', 'data', 'professionals', '', 'data', 'professionals', '', 'data', 'professionals', '', 'data', 'professionals', '', 'data', 'professionals', '', 'data', 'professionals', '', 'data', 'scientist', '', 'asset', 'data', 'scientist', '', 'breeding', 'data', 'scientist', '', 'data', 'analystics', 'consultants', 'across', 'australia', '', 'infrastructure', 'engineer', 'admin', '', 'data', 'scientist', '', 'senior', 'data', 'scientist', '', 'senior', 'data', 'scientist', '', 'graduate', 'engineer', 'data', 'scientist', 'analyst', '', 'senior', 'analyst', 'audit', '', 'data', 'scientist', '', 'data', 'scientist', 'hitl', '', 'data', 'scientist', '', 'data', 'scientist', '', 'data', 'scientist', '', 'senior', 'data', 'scientist', 'medical', '', 'senior', 'data', 'scientist', 'aips', 'cq', 'nlp', '', 'data', 'scientist', '', 'senior', 'data', 'scientist', '', 'data', 'scientist', 'data', 'analyt', '', 'new', 'role', 'data', 'scientist', '', 'mth', 'contract', 'high', 'pr', '...', '', 'data', 'scientist', 'team', 'leader', 'mining', 'technology', 'p', '...', '', 'data', 'scientist', '', 'internship', 'information', 'technology', 'data', 'engineer', '', 'lead', 'data', 'scientist', 'k', 'package', '', 'senior', 'data', 'scientist', 'ai', 'ml', '', 'data', 'scientist', '', 'senior', 'data', 'scientist', '', 'el', '', 'director', 'emergency', 'food', 'relief', 'microfinance', '', 'senior', 'data', 'scientist', '', 'senior', 'data', 'scientist', '', 'data', 'scientist', 'tableau', 'administrator', 'data', 'engi', '...', '', 'azure', 'data', 'scientist', '', 'data', 'scientist', '', 'consultant', 'data', 'scientist', '', 'data', 'science', 'engineer', '', 'senior', 'data', 'analysts', '', 'head', 'data', 'science', 'pricing', 'performance', '', 'data', 'scientist', '', 'senior', 'data', 'scientist', '', 'data', 'scientist', 'analyst', '', 'data', 'analyst', 'contract', '', 'technical', 'consultant', '', 'recruitment', 'consultant', 'multiple', 'roles', '', 'senior', 'data', 'scientist', '', 'senior', 'data', 'scientist', '', 'data', 'scientist', '', 'senior', 'data', 'scientist', '', 'data', 'scientist', '', 'data', 'scientist', '', 'customer', 'business', 'analyst', '', 'customer', 'business', 'analyst', '', 'customer', 'business', 'analyst', '', 'customer', 'business', 'analyst', '', 'senior', 'data', 'scientist', '', 'associate', 'data', 'scientist', '', 'data', 'scientist', 'k', 'k', 'package', '', 'strategy', 'manager', 'digital', 'analytics', '', 'front', 'end', 'developer', '', 'back', 'end', 'developer', 'django', '', 'senior', 'data', 'scientist', '', 'senior', 'full', 'stack', 'developer', '', 'principal', 'data', 'scientist', '', 'brandspace', 'data', 'scientist', '', 'brandspace', 'data', 'scientist', '', 'data', 'scientist', 'python', 'sql', '', 'data', 'scientist', '', 'principal', 'data', 'analyst', '', 'expression', 'interest', 'data', 'scientist', '', 'associate', 'data', 'scientist', '', 'data', 'scientist', '', 'data', 'scientist', '', 'senior', 'data', 'scientist', '', 'data', 'scientist', '', 'data', 'scientist', '', 'data', 'scientist', 'multiple', 'roles', 'across', 'levels', '', 'junior', 'data', 'science', 'analyst', 'engineer', '', 'data', 'scientist', '', 'lecturer', 'computational', 'biologist', 'bioinformatic', '...', '', 'lecturer', 'computational', 'biologist', 'bioinformatic', '...', '', 'lecturer', 'computational', 'biologist', 'bioinformatic', '...', '', 'lecturer', 'computational', 'biologist', 'bioinformatic', '...', '', 'lecturer', 'computational', 'biologist', 'bioinformatic', '...', '', 'lecturer', 'computational', 'biologist', 'bioinformatic', '...', '', 'lecturer', 'computational', 'biologist', 'bioinformatic', '...', '', 'lecturer', 'computational', 'biologist', 'bioinformatic', '...', '', 'data', 'scientist', '', 'postdoctoral', 'research', 'fellow', 'epidemiologist', '', 'postdoctoral', 'research', 'fellow', 'epidemiologist', '', 'data', 'warehouse', 'engineer', 'bi', 'engineer', '', 'head', 'data', 'science', 'pricing', 'performance', '', 'data', 'scientist', 'analysts', 'statisticians', 'business', '...', '', 'senior', 'data', 'analyst', 'opportunity', 'engineering', 'an', '...', '', 'senior', 'data', 'scientist', 'analyst', '', 'voice', 'customer', 'application', 'consultant', '', 'senior', 'data', 'scientist', 'digital', '', 'data', 'analyst', 'rolling', 'stock', 'reliability', 'enginee', '...', '', 'data', 'scientist', 'fraud', 'analytics', '', 'data', 'scientist', '', 'data', 'scientist', '', 'software', 'development', 'managers', 'software', 'archite', '...', '', 'marketing', 'analytics', 'lead', '', 'data', 'scientist', '', 'senior', 'data', 'scientist', '', 'head', 'data', 'science', '', 'technical', 'data', 'analyst', 'asx', 'listed', 'financial', 'house', '', 'bi', 'analytics', 'developer', '', 'data', 'scientist', '', 'senior', 'data', 'scientist', '', 'data', 'analyst', '', 'data', 'science', 'lead', '', 'start', 'new', 'career', 'data', 'analyst', '', 'manager', 'data', 'science', '', 'data', 'scientist', '', 'data', 'scientist', '', 'data', 'analyst', 'scientist', '', 'senior', 'data', 'scientist', '', 'data', 'scientist', '', 'data', 'scientist', '', 'data', 'analytics', 'engineer', '', 'data', 'scientist', '', 'senior', 'data', 'scientist', '', 'senior', 'data', 'scientist', '', 'senior', 'data', 'scientist', '', 'data', 'scientist', 'product', 'dev', 'mining', 'tech', '', 'data', 'scientist', '', 'operational', 'data', 'analyst', '', 'data', 'scientist', '', 'data', 'scientist', '', 'data', 'scientist', '', 'data', 'scientist', '', 'data', 'engineer', '', 'junior', 'data', 'scientist', '', 'data', 'scientist', '', 'data', 'engineer', '', 'senior', 'data', 'scientist', 'k', 'package', 'fulltime', '', 'el', 'actuary', 'data', 'scientist', 'australian', 'governme', '...', '', 'data', 'scientist', 'fmcg', '', 'senior', 'data', 'scientist', '', 'principal', 'data', 'scientist', 'ds', 'lead', 'mlops', 'platform', '', 'principal', 'data', 'scientist', 'ds', 'lead', 'mlops', 'platform', '', 'junior', 'petrophysicist', '', 'data', 'scientist', '', 'consulting', 'senior', 'data', 'scientist', 'internal', 'cent', '...', '', 'data', 'science', 'engineer', '', 'senior', 'data', 'engineer', '', 'senior', 'data', 'scientist', '', 'data', 'scientist', '', 'data', 'scientist', '', 'data', 'scientist', '', 'data', 'scientist', '', 'data', 'scientist', '', 'data', 'scientist', '', 'senior', 'data', 'analyst', 'data', 'scientist', '', 'recruitment', 'consultant', 'multiple', 'roles', '', 'senior', 'clinical', 'data', 'scientist', '', 'senior', 'pricing', 'analyst', '', 'data', 'scientist', 'ndarc', '', 'data', 'scientist', 'ndarc', '', 'data', 'scientist', '', 'data', 'scientist', 'bocsar', '', 'data', 'engineer', 'regional', 'applicants', 'welcome', '', 'data', 'scientist', 'database', 'developer', '', 'data', 'scientist', '', 'data', 'scientist', '', 'data', 'scientist', 'graduate', 'program', '', '', 'software', 'developer', 'graduate', 'program', '', '', 'business', 'support', 'graduate', 'program', '', '', 'data', 'scientist', '', 'data', 'scientist', '', 'junior', 'data', 'scientist', '', 'data', 'engineer', '', 'data', 'scientist', 'digital', 'web', 'analytics', '', 'data', 'scientist', '', 'data', 'scientist', '', 'data', 'scientist', 'global', 'insurance', 'company', '', 'data', 'scientist', 'global', 'insurance', 'company', '', 'data', 'scientist', '', 'data', 'scientist', '', 'data', 'scientist', '', 'data', 'scientist', 'machine', 'learning', '', 'month', 'minim', '...', '', 'data', 'scientist', '', 'senior', 'data', 'scientist', 'knowledge', 'graph', '', 'hadoop', 'developer', '', 'senior', 'data', 'engineer', 'machine', 'learning', '', 'data', 'scientist', '', 'data', 'scientist', '', 'senior', 'analyst', 'data', 'analytics', 'audit', '', 'data', 'scientist', '', 'data', 'analytics', 'technical', 'consultant', 'work', 'anywhere', '', 'data', 'scientist', '', 'software', 'engineer', 'ai', 'applications', '', 'software', 'engineer', 'ai', 'applications', '', 'data', 'scientist', '', 'foundation', 'data', 'analyst', '', 'data', 'scientist', 'strategy', 'insights', '', 'data', 'scientist', '', 'data', 'scientist', '', 'start', 'new', 'career', 'data', 'analyst', '', 'data', 'analyst', '', 'manager', 'data', 'scientist', '', 'data', 'engineer', '', 'data', 'scientist', '', 'data', 'scientist', '', 'data', 'scientist', '', 'junior', 'data', 'scientist', '', 'senior', 'data', 'scientist', '', 'data', 'scientist', '', 'data', 'scientist', '', 'data', 'scientist', '', 'data', 'scientist', 'multiple', 'mid', 'senior', 'contract', 'ro', '...', '', 'data', 'engineer', 'specialist', '', 'mid', 'lead', 'data', 'scientist', 'positions', 'anywhere', 'aus', '...', '', 'data', 'scientist', '', 'senior', 'data', 'scientist', 'customer', 'analytics', '', 'senior', 'data', 'scientist', 'customer', 'analytics', '', 'senior', 'data', 'scientist', 'customer', 'analytics', '', 'data', 'scientist', '', 'geospatial', 'data', 'scientist', '', 'geospatial', 'data', 'scientist', '', 'analyst', 'data', 'engineering', '', 'data', 'scientist', 'vacation', 'program', '', 'senior', 'data', 'scientist', 'aips', 'cq', '', 'marketing', 'data', 'scientist', 'analyst', 'publicly', 'list', '...', '', 'senior', 'data', 'scientist', '', 'senior', 'data', 'scientist', '', 'senior', 'data', 'scientist', '', 'senior', 'data', 'scientist', '', 'senior', 'data', 'scientist', '', 'senior', 'data', 'scientist', '', 'data', 'scientists', 'data', 'analysts', 'data', 'engineers', '', 'data', 'scientists', 'data', 'analysts', 'data', 'engineers', '', 'data', 'scientists', 'data', 'analysts', 'data', 'engineers', '', 'data', 'scientists', 'data', 'analysts', 'data', 'engineers', '', 'data', 'scientists', 'data', 'analysts', 'data', 'engineers', '', 'data', 'scientists', 'data', 'analysts', 'data', 'engineers', '', 'data', 'scientists', 'data', 'analysts', 'data', 'engineers', '', 'data', 'scientists', 'data', 'analysts', 'data', 'engineers', '', 'data', 'scientists', 'data', 'analysts', 'data', 'engineers', '', 'data', 'scientists', 'data', 'analysts', 'data', 'engineers', '', 'data', 'scientist', '', 'data', 'scientist', '', '', '', '', '', 'lead', 'data', 'scientist', 'k', 'package', '', 'senior', 'lead', 'data', 'scientist', '', 'senior', 'lead', 'data', 'scientist', '', 'data', 'scientist', '', 'data', 'scientist', '', 'spatial', 'data', 'scientist', '', 'senior', 'data', 'scientist', '', 'commercial', 'data', 'insights', 'senior', 'analyst', '', 'phd', 'master', 'research', 'scholarship', 'empowering', 'com', '...', '', 'phd', 'master', 'research', 'scholarship', 'empowering', 'com', '...', '', 'data', 'analyst', 'nv', '', 'data', 'science', 'specialist', '', 'data', 'scientist', '', 'data', 'scientist', '', 'data', 'scientist', '', 'data', 'scientist', '', 'data', 'scientist', '', 'data', 'scientist', '', 'data', 'scientist', '', 'data', 'scientist', '', 'data', 'scientist', '', 'data', 'scientist', '', 'data', 'scientist', '', 'data', 'scientist', '', 'senior', 'data', 'scientist', '', 'senior', 'data', 'scientist', '', 'senior', 'data', 'scientist', '', 'data', 'engineer', 'python', 'aws', 'cloud', '', 'data', 'scientist', '', 'data', 'scientist', '', 'senior', 'data', 'scientist', '', 'junior', 'data', 'scientist', 'engineer', '', 'associate', 'data', 'scientist', '', 'senior', 'data', 'scientist', '', 'postdoctoral', 'research', 'fellow', 'epidemiologist', '', 'postdoctoral', 'research', 'fellow', 'epidemiologist', '', 'data', 'scientist', '', 'senior', 'java', 'software', 'engineer', '', 'manager', 'data', 'scientist', '', 'data', 'scientist', '', 'data', 'scientist', '', 'data', 'scientist', '', 'head', 'data', 'science', '', 'hadoop', 'developers', '', 'data', 'scientist', 'global', 'insurance', 'company', '', 'associate', 'data', 'scientist', 'aips', 'recs', '', 'senior', 'data', 'scientist', '', 'senior', 'data', 'engineer', '', 'specialist', 'data', 'scientist', '', 'experienced', 'data', 'scientist', 'contract', '', 'senior', 'data', 'scientist', 'consultant', '', 'senior', 'data', 'scientist', 'contract', 'pd', 'pd', 'com', '...', '', 'analyst', 'data', 'scientist', '', 'geospatial', 'data', 'scientist', '', 'senior', 'data', 'scientist', '', 'senior', 'data', 'scientist', '', 'data', 'scientist', 'consulting', '', 'lead', 'data', 'scientist', 'digital', 'marketing', 'product', '', 'data', 'scientist', '', 'data', 'scientist', 'prediction', 'insights', '', 'data', 'scientist', 'p', '', 'data', 'engineer', '', 'data', 'scientists', '', 'data', 'scientist', 'permanent', 'opportunity', '', 'recruitment', 'consultant', 'multiple', 'roles', '', 'specialist', 'data', 'scientist', '', 'lead', 'data', 'scientist', 'contract', 'greenfield', 'projects', '', 'senior', 'data', 'scientist', 'insurance', '', 'data', 'scientist', '', 'lead', 'data', 'engineer', 'contract', 'greenfield', 'projects', '', 'geoscience', 'data', 'specialist', '', 'full', 'stack', 'developer', 'mid', 'level', '', 'senior', 'data', 'engineer', '', 'data', 'scientist', 'multiple', 'roles', 'across', 'levels', '', 'data', 'scientist', '', 'data', 'engineer', '', 'data', 'science', 'engineering', 'consultant', '', 'senior', 'data', 'scientist', 'knowledge', 'graph', '', 'senior', 'data', 'scientist', 'knowledge', 'graph', '', 'application', 'consultant', '', 'managing', 'consultant', 'data', 'engineer', 'data', 'scienti', '...', '', 'senior', 'data', 'analyst', '', 'data', 'analyst', 'nv', '', 'start', 'new', 'career', 'data', 'analyst', '', 'start', 'new', 'career', 'data', 'analyst', '', 'senior', 'data', 'scientist', '', 'senior', 'data', 'scientist', '', 'data', 'professional', 'experienced', 'data', 'scientist', 'a', '...', '', 'senior', 'data', 'scientist', '', 'data', 'scientist', '', 'senior', 'analyst', 'data', 'analytics', 'audit', '', 'senior', 'data', 'scientist', '', 'senior', 'machine', 'learning', 'engineer', '', 'senior', 'data', 'scientist', 'deep', 'learning', 'd', 'specialist', '', 'senior', 'data', 'scientist', 'spatial', 'statistics', '', 'data', 'scientist', '', 'machine', 'learning', 'data', 'scientist', 'phd', '', 'data', 'scientist', '', 'data', 'scientist', '', 'data', 'scientist', 'bi', 'analyst', 'canberra', 'citizens', '', 'hybrid', 'data', 'engineer', 'data', 'scientist', 'senior', 'role', '', 'data', 'scientist', '', 'data', 'scientist', 'bi', 'analyst', '', 'data', 'scientist', 'top', 'fund', 'manager', '', 'senior', 'data', 'analyst', 'data', 'scientist', '', 'data', 'scientist', '', 'data', 'scientist', '', 'postdoctoral', 'research', 'fellow', 'epidemiologist', '', 'postdoctoral', 'research', 'fellow', 'epidemiologist', '', 'senior', 'data', 'scientist', '', 'operations', 'research', 'consultant', '', 'data', 'scientist', '', 'data', 'scientist', 'nlp', 'python', '', 'senior', 'data', 'scientist', '', 'data', 'scientist', '', 'business', 'analyst', 'data', 'scientist', '', 'data', 'scientist', '', 'senior', 'data', 'scientist', '', 'data', 'administrator', '', 'engineering', 'data', 'scientist', '', 'engineering', 'data', 'scientist', '', 'sales', 'engineer', '', 'data', 'scientist', '', 'data', 'scientist', '', 'research', 'analyst', '', 'research', 'analyst', '', 'research', 'analyst', '', 'research', 'analyst', '', 'data', 'scientist', '', 'senior', 'data', 'scientist', 'ai', 'ml', '', 'data', 'scientist', '', 'data', 'scientist', '', 'commercial', 'data', 'insights', 'senior', 'analyst', '', 'senior', 'marketing', 'analyst', '', 'data', 'scientist', 'data', 'engineer', 'python', 'azure', 'deve', '...', '', 'experienced', 'data', 'scientist', 'contract', '', 'data', 'scientist', 'multiple', 'mid', 'senior', 'contract', 'ro', '...', '', 'senior', 'data', 'scientist', 'k', 'package', 'fulltime', '', 'senior', 'data', 'scientist', '', 'data', 'scientist', '', 'senior', 'data', 'scientist', '', 'data', 'integration', 'specialist', '', 'senior', 'data', 'scientist', '', 'data', 'scientist', '', 'senior', 'data', 'scientist', '', 'senior', 'data', 'scientist', '', 'full', 'stack', 'front', 'end', 'devops', 'machine', 'learning', 'o', '...', '', 'senior', 'data', 'engineer', '', 'data', 'scientist', '', 'data', 'scientist', 'immediate', 'start', '', 'month', 'contrac', '...', '', 'data', 'scientist', 'global', 'finance', 'company', '', 'data', 'scientist', '', 'senior', 'data', 'scientist', 'part', 'time', '', 'trainee', 'data', 'scientist', '', 'data', 'scientist', '', 'senior', 'data', 'scientist', 'part', 'time', '', 'data', 'scientist', '', 'senior', 'data', 'scientist', 'afid', '', 'senior', 'data', 'scientist', 'afid', '', 'data', 'scientist', '', 'machine', 'learning', 'data', 'scientist', '', 'senior', 'data', 'scientist', '', 'data', 'scientist', '', 'senior', 'java', 'software', 'engineer', '', 'data', 'scientist', '', 'data', 'scientist', '', 'data', 'scientist', '', 'senior', 'data', 'scientist', '', 'recruitment', 'consultant', 'multiple', 'roles', '', 'hybrid', 'data', 'engineer', 'data', 'scientist', 'senior', 'role', '', 'data', 'science', 'chapter', 'lead', '', 'data', 'scientist', 'ii', 'analytics', '', 'senior', 'data', 'scientist', 'team', 'leader', '', 'senior', 'data', 'scientist', 'team', 'leader', '', 'data', 'scientist', '', 'lead', 'data', 'scientist', 'sydney', 'nsw', 'melbourne', 'vic', '', 'lead', 'data', 'scientist', 'sydney', 'nsw', 'melbourne', 'vic', '', 'lead', 'data', 'scientist', 'sydney', 'nsw', 'melbourne', 'vic', '', 'data', 'scientist', '', 'data', 'scientist', '', 'start', 'new', 'career', 'data', 'analyst', '', 'front', 'end', 'back', 'end', 'full', 'stack', 'developer', 'jobs', '', 'data', 'scientist', 'engineer', '', 'hadoop', 'devloper', '', 'data', 'scientist', '', 'junior', 'data', 'scientist', '', 'senior', 'data', 'scientist', '', 'data', 'scientist', '', 'full', 'stack', 'engineer', 'data', 'scientist', 'hybrid', 'role', '', 'full', 'stack', 'engineer', 'data', 'scientist', 'hybrid', 'role', '', 'lead', 'data', 'sciences', '', 'data', 'scientist', '', 'data', 'scientist', 'analysis', 'stream', '', 'lead', 'data', 'scientist', '', 'python', 'django', 'developer', '', 'principal', 'data', 'scientist', 'product', 'analytics', '', 'data', 'scientist', 'multiple', 'roles', '', 'mid', 'level', 'data', 'scientist', '', 'data', 'scientist', '', 'data', 'scientist', 'modeller', '', 'data', 'scientist', '', 'data', 'scientist', 'pmo', '', 'data', 'scientist', 'pmo', '', 'data', 'scientist', 'commercial', 'analytics', '', 'data', 'scientist', 'commercial', 'analytics', '', 'data', 'analyst', '', 'senior', 'data', 'engineer', 'machine', 'learning', '', 'data', 'analyst', 'nv', '', 'senior', 'data', 'scientist', '', 'data', 'engineer', '', 'policy', 'project', 'officer', 'atwd', 'publications', 'digital', '', 'data', 'scientist', '', 'data', 'scientist', '', 'data', 'scientist', 'closes', '', 'jan', 'citizenship', 'required', '', 'senior', 'data', 'scientist', '', 'data', 'scientist', 'several', '', 'machine', 'learning', 'data', 'scientist', 'phd', '', 'data', 'scientist']\n"
     ]
    }
   ],
   "source": [
    "# Remove numeric characters using regex and list comprehension\n",
    "text_title = [re.sub(r'\\d+', '', title) for title in text_title if title]\n",
    "# Print the result\n",
    "print(text_title)"
   ]
  },
  {
   "cell_type": "code",
   "execution_count": 19,
   "id": "df87e02d",
   "metadata": {},
   "outputs": [
    {
     "data": {
      "text/plain": [
       "['',\n",
       " 'anywhere',\n",
       " 'data',\n",
       " 'data',\n",
       " 'scientist',\n",
       " 'a',\n",
       " 'principal',\n",
       " 'data',\n",
       " 'scientist',\n",
       " 'data']"
      ]
     },
     "execution_count": 19,
     "metadata": {},
     "output_type": "execute_result"
    }
   ],
   "source": [
    "random.sample(text_title,10)"
   ]
  },
  {
   "cell_type": "markdown",
   "id": "9d4eb670",
   "metadata": {},
   "source": [
    "Now the list in text_title is free of numeric characters and white space. We will do the same in the other three features."
   ]
  },
  {
   "cell_type": "code",
   "execution_count": 20,
   "id": "2eff3fb4",
   "metadata": {},
   "outputs": [],
   "source": [
    "text_teaser = [re.sub(r'\\d+', '', title) for title in text_teaser if title]"
   ]
  },
  {
   "cell_type": "code",
   "execution_count": 21,
   "id": "4458fb36",
   "metadata": {},
   "outputs": [
    {
     "data": {
      "text/plain": [
       "['software',\n",
       " '...',\n",
       " '',\n",
       " 'support',\n",
       " 'mode',\n",
       " 'looking',\n",
       " '...',\n",
       " 'touch',\n",
       " 'darta',\n",
       " '']"
      ]
     },
     "execution_count": 21,
     "metadata": {},
     "output_type": "execute_result"
    }
   ],
   "source": [
    "random.sample(text_teaser,10)"
   ]
  },
  {
   "cell_type": "code",
   "execution_count": 22,
   "id": "aad8b748",
   "metadata": {},
   "outputs": [],
   "source": [
    "text_mobile = [re.sub(r'\\d+', '', title) for title in text_mobile if title]"
   ]
  },
  {
   "cell_type": "code",
   "execution_count": 23,
   "id": "12a75653",
   "metadata": {},
   "outputs": [
    {
     "data": {
      "text/plain": [
       "['...',\n",
       " 'leading',\n",
       " '',\n",
       " 'senior',\n",
       " '...',\n",
       " 'organisation',\n",
       " 'vincent',\n",
       " 'me',\n",
       " '',\n",
       " 'supportive']"
      ]
     },
     "execution_count": 23,
     "metadata": {},
     "output_type": "execute_result"
    }
   ],
   "source": [
    "random.sample(text_mobile,10)"
   ]
  },
  {
   "cell_type": "code",
   "execution_count": 24,
   "id": "e45be057",
   "metadata": {},
   "outputs": [],
   "source": [
    "text_desktop = [re.sub(r'\\d+', '', title) for title in text_desktop if title]"
   ]
  },
  {
   "cell_type": "code",
   "execution_count": 25,
   "id": "c185a49b",
   "metadata": {},
   "outputs": [
    {
     "data": {
      "text/plain": [
       "['use',\n",
       " 'reserve',\n",
       " 'data',\n",
       " 'lead',\n",
       " 'scientist',\n",
       " '',\n",
       " 'data',\n",
       " 'learning',\n",
       " 'interoperabilit',\n",
       " 'joining']"
      ]
     },
     "execution_count": 25,
     "metadata": {},
     "output_type": "execute_result"
    }
   ],
   "source": [
    "random.sample(text_desktop,10)"
   ]
  },
  {
   "cell_type": "markdown",
   "id": "66a8736f",
   "metadata": {},
   "source": [
    "# Text Analysis"
   ]
  },
  {
   "cell_type": "markdown",
   "id": "65cd00e3",
   "metadata": {},
   "source": [
    "After we pre-processed the 4 columns of text data above, we will now analyse the data using advanced text processing for each feature including length of words, Bag of Words, N-grams, TF-IDF, and Word Embeddings."
   ]
  },
  {
   "cell_type": "markdown",
   "id": "0e2d8638",
   "metadata": {},
   "source": [
    "## Length of words"
   ]
  },
  {
   "cell_type": "markdown",
   "id": "52b8d43e",
   "metadata": {},
   "source": [
    "In this step, we will see the word counts in each column before stemming and tokenization."
   ]
  },
  {
   "cell_type": "code",
   "execution_count": 26,
   "id": "e1578106",
   "metadata": {},
   "outputs": [
    {
     "data": {
      "text/html": [
       "<div>\n",
       "<style scoped>\n",
       "    .dataframe tbody tr th:only-of-type {\n",
       "        vertical-align: middle;\n",
       "    }\n",
       "\n",
       "    .dataframe tbody tr th {\n",
       "        vertical-align: top;\n",
       "    }\n",
       "\n",
       "    .dataframe thead th {\n",
       "        text-align: right;\n",
       "    }\n",
       "</style>\n",
       "<table border=\"1\" class=\"dataframe\">\n",
       "  <thead>\n",
       "    <tr style=\"text-align: right;\">\n",
       "      <th></th>\n",
       "      <th>jobTitle_word_count</th>\n",
       "      <th>teaser_word_count</th>\n",
       "      <th>mobileAdTemplate_word_count</th>\n",
       "      <th>desktopAdTemplate_word_count</th>\n",
       "    </tr>\n",
       "  </thead>\n",
       "  <tbody>\n",
       "    <tr>\n",
       "      <th>3432</th>\n",
       "      <td>2</td>\n",
       "      <td>1</td>\n",
       "      <td>251</td>\n",
       "      <td>251</td>\n",
       "    </tr>\n",
       "    <tr>\n",
       "      <th>2217</th>\n",
       "      <td>3</td>\n",
       "      <td>10</td>\n",
       "      <td>436</td>\n",
       "      <td>439</td>\n",
       "    </tr>\n",
       "    <tr>\n",
       "      <th>994</th>\n",
       "      <td>2</td>\n",
       "      <td>14</td>\n",
       "      <td>223</td>\n",
       "      <td>225</td>\n",
       "    </tr>\n",
       "    <tr>\n",
       "      <th>1130</th>\n",
       "      <td>2</td>\n",
       "      <td>15</td>\n",
       "      <td>418</td>\n",
       "      <td>437</td>\n",
       "    </tr>\n",
       "    <tr>\n",
       "      <th>586</th>\n",
       "      <td>2</td>\n",
       "      <td>9</td>\n",
       "      <td>213</td>\n",
       "      <td>223</td>\n",
       "    </tr>\n",
       "  </tbody>\n",
       "</table>\n",
       "</div>"
      ],
      "text/plain": [
       "      jobTitle_word_count  teaser_word_count  mobileAdTemplate_word_count  \\\n",
       "3432                    2                  1                          251   \n",
       "2217                    3                 10                          436   \n",
       "994                     2                 14                          223   \n",
       "1130                    2                 15                          418   \n",
       "586                     2                  9                          213   \n",
       "\n",
       "      desktopAdTemplate_word_count  \n",
       "3432                           251  \n",
       "2217                           439  \n",
       "994                            225  \n",
       "1130                           437  \n",
       "586                            223  "
      ]
     },
     "execution_count": 26,
     "metadata": {},
     "output_type": "execute_result"
    }
   ],
   "source": [
    "df['jobTitle_word_count'] = df['jobTitle_cleaned'].apply(lambda x: len(str(x).split(\" \")))\n",
    "df['teaser_word_count'] = df['teaser_cleaned'].apply(lambda x: len(str(x).split(\" \")))\n",
    "df['mobileAdTemplate_word_count'] = df['mobileAdTemplate_cleaned'].apply(lambda x: len(str(x).split(\" \")))\n",
    "df['desktopAdTemplate_word_count'] = df['desktopAdTemplate_cleaned'].apply(lambda x: len(str(x).split(\" \")))\n",
    "df[['jobTitle_word_count','teaser_word_count', 'mobileAdTemplate_word_count', 'desktopAdTemplate_word_count']].sample(5)"
   ]
  },
  {
   "cell_type": "code",
   "execution_count": 27,
   "id": "61201e6d",
   "metadata": {},
   "outputs": [
    {
     "data": {
      "text/html": [
       "<div>\n",
       "<style scoped>\n",
       "    .dataframe tbody tr th:only-of-type {\n",
       "        vertical-align: middle;\n",
       "    }\n",
       "\n",
       "    .dataframe tbody tr th {\n",
       "        vertical-align: top;\n",
       "    }\n",
       "\n",
       "    .dataframe thead th {\n",
       "        text-align: right;\n",
       "    }\n",
       "</style>\n",
       "<table border=\"1\" class=\"dataframe\">\n",
       "  <thead>\n",
       "    <tr style=\"text-align: right;\">\n",
       "      <th></th>\n",
       "      <th>jobTitle_word_count</th>\n",
       "      <th>teaser_word_count</th>\n",
       "      <th>mobileAdTemplate_word_count</th>\n",
       "      <th>desktopAdTemplate_word_count</th>\n",
       "    </tr>\n",
       "  </thead>\n",
       "  <tbody>\n",
       "    <tr>\n",
       "      <th>count</th>\n",
       "      <td>3902.000000</td>\n",
       "      <td>3902.000000</td>\n",
       "      <td>3902.000000</td>\n",
       "      <td>3902.000000</td>\n",
       "    </tr>\n",
       "    <tr>\n",
       "      <th>mean</th>\n",
       "      <td>3.360328</td>\n",
       "      <td>10.818298</td>\n",
       "      <td>288.189390</td>\n",
       "      <td>246.819323</td>\n",
       "    </tr>\n",
       "    <tr>\n",
       "      <th>std</th>\n",
       "      <td>1.696641</td>\n",
       "      <td>4.954812</td>\n",
       "      <td>143.423349</td>\n",
       "      <td>174.265753</td>\n",
       "    </tr>\n",
       "    <tr>\n",
       "      <th>min</th>\n",
       "      <td>2.000000</td>\n",
       "      <td>1.000000</td>\n",
       "      <td>1.000000</td>\n",
       "      <td>1.000000</td>\n",
       "    </tr>\n",
       "    <tr>\n",
       "      <th>25%</th>\n",
       "      <td>2.000000</td>\n",
       "      <td>9.000000</td>\n",
       "      <td>183.000000</td>\n",
       "      <td>137.000000</td>\n",
       "    </tr>\n",
       "    <tr>\n",
       "      <th>50%</th>\n",
       "      <td>3.000000</td>\n",
       "      <td>12.000000</td>\n",
       "      <td>264.000000</td>\n",
       "      <td>238.000000</td>\n",
       "    </tr>\n",
       "    <tr>\n",
       "      <th>75%</th>\n",
       "      <td>4.000000</td>\n",
       "      <td>14.000000</td>\n",
       "      <td>374.000000</td>\n",
       "      <td>355.000000</td>\n",
       "    </tr>\n",
       "    <tr>\n",
       "      <th>max</th>\n",
       "      <td>12.000000</td>\n",
       "      <td>22.000000</td>\n",
       "      <td>1121.000000</td>\n",
       "      <td>1121.000000</td>\n",
       "    </tr>\n",
       "  </tbody>\n",
       "</table>\n",
       "</div>"
      ],
      "text/plain": [
       "       jobTitle_word_count  teaser_word_count  mobileAdTemplate_word_count  \\\n",
       "count          3902.000000        3902.000000                  3902.000000   \n",
       "mean              3.360328          10.818298                   288.189390   \n",
       "std               1.696641           4.954812                   143.423349   \n",
       "min               2.000000           1.000000                     1.000000   \n",
       "25%               2.000000           9.000000                   183.000000   \n",
       "50%               3.000000          12.000000                   264.000000   \n",
       "75%               4.000000          14.000000                   374.000000   \n",
       "max              12.000000          22.000000                  1121.000000   \n",
       "\n",
       "       desktopAdTemplate_word_count  \n",
       "count                   3902.000000  \n",
       "mean                     246.819323  \n",
       "std                      174.265753  \n",
       "min                        1.000000  \n",
       "25%                      137.000000  \n",
       "50%                      238.000000  \n",
       "75%                      355.000000  \n",
       "max                     1121.000000  "
      ]
     },
     "execution_count": 27,
     "metadata": {},
     "output_type": "execute_result"
    }
   ],
   "source": [
    "df[['jobTitle_word_count','teaser_word_count', 'mobileAdTemplate_word_count', 'desktopAdTemplate_word_count']].describe()"
   ]
  },
  {
   "cell_type": "markdown",
   "id": "99fc98a8",
   "metadata": {},
   "source": [
    "It can be seen by the means of each feature. The length of the job title that companies input is around 3.4 words, which means the addition or extra words that go with the word data scientist are about 1.4 words. The length of the teaser is around 10.8 words, while the two ads, both on desktop and mobile, are close to each other at around 250 words."
   ]
  },
  {
   "cell_type": "code",
   "execution_count": 28,
   "id": "3ebb7b11",
   "metadata": {},
   "outputs": [
    {
     "data": {
      "image/png": "[encoded data removed]",
      "text/plain": [
       "<Figure size 640x480 with 1 Axes>"
      ]
     },
     "metadata": {},
     "output_type": "display_data"
    }
   ],
   "source": [
    "import matplotlib.pyplot as plt\n",
    "\n",
    "# Create a histogram with four features\n",
    "plt.hist([df['jobTitle_word_count'], df['teaser_word_count'], df['mobileAdTemplate_word_count'], df['desktopAdTemplate_word_count']],\n",
    "         bins=10, color=['blue', 'green', 'red', 'pink'], alpha=0.5,\n",
    "         label=['Job Title', 'teaser', 'mobile ads', 'desktop ads'])\n",
    "\n",
    "# Set axis labels, title, and legend\n",
    "plt.xlabel('Word Count')\n",
    "plt.ylabel('Frequency')\n",
    "plt.title('Histogram of Word Counts by Features')\n",
    "plt.legend(loc='upper right')\n",
    "\n",
    "# Display the histogram\n",
    "plt.show()"
   ]
  },
  {
   "cell_type": "markdown",
   "id": "f7546f97",
   "metadata": {},
   "source": [
    "## Bag of Words"
   ]
  },
  {
   "cell_type": "markdown",
   "id": "88279cd8",
   "metadata": {},
   "source": [
    "After tokenizing the text data, we will calculate the frequency count of each word in the bag of words model and see the top 10 most frequent words."
   ]
  },
  {
   "cell_type": "markdown",
   "id": "1171b29e",
   "metadata": {},
   "source": [
    "### 1.  BoW for Job Title"
   ]
  },
  {
   "cell_type": "code",
   "execution_count": 29,
   "id": "cf308786",
   "metadata": {},
   "outputs": [
    {
     "name": "stdout",
     "output_type": "stream",
     "text": [
      "          word  count\n",
      "169       data   3717\n",
      "612  scientist   3193\n",
      "617     senior    737\n",
      "34     analyst    312\n",
      "222   engineer    219\n",
      "378       lead    153\n",
      "39   analytics    114\n",
      "371     junior     94\n",
      "383   learning     88\n",
      "405    machine     85\n"
     ]
    }
   ],
   "source": [
    "import pandas as pd\n",
    "from sklearn.feature_extraction.text import CountVectorizer\n",
    "\n",
    "# Create the bag of words model\n",
    "cv = CountVectorizer()\n",
    "bow = cv.fit_transform(text_title)\n",
    "\n",
    "# Get the list of features (i.e., words) in the bag of words model\n",
    "features = cv.get_feature_names_out()\n",
    "\n",
    "# Get the frequency count of each word in the bag of words model\n",
    "word_counts = bow.toarray().sum(axis=0)\n",
    "\n",
    "# Combine the features and their corresponding word counts into a dataframe\n",
    "word_counts_df = pd.DataFrame({\"word\": features, \"count\": word_counts})\n",
    "\n",
    "# Sort the dataframe by word count in descending order\n",
    "word_counts_df = word_counts_df.sort_values(\"count\", ascending=False)\n",
    "\n",
    "# Print the top 10 most frequent words\n",
    "print(word_counts_df.head(10))\n"
   ]
  },
  {
   "cell_type": "markdown",
   "id": "53763f9e",
   "metadata": {},
   "source": [
    "### 2. BoW for Teaser"
   ]
  },
  {
   "cell_type": "code",
   "execution_count": 30,
   "id": "59b59548",
   "metadata": {},
   "outputs": [
    {
     "name": "stdout",
     "output_type": "stream",
     "text": [
      "             word  count\n",
      "582          data   1944\n",
      "1971    scientist    891\n",
      "1497          nan    528\n",
      "1574  opportunity    442\n",
      "1252         join    431\n",
      "1345      looking    331\n",
      "2215         team    286\n",
      "1989      seeking    272\n",
      "109     analytics    260\n",
      "2419         work    243\n"
     ]
    }
   ],
   "source": [
    "# Create the bag of words model\n",
    "cv = CountVectorizer()\n",
    "bow = cv.fit_transform(text_teaser)\n",
    "\n",
    "# Get the list of features (i.e., words) in the bag of words model\n",
    "features = cv.get_feature_names_out()\n",
    "\n",
    "# Get the frequency count of each word in the bag of words model\n",
    "word_counts = bow.toarray().sum(axis=0)\n",
    "\n",
    "# Combine the features and their corresponding word counts into a dataframe\n",
    "word_counts_df = pd.DataFrame({\"word\": features, \"count\": word_counts})\n",
    "\n",
    "# Sort the dataframe by word count in descending order\n",
    "word_counts_df = word_counts_df.sort_values(\"count\", ascending=False)\n",
    "\n",
    "# Print the top 10 most frequent words\n",
    "print(word_counts_df.head(10))"
   ]
  },
  {
   "cell_type": "markdown",
   "id": "b1513383",
   "metadata": {},
   "source": [
    "### 3. BoW for Mobile Ads"
   ]
  },
  {
   "cell_type": "code",
   "execution_count": 31,
   "id": "e05c05aa",
   "metadata": {},
   "outputs": [
    {
     "name": "stdout",
     "output_type": "stream",
     "text": [
      "             word  count\n",
      "752          data   1350\n",
      "2529    scientist    704\n",
      "519        client    414\n",
      "2015  opportunity    325\n",
      "583       company    316\n",
      "1706      looking    305\n",
      "2470         role    300\n",
      "1636      leading    246\n",
      "1577         join    223\n",
      "239     australia    208\n"
     ]
    }
   ],
   "source": [
    "# Create the bag of words model\n",
    "cv = CountVectorizer()\n",
    "bow = cv.fit_transform(text_mobile)\n",
    "\n",
    "# Get the list of features (i.e., words) in the bag of words model\n",
    "features = cv.get_feature_names_out()\n",
    "\n",
    "# Get the frequency count of each word in the bag of words model\n",
    "word_counts = bow.toarray().sum(axis=0)\n",
    "\n",
    "# Combine the features and their corresponding word counts into a dataframe\n",
    "word_counts_df = pd.DataFrame({\"word\": features, \"count\": word_counts})\n",
    "\n",
    "# Sort the dataframe by word count in descending order\n",
    "word_counts_df = word_counts_df.sort_values(\"count\", ascending=False)\n",
    "\n",
    "# Print the top 10 most frequent words\n",
    "print(word_counts_df.head(10))"
   ]
  },
  {
   "cell_type": "markdown",
   "id": "b6141441",
   "metadata": {},
   "source": [
    "### 4. BoW for Desktop Ads"
   ]
  },
  {
   "cell_type": "code",
   "execution_count": 32,
   "id": "4851dafc",
   "metadata": {},
   "outputs": [
    {
     "name": "stdout",
     "output_type": "stream",
     "text": [
      "             word  count\n",
      "573          data   2431\n",
      "2034    scientist   1808\n",
      "1517          nan    695\n",
      "2076       senior    377\n",
      "387        client    245\n",
      "436       company    227\n",
      "1983         role    218\n",
      "1607  opportunity    197\n",
      "168    australian    160\n",
      "1367      looking    159\n"
     ]
    }
   ],
   "source": [
    "# Create the bag of words model\n",
    "cv = CountVectorizer()\n",
    "bow = cv.fit_transform(text_desktop)\n",
    "\n",
    "# Get the list of features (i.e., words) in the bag of words model\n",
    "features = cv.get_feature_names_out()\n",
    "\n",
    "# Get the frequency count of each word in the bag of words model\n",
    "word_counts = bow.toarray().sum(axis=0)\n",
    "\n",
    "# Combine the features and their corresponding word counts into a dataframe\n",
    "word_counts_df = pd.DataFrame({\"word\": features, \"count\": word_counts})\n",
    "\n",
    "# Sort the dataframe by word count in descending order\n",
    "word_counts_df = word_counts_df.sort_values(\"count\", ascending=False)\n",
    "\n",
    "# Print the top 10 most frequent words\n",
    "print(word_counts_df.head(10))"
   ]
  },
  {
   "cell_type": "markdown",
   "id": "21f7f6cc",
   "metadata": {},
   "source": [
    "For all the bags of words in each feature, the top two most frequent words are data and scientist. What's interesting is the following sequence of words, which are around third and fourth place.\n",
    "\n",
    "Both the job title and desktop ads talk frequently about 'senior', while the job teaser and mobile ads talk about 'opportunity'."
   ]
  },
  {
   "cell_type": "markdown",
   "id": "714d5fe6",
   "metadata": {},
   "source": [
    "## N-grams"
   ]
  },
  {
   "cell_type": "markdown",
   "id": "ab7588fe",
   "metadata": {},
   "source": [
    "In this experiment, we will use bigrams(N=2) to see the words that used or came together in the text."
   ]
  },
  {
   "cell_type": "markdown",
   "id": "3ec792a0",
   "metadata": {},
   "source": [
    "### 1. Bigrams for Job Title"
   ]
  },
  {
   "cell_type": "code",
   "execution_count": 33,
   "id": "ece41173",
   "metadata": {},
   "outputs": [
    {
     "name": "stdout",
     "output_type": "stream",
     "text": [
      "[('address', 'register'), ('applicants', 'welcome'), ('atwd', 'publications'), ('award', 'wi'), ('biologist', 'bioinformatic'), ('centre', 'excellence'), ('citizenship', 'required'), ('clerk', 'grade'), ('computer', 'vision'), ('confluence', 'mel')]\n"
     ]
    }
   ],
   "source": [
    "import nltk\n",
    "from nltk.collocations import BigramAssocMeasures, BigramCollocationFinder\n",
    "\n",
    "\n",
    "# Initialize the bigram collocation finder with the tokens\n",
    "finder = BigramCollocationFinder.from_words(text_title)\n",
    "\n",
    "# Define the scoring metric for bigrams\n",
    "bigram_measures = BigramAssocMeasures()\n",
    "\n",
    "# Find the top 10 bigrams using the chi-squared measure\n",
    "top_bigrams = finder.nbest(bigram_measures.chi_sq, 10)\n",
    "\n",
    "# Print the top bigrams\n",
    "print(top_bigrams)\n"
   ]
  },
  {
   "cell_type": "markdown",
   "id": "dc3053c1",
   "metadata": {},
   "source": [
    "### 2. Bigrams for Teaser"
   ]
  },
  {
   "cell_type": "code",
   "execution_count": 34,
   "id": "09819463",
   "metadata": {},
   "outputs": [
    {
     "name": "stdout",
     "output_type": "stream",
     "text": [
      "[('accurate', 'diagnosis'), ('acoustic', 'signal'), ('acquiring', 'cleansing'), ('age', 'care'), ('agribusiness', 'essentia'), ('algorithmic', 'components'), ('alliance', 'alertin'), ('allows', 'blend'), ('altruistically', 'minded'), ('ambition', 'knowledg')]\n"
     ]
    }
   ],
   "source": [
    "finder = BigramCollocationFinder.from_words(text_teaser)\n",
    "bigram_measures = BigramAssocMeasures()\n",
    "top_bigrams = finder.nbest(bigram_measures.chi_sq, 10)\n",
    "print(top_bigrams)"
   ]
  },
  {
   "cell_type": "markdown",
   "id": "aba48741",
   "metadata": {},
   "source": [
    "### 3. Bigrams for Mobile Ads"
   ]
  },
  {
   "cell_type": "code",
   "execution_count": 35,
   "id": "2308cc8e",
   "metadata": {},
   "outputs": [
    {
     "name": "stdout",
     "output_type": "stream",
     "text": [
      "[('absolute', 'return'), ('accountability', 'however'), ('accounting', 'aud'), ('additive', 'assurance'), ('advancing', 'nextgen'), ('advisers', 'governments'), ('agilex', 'biolabs'), ('alcoa', 'nyse'), ('alexander', 'funds'), ('algorithmic', 'components')]\n"
     ]
    }
   ],
   "source": [
    "finder = BigramCollocationFinder.from_words(text_mobile)\n",
    "bigram_measures = BigramAssocMeasures()\n",
    "top_bigrams = finder.nbest(bigram_measures.chi_sq, 10)\n",
    "print(top_bigrams)"
   ]
  },
  {
   "cell_type": "markdown",
   "id": "7123225d",
   "metadata": {},
   "source": [
    "### 4. Bigrams for Desktop Ads"
   ]
  },
  {
   "cell_type": "code",
   "execution_count": 36,
   "id": "adf0f1ca",
   "metadata": {},
   "outputs": [
    {
     "name": "stdout",
     "output_type": "stream",
     "text": [
      "[('ability', 'undertak'), ('absolute', 'return'), ('additive', 'assurance'), ('advancing', 'nextgen'), ('advisers', 'governments'), ('alice', 'springs'), ('allow', 'utili'), ('amazon', 'sagemaker'), ('analyticsrio', 'tinto'), ('anglogold', 'ashanti')]\n"
     ]
    }
   ],
   "source": [
    "finder = BigramCollocationFinder.from_words(text_desktop)\n",
    "bigram_measures = BigramAssocMeasures()\n",
    "top_bigrams = finder.nbest(bigram_measures.chi_sq, 10)\n",
    "print(top_bigrams)"
   ]
  },
  {
   "cell_type": "markdown",
   "id": "5af4f281",
   "metadata": {},
   "source": [
    "What's interesting is that some bigrams of mobile ads and desktop ads are the same. For example ('absolute', 'return') and ('additive', 'assurance'). "
   ]
  },
  {
   "cell_type": "code",
   "execution_count": null,
   "id": "98418bb9",
   "metadata": {},
   "outputs": [],
   "source": []
  }
 ],
 "metadata": {
  "kernelspec": {
   "display_name": "Python 3 (ipykernel)",
   "language": "python",
   "name": "python3"
  },
  "language_info": {
   "codemirror_mode": {
    "name": "ipython",
    "version": 3
   },
   "file_extension": ".py",
   "mimetype": "text/x-python",
   "name": "python",
   "nbconvert_exporter": "python",
   "pygments_lexer": "ipython3",
   "version": "3.10.9"
  }
 },
 "nbformat": 4,
 "nbformat_minor": 5
}
