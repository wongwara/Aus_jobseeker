{
 "cells": [
  {
   "cell_type": "code",
   "execution_count": 1,
   "id": "17ae1619",
   "metadata": {},
   "outputs": [],
   "source": [
    "import numpy as np\n",
    "import pandas as pd"
   ]
  },
  {
   "cell_type": "code",
   "execution_count": 2,
   "id": "46d0ae00",
   "metadata": {},
   "outputs": [],
   "source": [
    "file_url = \"https://raw.githubusercontent.com/wongwara/Jobseeker_Baymax/main/dataset/listings2019_2022_salary_adjust01052023.csv\""
   ]
  },
  {
   "cell_type": "code",
   "execution_count": 3,
   "id": "a5901ceb",
   "metadata": {},
   "outputs": [],
   "source": [
    "df = pd.read_csv(file_url)"
   ]
  },
  {
   "cell_type": "code",
   "execution_count": 4,
   "id": "2427a42a",
   "metadata": {},
   "outputs": [],
   "source": [
    "import warnings\n",
    "warnings.filterwarnings(\"ignore\")"
   ]
  },
  {
   "cell_type": "code",
   "execution_count": 5,
   "id": "73e2f130",
   "metadata": {},
   "outputs": [
    {
     "name": "stdout",
     "output_type": "stream",
     "text": [
      "<class 'pandas.core.frame.DataFrame'>\n",
      "RangeIndex: 3902 entries, 0 to 3901\n",
      "Data columns (total 52 columns):\n",
      " #   Column                 Non-Null Count  Dtype  \n",
      "---  ------                 --------------  -----  \n",
      " 0   jobId                  3902 non-null   int64  \n",
      " 1   jobTitle               3902 non-null   object \n",
      " 2   jobClassification      3902 non-null   object \n",
      " 3   jobSubClassification   3902 non-null   object \n",
      " 4   advertiserName         3902 non-null   object \n",
      " 5   advertiserId           3902 non-null   int64  \n",
      " 6   companyId              1067 non-null   float64\n",
      " 7   companyName            1476 non-null   object \n",
      " 8   companyRating          1067 non-null   float64\n",
      " 9   listingDate            3902 non-null   object \n",
      " 10  expiryDate             3902 non-null   object \n",
      " 11  teaser                 3374 non-null   object \n",
      " 12  nation                 3902 non-null   object \n",
      " 13  state                  3902 non-null   object \n",
      " 14  city                   3902 non-null   object \n",
      " 15  area                   2674 non-null   object \n",
      " 16  suburb                 2977 non-null   object \n",
      " 17  workType               3902 non-null   object \n",
      " 18  salary_string          1515 non-null   object \n",
      " 19  isRightToWorkRequired  3416 non-null   object \n",
      " 20  desktopAdTemplate      3207 non-null   object \n",
      " 21  mobileAdTemplate       3895 non-null   object \n",
      " 22  companyProfileUrl      1476 non-null   object \n",
      " 23  seekJobListingUrl      3902 non-null   object \n",
      " 24  R                      3902 non-null   int64  \n",
      " 25  Python                 3902 non-null   int64  \n",
      " 26  Matlab                 3902 non-null   int64  \n",
      " 27  SQL                    3902 non-null   int64  \n",
      " 28  Stata                  3902 non-null   int64  \n",
      " 29  Minitab                3902 non-null   int64  \n",
      " 30  SPSS                   3902 non-null   int64  \n",
      " 31  Ruby                   3902 non-null   int64  \n",
      " 32  C                      3902 non-null   int64  \n",
      " 33  Scala                  3902 non-null   int64  \n",
      " 34  Tableau                3902 non-null   int64  \n",
      " 35  Java                   3902 non-null   int64  \n",
      " 36  Hadoop                 3902 non-null   int64  \n",
      " 37  SAS                    3902 non-null   int64  \n",
      " 38  Julia                  3902 non-null   int64  \n",
      " 39  Knime                  3902 non-null   int64  \n",
      " 40  D3                     3902 non-null   int64  \n",
      " 41  Clojure                3902 non-null   int64  \n",
      " 42  Haskell                3902 non-null   int64  \n",
      " 43  Lisp                   3902 non-null   int64  \n",
      " 44  Golang                 3902 non-null   int64  \n",
      " 45  Spark                  3902 non-null   int64  \n",
      " 46  Javascript             3902 non-null   int64  \n",
      " 47  F.                     3902 non-null   int64  \n",
      " 48  Fortran                3902 non-null   int64  \n",
      " 49  first_seen             3902 non-null   object \n",
      " 50  last_seen              3902 non-null   object \n",
      " 51  recruiter              3902 non-null   int64  \n",
      "dtypes: float64(2), int64(28), object(22)\n",
      "memory usage: 1.5+ MB\n"
     ]
    }
   ],
   "source": [
    "df.info()"
   ]
  },
  {
   "cell_type": "code",
   "execution_count": 6,
   "id": "efbdb2fe",
   "metadata": {},
   "outputs": [],
   "source": [
    "df = df[['jobClassification', 'state','teaser','nation','workType','salary_string','isRightToWorkRequired','desktopAdTemplate',\n",
    "         'Python','SQL','R','Tableau','SAS','Matlab','Hadoop','Spark','Java', 'Scala','recruiter']]"
   ]
  },
  {
   "cell_type": "markdown",
   "id": "50e70380",
   "metadata": {},
   "source": [
    "## Clean data"
   ]
  },
  {
   "cell_type": "markdown",
   "id": "b6f57ad4",
   "metadata": {},
   "source": [
    "### 1. select only in Australia"
   ]
  },
  {
   "cell_type": "code",
   "execution_count": 7,
   "id": "4e827c62",
   "metadata": {},
   "outputs": [],
   "source": [
    "df = df[df['nation'].str.contains('Australia')]"
   ]
  },
  {
   "cell_type": "code",
   "execution_count": 8,
   "id": "6dc6005c",
   "metadata": {},
   "outputs": [],
   "source": [
    "df['state'] = df['state'].replace({'Northern Territories': 'Northern Territory'})"
   ]
  },
  {
   "cell_type": "code",
   "execution_count": 9,
   "id": "5fdf4ff0",
   "metadata": {},
   "outputs": [
    {
     "data": {
      "text/plain": [
       "array(['New South Wales', 'Australian Capital Territory', 'Victoria',\n",
       "       'Western Australia', 'Queensland', 'Northern Territory',\n",
       "       'South Australia', 'Tasmania'], dtype=object)"
      ]
     },
     "execution_count": 9,
     "metadata": {},
     "output_type": "execute_result"
    }
   ],
   "source": [
    "df['state'].unique()"
   ]
  },
  {
   "cell_type": "code",
   "execution_count": 10,
   "id": "1e25d9cd",
   "metadata": {},
   "outputs": [
    {
     "name": "stdout",
     "output_type": "stream",
     "text": [
      "<class 'pandas.core.frame.DataFrame'>\n",
      "Int64Index: 3897 entries, 0 to 3901\n",
      "Data columns (total 19 columns):\n",
      " #   Column                 Non-Null Count  Dtype \n",
      "---  ------                 --------------  ----- \n",
      " 0   jobClassification      3897 non-null   object\n",
      " 1   state                  3897 non-null   object\n",
      " 2   teaser                 3369 non-null   object\n",
      " 3   nation                 3897 non-null   object\n",
      " 4   workType               3897 non-null   object\n",
      " 5   salary_string          1512 non-null   object\n",
      " 6   isRightToWorkRequired  3411 non-null   object\n",
      " 7   desktopAdTemplate      3203 non-null   object\n",
      " 8   Python                 3897 non-null   int64 \n",
      " 9   SQL                    3897 non-null   int64 \n",
      " 10  R                      3897 non-null   int64 \n",
      " 11  Tableau                3897 non-null   int64 \n",
      " 12  SAS                    3897 non-null   int64 \n",
      " 13  Matlab                 3897 non-null   int64 \n",
      " 14  Hadoop                 3897 non-null   int64 \n",
      " 15  Spark                  3897 non-null   int64 \n",
      " 16  Java                   3897 non-null   int64 \n",
      " 17  Scala                  3897 non-null   int64 \n",
      " 18  recruiter              3897 non-null   int64 \n",
      "dtypes: int64(11), object(8)\n",
      "memory usage: 608.9+ KB\n"
     ]
    }
   ],
   "source": [
    "df.info()"
   ]
  },
  {
   "cell_type": "code",
   "execution_count": 11,
   "id": "eb66d39f",
   "metadata": {},
   "outputs": [],
   "source": [
    "df = df.drop(['nation'],axis =1)"
   ]
  },
  {
   "cell_type": "markdown",
   "id": "49149dbf",
   "metadata": {},
   "source": [
    "### 2. clean salary (target feature)"
   ]
  },
  {
   "cell_type": "code",
   "execution_count": 12,
   "id": "132a0d23",
   "metadata": {},
   "outputs": [
    {
     "data": {
      "text/plain": [
       "<bound method NDFrame.describe of 0                                               NaN\n",
       "1                                             Super\n",
       "2                        $90000 - $120000 per annum\n",
       "3                             $90000 - $110000 p.a.\n",
       "4                                               NaN\n",
       "                           ...                     \n",
       "3897    Open to Quote (Sydney or Canberra Location)\n",
       "3898                                            NaN\n",
       "3899                                Desirable Rates\n",
       "3900                                            NaN\n",
       "3901                                            NaN\n",
       "Name: salary_string, Length: 3897, dtype: object>"
      ]
     },
     "execution_count": 12,
     "metadata": {},
     "output_type": "execute_result"
    }
   ],
   "source": [
    "df[\"salary_string\"].describe"
   ]
  },
  {
   "cell_type": "code",
   "execution_count": 13,
   "id": "15b98dac",
   "metadata": {},
   "outputs": [],
   "source": [
    "import re\n",
    "\n",
    "def extract_salary(text):    \n",
    "    range_pattern = r'([\\d\\.]+) *- *\\$?([\\d\\.]+)'\n",
    "    range_matches = re.search(range_pattern, text.replace(\",\", \"\"))\n",
    "    if range_matches:\n",
    "        lo, hi = range_matches.groups()\n",
    "        salary_range = (float(lo), float(hi))\n",
    "    else:\n",
    "        salary_range = None\n",
    "    \n",
    "    return salary_range"
   ]
  },
  {
   "cell_type": "code",
   "execution_count": 14,
   "id": "25622f05",
   "metadata": {},
   "outputs": [],
   "source": [
    "df = df[df['salary_string'].notna()]"
   ]
  },
  {
   "cell_type": "code",
   "execution_count": 15,
   "id": "7c9327e0",
   "metadata": {},
   "outputs": [],
   "source": [
    "df[\"salary_string\"] = df[\"salary_string\"].apply(extract_salary)"
   ]
  },
  {
   "cell_type": "code",
   "execution_count": 16,
   "id": "ebd35cde",
   "metadata": {},
   "outputs": [],
   "source": [
    "df = df[df['salary_string'] != (None,None)]"
   ]
  },
  {
   "cell_type": "code",
   "execution_count": 17,
   "id": "2be38c88",
   "metadata": {},
   "outputs": [],
   "source": [
    "df = df[df['salary_string'].notna()]"
   ]
  },
  {
   "cell_type": "code",
   "execution_count": 18,
   "id": "9fcbe27d",
   "metadata": {},
   "outputs": [
    {
     "name": "stdout",
     "output_type": "stream",
     "text": [
      "<class 'pandas.core.frame.DataFrame'>\n",
      "Int64Index: 817 entries, 2 to 3893\n",
      "Data columns (total 18 columns):\n",
      " #   Column                 Non-Null Count  Dtype \n",
      "---  ------                 --------------  ----- \n",
      " 0   jobClassification      817 non-null    object\n",
      " 1   state                  817 non-null    object\n",
      " 2   teaser                 695 non-null    object\n",
      " 3   workType               817 non-null    object\n",
      " 4   salary_string          817 non-null    object\n",
      " 5   isRightToWorkRequired  704 non-null    object\n",
      " 6   desktopAdTemplate      695 non-null    object\n",
      " 7   Python                 817 non-null    int64 \n",
      " 8   SQL                    817 non-null    int64 \n",
      " 9   R                      817 non-null    int64 \n",
      " 10  Tableau                817 non-null    int64 \n",
      " 11  SAS                    817 non-null    int64 \n",
      " 12  Matlab                 817 non-null    int64 \n",
      " 13  Hadoop                 817 non-null    int64 \n",
      " 14  Spark                  817 non-null    int64 \n",
      " 15  Java                   817 non-null    int64 \n",
      " 16  Scala                  817 non-null    int64 \n",
      " 17  recruiter              817 non-null    int64 \n",
      "dtypes: int64(11), object(7)\n",
      "memory usage: 121.3+ KB\n"
     ]
    }
   ],
   "source": [
    "df.info()"
   ]
  },
  {
   "cell_type": "markdown",
   "id": "b787287b",
   "metadata": {},
   "source": [
    "### 3. Convert categorical"
   ]
  },
  {
   "cell_type": "code",
   "execution_count": 19,
   "id": "f643939b",
   "metadata": {},
   "outputs": [],
   "source": [
    "from sklearn.preprocessing import OrdinalEncoder,LabelEncoder,OneHotEncoder"
   ]
  },
  {
   "cell_type": "markdown",
   "id": "1bac8285",
   "metadata": {},
   "source": [
    "#### 3.1 isRightToWorkRequired"
   ]
  },
  {
   "cell_type": "code",
   "execution_count": 20,
   "id": "2d3aa783",
   "metadata": {},
   "outputs": [
    {
     "data": {
      "text/plain": [
       "array(['f', 't', nan], dtype=object)"
      ]
     },
     "execution_count": 20,
     "metadata": {},
     "output_type": "execute_result"
    }
   ],
   "source": [
    "df['isRightToWorkRequired'].unique()"
   ]
  },
  {
   "cell_type": "code",
   "execution_count": 21,
   "id": "bc33e353",
   "metadata": {},
   "outputs": [],
   "source": [
    "import numpy as np\n",
    "from sklearn.preprocessing import LabelEncoder\n",
    "from scipy.stats import mode\n",
    "\n",
    "# Define a function to get mode of the column\n",
    "def get_mode(column):\n",
    "    return mode(column, nan_policy='omit')[0][0]\n",
    "\n",
    "# Convert the column to string type\n",
    "df['isRightToWorkRequired'] = df['isRightToWorkRequired'].astype(str)\n",
    "\n",
    "# Replace the NaN values with the mode of the column\n",
    "mode_val = get_mode(df['isRightToWorkRequired'])\n",
    "df['isRightToWorkRequired'] = df['isRightToWorkRequired'].replace('nan', mode_val)\n",
    "\n",
    "# Create the LabelEncoder object\n",
    "le = LabelEncoder()\n",
    "\n",
    "# Fit the LabelEncoder object to the column\n",
    "le.fit(df['isRightToWorkRequired'])\n",
    "\n",
    "# Transform the column to label encoding\n",
    "column = le.transform(df['isRightToWorkRequired'])"
   ]
  },
  {
   "cell_type": "code",
   "execution_count": 22,
   "id": "79e1d39e",
   "metadata": {},
   "outputs": [
    {
     "data": {
      "text/plain": [
       "array(['f', 't'], dtype=object)"
      ]
     },
     "execution_count": 22,
     "metadata": {},
     "output_type": "execute_result"
    }
   ],
   "source": [
    "df['isRightToWorkRequired'].unique()"
   ]
  },
  {
   "cell_type": "code",
   "execution_count": 23,
   "id": "819e1cd3",
   "metadata": {},
   "outputs": [],
   "source": [
    "df['isRightToWorkRequired'] = df['isRightToWorkRequired'].replace({'f': 0, 't': 1})"
   ]
  },
  {
   "cell_type": "markdown",
   "id": "9dd32665",
   "metadata": {},
   "source": [
    "#### 3.2 workType"
   ]
  },
  {
   "cell_type": "code",
   "execution_count": 24,
   "id": "d0f76eb3",
   "metadata": {},
   "outputs": [
    {
     "data": {
      "text/plain": [
       "array(['Full Time', 'Contract/Temp', 'Part Time', 'Casual/Vacation',\n",
       "       'Full time', 'Part time'], dtype=object)"
      ]
     },
     "execution_count": 24,
     "metadata": {},
     "output_type": "execute_result"
    }
   ],
   "source": [
    "df['workType'].unique()"
   ]
  },
  {
   "cell_type": "code",
   "execution_count": 25,
   "id": "7c412aaa",
   "metadata": {},
   "outputs": [],
   "source": [
    "df['workType'] = df['workType'].replace({'Full time': 'Full Time', 'Part time': 'Part Time'})"
   ]
  },
  {
   "cell_type": "code",
   "execution_count": 26,
   "id": "172330c8",
   "metadata": {},
   "outputs": [
    {
     "data": {
      "text/plain": [
       "array(['Full Time', 'Contract/Temp', 'Part Time', 'Casual/Vacation'],\n",
       "      dtype=object)"
      ]
     },
     "execution_count": 26,
     "metadata": {},
     "output_type": "execute_result"
    }
   ],
   "source": [
    "df['workType'].unique()"
   ]
  },
  {
   "cell_type": "code",
   "execution_count": 27,
   "id": "8cb87aef",
   "metadata": {},
   "outputs": [],
   "source": [
    "workType_cats = [['Full Time', 'Contract/Temp', 'Part Time', 'Casual/Vacation']]\n",
    "Label = LabelEncoder()\n",
    "# Use our trained encoder to transform this column\n",
    "df['workType_encoded'] = Label.fit_transform(df[['workType']])\n",
    "\n",
    "# display the columns\n",
    "df[['workType','workType_encoded']]\n",
    "\n",
    "df['workType']= df['workType_encoded']"
   ]
  },
  {
   "cell_type": "markdown",
   "id": "c3b3c48f",
   "metadata": {},
   "source": [
    "#### 3.3 jobClassification"
   ]
  },
  {
   "cell_type": "code",
   "execution_count": 28,
   "id": "0b76517c",
   "metadata": {},
   "outputs": [],
   "source": [
    "jobClassification_cats = [['Information & Communication Technology',\n",
    "       'Banking & Financial Services', 'Science & Technology',\n",
    "       'Education & Training', 'Government & Defence',\n",
    "       'Consulting & Strategy', 'Healthcare & Medical',\n",
    "       'Human Resources & Recruitment', 'Marketing & Communications',\n",
    "       'Retail & Consumer Products', 'Administration & Office Support',\n",
    "       'Accounting', 'Insurance & Superannuation',\n",
    "       'Mining, Resources & Energy', 'Real Estate & Property',\n",
    "       'Manufacturing, Transport & Logistics', 'Engineering']]\n",
    "jobClassification_cats_enc =OrdinalEncoder(categories=jobClassification_cats)\n",
    "# Use our trained encoder to transform this column\n",
    "df['jobClassification_encoded'] = jobClassification_cats_enc.fit_transform(df[['jobClassification']])\n",
    "\n",
    "# display the columns\n",
    "df[['jobClassification','jobClassification_encoded']]\n",
    "\n",
    "df['jobClassification'] = df['jobClassification_encoded']"
   ]
  },
  {
   "cell_type": "markdown",
   "id": "b07cdc37",
   "metadata": {},
   "source": [
    "#### 3.4 State"
   ]
  },
  {
   "cell_type": "code",
   "execution_count": 29,
   "id": "95333fd3",
   "metadata": {},
   "outputs": [],
   "source": [
    "# Import OrdinalEncoder from sklearn.preprocessing\n",
    "from sklearn.preprocessing import OrdinalEncoder,LabelEncoder,OneHotEncoder\n",
    "\n",
    "state_cats = [['Australian Capital Territory', 'South Australia',\n",
    "       'Western Australia']]\n",
    "Label = LabelEncoder()\n",
    "# Use our trained encoder to transform this column\n",
    "df['state_encoded'] = Label.fit_transform(df[['state']])\n",
    "\n",
    "# display the columns\n",
    "df[['state','state_encoded']]\n",
    "\n",
    "df['state']= df['state_encoded']"
   ]
  },
  {
   "cell_type": "markdown",
   "id": "af031862",
   "metadata": {},
   "source": [
    "### 4. Clean text features"
   ]
  },
  {
   "cell_type": "code",
   "execution_count": 30,
   "id": "4fdf1356",
   "metadata": {},
   "outputs": [],
   "source": [
    "df['teaser']= df['teaser'].fillna('')"
   ]
  },
  {
   "cell_type": "code",
   "execution_count": 31,
   "id": "c2250ca4",
   "metadata": {},
   "outputs": [],
   "source": [
    "df['desktopAdTemplate']= df['desktopAdTemplate'].fillna('')"
   ]
  },
  {
   "cell_type": "code",
   "execution_count": 32,
   "id": "849c4797",
   "metadata": {},
   "outputs": [],
   "source": [
    "# import re \n",
    "# # Define pipeline function to perform multiple cleaning steps on a given text\n",
    "# def clean_text(text):\n",
    "#     text = re.sub(r'[^\\w]', ' ', str(text)) # Remove symbols\n",
    "#     text = re.sub(r'[ ]{2,}', ' ', str(text)) # Remove extra spaces\n",
    "#     text = re.sub(r'[ \\t]+$', '', str(text)) # Remove trailing white spaces\n",
    "#     text = re.sub(r'\\s+', ' ', text) # Remove newline (\\n)\n",
    "#     text = re.sub(r\"\\'\", \"\", text) # Remove quotes\n",
    "#     return text"
   ]
  },
  {
   "cell_type": "code",
   "execution_count": 33,
   "id": "04c6cd57",
   "metadata": {},
   "outputs": [],
   "source": [
    "# # \"jobTitle\", \"teaser\", \"mobileAdTemplate\" and \"desktopAdTemplate\"\n",
    "# df[\"teaser_cleaned\"] = df[\"teaser\"].apply(clean_text)\n",
    "# df[\"desktopAdTemplate_cleaned\"] = df[\"desktopAdTemplate\"].apply(clean_text)"
   ]
  },
  {
   "cell_type": "code",
   "execution_count": 34,
   "id": "4004a558",
   "metadata": {},
   "outputs": [],
   "source": [
    "# df[\"teaser_cleaned\"] = df[\"teaser_cleaned\"].str.lower()\n",
    "# df[\"desktopAdTemplate_cleaned\"] = df[\"desktopAdTemplate_cleaned\"].str.lower()"
   ]
  },
  {
   "cell_type": "code",
   "execution_count": 35,
   "id": "222858f1",
   "metadata": {},
   "outputs": [],
   "source": [
    "# df[\"teaser_cleaned\"] = df[\"teaser\"].to_string()\n",
    "# df[\"desktopAdTemplate_cleaned\"] = df[\"desktopAdTemplate\"].to_string()"
   ]
  },
  {
   "cell_type": "code",
   "execution_count": 36,
   "id": "49680eb3",
   "metadata": {},
   "outputs": [],
   "source": [
    "# # Function to remove stopwords\n",
    "# import string \n",
    "# from nltk.corpus import stopwords\n",
    "# # Function to remove stopwords\n",
    "# stop_words = stopwords.words('english')\n",
    "\n",
    "# def remove_stopwords(text):\n",
    "#     useful_words = []\n",
    "#     for i in text.split():\n",
    "#         if i.strip().lower() not in stop_words:\n",
    "#             useful_words.append(i.strip())\n",
    "#     return \" \".join(useful_words)"
   ]
  },
  {
   "cell_type": "code",
   "execution_count": 37,
   "id": "266f017e",
   "metadata": {},
   "outputs": [],
   "source": [
    "# df[\"teaser_cleaned\"] = df[\"teaser_cleaned\"].apply(remove_stopwords)\n",
    "# df[\"desktopAdTemplate_cleaned\"] = df[\"desktopAdTemplate_cleaned\"].apply(remove_stopwords)"
   ]
  },
  {
   "cell_type": "code",
   "execution_count": 38,
   "id": "3b613298",
   "metadata": {},
   "outputs": [],
   "source": [
    "# df['teaser'] = df['teaser_cleaned']\n",
    "# df['desktopAdTemplate'] = df[\"desktopAdTemplate_cleaned\"]"
   ]
  },
  {
   "cell_type": "code",
   "execution_count": 39,
   "id": "8adc0eea",
   "metadata": {},
   "outputs": [],
   "source": [
    "# df.columns"
   ]
  },
  {
   "cell_type": "code",
   "execution_count": 40,
   "id": "f5f2249f",
   "metadata": {},
   "outputs": [],
   "source": [
    "# df.head()"
   ]
  },
  {
   "cell_type": "code",
   "execution_count": 41,
   "id": "1f398926",
   "metadata": {},
   "outputs": [],
   "source": [
    "# df = df.drop(['workType_encoded', 'jobClassification_encoded', 'teaser_cleaned', 'desktopAdTemplate_cleaned', 'state_encoded'], axis=1)# "
   ]
  },
  {
   "cell_type": "code",
   "execution_count": 42,
   "id": "86f867e1",
   "metadata": {},
   "outputs": [],
   "source": [
    "# df.columns"
   ]
  },
  {
   "cell_type": "code",
   "execution_count": 43,
   "id": "c1ea7135",
   "metadata": {},
   "outputs": [],
   "source": [
    "# df['salary_string']"
   ]
  },
  {
   "cell_type": "code",
   "execution_count": 44,
   "id": "6036c0e7",
   "metadata": {},
   "outputs": [],
   "source": [
    "# df.to_csv('/Users/thiradatiamklang/Desktop/NLP/AT2/df_cleaned.csv')"
   ]
  },
  {
   "cell_type": "code",
   "execution_count": 45,
   "id": "a4242710",
   "metadata": {},
   "outputs": [],
   "source": [
    "import pandas as pd\n",
    "import nltk\n",
    "from nltk.corpus import stopwords\n",
    "from nltk.tokenize import word_tokenize\n",
    "from nltk.stem import PorterStemmer\n",
    "from sklearn.feature_extraction.text import TfidfVectorizer\n",
    "\n",
    "\n",
    "# Clean the text data\n",
    "df['teaser'] = df['teaser'].str.replace('[^\\w\\s]', '') # Remove punctuation\n",
    "df['desktopAdTemplate'] = df['desktopAdTemplate'].str.replace('[^\\w\\s]', '') # Remove punctuation\n",
    "df['teaser'] = df['teaser'].str.replace('\\d+', '') # Remove digits\n",
    "df['desktopAdTemplate'] = df['desktopAdTemplate'].str.replace('\\d+', '') # Remove digits\n",
    "\n",
    "# Normalize the text data\n",
    "stop_words = set(stopwords.words('english'))\n",
    "df['teaser'] = df['teaser'].apply(lambda x: ' '.join([word.lower() for word in x.split() if word.lower() not in stop_words]))\n",
    "df['desktopAdTemplate'] = df['desktopAdTemplate'].apply(lambda x: ' '.join([word.lower() for word in x.split() if word.lower() not in stop_words]))\n",
    "\n",
    "# Tokenize the text data\n",
    "df['teaser'] = df['teaser'].apply(lambda x: word_tokenize(x))\n",
    "df['desktopAdTemplate'] = df['desktopAdTemplate'].apply(lambda x: word_tokenize(x))\n",
    "\n",
    "# Apply stemming\n",
    "stemmer = PorterStemmer()\n",
    "df['teaser'] = df['teaser'].apply(lambda x: [stemmer.stem(word) for word in x])\n",
    "df['desktopAdTemplate'] = df['desktopAdTemplate'].apply(lambda x: [stemmer.stem(word) for word in x])\n",
    "\n",
    "# # Create TF-IDF vectors\n",
    "# vectorizer = TfidfVectorizer()\n",
    "# teaser_tfidf = vectorizer.fit_transform(df['teaser'].apply(lambda x: ' '.join(x)))\n",
    "# desktopAdTemplate_tfidf = vectorizer.fit_transform(df['desktopAdTemplate'].apply(lambda x: ' '.join(x)))\n",
    "\n",
    "# # Concatenate the TF-IDF vectors with the original dataframe\n",
    "# df = pd.concat([df.drop(['teaser', 'desktopAdTemplate'], axis=1), pd.DataFrame(teaser_tfidf.toarray()), pd.DataFrame(desktopAdTemplate_tfidf.toarray())], axis=1)\n",
    "\n",
    "# # Display the resulting dataframe\n",
    "# print(df.head())\n"
   ]
  },
  {
   "cell_type": "code",
   "execution_count": 46,
   "id": "213833c5",
   "metadata": {},
   "outputs": [
    {
     "data": {
      "text/html": [
       "<div>\n",
       "<style scoped>\n",
       "    .dataframe tbody tr th:only-of-type {\n",
       "        vertical-align: middle;\n",
       "    }\n",
       "\n",
       "    .dataframe tbody tr th {\n",
       "        vertical-align: top;\n",
       "    }\n",
       "\n",
       "    .dataframe thead th {\n",
       "        text-align: right;\n",
       "    }\n",
       "</style>\n",
       "<table border=\"1\" class=\"dataframe\">\n",
       "  <thead>\n",
       "    <tr style=\"text-align: right;\">\n",
       "      <th></th>\n",
       "      <th>jobClassification</th>\n",
       "      <th>state</th>\n",
       "      <th>teaser</th>\n",
       "      <th>workType</th>\n",
       "      <th>salary_string</th>\n",
       "      <th>isRightToWorkRequired</th>\n",
       "      <th>desktopAdTemplate</th>\n",
       "      <th>Python</th>\n",
       "      <th>SQL</th>\n",
       "      <th>R</th>\n",
       "      <th>...</th>\n",
       "      <th>SAS</th>\n",
       "      <th>Matlab</th>\n",
       "      <th>Hadoop</th>\n",
       "      <th>Spark</th>\n",
       "      <th>Java</th>\n",
       "      <th>Scala</th>\n",
       "      <th>recruiter</th>\n",
       "      <th>workType_encoded</th>\n",
       "      <th>jobClassification_encoded</th>\n",
       "      <th>state_encoded</th>\n",
       "    </tr>\n",
       "  </thead>\n",
       "  <tbody>\n",
       "    <tr>\n",
       "      <th>2</th>\n",
       "      <td>0.0</td>\n",
       "      <td>1</td>\n",
       "      <td>[fantast, organis, seek, experienc, insight, a...</td>\n",
       "      <td>2</td>\n",
       "      <td>(90000.0, 120000.0)</td>\n",
       "      <td>0</td>\n",
       "      <td>[insight, analyst, onlin, video, stream, cut, ...</td>\n",
       "      <td>0</td>\n",
       "      <td>1</td>\n",
       "      <td>1</td>\n",
       "      <td>...</td>\n",
       "      <td>0</td>\n",
       "      <td>0</td>\n",
       "      <td>0</td>\n",
       "      <td>0</td>\n",
       "      <td>0</td>\n",
       "      <td>0</td>\n",
       "      <td>1</td>\n",
       "      <td>2</td>\n",
       "      <td>0.0</td>\n",
       "      <td>1</td>\n",
       "    </tr>\n",
       "    <tr>\n",
       "      <th>3</th>\n",
       "      <td>1.0</td>\n",
       "      <td>1</td>\n",
       "      <td>[role, requir, individu, strong, credit, risk,...</td>\n",
       "      <td>2</td>\n",
       "      <td>(90000.0, 110000.0)</td>\n",
       "      <td>0</td>\n",
       "      <td>[credit, risk, analyst, respons, design, devel...</td>\n",
       "      <td>0</td>\n",
       "      <td>1</td>\n",
       "      <td>1</td>\n",
       "      <td>...</td>\n",
       "      <td>1</td>\n",
       "      <td>0</td>\n",
       "      <td>0</td>\n",
       "      <td>0</td>\n",
       "      <td>0</td>\n",
       "      <td>0</td>\n",
       "      <td>1</td>\n",
       "      <td>2</td>\n",
       "      <td>1.0</td>\n",
       "      <td>1</td>\n",
       "    </tr>\n",
       "    <tr>\n",
       "      <th>7</th>\n",
       "      <td>1.0</td>\n",
       "      <td>1</td>\n",
       "      <td>[one, australia, lead, financi, servic, provid...</td>\n",
       "      <td>2</td>\n",
       "      <td>(110000.0, 120000.0)</td>\n",
       "      <td>1</td>\n",
       "      <td>[data, analyt, recruit, solut, data, scientist...</td>\n",
       "      <td>1</td>\n",
       "      <td>1</td>\n",
       "      <td>1</td>\n",
       "      <td>...</td>\n",
       "      <td>1</td>\n",
       "      <td>0</td>\n",
       "      <td>0</td>\n",
       "      <td>0</td>\n",
       "      <td>0</td>\n",
       "      <td>0</td>\n",
       "      <td>1</td>\n",
       "      <td>2</td>\n",
       "      <td>1.0</td>\n",
       "      <td>1</td>\n",
       "    </tr>\n",
       "    <tr>\n",
       "      <th>10</th>\n",
       "      <td>2.0</td>\n",
       "      <td>0</td>\n",
       "      <td>[postdoctor, research, molecular, evolut, phyl...</td>\n",
       "      <td>2</td>\n",
       "      <td>(71509.0, 90215.0)</td>\n",
       "      <td>0</td>\n",
       "      <td>[postdoctor, fellow, classif, academ, level, a...</td>\n",
       "      <td>0</td>\n",
       "      <td>0</td>\n",
       "      <td>0</td>\n",
       "      <td>...</td>\n",
       "      <td>0</td>\n",
       "      <td>0</td>\n",
       "      <td>0</td>\n",
       "      <td>0</td>\n",
       "      <td>1</td>\n",
       "      <td>0</td>\n",
       "      <td>0</td>\n",
       "      <td>2</td>\n",
       "      <td>2.0</td>\n",
       "      <td>0</td>\n",
       "    </tr>\n",
       "    <tr>\n",
       "      <th>11</th>\n",
       "      <td>3.0</td>\n",
       "      <td>0</td>\n",
       "      <td>[postdoctor, research, molecular, evolut, phyl...</td>\n",
       "      <td>2</td>\n",
       "      <td>(71509.0, 90215.0)</td>\n",
       "      <td>0</td>\n",
       "      <td>[postdoctor, fellow, classif, academ, level, a...</td>\n",
       "      <td>0</td>\n",
       "      <td>0</td>\n",
       "      <td>0</td>\n",
       "      <td>...</td>\n",
       "      <td>0</td>\n",
       "      <td>0</td>\n",
       "      <td>0</td>\n",
       "      <td>0</td>\n",
       "      <td>1</td>\n",
       "      <td>0</td>\n",
       "      <td>0</td>\n",
       "      <td>2</td>\n",
       "      <td>3.0</td>\n",
       "      <td>0</td>\n",
       "    </tr>\n",
       "  </tbody>\n",
       "</table>\n",
       "<p>5 rows × 21 columns</p>\n",
       "</div>"
      ],
      "text/plain": [
       "    jobClassification  state  \\\n",
       "2                 0.0      1   \n",
       "3                 1.0      1   \n",
       "7                 1.0      1   \n",
       "10                2.0      0   \n",
       "11                3.0      0   \n",
       "\n",
       "                                               teaser  workType  \\\n",
       "2   [fantast, organis, seek, experienc, insight, a...         2   \n",
       "3   [role, requir, individu, strong, credit, risk,...         2   \n",
       "7   [one, australia, lead, financi, servic, provid...         2   \n",
       "10  [postdoctor, research, molecular, evolut, phyl...         2   \n",
       "11  [postdoctor, research, molecular, evolut, phyl...         2   \n",
       "\n",
       "           salary_string  isRightToWorkRequired  \\\n",
       "2    (90000.0, 120000.0)                      0   \n",
       "3    (90000.0, 110000.0)                      0   \n",
       "7   (110000.0, 120000.0)                      1   \n",
       "10    (71509.0, 90215.0)                      0   \n",
       "11    (71509.0, 90215.0)                      0   \n",
       "\n",
       "                                    desktopAdTemplate  Python  SQL  R  ...  \\\n",
       "2   [insight, analyst, onlin, video, stream, cut, ...       0    1  1  ...   \n",
       "3   [credit, risk, analyst, respons, design, devel...       0    1  1  ...   \n",
       "7   [data, analyt, recruit, solut, data, scientist...       1    1  1  ...   \n",
       "10  [postdoctor, fellow, classif, academ, level, a...       0    0  0  ...   \n",
       "11  [postdoctor, fellow, classif, academ, level, a...       0    0  0  ...   \n",
       "\n",
       "    SAS  Matlab  Hadoop  Spark  Java  Scala  recruiter  workType_encoded  \\\n",
       "2     0       0       0      0     0      0          1                 2   \n",
       "3     1       0       0      0     0      0          1                 2   \n",
       "7     1       0       0      0     0      0          1                 2   \n",
       "10    0       0       0      0     1      0          0                 2   \n",
       "11    0       0       0      0     1      0          0                 2   \n",
       "\n",
       "    jobClassification_encoded  state_encoded  \n",
       "2                         0.0              1  \n",
       "3                         1.0              1  \n",
       "7                         1.0              1  \n",
       "10                        2.0              0  \n",
       "11                        3.0              0  \n",
       "\n",
       "[5 rows x 21 columns]"
      ]
     },
     "execution_count": 46,
     "metadata": {},
     "output_type": "execute_result"
    }
   ],
   "source": [
    "df.head()"
   ]
  },
  {
   "cell_type": "code",
   "execution_count": null,
   "id": "77da1efc",
   "metadata": {},
   "outputs": [],
   "source": []
  }
 ],
 "metadata": {
  "kernelspec": {
   "display_name": "Python 3 (ipykernel)",
   "language": "python",
   "name": "python3"
  },
  "language_info": {
   "codemirror_mode": {
    "name": "ipython",
    "version": 3
   },
   "file_extension": ".py",
   "mimetype": "text/x-python",
   "name": "python",
   "nbconvert_exporter": "python",
   "pygments_lexer": "ipython3",
   "version": "3.10.9"
  }
 },
 "nbformat": 4,
 "nbformat_minor": 5
}
